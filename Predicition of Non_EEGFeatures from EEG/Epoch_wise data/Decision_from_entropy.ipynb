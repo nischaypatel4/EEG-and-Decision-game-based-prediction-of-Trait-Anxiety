{
  "nbformat": 4,
  "nbformat_minor": 0,
  "metadata": {
    "colab": {
      "provenance": []
    },
    "kernelspec": {
      "name": "python3",
      "display_name": "Python 3"
    },
    "language_info": {
      "name": "python"
    }
  },
  "cells": [
    {
      "cell_type": "code",
      "execution_count": null,
      "metadata": {
        "id": "YlZ5DPku4AmF"
      },
      "outputs": [],
      "source": [
        "import pandas as pd\n",
        "df = pd.read_csv(\"/content/All_epochs_combined_e1 (1).csv\")"
      ]
    },
    {
      "cell_type": "code",
      "source": [
        "columns_to_keep = ['Decision'] + [col for col in df.columns if col.startswith('En_')]\n",
        "df_filtered = df[columns_to_keep]\n"
      ],
      "metadata": {
        "id": "lxH5xtH649Bf"
      },
      "execution_count": null,
      "outputs": []
    },
    {
      "cell_type": "code",
      "source": [
        "print(\"Filtered columns:\", df_filtered.columns.tolist())"
      ],
      "metadata": {
        "colab": {
          "base_uri": "https://localhost:8080/"
        },
        "id": "VUJEIJsF4-SI",
        "outputId": "98402cc0-a04d-4b56-eacb-8e4127bff528"
      },
      "execution_count": null,
      "outputs": [
        {
          "output_type": "stream",
          "name": "stdout",
          "text": [
            "Filtered columns: ['Decision', 'En_Fp1', 'En_Fp2', 'En_F3', 'En_F4', 'En_C3', 'En_C4', 'En_P3', 'En_P4', 'En_O1', 'En_O2', 'En_F7', 'En_F8', 'En_P7', 'En_P8', 'En_Fz', 'En_Cz', 'En_Pz', 'En_IO', 'En_FC2', 'En_CP1', 'En_CP2', 'En_FC5', 'En_FC6', 'En_CP5', 'En_CP6', 'En_FCz']\n"
          ]
        }
      ]
    },
    {
      "cell_type": "code",
      "source": [
        "import torch\n",
        "import torch.nn as nn\n",
        "import torch.optim as optim\n",
        "from sklearn.model_selection import train_test_split\n",
        "from sklearn.preprocessing import StandardScaler\n",
        "from sklearn.metrics import classification_report\n",
        "from sklearn.utils.class_weight import compute_class_weight\n",
        "from torch.utils.data import DataLoader, TensorDataset\n",
        "from sklearn.metrics import confusion_matrix, ConfusionMatrixDisplay\n",
        "from sklearn.metrics import classification_report, accuracy_score\n",
        "import seaborn as sns\n",
        "import matplotlib.pyplot as plt\n",
        "import numpy as np\n",
        "from torch.optim.lr_scheduler import StepLR"
      ],
      "metadata": {
        "id": "yq01qQvP5Wwg"
      },
      "execution_count": null,
      "outputs": []
    },
    {
      "cell_type": "code",
      "source": [
        "df_filtered[\"Decision\"] = df_filtered[\"Decision\"].map({\"stay\": 0, \"leave\": 1})"
      ],
      "metadata": {
        "colab": {
          "base_uri": "https://localhost:8080/"
        },
        "id": "Bgmo0iKr5xYj",
        "outputId": "335834f1-99ed-456e-8568-7dcdbca67b57"
      },
      "execution_count": null,
      "outputs": [
        {
          "output_type": "stream",
          "name": "stderr",
          "text": [
            "<ipython-input-37-ca4aa440d993>:1: SettingWithCopyWarning: \n",
            "A value is trying to be set on a copy of a slice from a DataFrame.\n",
            "Try using .loc[row_indexer,col_indexer] = value instead\n",
            "\n",
            "See the caveats in the documentation: https://pandas.pydata.org/pandas-docs/stable/user_guide/indexing.html#returning-a-view-versus-a-copy\n",
            "  df_filtered[\"Decision\"] = df_filtered[\"Decision\"].map({\"stay\": 0, \"leave\": 1})\n"
          ]
        }
      ]
    },
    {
      "cell_type": "code",
      "source": [
        "entropy_cols = [col for col in df.columns if col.startswith(\"En\")]\n",
        "X = df_filtered[entropy_cols].values\n",
        "y = df_filtered[\"Decision\"].values"
      ],
      "metadata": {
        "id": "hgSP5Mme51Zg"
      },
      "execution_count": null,
      "outputs": []
    },
    {
      "cell_type": "markdown",
      "source": [
        "# Handle imbalance using class weights"
      ],
      "metadata": {
        "id": "n4LgcP7z6BAD"
      }
    },
    {
      "cell_type": "code",
      "source": [
        "scaler = StandardScaler()\n",
        "X_scaled = scaler.fit_transform(X)\n",
        "\n",
        "\n",
        "class_weights = compute_class_weight(class_weight=\"balanced\", classes=np.unique(y), y=y)\n",
        "\n",
        "weights_tensor = torch.tensor(class_weights, dtype=torch.float32)"
      ],
      "metadata": {
        "id": "D0BJwAIt58gd"
      },
      "execution_count": null,
      "outputs": []
    },
    {
      "cell_type": "code",
      "source": [
        "X_train, X_test, y_train, y_test = train_test_split(X_scaled, y, test_size=0.2, stratify=y)\n",
        "\n",
        "X_train_tensor = torch.tensor(X_train, dtype=torch.float32)\n",
        "y_train_tensor = torch.tensor(y_train, dtype=torch.long)\n",
        "X_test_tensor = torch.tensor(X_test, dtype=torch.float32)\n",
        "y_test_tensor = torch.tensor(y_test, dtype=torch.long)\n",
        "\n",
        "train_ds = TensorDataset(X_train_tensor, y_train_tensor)\n",
        "train_dl = DataLoader(train_ds, batch_size=32, shuffle=True)"
      ],
      "metadata": {
        "id": "MdC0aSYf6FNe"
      },
      "execution_count": null,
      "outputs": []
    },
    {
      "cell_type": "markdown",
      "source": [
        "# Define neural network"
      ],
      "metadata": {
        "id": "-JZEqu5r6GTR"
      }
    },
    {
      "cell_type": "code",
      "source": [
        "class BetterNN(nn.Module):\n",
        "    def __init__(self, input_dim):\n",
        "        super(BetterNN, self).__init__()\n",
        "        self.network = nn.Sequential(\n",
        "            nn.Linear(input_dim, 128),\n",
        "            nn.BatchNorm1d(128),\n",
        "            nn.LeakyReLU(negative_slope=0.01),\n",
        "            nn.Dropout(0.4),\n",
        "\n",
        "            nn.Linear(128, 64),\n",
        "            nn.LeakyReLU(negative_slope=0.01),\n",
        "            nn.Dropout(0.4),\n",
        "\n",
        "            nn.Linear(64, 32),\n",
        "            nn.LeakyReLU(negative_slope=0.01),\n",
        "            nn.Dropout(0.3),\n",
        "\n",
        "            nn.Linear(32, 2)\n",
        "        )\n",
        "\n",
        "    def forward(self, x):\n",
        "        return self.network(x)\n",
        "model = BetterNN(X_train.shape[1])\n",
        "\n",
        "criterion = nn.CrossEntropyLoss(weight=weights_tensor)\n",
        "optimizer = torch.optim.Adam(model.parameters(), lr=0.001)\n",
        "scheduler = StepLR(optimizer, step_size=10, gamma=0.7)"
      ],
      "metadata": {
        "id": "uK4C9ygT6Ka6"
      },
      "execution_count": null,
      "outputs": []
    },
    {
      "cell_type": "code",
      "source": [
        "epochs = 1000\n",
        "for epoch in range(epochs):\n",
        "    model.train()\n",
        "    for xb, yb in train_dl:\n",
        "        optimizer.zero_grad()\n",
        "        preds = model(xb)\n",
        "        loss = criterion(preds, yb)\n",
        "        loss.backward()\n",
        "        optimizer.step()"
      ],
      "metadata": {
        "id": "HKIcud6H6LM5"
      },
      "execution_count": null,
      "outputs": []
    },
    {
      "cell_type": "code",
      "source": [
        "model.eval()\n",
        "with torch.no_grad():\n",
        "    test_preds = model(X_test_tensor)\n",
        "    test_preds_cls = torch.argmax(test_preds, axis=1)\n",
        "    print(classification_report(y_test, test_preds_cls.numpy()))\n",
        "    test_acc = accuracy_score(y_test, test_preds_cls.numpy())\n",
        "    print(f\"Test Accuracy: {test_acc * 100:.2f}%\")"
      ],
      "metadata": {
        "colab": {
          "base_uri": "https://localhost:8080/"
        },
        "id": "Bi9v24jP6UYT",
        "outputId": "58abaf12-f1e7-43ac-c9fc-6767ee6a652b"
      },
      "execution_count": null,
      "outputs": [
        {
          "output_type": "stream",
          "name": "stdout",
          "text": [
            "              precision    recall  f1-score   support\n",
            "\n",
            "           0       0.83      0.86      0.84       674\n",
            "           1       0.34      0.30      0.32       166\n",
            "\n",
            "    accuracy                           0.75       840\n",
            "   macro avg       0.59      0.58      0.58       840\n",
            "weighted avg       0.74      0.75      0.74       840\n",
            "\n",
            "Test Accuracy: 74.64%\n"
          ]
        }
      ]
    },
    {
      "cell_type": "code",
      "source": [
        "cm = confusion_matrix(y_test, test_preds_cls.numpy())\n",
        "class_names = ['stay', 'leave']\n",
        "plt.figure(figsize=(6, 5))\n",
        "sns.heatmap(cm, annot=True, fmt='d', cmap='Blues',\n",
        "            xticklabels=class_names, yticklabels=class_names,\n",
        "            cbar=False, linewidths=1, linecolor='black')\n",
        "\n",
        "plt.title('Confusion Matrix')\n",
        "plt.ylabel('True Label')\n",
        "plt.xlabel('Predicted Label')\n",
        "plt.tight_layout()\n",
        "plt.savefig(\"confusion_matrix.png\", dpi=300)\n",
        "plt.show()"
      ],
      "metadata": {
        "colab": {
          "base_uri": "https://localhost:8080/",
          "height": 507
        },
        "id": "lUsmhIlh6__g",
        "outputId": "3945e5a7-eeb5-49a5-8c5c-4456bc9da45f"
      },
      "execution_count": null,
      "outputs": [
        {
          "output_type": "display_data",
          "data": {
            "text/plain": [
              "<Figure size 600x500 with 1 Axes>"
            ],
            "image/png": "[encoded data removed]"
          },
          "metadata": {}
        }
      ]
    },
    {
      "cell_type": "code",
      "source": [
        "import pandas as pd\n",
        "df = pd.read_csv(\"/content/All_epochs_combined (1).csv\")"
      ],
      "metadata": {
        "id": "rO-At-tKFTiN"
      },
      "execution_count": null,
      "outputs": []
    },
    {
      "cell_type": "code",
      "source": [
        "columns_to_keep = ['Decision'] + [col for col in df.columns if col.startswith('En_')]\n",
        "df_filtered = df[columns_to_keep]\n"
      ],
      "metadata": {
        "id": "Al-vKtDsF08R"
      },
      "execution_count": null,
      "outputs": []
    },
    {
      "cell_type": "code",
      "source": [
        "entropy_cols = [col for col in df.columns if col.startswith(\"En\")]\n",
        "X = df_filtered[entropy_cols].values\n",
        "y = df_filtered[\"Decision\"].values"
      ],
      "metadata": {
        "id": "4KbOvyFDF4gk"
      },
      "execution_count": null,
      "outputs": []
    },
    {
      "cell_type": "code",
      "source": [
        "df_filtered[\"Decision\"] = df_filtered[\"Decision\"].map({\"stay\": 0, \"leave\": 1})"
      ],
      "metadata": {
        "colab": {
          "base_uri": "https://localhost:8080/"
        },
        "id": "_BwvguRkF_mN",
        "outputId": "508e211c-937c-459f-8392-96b5031fcc4c"
      },
      "execution_count": null,
      "outputs": [
        {
          "output_type": "stream",
          "name": "stderr",
          "text": [
            "<ipython-input-75-ca4aa440d993>:1: SettingWithCopyWarning: \n",
            "A value is trying to be set on a copy of a slice from a DataFrame.\n",
            "Try using .loc[row_indexer,col_indexer] = value instead\n",
            "\n",
            "See the caveats in the documentation: https://pandas.pydata.org/pandas-docs/stable/user_guide/indexing.html#returning-a-view-versus-a-copy\n",
            "  df_filtered[\"Decision\"] = df_filtered[\"Decision\"].map({\"stay\": 0, \"leave\": 1})\n"
          ]
        }
      ]
    },
    {
      "cell_type": "code",
      "source": [
        "entropy_cols = [col for col in df.columns if col.startswith(\"En\")]\n",
        "X = df_filtered[entropy_cols].values\n",
        "y = df_filtered[\"Decision\"].values"
      ],
      "metadata": {
        "id": "lKE5Mq06GAiG"
      },
      "execution_count": null,
      "outputs": []
    },
    {
      "cell_type": "code",
      "source": [
        "scaler = StandardScaler()\n",
        "X_scaled = scaler.fit_transform(X)\n",
        "\n",
        "\n",
        "class_weights = compute_class_weight(class_weight=\"balanced\", classes=np.unique(y), y=y)\n",
        "\n",
        "weights_tensor = torch.tensor(class_weights, dtype=torch.float32)"
      ],
      "metadata": {
        "id": "d-WweKWpGGUz"
      },
      "execution_count": null,
      "outputs": []
    },
    {
      "cell_type": "code",
      "source": [
        "X_train, X_test, y_train, y_test = train_test_split(X_scaled, y, test_size=0.2, stratify=y)\n",
        "\n",
        "X_train_tensor = torch.tensor(X_train, dtype=torch.float32)\n",
        "y_train_tensor = torch.tensor(y_train, dtype=torch.long)\n",
        "X_test_tensor = torch.tensor(X_test, dtype=torch.float32)\n",
        "y_test_tensor = torch.tensor(y_test, dtype=torch.long)\n",
        "\n",
        "train_ds = TensorDataset(X_train_tensor, y_train_tensor)\n",
        "train_dl = DataLoader(train_ds, batch_size=32, shuffle=True)"
      ],
      "metadata": {
        "id": "PlUIOjyiGHNb"
      },
      "execution_count": null,
      "outputs": []
    },
    {
      "cell_type": "code",
      "source": [
        "model = BetterNN(X_train.shape[1])\n",
        "\n",
        "criterion = nn.CrossEntropyLoss(weight=weights_tensor)\n",
        "optimizer = torch.optim.Adam(model.parameters(), lr=0.001)\n",
        "scheduler = StepLR(optimizer, step_size=10, gamma=0.7)"
      ],
      "metadata": {
        "id": "MQd40hyzGKMW"
      },
      "execution_count": null,
      "outputs": []
    },
    {
      "cell_type": "code",
      "source": [
        "epochs = 1000\n",
        "for epoch in range(epochs):\n",
        "    model.train()\n",
        "    for xb, yb in train_dl:\n",
        "        optimizer.zero_grad()\n",
        "        preds = model(xb)\n",
        "        loss = criterion(preds, yb)\n",
        "        loss.backward()\n",
        "        optimizer.step()"
      ],
      "metadata": {
        "id": "r3HN0Dz1GRLS"
      },
      "execution_count": null,
      "outputs": []
    },
    {
      "cell_type": "code",
      "source": [
        "model.eval()\n",
        "with torch.no_grad():\n",
        "    test_preds = model(X_test_tensor)\n",
        "    test_preds_cls = torch.argmax(test_preds, axis=1)\n",
        "    print(classification_report(y_test, test_preds_cls.numpy()))\n",
        "    test_acc = accuracy_score(y_test, test_preds_cls.numpy())\n",
        "    print(f\"Test Accuracy: {test_acc * 100:.2f}%\")"
      ],
      "metadata": {
        "colab": {
          "base_uri": "https://localhost:8080/"
        },
        "id": "PR6laX7yGUAt",
        "outputId": "20193842-2660-455f-e40d-c0a69f5ec90a"
      },
      "execution_count": null,
      "outputs": [
        {
          "output_type": "stream",
          "name": "stdout",
          "text": [
            "              precision    recall  f1-score   support\n",
            "\n",
            "           0       0.85      0.79      0.82      1292\n",
            "           1       0.25      0.35      0.29       266\n",
            "\n",
            "    accuracy                           0.72      1558\n",
            "   macro avg       0.55      0.57      0.56      1558\n",
            "weighted avg       0.75      0.72      0.73      1558\n",
            "\n",
            "Test Accuracy: 71.50%\n"
          ]
        }
      ]
    },
    {
      "cell_type": "code",
      "source": [
        "cm = confusion_matrix(y_test, test_preds_cls.numpy())\n",
        "class_names = ['stay', 'leave']\n",
        "plt.figure(figsize=(6, 5))\n",
        "sns.heatmap(cm, annot=True, fmt='d', cmap='Blues',\n",
        "            xticklabels=class_names, yticklabels=class_names,\n",
        "            cbar=False, linewidths=1, linecolor='black')\n",
        "\n",
        "plt.title('Confusion Matrix')\n",
        "plt.ylabel('True Label')\n",
        "plt.xlabel('Predicted Label')\n",
        "plt.tight_layout()\n",
        "plt.savefig(\"confusion_matrix_combined.png\", dpi=300)\n",
        "plt.show()"
      ],
      "metadata": {
        "colab": {
          "base_uri": "https://localhost:8080/",
          "height": 507
        },
        "id": "FMk6ySBuGX8o",
        "outputId": "34751de6-1bb4-43ee-bc6e-30152763ab96"
      },
      "execution_count": null,
      "outputs": [
        {
          "output_type": "display_data",
          "data": {
            "text/plain": [
              "<Figure size 600x500 with 1 Axes>"
            ],
            "image/png": "[encoded data removed]"
          },
          "metadata": {}
        }
      ]
    },
    {
      "cell_type": "code",
      "source": [
        "import pandas as pd\n",
        "df = pd.read_csv(\"/content/All_epochs_combined_e2 (1).csv\")"
      ],
      "metadata": {
        "id": "whEo1JizG_A_"
      },
      "execution_count": null,
      "outputs": []
    },
    {
      "cell_type": "code",
      "source": [
        "columns_to_keep = ['Decision'] + [col for col in df.columns if col.startswith('En_')]\n",
        "df_filtered = df[columns_to_keep]\n"
      ],
      "metadata": {
        "id": "T_cHaCq1O1GC"
      },
      "execution_count": null,
      "outputs": []
    },
    {
      "cell_type": "code",
      "source": [
        "scaler = StandardScaler()\n",
        "X_scaled = scaler.fit_transform(X)\n",
        "\n",
        "\n",
        "class_weights = compute_class_weight(class_weight=\"balanced\", classes=np.unique(y), y=y)\n",
        "\n",
        "weights_tensor = torch.tensor(class_weights, dtype=torch.float32)"
      ],
      "metadata": {
        "id": "dsFoCXacO5xW"
      },
      "execution_count": null,
      "outputs": []
    },
    {
      "cell_type": "code",
      "source": [
        "X_train, X_test, y_train, y_test = train_test_split(X_scaled, y, test_size=0.2, stratify=y)\n",
        "\n",
        "X_train_tensor = torch.tensor(X_train, dtype=torch.float32)\n",
        "y_train_tensor = torch.tensor(y_train, dtype=torch.long)\n",
        "X_test_tensor = torch.tensor(X_test, dtype=torch.float32)\n",
        "y_test_tensor = torch.tensor(y_test, dtype=torch.long)\n",
        "\n",
        "train_ds = TensorDataset(X_train_tensor, y_train_tensor)\n",
        "train_dl = DataLoader(train_ds, batch_size=32, shuffle=True)"
      ],
      "metadata": {
        "id": "5VTACZbMPiMy"
      },
      "execution_count": null,
      "outputs": []
    },
    {
      "cell_type": "code",
      "source": [
        "model = BetterNN(X_train.shape[1])\n",
        "\n",
        "criterion = nn.CrossEntropyLoss(weight=weights_tensor)\n",
        "optimizer = torch.optim.Adam(model.parameters(), lr=0.001)\n",
        "scheduler = StepLR(optimizer, step_size=10, gamma=0.7)"
      ],
      "metadata": {
        "id": "TXVGEsFFPlTd"
      },
      "execution_count": null,
      "outputs": []
    },
    {
      "cell_type": "code",
      "source": [
        "epochs = 1000\n",
        "for epoch in range(epochs):\n",
        "    model.train()\n",
        "    for xb, yb in train_dl:\n",
        "        optimizer.zero_grad()\n",
        "        preds = model(xb)\n",
        "        loss = criterion(preds, yb)\n",
        "        loss.backward()\n",
        "        optimizer.step()"
      ],
      "metadata": {
        "id": "U_L5W1GnPnwf"
      },
      "execution_count": null,
      "outputs": []
    },
    {
      "cell_type": "code",
      "source": [
        "model.eval()\n",
        "with torch.no_grad():\n",
        "    test_preds = model(X_test_tensor)\n",
        "    test_preds_cls = torch.argmax(test_preds, axis=1)\n",
        "    print(classification_report(y_test, test_preds_cls.numpy()))\n",
        "    test_acc = accuracy_score(y_test, test_preds_cls.numpy())\n",
        "    print(f\"Test Accuracy: {test_acc * 100:.2f}%\")"
      ],
      "metadata": {
        "colab": {
          "base_uri": "https://localhost:8080/"
        },
        "id": "mRj7ISGBP0YF",
        "outputId": "060476c2-8b7f-4390-f827-886fc1ac7381"
      },
      "execution_count": null,
      "outputs": [
        {
          "output_type": "stream",
          "name": "stdout",
          "text": [
            "              precision    recall  f1-score   support\n",
            "\n",
            "           0       0.86      0.74      0.79      1292\n",
            "           1       0.24      0.41      0.31       266\n",
            "\n",
            "    accuracy                           0.68      1558\n",
            "   macro avg       0.55      0.57      0.55      1558\n",
            "weighted avg       0.75      0.68      0.71      1558\n",
            "\n",
            "Test Accuracy: 68.04%\n"
          ]
        }
      ]
    },
    {
      "cell_type": "code",
      "source": [
        "cm = confusion_matrix(y_test, test_preds_cls.numpy())\n",
        "class_names = ['stay', 'leave']\n",
        "plt.figure(figsize=(6, 5))\n",
        "sns.heatmap(cm, annot=True, fmt='d', cmap='Blues',\n",
        "            xticklabels=class_names, yticklabels=class_names,\n",
        "            cbar=False, linewidths=1, linecolor='black')\n",
        "\n",
        "plt.title('Confusion Matrix')\n",
        "plt.ylabel('True Label')\n",
        "plt.xlabel('Predicted Label')\n",
        "plt.tight_layout()\n",
        "plt.savefig(\"confusion_matrix_combined.png\", dpi=300)\n",
        "plt.show()"
      ],
      "metadata": {
        "colab": {
          "base_uri": "https://localhost:8080/"
        },
        "id": "q7av2f4bP8ib",
        "outputId": "8eb4e72c-27e4-46cb-f834-8d816d50c7c7"
      },
      "execution_count": null,
      "outputs": [
        {
          "output_type": "display_data",
          "data": {
            "text/plain": [
              "<Figure size 600x500 with 1 Axes>"
            ],
            "image/png": "[encoded data removed]"
          },
          "metadata": {}
        }
      ]
    }
  ]
}

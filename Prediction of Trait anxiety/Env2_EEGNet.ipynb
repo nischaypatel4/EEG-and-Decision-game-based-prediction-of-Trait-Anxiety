{
  "nbformat": 4,
  "nbformat_minor": 0,
  "metadata": {
    "colab": {
      "provenance": []
    },
    "kernelspec": {
      "name": "python3",
      "display_name": "Python 3"
    },
    "language_info": {
      "name": "python"
    }
  },
  "cells": [
    {
      "cell_type": "code",
      "source": [
        "from google.colab import drive\n",
        "import os\n",
        "\n",
        "# Mount Google Drive\n",
        "drive.mount('/content/drive')"
      ],
      "metadata": {
        "colab": {
          "base_uri": "https://localhost:8080/"
        },
        "id": "isTDbaZKsPli",
        "outputId": "9dd49387-58c7-4d2f-bcd0-83e1ad4ddab6"
      },
      "execution_count": null,
      "outputs": [
        {
          "output_type": "stream",
          "name": "stdout",
          "text": [
            "Mounted at /content/drive\n"
          ]
        }
      ]
    },
    {
      "cell_type": "code",
      "source": [
        "!pip install mne"
      ],
      "metadata": {
        "colab": {
          "base_uri": "https://localhost:8080/"
        },
        "id": "Ve0hhibxtRc2",
        "outputId": "5ac1eae8-1ab4-487e-caa1-06d81c6440c3"
      },
      "execution_count": null,
      "outputs": [
        {
          "output_type": "stream",
          "name": "stdout",
          "text": [
            "Collecting mne\n",
            "  Downloading mne-1.9.0-py3-none-any.whl.metadata (20 kB)\n",
            "Requirement already satisfied: decorator in /usr/local/lib/python3.11/dist-packages (from mne) (4.4.2)\n",
            "Requirement already satisfied: jinja2 in /usr/local/lib/python3.11/dist-packages (from mne) (3.1.6)\n",
            "Requirement already satisfied: lazy-loader>=0.3 in /usr/local/lib/python3.11/dist-packages (from mne) (0.4)\n",
            "Requirement already satisfied: matplotlib>=3.6 in /usr/local/lib/python3.11/dist-packages (from mne) (3.10.0)\n",
            "Requirement already satisfied: numpy<3,>=1.23 in /usr/local/lib/python3.11/dist-packages (from mne) (2.0.2)\n",
            "Requirement already satisfied: packaging in /usr/local/lib/python3.11/dist-packages (from mne) (24.2)\n",
            "Requirement already satisfied: pooch>=1.5 in /usr/local/lib/python3.11/dist-packages (from mne) (1.8.2)\n",
            "Requirement already satisfied: scipy>=1.9 in /usr/local/lib/python3.11/dist-packages (from mne) (1.14.1)\n",
            "Requirement already satisfied: tqdm in /usr/local/lib/python3.11/dist-packages (from mne) (4.67.1)\n",
            "Requirement already satisfied: contourpy>=1.0.1 in /usr/local/lib/python3.11/dist-packages (from matplotlib>=3.6->mne) (1.3.2)\n",
            "Requirement already satisfied: cycler>=0.10 in /usr/local/lib/python3.11/dist-packages (from matplotlib>=3.6->mne) (0.12.1)\n",
            "Requirement already satisfied: fonttools>=4.22.0 in /usr/local/lib/python3.11/dist-packages (from matplotlib>=3.6->mne) (4.57.0)\n",
            "Requirement already satisfied: kiwisolver>=1.3.1 in /usr/local/lib/python3.11/dist-packages (from matplotlib>=3.6->mne) (1.4.8)\n",
            "Requirement already satisfied: pillow>=8 in /usr/local/lib/python3.11/dist-packages (from matplotlib>=3.6->mne) (11.1.0)\n",
            "Requirement already satisfied: pyparsing>=2.3.1 in /usr/local/lib/python3.11/dist-packages (from matplotlib>=3.6->mne) (3.2.3)\n",
            "Requirement already satisfied: python-dateutil>=2.7 in /usr/local/lib/python3.11/dist-packages (from matplotlib>=3.6->mne) (2.8.2)\n",
            "Requirement already satisfied: platformdirs>=2.5.0 in /usr/local/lib/python3.11/dist-packages (from pooch>=1.5->mne) (4.3.7)\n",
            "Requirement already satisfied: requests>=2.19.0 in /usr/local/lib/python3.11/dist-packages (from pooch>=1.5->mne) (2.32.3)\n",
            "Requirement already satisfied: MarkupSafe>=2.0 in /usr/local/lib/python3.11/dist-packages (from jinja2->mne) (3.0.2)\n",
            "Requirement already satisfied: six>=1.5 in /usr/local/lib/python3.11/dist-packages (from python-dateutil>=2.7->matplotlib>=3.6->mne) (1.17.0)\n",
            "Requirement already satisfied: charset-normalizer<4,>=2 in /usr/local/lib/python3.11/dist-packages (from requests>=2.19.0->pooch>=1.5->mne) (3.4.1)\n",
            "Requirement already satisfied: idna<4,>=2.5 in /usr/local/lib/python3.11/dist-packages (from requests>=2.19.0->pooch>=1.5->mne) (3.10)\n",
            "Requirement already satisfied: urllib3<3,>=1.21.1 in /usr/local/lib/python3.11/dist-packages (from requests>=2.19.0->pooch>=1.5->mne) (2.3.0)\n",
            "Requirement already satisfied: certifi>=2017.4.17 in /usr/local/lib/python3.11/dist-packages (from requests>=2.19.0->pooch>=1.5->mne) (2025.1.31)\n",
            "Downloading mne-1.9.0-py3-none-any.whl (7.4 MB)\n",
            "\u001b[2K   \u001b[90m━━━━━━━━━━━━━━━━━━━━━━━━━━━━━━━━━━━━━━━━\u001b[0m \u001b[32m7.4/7.4 MB\u001b[0m \u001b[31m60.6 MB/s\u001b[0m eta \u001b[36m0:00:00\u001b[0m\n",
            "\u001b[?25hInstalling collected packages: mne\n",
            "Successfully installed mne-1.9.0\n"
          ]
        }
      ]
    },
    {
      "cell_type": "markdown",
      "source": [
        "Function to load epoch data"
      ],
      "metadata": {
        "id": "ohVdg3RtBNbm"
      }
    },
    {
      "cell_type": "code",
      "execution_count": null,
      "metadata": {
        "id": "AfbyE24mY1LU"
      },
      "outputs": [],
      "source": [
        "import mne\n",
        "\n",
        "def load_eeglab_set(filepath):\n",
        "    epochs = mne.read_epochs_eeglab(filepath, verbose=True)  # directly loads epoched data\n",
        "    return epochs\n"
      ]
    },
    {
      "cell_type": "markdown",
      "source": [
        "### EEG Data Preprocessing for EEGNet\n",
        "\n",
        "This function processes raw EEG data from epochs, preparing it for input into the EEGNet model.\n",
        "\n",
        "**Steps:**\n",
        "\n",
        "1. **Extract EEG Data:**  \n",
        "   The EEG data is extracted from the `epochs` object, resulting in an array with shape `(n_trials, n_channels, n_times)`.\n",
        "\n",
        "2. **Reshape Data:**  \n",
        "   To match EEGNet's expected input format, the data is reshaped to have the shape `(n_trials, 1, n_channels, n_times)` (channels-first format).\n",
        "\n",
        "3. **Event Codes (Labels):**  \n",
        "   The event labels (or codes) are extracted from the `epochs.events` array. These event codes typically represent different behavioral conditions or task categories.\n",
        "\n",
        "4. **Label Encoding:**  \n",
        "   If the labels are not integers (e.g., strings), they are encoded using **LabelEncoder**, converting categorical labels into integer format.\n",
        "\n",
        "5. **Return Processed Data:**  \n",
        "   The function returns the reshaped EEG data (`X`), encoded labels (`y`), and the **LabelEncoder** instance for potential reverse label mapping.\n",
        "\n",
        "> Result: The EEG data is ready for training in EEGNet and the labels are in a format suitable for classification.\n"
      ],
      "metadata": {
        "id": "4hs2JU-aBG2O"
      }
    },
    {
      "cell_type": "code",
      "source": [
        "import numpy as np\n",
        "from sklearn.preprocessing import LabelEncoder\n",
        "\n",
        "def prepare_for_eegnet(epochs):\n",
        "    X = epochs.get_data()  # Shape: (n_trials, n_channels, n_times)\n",
        "    y = epochs.events[:, -1]  # Event codes (labels)\n",
        "\n",
        "    # Reshape to EEGNet format: (n_trials, 1, n_channels, n_times)\n",
        "    X = X[:, np.newaxis, :, :]\n",
        "\n",
        "    # Encode labels if they’re not integers\n",
        "    le = LabelEncoder()\n",
        "    y = le.fit_transform(y)\n",
        "\n",
        "    return X.astype(np.float32), y.astype(np.int64), le\n"
      ],
      "metadata": {
        "id": "ZpEIOCHXaOSv"
      },
      "execution_count": null,
      "outputs": []
    },
    {
      "cell_type": "markdown",
      "source": [
        "Reading and mapping of labels"
      ],
      "metadata": {
        "id": "uXcdDCE2BCwH"
      }
    },
    {
      "cell_type": "code",
      "source": [
        "import pandas as pd\n",
        "\n",
        "label_df = pd.read_csv(r\"/content/drive/MyDrive/Preprocessed_datasets/trait_anxiety_labels.csv\")\n",
        "label_df[\"trait_anx_level\"] = label_df[\"trait_anx_level\"].map({\"low\": 0, \"high\": 1})  # convert to binary\n",
        "label_df.head(15)\n"
      ],
      "metadata": {
        "id": "qeaBaLjVaRai",
        "colab": {
          "base_uri": "https://localhost:8080/",
          "height": 519
        },
        "outputId": "fc58ce6d-9ed6-4816-8ccc-8b4aadf1349b"
      },
      "execution_count": null,
      "outputs": [
        {
          "output_type": "execute_result",
          "data": {
            "text/plain": [
              "   subject_id  trait_anx_level\n",
              "0          p2                0\n",
              "1          p3                1\n",
              "2          p4                1\n",
              "3          p5                0\n",
              "4          p6                0\n",
              "5          p7                1\n",
              "6          p8                0\n",
              "7          p9                0\n",
              "8         p10                1\n",
              "9         p11                1\n",
              "10        p12                1\n",
              "11        p14                0\n",
              "12        p15                0\n",
              "13        p16                0\n",
              "14        p17                1"
            ],
            "text/html": [
              "\n",
              "  <div id=\"df-78e88c02-7611-4be1-a859-1a2b5c7e1208\" class=\"colab-df-container\">\n",
              "    <div>\n",
              "<style scoped>\n",
              "    .dataframe tbody tr th:only-of-type {\n",
              "        vertical-align: middle;\n",
              "    }\n",
              "\n",
              "    .dataframe tbody tr th {\n",
              "        vertical-align: top;\n",
              "    }\n",
              "\n",
              "    .dataframe thead th {\n",
              "        text-align: right;\n",
              "    }\n",
              "</style>\n",
              "<table border=\"1\" class=\"dataframe\">\n",
              "  <thead>\n",
              "    <tr style=\"text-align: right;\">\n",
              "      <th></th>\n",
              "      <th>subject_id</th>\n",
              "      <th>trait_anx_level</th>\n",
              "    </tr>\n",
              "  </thead>\n",
              "  <tbody>\n",
              "    <tr>\n",
              "      <th>0</th>\n",
              "      <td>p2</td>\n",
              "      <td>0</td>\n",
              "    </tr>\n",
              "    <tr>\n",
              "      <th>1</th>\n",
              "      <td>p3</td>\n",
              "      <td>1</td>\n",
              "    </tr>\n",
              "    <tr>\n",
              "      <th>2</th>\n",
              "      <td>p4</td>\n",
              "      <td>1</td>\n",
              "    </tr>\n",
              "    <tr>\n",
              "      <th>3</th>\n",
              "      <td>p5</td>\n",
              "      <td>0</td>\n",
              "    </tr>\n",
              "    <tr>\n",
              "      <th>4</th>\n",
              "      <td>p6</td>\n",
              "      <td>0</td>\n",
              "    </tr>\n",
              "    <tr>\n",
              "      <th>5</th>\n",
              "      <td>p7</td>\n",
              "      <td>1</td>\n",
              "    </tr>\n",
              "    <tr>\n",
              "      <th>6</th>\n",
              "      <td>p8</td>\n",
              "      <td>0</td>\n",
              "    </tr>\n",
              "    <tr>\n",
              "      <th>7</th>\n",
              "      <td>p9</td>\n",
              "      <td>0</td>\n",
              "    </tr>\n",
              "    <tr>\n",
              "      <th>8</th>\n",
              "      <td>p10</td>\n",
              "      <td>1</td>\n",
              "    </tr>\n",
              "    <tr>\n",
              "      <th>9</th>\n",
              "      <td>p11</td>\n",
              "      <td>1</td>\n",
              "    </tr>\n",
              "    <tr>\n",
              "      <th>10</th>\n",
              "      <td>p12</td>\n",
              "      <td>1</td>\n",
              "    </tr>\n",
              "    <tr>\n",
              "      <th>11</th>\n",
              "      <td>p14</td>\n",
              "      <td>0</td>\n",
              "    </tr>\n",
              "    <tr>\n",
              "      <th>12</th>\n",
              "      <td>p15</td>\n",
              "      <td>0</td>\n",
              "    </tr>\n",
              "    <tr>\n",
              "      <th>13</th>\n",
              "      <td>p16</td>\n",
              "      <td>0</td>\n",
              "    </tr>\n",
              "    <tr>\n",
              "      <th>14</th>\n",
              "      <td>p17</td>\n",
              "      <td>1</td>\n",
              "    </tr>\n",
              "  </tbody>\n",
              "</table>\n",
              "</div>\n",
              "    <div class=\"colab-df-buttons\">\n",
              "\n",
              "  <div class=\"colab-df-container\">\n",
              "    <button class=\"colab-df-convert\" onclick=\"convertToInteractive('df-78e88c02-7611-4be1-a859-1a2b5c7e1208')\"\n",
              "            title=\"Convert this dataframe to an interactive table.\"\n",
              "            style=\"display:none;\">\n",
              "\n",
              "  <svg xmlns=\"http://www.w3.org/2000/svg\" height=\"24px\" viewBox=\"0 -960 960 960\">\n",
              "    <path d=\"M120-120v-720h720v720H120Zm60-500h600v-160H180v160Zm220 220h160v-160H400v160Zm0 220h160v-160H400v160ZM180-400h160v-160H180v160Zm440 0h160v-160H620v160ZM180-180h160v-160H180v160Zm440 0h160v-160H620v160Z\"/>\n",
              "  </svg>\n",
              "    </button>\n",
              "\n",
              "  <style>\n",
              "    .colab-df-container {\n",
              "      display:flex;\n",
              "      gap: 12px;\n",
              "    }\n",
              "\n",
              "    .colab-df-convert {\n",
              "      background-color: #E8F0FE;\n",
              "      border: none;\n",
              "      border-radius: 50%;\n",
              "      cursor: pointer;\n",
              "      display: none;\n",
              "      fill: #1967D2;\n",
              "      height: 32px;\n",
              "      padding: 0 0 0 0;\n",
              "      width: 32px;\n",
              "    }\n",
              "\n",
              "    .colab-df-convert:hover {\n",
              "      background-color: #E2EBFA;\n",
              "      box-shadow: 0px 1px 2px rgba(60, 64, 67, 0.3), 0px 1px 3px 1px rgba(60, 64, 67, 0.15);\n",
              "      fill: #174EA6;\n",
              "    }\n",
              "\n",
              "    .colab-df-buttons div {\n",
              "      margin-bottom: 4px;\n",
              "    }\n",
              "\n",
              "    [theme=dark] .colab-df-convert {\n",
              "      background-color: #3B4455;\n",
              "      fill: #D2E3FC;\n",
              "    }\n",
              "\n",
              "    [theme=dark] .colab-df-convert:hover {\n",
              "      background-color: #434B5C;\n",
              "      box-shadow: 0px 1px 3px 1px rgba(0, 0, 0, 0.15);\n",
              "      filter: drop-shadow(0px 1px 2px rgba(0, 0, 0, 0.3));\n",
              "      fill: #FFFFFF;\n",
              "    }\n",
              "  </style>\n",
              "\n",
              "    <script>\n",
              "      const buttonEl =\n",
              "        document.querySelector('#df-78e88c02-7611-4be1-a859-1a2b5c7e1208 button.colab-df-convert');\n",
              "      buttonEl.style.display =\n",
              "        google.colab.kernel.accessAllowed ? 'block' : 'none';\n",
              "\n",
              "      async function convertToInteractive(key) {\n",
              "        const element = document.querySelector('#df-78e88c02-7611-4be1-a859-1a2b5c7e1208');\n",
              "        const dataTable =\n",
              "          await google.colab.kernel.invokeFunction('convertToInteractive',\n",
              "                                                    [key], {});\n",
              "        if (!dataTable) return;\n",
              "\n",
              "        const docLinkHtml = 'Like what you see? Visit the ' +\n",
              "          '<a target=\"_blank\" href=https://colab.research.google.com/notebooks/data_table.ipynb>data table notebook</a>'\n",
              "          + ' to learn more about interactive tables.';\n",
              "        element.innerHTML = '';\n",
              "        dataTable['output_type'] = 'display_data';\n",
              "        await google.colab.output.renderOutput(dataTable, element);\n",
              "        const docLink = document.createElement('div');\n",
              "        docLink.innerHTML = docLinkHtml;\n",
              "        element.appendChild(docLink);\n",
              "      }\n",
              "    </script>\n",
              "  </div>\n",
              "\n",
              "\n",
              "<div id=\"df-8305e81e-e84b-471e-a146-363b4777d70c\">\n",
              "  <button class=\"colab-df-quickchart\" onclick=\"quickchart('df-8305e81e-e84b-471e-a146-363b4777d70c')\"\n",
              "            title=\"Suggest charts\"\n",
              "            style=\"display:none;\">\n",
              "\n",
              "<svg xmlns=\"http://www.w3.org/2000/svg\" height=\"24px\"viewBox=\"0 0 24 24\"\n",
              "     width=\"24px\">\n",
              "    <g>\n",
              "        <path d=\"M19 3H5c-1.1 0-2 .9-2 2v14c0 1.1.9 2 2 2h14c1.1 0 2-.9 2-2V5c0-1.1-.9-2-2-2zM9 17H7v-7h2v7zm4 0h-2V7h2v10zm4 0h-2v-4h2v4z\"/>\n",
              "    </g>\n",
              "</svg>\n",
              "  </button>\n",
              "\n",
              "<style>\n",
              "  .colab-df-quickchart {\n",
              "      --bg-color: #E8F0FE;\n",
              "      --fill-color: #1967D2;\n",
              "      --hover-bg-color: #E2EBFA;\n",
              "      --hover-fill-color: #174EA6;\n",
              "      --disabled-fill-color: #AAA;\n",
              "      --disabled-bg-color: #DDD;\n",
              "  }\n",
              "\n",
              "  [theme=dark] .colab-df-quickchart {\n",
              "      --bg-color: #3B4455;\n",
              "      --fill-color: #D2E3FC;\n",
              "      --hover-bg-color: #434B5C;\n",
              "      --hover-fill-color: #FFFFFF;\n",
              "      --disabled-bg-color: #3B4455;\n",
              "      --disabled-fill-color: #666;\n",
              "  }\n",
              "\n",
              "  .colab-df-quickchart {\n",
              "    background-color: var(--bg-color);\n",
              "    border: none;\n",
              "    border-radius: 50%;\n",
              "    cursor: pointer;\n",
              "    display: none;\n",
              "    fill: var(--fill-color);\n",
              "    height: 32px;\n",
              "    padding: 0;\n",
              "    width: 32px;\n",
              "  }\n",
              "\n",
              "  .colab-df-quickchart:hover {\n",
              "    background-color: var(--hover-bg-color);\n",
              "    box-shadow: 0 1px 2px rgba(60, 64, 67, 0.3), 0 1px 3px 1px rgba(60, 64, 67, 0.15);\n",
              "    fill: var(--button-hover-fill-color);\n",
              "  }\n",
              "\n",
              "  .colab-df-quickchart-complete:disabled,\n",
              "  .colab-df-quickchart-complete:disabled:hover {\n",
              "    background-color: var(--disabled-bg-color);\n",
              "    fill: var(--disabled-fill-color);\n",
              "    box-shadow: none;\n",
              "  }\n",
              "\n",
              "  .colab-df-spinner {\n",
              "    border: 2px solid var(--fill-color);\n",
              "    border-color: transparent;\n",
              "    border-bottom-color: var(--fill-color);\n",
              "    animation:\n",
              "      spin 1s steps(1) infinite;\n",
              "  }\n",
              "\n",
              "  @keyframes spin {\n",
              "    0% {\n",
              "      border-color: transparent;\n",
              "      border-bottom-color: var(--fill-color);\n",
              "      border-left-color: var(--fill-color);\n",
              "    }\n",
              "    20% {\n",
              "      border-color: transparent;\n",
              "      border-left-color: var(--fill-color);\n",
              "      border-top-color: var(--fill-color);\n",
              "    }\n",
              "    30% {\n",
              "      border-color: transparent;\n",
              "      border-left-color: var(--fill-color);\n",
              "      border-top-color: var(--fill-color);\n",
              "      border-right-color: var(--fill-color);\n",
              "    }\n",
              "    40% {\n",
              "      border-color: transparent;\n",
              "      border-right-color: var(--fill-color);\n",
              "      border-top-color: var(--fill-color);\n",
              "    }\n",
              "    60% {\n",
              "      border-color: transparent;\n",
              "      border-right-color: var(--fill-color);\n",
              "    }\n",
              "    80% {\n",
              "      border-color: transparent;\n",
              "      border-right-color: var(--fill-color);\n",
              "      border-bottom-color: var(--fill-color);\n",
              "    }\n",
              "    90% {\n",
              "      border-color: transparent;\n",
              "      border-bottom-color: var(--fill-color);\n",
              "    }\n",
              "  }\n",
              "</style>\n",
              "\n",
              "  <script>\n",
              "    async function quickchart(key) {\n",
              "      const quickchartButtonEl =\n",
              "        document.querySelector('#' + key + ' button');\n",
              "      quickchartButtonEl.disabled = true;  // To prevent multiple clicks.\n",
              "      quickchartButtonEl.classList.add('colab-df-spinner');\n",
              "      try {\n",
              "        const charts = await google.colab.kernel.invokeFunction(\n",
              "            'suggestCharts', [key], {});\n",
              "      } catch (error) {\n",
              "        console.error('Error during call to suggestCharts:', error);\n",
              "      }\n",
              "      quickchartButtonEl.classList.remove('colab-df-spinner');\n",
              "      quickchartButtonEl.classList.add('colab-df-quickchart-complete');\n",
              "    }\n",
              "    (() => {\n",
              "      let quickchartButtonEl =\n",
              "        document.querySelector('#df-8305e81e-e84b-471e-a146-363b4777d70c button');\n",
              "      quickchartButtonEl.style.display =\n",
              "        google.colab.kernel.accessAllowed ? 'block' : 'none';\n",
              "    })();\n",
              "  </script>\n",
              "</div>\n",
              "\n",
              "    </div>\n",
              "  </div>\n"
            ],
            "application/vnd.google.colaboratory.intrinsic+json": {
              "type": "dataframe",
              "variable_name": "label_df",
              "summary": "{\n  \"name\": \"label_df\",\n  \"rows\": 50,\n  \"fields\": [\n    {\n      \"column\": \"subject_id\",\n      \"properties\": {\n        \"dtype\": \"string\",\n        \"num_unique_values\": 50,\n        \"samples\": [\n          \"p16\",\n          \"p43\",\n          \"p34\"\n        ],\n        \"semantic_type\": \"\",\n        \"description\": \"\"\n      }\n    },\n    {\n      \"column\": \"trait_anx_level\",\n      \"properties\": {\n        \"dtype\": \"number\",\n        \"std\": 0,\n        \"min\": 0,\n        \"max\": 1,\n        \"num_unique_values\": 2,\n        \"samples\": [\n          1,\n          0\n        ],\n        \"semantic_type\": \"\",\n        \"description\": \"\"\n      }\n    }\n  ]\n}"
            }
          },
          "metadata": {},
          "execution_count": 5
        }
      ]
    },
    {
      "cell_type": "code",
      "source": [
        "label_map = dict(zip(label_df[\"subject_id\"], label_df[\"trait_anx_level\"]))\n"
      ],
      "metadata": {
        "id": "WaGiF3wNaTFq"
      },
      "execution_count": null,
      "outputs": []
    },
    {
      "cell_type": "markdown",
      "source": [
        "###Loading and Aggregating EEG Data Across Participants\n",
        "\n",
        "This block loops through multiple preprocessed EEG `.set` files, performs filtering, and builds a dataset for training.\n",
        "\n",
        "**Key Steps:**\n",
        "\n",
        "- **Participant Filtering:** Skips participants with noisy/incomplete data (IDs: 1, 13, 23, 52)\n",
        "- **Data Loading:** Loads EEGLAB `.set` files using a custom `load_eeglab_set` function\n",
        "- **Label Mapping:** Uses behavioral trait labels (e.g., 'low' or 'high') for each subject\n",
        "- **Reshaping:** Transforms EEG data to **(samples, 1, channels, time)** for EEGNet\n",
        "- **Label Replication:** Creates a label per epoch\n",
        "- **Final Dataset:** Combines data across all valid participants into `X_all` and `y_all`\n",
        "\n",
        "> Result: `X_all` and `y_all` are ready for preprocessing or model training.\n"
      ],
      "metadata": {
        "id": "E1RozXUQAlFv"
      }
    },
    {
      "cell_type": "code",
      "source": [
        "import os\n",
        "# Participants to skip\n",
        "exclude = {1, 13, 23, 52}\n",
        "\n",
        "all_X, all_y = [], []\n",
        "\n",
        "for i in range(1, 55):\n",
        "    if i in exclude:\n",
        "        continue\n",
        "\n",
        "    subj_code = f\"p{i}\"  # matches 'subject_id' in CSV like p2, p3...\n",
        "    trait_label = label_map[subj_code]  # 'low' or 'high'\n",
        "\n",
        "    filename = f\"p{i}_e2_preprocessed.set\"\n",
        "    filepath = os.path.join(r\"/content/drive/MyDrive/Preprocessed_datasets/dataset_preprocessed/env2_preprocessed_data\", filename)\n",
        "\n",
        "    print(f\"Processing {filename}\")\n",
        "    epochs = load_eeglab_set(filepath)  # your function\n",
        "\n",
        "    # Get EEG data as X, dummy y (can use y=0 temporarily)\n",
        "    X = epochs.get_data()  # shape: (n_epochs, n_channels, n_times)\n",
        "\n",
        "    # EEGNet expects shape (samples, 1, channels, time)\n",
        "    X = X[:, np.newaxis, :, :]\n",
        "\n",
        "    # Create y: one label per epoch\n",
        "    y = [trait_label] * X.shape[0]\n",
        "\n",
        "    all_X.append(X)\n",
        "    all_y.extend(y)\n",
        "\n",
        "# Stack all data\n",
        "X_all = np.concatenate(all_X, axis=0)\n",
        "y_all = np.array(all_y)\n",
        "\n",
        "print(\"Final shape:\", X_all.shape, y_all.shape)"
      ],
      "metadata": {
        "id": "rPe6JpHjafj8",
        "colab": {
          "base_uri": "https://localhost:8080/"
        },
        "outputId": "4f73936f-4543-4316-c579-f53eb38cc3a5"
      },
      "execution_count": null,
      "outputs": [
        {
          "output_type": "stream",
          "name": "stdout",
          "text": [
            "Processing p2_e2_preprocessed.set\n",
            "Extracting parameters from /content/drive/MyDrive/Preprocessed_datasets/dataset_preprocessed/env2_preprocessed_data/p2_e2_preprocessed.set...\n"
          ]
        },
        {
          "output_type": "stream",
          "name": "stderr",
          "text": [
            "<ipython-input-3-789131e0a5be>:4: RuntimeWarning: Estimated head radius (4.5 cm) is below the 3rd percentile for infant head size. Check if the montage_units argument is correct (the default is \"mm\", but your channel positions may be in different units).\n",
            "  epochs = mne.read_epochs_eeglab(filepath, verbose=True)  # directly loads epoched data\n"
          ]
        },
        {
          "output_type": "stream",
          "name": "stdout",
          "text": [
            "Not setting metadata\n",
            "72 matching events found\n",
            "No baseline correction applied\n",
            "0 projection items activated\n",
            "Ready.\n",
            "Processing p3_e2_preprocessed.set\n",
            "Extracting parameters from /content/drive/MyDrive/Preprocessed_datasets/dataset_preprocessed/env2_preprocessed_data/p3_e2_preprocessed.set...\n"
          ]
        },
        {
          "output_type": "stream",
          "name": "stderr",
          "text": [
            "<ipython-input-3-789131e0a5be>:4: RuntimeWarning: Estimated head radius (4.5 cm) is below the 3rd percentile for infant head size. Check if the montage_units argument is correct (the default is \"mm\", but your channel positions may be in different units).\n",
            "  epochs = mne.read_epochs_eeglab(filepath, verbose=True)  # directly loads epoched data\n"
          ]
        },
        {
          "output_type": "stream",
          "name": "stdout",
          "text": [
            "Not setting metadata\n",
            "78 matching events found\n",
            "No baseline correction applied\n",
            "0 projection items activated\n",
            "Ready.\n",
            "Processing p4_e2_preprocessed.set\n",
            "Extracting parameters from /content/drive/MyDrive/Preprocessed_datasets/dataset_preprocessed/env2_preprocessed_data/p4_e2_preprocessed.set...\n"
          ]
        },
        {
          "output_type": "stream",
          "name": "stderr",
          "text": [
            "<ipython-input-3-789131e0a5be>:4: RuntimeWarning: At least one epoch has multiple events. Only the latency of the first event will be retained.\n",
            "  epochs = mne.read_epochs_eeglab(filepath, verbose=True)  # directly loads epoched data\n",
            "<ipython-input-3-789131e0a5be>:4: RuntimeWarning: Estimated head radius (4.5 cm) is below the 3rd percentile for infant head size. Check if the montage_units argument is correct (the default is \"mm\", but your channel positions may be in different units).\n",
            "  epochs = mne.read_epochs_eeglab(filepath, verbose=True)  # directly loads epoched data\n"
          ]
        },
        {
          "output_type": "stream",
          "name": "stdout",
          "text": [
            "Not setting metadata\n",
            "84 matching events found\n",
            "No baseline correction applied\n",
            "0 projection items activated\n",
            "Ready.\n",
            "Processing p5_e2_preprocessed.set\n",
            "Extracting parameters from /content/drive/MyDrive/Preprocessed_datasets/dataset_preprocessed/env2_preprocessed_data/p5_e2_preprocessed.set...\n"
          ]
        },
        {
          "output_type": "stream",
          "name": "stderr",
          "text": [
            "<ipython-input-3-789131e0a5be>:4: RuntimeWarning: At least one epoch has multiple events. Only the latency of the first event will be retained.\n",
            "  epochs = mne.read_epochs_eeglab(filepath, verbose=True)  # directly loads epoched data\n",
            "<ipython-input-3-789131e0a5be>:4: RuntimeWarning: Estimated head radius (4.5 cm) is below the 3rd percentile for infant head size. Check if the montage_units argument is correct (the default is \"mm\", but your channel positions may be in different units).\n",
            "  epochs = mne.read_epochs_eeglab(filepath, verbose=True)  # directly loads epoched data\n"
          ]
        },
        {
          "output_type": "stream",
          "name": "stdout",
          "text": [
            "Not setting metadata\n",
            "63 matching events found\n",
            "No baseline correction applied\n",
            "0 projection items activated\n",
            "Ready.\n",
            "Processing p6_e2_preprocessed.set\n",
            "Extracting parameters from /content/drive/MyDrive/Preprocessed_datasets/dataset_preprocessed/env2_preprocessed_data/p6_e2_preprocessed.set...\n"
          ]
        },
        {
          "output_type": "stream",
          "name": "stderr",
          "text": [
            "<ipython-input-3-789131e0a5be>:4: RuntimeWarning: Estimated head radius (4.5 cm) is below the 3rd percentile for infant head size. Check if the montage_units argument is correct (the default is \"mm\", but your channel positions may be in different units).\n",
            "  epochs = mne.read_epochs_eeglab(filepath, verbose=True)  # directly loads epoched data\n"
          ]
        },
        {
          "output_type": "stream",
          "name": "stdout",
          "text": [
            "Not setting metadata\n",
            "70 matching events found\n",
            "No baseline correction applied\n",
            "0 projection items activated\n",
            "Ready.\n",
            "Processing p7_e2_preprocessed.set\n",
            "Extracting parameters from /content/drive/MyDrive/Preprocessed_datasets/dataset_preprocessed/env2_preprocessed_data/p7_e2_preprocessed.set...\n"
          ]
        },
        {
          "output_type": "stream",
          "name": "stderr",
          "text": [
            "<ipython-input-3-789131e0a5be>:4: RuntimeWarning: At least one epoch has multiple events. Only the latency of the first event will be retained.\n",
            "  epochs = mne.read_epochs_eeglab(filepath, verbose=True)  # directly loads epoched data\n",
            "<ipython-input-3-789131e0a5be>:4: RuntimeWarning: Estimated head radius (4.5 cm) is below the 3rd percentile for infant head size. Check if the montage_units argument is correct (the default is \"mm\", but your channel positions may be in different units).\n",
            "  epochs = mne.read_epochs_eeglab(filepath, verbose=True)  # directly loads epoched data\n"
          ]
        },
        {
          "output_type": "stream",
          "name": "stdout",
          "text": [
            "Not setting metadata\n",
            "60 matching events found\n",
            "No baseline correction applied\n",
            "0 projection items activated\n",
            "Ready.\n",
            "Processing p8_e2_preprocessed.set\n",
            "Extracting parameters from /content/drive/MyDrive/Preprocessed_datasets/dataset_preprocessed/env2_preprocessed_data/p8_e2_preprocessed.set...\n"
          ]
        },
        {
          "output_type": "stream",
          "name": "stderr",
          "text": [
            "<ipython-input-3-789131e0a5be>:4: RuntimeWarning: Estimated head radius (4.5 cm) is below the 3rd percentile for infant head size. Check if the montage_units argument is correct (the default is \"mm\", but your channel positions may be in different units).\n",
            "  epochs = mne.read_epochs_eeglab(filepath, verbose=True)  # directly loads epoched data\n"
          ]
        },
        {
          "output_type": "stream",
          "name": "stdout",
          "text": [
            "Not setting metadata\n",
            "47 matching events found\n",
            "No baseline correction applied\n",
            "0 projection items activated\n",
            "Ready.\n",
            "Processing p9_e2_preprocessed.set\n",
            "Extracting parameters from /content/drive/MyDrive/Preprocessed_datasets/dataset_preprocessed/env2_preprocessed_data/p9_e2_preprocessed.set...\n"
          ]
        },
        {
          "output_type": "stream",
          "name": "stderr",
          "text": [
            "<ipython-input-3-789131e0a5be>:4: RuntimeWarning: Estimated head radius (4.5 cm) is below the 3rd percentile for infant head size. Check if the montage_units argument is correct (the default is \"mm\", but your channel positions may be in different units).\n",
            "  epochs = mne.read_epochs_eeglab(filepath, verbose=True)  # directly loads epoched data\n"
          ]
        },
        {
          "output_type": "stream",
          "name": "stdout",
          "text": [
            "Not setting metadata\n",
            "77 matching events found\n",
            "No baseline correction applied\n",
            "0 projection items activated\n",
            "Ready.\n",
            "Processing p10_e2_preprocessed.set\n",
            "Extracting parameters from /content/drive/MyDrive/Preprocessed_datasets/dataset_preprocessed/env2_preprocessed_data/p10_e2_preprocessed.set...\n"
          ]
        },
        {
          "output_type": "stream",
          "name": "stderr",
          "text": [
            "<ipython-input-3-789131e0a5be>:4: RuntimeWarning: Estimated head radius (4.5 cm) is below the 3rd percentile for infant head size. Check if the montage_units argument is correct (the default is \"mm\", but your channel positions may be in different units).\n",
            "  epochs = mne.read_epochs_eeglab(filepath, verbose=True)  # directly loads epoched data\n"
          ]
        },
        {
          "output_type": "stream",
          "name": "stdout",
          "text": [
            "Not setting metadata\n",
            "54 matching events found\n",
            "No baseline correction applied\n",
            "0 projection items activated\n",
            "Ready.\n",
            "Processing p11_e2_preprocessed.set\n",
            "Extracting parameters from /content/drive/MyDrive/Preprocessed_datasets/dataset_preprocessed/env2_preprocessed_data/p11_e2_preprocessed.set...\n"
          ]
        },
        {
          "output_type": "stream",
          "name": "stderr",
          "text": [
            "<ipython-input-3-789131e0a5be>:4: RuntimeWarning: Estimated head radius (4.5 cm) is below the 3rd percentile for infant head size. Check if the montage_units argument is correct (the default is \"mm\", but your channel positions may be in different units).\n",
            "  epochs = mne.read_epochs_eeglab(filepath, verbose=True)  # directly loads epoched data\n"
          ]
        },
        {
          "output_type": "stream",
          "name": "stdout",
          "text": [
            "Not setting metadata\n",
            "80 matching events found\n",
            "No baseline correction applied\n",
            "0 projection items activated\n",
            "Ready.\n",
            "Processing p12_e2_preprocessed.set\n",
            "Extracting parameters from /content/drive/MyDrive/Preprocessed_datasets/dataset_preprocessed/env2_preprocessed_data/p12_e2_preprocessed.set...\n"
          ]
        },
        {
          "output_type": "stream",
          "name": "stderr",
          "text": [
            "<ipython-input-3-789131e0a5be>:4: RuntimeWarning: At least one epoch has multiple events. Only the latency of the first event will be retained.\n",
            "  epochs = mne.read_epochs_eeglab(filepath, verbose=True)  # directly loads epoched data\n",
            "<ipython-input-3-789131e0a5be>:4: RuntimeWarning: Estimated head radius (4.5 cm) is below the 3rd percentile for infant head size. Check if the montage_units argument is correct (the default is \"mm\", but your channel positions may be in different units).\n",
            "  epochs = mne.read_epochs_eeglab(filepath, verbose=True)  # directly loads epoched data\n"
          ]
        },
        {
          "output_type": "stream",
          "name": "stdout",
          "text": [
            "Not setting metadata\n",
            "79 matching events found\n",
            "No baseline correction applied\n",
            "0 projection items activated\n",
            "Ready.\n",
            "Processing p14_e2_preprocessed.set\n",
            "Extracting parameters from /content/drive/MyDrive/Preprocessed_datasets/dataset_preprocessed/env2_preprocessed_data/p14_e2_preprocessed.set...\n"
          ]
        },
        {
          "output_type": "stream",
          "name": "stderr",
          "text": [
            "<ipython-input-3-789131e0a5be>:4: RuntimeWarning: Estimated head radius (4.5 cm) is below the 3rd percentile for infant head size. Check if the montage_units argument is correct (the default is \"mm\", but your channel positions may be in different units).\n",
            "  epochs = mne.read_epochs_eeglab(filepath, verbose=True)  # directly loads epoched data\n"
          ]
        },
        {
          "output_type": "stream",
          "name": "stdout",
          "text": [
            "Not setting metadata\n",
            "80 matching events found\n",
            "No baseline correction applied\n",
            "0 projection items activated\n",
            "Ready.\n",
            "Processing p15_e2_preprocessed.set\n",
            "Extracting parameters from /content/drive/MyDrive/Preprocessed_datasets/dataset_preprocessed/env2_preprocessed_data/p15_e2_preprocessed.set...\n"
          ]
        },
        {
          "output_type": "stream",
          "name": "stderr",
          "text": [
            "<ipython-input-3-789131e0a5be>:4: RuntimeWarning: Estimated head radius (4.5 cm) is below the 3rd percentile for infant head size. Check if the montage_units argument is correct (the default is \"mm\", but your channel positions may be in different units).\n",
            "  epochs = mne.read_epochs_eeglab(filepath, verbose=True)  # directly loads epoched data\n"
          ]
        },
        {
          "output_type": "stream",
          "name": "stdout",
          "text": [
            "Not setting metadata\n",
            "89 matching events found\n",
            "No baseline correction applied\n",
            "0 projection items activated\n",
            "Ready.\n",
            "Processing p16_e2_preprocessed.set\n",
            "Extracting parameters from /content/drive/MyDrive/Preprocessed_datasets/dataset_preprocessed/env2_preprocessed_data/p16_e2_preprocessed.set...\n"
          ]
        },
        {
          "output_type": "stream",
          "name": "stderr",
          "text": [
            "<ipython-input-3-789131e0a5be>:4: RuntimeWarning: At least one epoch has multiple events. Only the latency of the first event will be retained.\n",
            "  epochs = mne.read_epochs_eeglab(filepath, verbose=True)  # directly loads epoched data\n",
            "<ipython-input-3-789131e0a5be>:4: RuntimeWarning: Estimated head radius (4.5 cm) is below the 3rd percentile for infant head size. Check if the montage_units argument is correct (the default is \"mm\", but your channel positions may be in different units).\n",
            "  epochs = mne.read_epochs_eeglab(filepath, verbose=True)  # directly loads epoched data\n"
          ]
        },
        {
          "output_type": "stream",
          "name": "stdout",
          "text": [
            "Not setting metadata\n",
            "83 matching events found\n",
            "No baseline correction applied\n",
            "0 projection items activated\n",
            "Ready.\n",
            "Processing p17_e2_preprocessed.set\n",
            "Extracting parameters from /content/drive/MyDrive/Preprocessed_datasets/dataset_preprocessed/env2_preprocessed_data/p17_e2_preprocessed.set...\n"
          ]
        },
        {
          "output_type": "stream",
          "name": "stderr",
          "text": [
            "<ipython-input-3-789131e0a5be>:4: RuntimeWarning: At least one epoch has multiple events. Only the latency of the first event will be retained.\n",
            "  epochs = mne.read_epochs_eeglab(filepath, verbose=True)  # directly loads epoched data\n",
            "<ipython-input-3-789131e0a5be>:4: RuntimeWarning: Estimated head radius (4.5 cm) is below the 3rd percentile for infant head size. Check if the montage_units argument is correct (the default is \"mm\", but your channel positions may be in different units).\n",
            "  epochs = mne.read_epochs_eeglab(filepath, verbose=True)  # directly loads epoched data\n"
          ]
        },
        {
          "output_type": "stream",
          "name": "stdout",
          "text": [
            "Not setting metadata\n",
            "81 matching events found\n",
            "No baseline correction applied\n",
            "0 projection items activated\n",
            "Ready.\n",
            "Processing p18_e2_preprocessed.set\n",
            "Extracting parameters from /content/drive/MyDrive/Preprocessed_datasets/dataset_preprocessed/env2_preprocessed_data/p18_e2_preprocessed.set...\n"
          ]
        },
        {
          "output_type": "stream",
          "name": "stderr",
          "text": [
            "<ipython-input-3-789131e0a5be>:4: RuntimeWarning: At least one epoch has multiple events. Only the latency of the first event will be retained.\n",
            "  epochs = mne.read_epochs_eeglab(filepath, verbose=True)  # directly loads epoched data\n",
            "<ipython-input-3-789131e0a5be>:4: RuntimeWarning: Estimated head radius (4.5 cm) is below the 3rd percentile for infant head size. Check if the montage_units argument is correct (the default is \"mm\", but your channel positions may be in different units).\n",
            "  epochs = mne.read_epochs_eeglab(filepath, verbose=True)  # directly loads epoched data\n"
          ]
        },
        {
          "output_type": "stream",
          "name": "stdout",
          "text": [
            "Not setting metadata\n",
            "88 matching events found\n",
            "No baseline correction applied\n",
            "0 projection items activated\n",
            "Ready.\n",
            "Processing p19_e2_preprocessed.set\n",
            "Extracting parameters from /content/drive/MyDrive/Preprocessed_datasets/dataset_preprocessed/env2_preprocessed_data/p19_e2_preprocessed.set...\n"
          ]
        },
        {
          "output_type": "stream",
          "name": "stderr",
          "text": [
            "<ipython-input-3-789131e0a5be>:4: RuntimeWarning: Estimated head radius (4.5 cm) is below the 3rd percentile for infant head size. Check if the montage_units argument is correct (the default is \"mm\", but your channel positions may be in different units).\n",
            "  epochs = mne.read_epochs_eeglab(filepath, verbose=True)  # directly loads epoched data\n"
          ]
        },
        {
          "output_type": "stream",
          "name": "stdout",
          "text": [
            "Not setting metadata\n",
            "56 matching events found\n",
            "No baseline correction applied\n",
            "0 projection items activated\n",
            "Ready.\n",
            "Processing p20_e2_preprocessed.set\n",
            "Extracting parameters from /content/drive/MyDrive/Preprocessed_datasets/dataset_preprocessed/env2_preprocessed_data/p20_e2_preprocessed.set...\n"
          ]
        },
        {
          "output_type": "stream",
          "name": "stderr",
          "text": [
            "<ipython-input-3-789131e0a5be>:4: RuntimeWarning: Estimated head radius (4.5 cm) is below the 3rd percentile for infant head size. Check if the montage_units argument is correct (the default is \"mm\", but your channel positions may be in different units).\n",
            "  epochs = mne.read_epochs_eeglab(filepath, verbose=True)  # directly loads epoched data\n"
          ]
        },
        {
          "output_type": "stream",
          "name": "stdout",
          "text": [
            "Not setting metadata\n",
            "71 matching events found\n",
            "No baseline correction applied\n",
            "0 projection items activated\n",
            "Ready.\n",
            "Processing p21_e2_preprocessed.set\n",
            "Extracting parameters from /content/drive/MyDrive/Preprocessed_datasets/dataset_preprocessed/env2_preprocessed_data/p21_e2_preprocessed.set...\n"
          ]
        },
        {
          "output_type": "stream",
          "name": "stderr",
          "text": [
            "<ipython-input-3-789131e0a5be>:4: RuntimeWarning: Estimated head radius (4.5 cm) is below the 3rd percentile for infant head size. Check if the montage_units argument is correct (the default is \"mm\", but your channel positions may be in different units).\n",
            "  epochs = mne.read_epochs_eeglab(filepath, verbose=True)  # directly loads epoched data\n"
          ]
        },
        {
          "output_type": "stream",
          "name": "stdout",
          "text": [
            "Not setting metadata\n",
            "77 matching events found\n",
            "No baseline correction applied\n",
            "0 projection items activated\n",
            "Ready.\n",
            "Processing p22_e2_preprocessed.set\n",
            "Extracting parameters from /content/drive/MyDrive/Preprocessed_datasets/dataset_preprocessed/env2_preprocessed_data/p22_e2_preprocessed.set...\n"
          ]
        },
        {
          "output_type": "stream",
          "name": "stderr",
          "text": [
            "<ipython-input-3-789131e0a5be>:4: RuntimeWarning: Estimated head radius (4.5 cm) is below the 3rd percentile for infant head size. Check if the montage_units argument is correct (the default is \"mm\", but your channel positions may be in different units).\n",
            "  epochs = mne.read_epochs_eeglab(filepath, verbose=True)  # directly loads epoched data\n"
          ]
        },
        {
          "output_type": "stream",
          "name": "stdout",
          "text": [
            "Not setting metadata\n",
            "61 matching events found\n",
            "No baseline correction applied\n",
            "0 projection items activated\n",
            "Ready.\n",
            "Processing p24_e2_preprocessed.set\n",
            "Extracting parameters from /content/drive/MyDrive/Preprocessed_datasets/dataset_preprocessed/env2_preprocessed_data/p24_e2_preprocessed.set...\n"
          ]
        },
        {
          "output_type": "stream",
          "name": "stderr",
          "text": [
            "<ipython-input-3-789131e0a5be>:4: RuntimeWarning: At least one epoch has multiple events. Only the latency of the first event will be retained.\n",
            "  epochs = mne.read_epochs_eeglab(filepath, verbose=True)  # directly loads epoched data\n",
            "<ipython-input-3-789131e0a5be>:4: RuntimeWarning: Estimated head radius (4.5 cm) is below the 3rd percentile for infant head size. Check if the montage_units argument is correct (the default is \"mm\", but your channel positions may be in different units).\n",
            "  epochs = mne.read_epochs_eeglab(filepath, verbose=True)  # directly loads epoched data\n"
          ]
        },
        {
          "output_type": "stream",
          "name": "stdout",
          "text": [
            "Not setting metadata\n",
            "74 matching events found\n",
            "No baseline correction applied\n",
            "0 projection items activated\n",
            "Ready.\n",
            "Processing p25_e2_preprocessed.set\n",
            "Extracting parameters from /content/drive/MyDrive/Preprocessed_datasets/dataset_preprocessed/env2_preprocessed_data/p25_e2_preprocessed.set...\n"
          ]
        },
        {
          "output_type": "stream",
          "name": "stderr",
          "text": [
            "<ipython-input-3-789131e0a5be>:4: RuntimeWarning: At least one epoch has multiple events. Only the latency of the first event will be retained.\n",
            "  epochs = mne.read_epochs_eeglab(filepath, verbose=True)  # directly loads epoched data\n",
            "<ipython-input-3-789131e0a5be>:4: RuntimeWarning: Estimated head radius (4.5 cm) is below the 3rd percentile for infant head size. Check if the montage_units argument is correct (the default is \"mm\", but your channel positions may be in different units).\n",
            "  epochs = mne.read_epochs_eeglab(filepath, verbose=True)  # directly loads epoched data\n"
          ]
        },
        {
          "output_type": "stream",
          "name": "stdout",
          "text": [
            "Not setting metadata\n",
            "81 matching events found\n",
            "No baseline correction applied\n",
            "0 projection items activated\n",
            "Ready.\n",
            "Processing p26_e2_preprocessed.set\n",
            "Extracting parameters from /content/drive/MyDrive/Preprocessed_datasets/dataset_preprocessed/env2_preprocessed_data/p26_e2_preprocessed.set...\n"
          ]
        },
        {
          "output_type": "stream",
          "name": "stderr",
          "text": [
            "<ipython-input-3-789131e0a5be>:4: RuntimeWarning: Estimated head radius (4.5 cm) is below the 3rd percentile for infant head size. Check if the montage_units argument is correct (the default is \"mm\", but your channel positions may be in different units).\n",
            "  epochs = mne.read_epochs_eeglab(filepath, verbose=True)  # directly loads epoched data\n"
          ]
        },
        {
          "output_type": "stream",
          "name": "stdout",
          "text": [
            "Not setting metadata\n",
            "82 matching events found\n",
            "No baseline correction applied\n",
            "0 projection items activated\n",
            "Ready.\n",
            "Processing p27_e2_preprocessed.set\n",
            "Extracting parameters from /content/drive/MyDrive/Preprocessed_datasets/dataset_preprocessed/env2_preprocessed_data/p27_e2_preprocessed.set...\n"
          ]
        },
        {
          "output_type": "stream",
          "name": "stderr",
          "text": [
            "<ipython-input-3-789131e0a5be>:4: RuntimeWarning: Estimated head radius (4.5 cm) is below the 3rd percentile for infant head size. Check if the montage_units argument is correct (the default is \"mm\", but your channel positions may be in different units).\n",
            "  epochs = mne.read_epochs_eeglab(filepath, verbose=True)  # directly loads epoched data\n"
          ]
        },
        {
          "output_type": "stream",
          "name": "stdout",
          "text": [
            "Not setting metadata\n",
            "76 matching events found\n",
            "No baseline correction applied\n",
            "0 projection items activated\n",
            "Ready.\n",
            "Processing p28_e2_preprocessed.set\n",
            "Extracting parameters from /content/drive/MyDrive/Preprocessed_datasets/dataset_preprocessed/env2_preprocessed_data/p28_e2_preprocessed.set...\n"
          ]
        },
        {
          "output_type": "stream",
          "name": "stderr",
          "text": [
            "<ipython-input-3-789131e0a5be>:4: RuntimeWarning: Estimated head radius (4.5 cm) is below the 3rd percentile for infant head size. Check if the montage_units argument is correct (the default is \"mm\", but your channel positions may be in different units).\n",
            "  epochs = mne.read_epochs_eeglab(filepath, verbose=True)  # directly loads epoched data\n"
          ]
        },
        {
          "output_type": "stream",
          "name": "stdout",
          "text": [
            "Not setting metadata\n",
            "71 matching events found\n",
            "No baseline correction applied\n",
            "0 projection items activated\n",
            "Ready.\n",
            "Processing p29_e2_preprocessed.set\n",
            "Extracting parameters from /content/drive/MyDrive/Preprocessed_datasets/dataset_preprocessed/env2_preprocessed_data/p29_e2_preprocessed.set...\n"
          ]
        },
        {
          "output_type": "stream",
          "name": "stderr",
          "text": [
            "<ipython-input-3-789131e0a5be>:4: RuntimeWarning: Estimated head radius (4.5 cm) is below the 3rd percentile for infant head size. Check if the montage_units argument is correct (the default is \"mm\", but your channel positions may be in different units).\n",
            "  epochs = mne.read_epochs_eeglab(filepath, verbose=True)  # directly loads epoched data\n"
          ]
        },
        {
          "output_type": "stream",
          "name": "stdout",
          "text": [
            "Not setting metadata\n",
            "82 matching events found\n",
            "No baseline correction applied\n",
            "0 projection items activated\n",
            "Ready.\n",
            "Processing p30_e2_preprocessed.set\n",
            "Extracting parameters from /content/drive/MyDrive/Preprocessed_datasets/dataset_preprocessed/env2_preprocessed_data/p30_e2_preprocessed.set...\n"
          ]
        },
        {
          "output_type": "stream",
          "name": "stderr",
          "text": [
            "<ipython-input-3-789131e0a5be>:4: RuntimeWarning: Estimated head radius (4.5 cm) is below the 3rd percentile for infant head size. Check if the montage_units argument is correct (the default is \"mm\", but your channel positions may be in different units).\n",
            "  epochs = mne.read_epochs_eeglab(filepath, verbose=True)  # directly loads epoched data\n"
          ]
        },
        {
          "output_type": "stream",
          "name": "stdout",
          "text": [
            "Not setting metadata\n",
            "82 matching events found\n",
            "No baseline correction applied\n",
            "0 projection items activated\n",
            "Ready.\n",
            "Processing p31_e2_preprocessed.set\n",
            "Extracting parameters from /content/drive/MyDrive/Preprocessed_datasets/dataset_preprocessed/env2_preprocessed_data/p31_e2_preprocessed.set...\n"
          ]
        },
        {
          "output_type": "stream",
          "name": "stderr",
          "text": [
            "<ipython-input-3-789131e0a5be>:4: RuntimeWarning: At least one epoch has multiple events. Only the latency of the first event will be retained.\n",
            "  epochs = mne.read_epochs_eeglab(filepath, verbose=True)  # directly loads epoched data\n",
            "<ipython-input-3-789131e0a5be>:4: RuntimeWarning: Estimated head radius (4.5 cm) is below the 3rd percentile for infant head size. Check if the montage_units argument is correct (the default is \"mm\", but your channel positions may be in different units).\n",
            "  epochs = mne.read_epochs_eeglab(filepath, verbose=True)  # directly loads epoched data\n"
          ]
        },
        {
          "output_type": "stream",
          "name": "stdout",
          "text": [
            "Not setting metadata\n",
            "68 matching events found\n",
            "No baseline correction applied\n",
            "0 projection items activated\n",
            "Ready.\n",
            "Processing p32_e2_preprocessed.set\n",
            "Extracting parameters from /content/drive/MyDrive/Preprocessed_datasets/dataset_preprocessed/env2_preprocessed_data/p32_e2_preprocessed.set...\n"
          ]
        },
        {
          "output_type": "stream",
          "name": "stderr",
          "text": [
            "<ipython-input-3-789131e0a5be>:4: RuntimeWarning: At least one epoch has multiple events. Only the latency of the first event will be retained.\n",
            "  epochs = mne.read_epochs_eeglab(filepath, verbose=True)  # directly loads epoched data\n",
            "<ipython-input-3-789131e0a5be>:4: RuntimeWarning: Estimated head radius (4.5 cm) is below the 3rd percentile for infant head size. Check if the montage_units argument is correct (the default is \"mm\", but your channel positions may be in different units).\n",
            "  epochs = mne.read_epochs_eeglab(filepath, verbose=True)  # directly loads epoched data\n"
          ]
        },
        {
          "output_type": "stream",
          "name": "stdout",
          "text": [
            "Not setting metadata\n",
            "64 matching events found\n",
            "No baseline correction applied\n",
            "0 projection items activated\n",
            "Ready.\n",
            "Processing p33_e2_preprocessed.set\n",
            "Extracting parameters from /content/drive/MyDrive/Preprocessed_datasets/dataset_preprocessed/env2_preprocessed_data/p33_e2_preprocessed.set...\n"
          ]
        },
        {
          "output_type": "stream",
          "name": "stderr",
          "text": [
            "<ipython-input-3-789131e0a5be>:4: RuntimeWarning: At least one epoch has multiple events. Only the latency of the first event will be retained.\n",
            "  epochs = mne.read_epochs_eeglab(filepath, verbose=True)  # directly loads epoched data\n",
            "<ipython-input-3-789131e0a5be>:4: RuntimeWarning: Estimated head radius (4.5 cm) is below the 3rd percentile for infant head size. Check if the montage_units argument is correct (the default is \"mm\", but your channel positions may be in different units).\n",
            "  epochs = mne.read_epochs_eeglab(filepath, verbose=True)  # directly loads epoched data\n"
          ]
        },
        {
          "output_type": "stream",
          "name": "stdout",
          "text": [
            "Not setting metadata\n",
            "58 matching events found\n",
            "No baseline correction applied\n",
            "0 projection items activated\n",
            "Ready.\n",
            "Processing p34_e2_preprocessed.set\n",
            "Extracting parameters from /content/drive/MyDrive/Preprocessed_datasets/dataset_preprocessed/env2_preprocessed_data/p34_e2_preprocessed.set...\n"
          ]
        },
        {
          "output_type": "stream",
          "name": "stderr",
          "text": [
            "<ipython-input-3-789131e0a5be>:4: RuntimeWarning: Estimated head radius (4.5 cm) is below the 3rd percentile for infant head size. Check if the montage_units argument is correct (the default is \"mm\", but your channel positions may be in different units).\n",
            "  epochs = mne.read_epochs_eeglab(filepath, verbose=True)  # directly loads epoched data\n"
          ]
        },
        {
          "output_type": "stream",
          "name": "stdout",
          "text": [
            "Not setting metadata\n",
            "67 matching events found\n",
            "No baseline correction applied\n",
            "0 projection items activated\n",
            "Ready.\n",
            "Processing p35_e2_preprocessed.set\n",
            "Extracting parameters from /content/drive/MyDrive/Preprocessed_datasets/dataset_preprocessed/env2_preprocessed_data/p35_e2_preprocessed.set...\n"
          ]
        },
        {
          "output_type": "stream",
          "name": "stderr",
          "text": [
            "<ipython-input-3-789131e0a5be>:4: RuntimeWarning: Estimated head radius (4.5 cm) is below the 3rd percentile for infant head size. Check if the montage_units argument is correct (the default is \"mm\", but your channel positions may be in different units).\n",
            "  epochs = mne.read_epochs_eeglab(filepath, verbose=True)  # directly loads epoched data\n"
          ]
        },
        {
          "output_type": "stream",
          "name": "stdout",
          "text": [
            "Not setting metadata\n",
            "78 matching events found\n",
            "No baseline correction applied\n",
            "0 projection items activated\n",
            "Ready.\n",
            "Processing p36_e2_preprocessed.set\n",
            "Extracting parameters from /content/drive/MyDrive/Preprocessed_datasets/dataset_preprocessed/env2_preprocessed_data/p36_e2_preprocessed.set...\n"
          ]
        },
        {
          "output_type": "stream",
          "name": "stderr",
          "text": [
            "<ipython-input-3-789131e0a5be>:4: RuntimeWarning: At least one epoch has multiple events. Only the latency of the first event will be retained.\n",
            "  epochs = mne.read_epochs_eeglab(filepath, verbose=True)  # directly loads epoched data\n",
            "<ipython-input-3-789131e0a5be>:4: RuntimeWarning: Estimated head radius (4.5 cm) is below the 3rd percentile for infant head size. Check if the montage_units argument is correct (the default is \"mm\", but your channel positions may be in different units).\n",
            "  epochs = mne.read_epochs_eeglab(filepath, verbose=True)  # directly loads epoched data\n"
          ]
        },
        {
          "output_type": "stream",
          "name": "stdout",
          "text": [
            "Not setting metadata\n",
            "83 matching events found\n",
            "No baseline correction applied\n",
            "0 projection items activated\n",
            "Ready.\n",
            "Processing p37_e2_preprocessed.set\n",
            "Extracting parameters from /content/drive/MyDrive/Preprocessed_datasets/dataset_preprocessed/env2_preprocessed_data/p37_e2_preprocessed.set...\n"
          ]
        },
        {
          "output_type": "stream",
          "name": "stderr",
          "text": [
            "<ipython-input-3-789131e0a5be>:4: RuntimeWarning: Estimated head radius (4.5 cm) is below the 3rd percentile for infant head size. Check if the montage_units argument is correct (the default is \"mm\", but your channel positions may be in different units).\n",
            "  epochs = mne.read_epochs_eeglab(filepath, verbose=True)  # directly loads epoched data\n"
          ]
        },
        {
          "output_type": "stream",
          "name": "stdout",
          "text": [
            "Not setting metadata\n",
            "48 matching events found\n",
            "No baseline correction applied\n",
            "0 projection items activated\n",
            "Ready.\n",
            "Processing p38_e2_preprocessed.set\n",
            "Extracting parameters from /content/drive/MyDrive/Preprocessed_datasets/dataset_preprocessed/env2_preprocessed_data/p38_e2_preprocessed.set...\n"
          ]
        },
        {
          "output_type": "stream",
          "name": "stderr",
          "text": [
            "<ipython-input-3-789131e0a5be>:4: RuntimeWarning: Estimated head radius (4.5 cm) is below the 3rd percentile for infant head size. Check if the montage_units argument is correct (the default is \"mm\", but your channel positions may be in different units).\n",
            "  epochs = mne.read_epochs_eeglab(filepath, verbose=True)  # directly loads epoched data\n"
          ]
        },
        {
          "output_type": "stream",
          "name": "stdout",
          "text": [
            "Not setting metadata\n",
            "66 matching events found\n",
            "No baseline correction applied\n",
            "0 projection items activated\n",
            "Ready.\n",
            "Processing p39_e2_preprocessed.set\n",
            "Extracting parameters from /content/drive/MyDrive/Preprocessed_datasets/dataset_preprocessed/env2_preprocessed_data/p39_e2_preprocessed.set...\n"
          ]
        },
        {
          "output_type": "stream",
          "name": "stderr",
          "text": [
            "<ipython-input-3-789131e0a5be>:4: RuntimeWarning: Estimated head radius (4.5 cm) is below the 3rd percentile for infant head size. Check if the montage_units argument is correct (the default is \"mm\", but your channel positions may be in different units).\n",
            "  epochs = mne.read_epochs_eeglab(filepath, verbose=True)  # directly loads epoched data\n"
          ]
        },
        {
          "output_type": "stream",
          "name": "stdout",
          "text": [
            "Not setting metadata\n",
            "59 matching events found\n",
            "No baseline correction applied\n",
            "0 projection items activated\n",
            "Ready.\n",
            "Processing p40_e2_preprocessed.set\n",
            "Extracting parameters from /content/drive/MyDrive/Preprocessed_datasets/dataset_preprocessed/env2_preprocessed_data/p40_e2_preprocessed.set...\n"
          ]
        },
        {
          "output_type": "stream",
          "name": "stderr",
          "text": [
            "<ipython-input-3-789131e0a5be>:4: RuntimeWarning: Estimated head radius (4.5 cm) is below the 3rd percentile for infant head size. Check if the montage_units argument is correct (the default is \"mm\", but your channel positions may be in different units).\n",
            "  epochs = mne.read_epochs_eeglab(filepath, verbose=True)  # directly loads epoched data\n"
          ]
        },
        {
          "output_type": "stream",
          "name": "stdout",
          "text": [
            "Not setting metadata\n",
            "79 matching events found\n",
            "No baseline correction applied\n",
            "0 projection items activated\n",
            "Ready.\n",
            "Processing p41_e2_preprocessed.set\n",
            "Extracting parameters from /content/drive/MyDrive/Preprocessed_datasets/dataset_preprocessed/env2_preprocessed_data/p41_e2_preprocessed.set...\n"
          ]
        },
        {
          "output_type": "stream",
          "name": "stderr",
          "text": [
            "<ipython-input-3-789131e0a5be>:4: RuntimeWarning: Estimated head radius (4.5 cm) is below the 3rd percentile for infant head size. Check if the montage_units argument is correct (the default is \"mm\", but your channel positions may be in different units).\n",
            "  epochs = mne.read_epochs_eeglab(filepath, verbose=True)  # directly loads epoched data\n"
          ]
        },
        {
          "output_type": "stream",
          "name": "stdout",
          "text": [
            "Not setting metadata\n",
            "61 matching events found\n",
            "No baseline correction applied\n",
            "0 projection items activated\n",
            "Ready.\n",
            "Processing p42_e2_preprocessed.set\n",
            "Extracting parameters from /content/drive/MyDrive/Preprocessed_datasets/dataset_preprocessed/env2_preprocessed_data/p42_e2_preprocessed.set...\n"
          ]
        },
        {
          "output_type": "stream",
          "name": "stderr",
          "text": [
            "<ipython-input-3-789131e0a5be>:4: RuntimeWarning: Estimated head radius (4.5 cm) is below the 3rd percentile for infant head size. Check if the montage_units argument is correct (the default is \"mm\", but your channel positions may be in different units).\n",
            "  epochs = mne.read_epochs_eeglab(filepath, verbose=True)  # directly loads epoched data\n"
          ]
        },
        {
          "output_type": "stream",
          "name": "stdout",
          "text": [
            "Not setting metadata\n",
            "76 matching events found\n",
            "No baseline correction applied\n",
            "0 projection items activated\n",
            "Ready.\n",
            "Processing p43_e2_preprocessed.set\n",
            "Extracting parameters from /content/drive/MyDrive/Preprocessed_datasets/dataset_preprocessed/env2_preprocessed_data/p43_e2_preprocessed.set...\n"
          ]
        },
        {
          "output_type": "stream",
          "name": "stderr",
          "text": [
            "<ipython-input-3-789131e0a5be>:4: RuntimeWarning: Estimated head radius (4.5 cm) is below the 3rd percentile for infant head size. Check if the montage_units argument is correct (the default is \"mm\", but your channel positions may be in different units).\n",
            "  epochs = mne.read_epochs_eeglab(filepath, verbose=True)  # directly loads epoched data\n"
          ]
        },
        {
          "output_type": "stream",
          "name": "stdout",
          "text": [
            "Not setting metadata\n",
            "82 matching events found\n",
            "No baseline correction applied\n",
            "0 projection items activated\n",
            "Ready.\n",
            "Processing p44_e2_preprocessed.set\n",
            "Extracting parameters from /content/drive/MyDrive/Preprocessed_datasets/dataset_preprocessed/env2_preprocessed_data/p44_e2_preprocessed.set...\n"
          ]
        },
        {
          "output_type": "stream",
          "name": "stderr",
          "text": [
            "<ipython-input-3-789131e0a5be>:4: RuntimeWarning: Estimated head radius (4.5 cm) is below the 3rd percentile for infant head size. Check if the montage_units argument is correct (the default is \"mm\", but your channel positions may be in different units).\n",
            "  epochs = mne.read_epochs_eeglab(filepath, verbose=True)  # directly loads epoched data\n"
          ]
        },
        {
          "output_type": "stream",
          "name": "stdout",
          "text": [
            "Not setting metadata\n",
            "69 matching events found\n",
            "No baseline correction applied\n",
            "0 projection items activated\n",
            "Ready.\n",
            "Processing p45_e2_preprocessed.set\n",
            "Extracting parameters from /content/drive/MyDrive/Preprocessed_datasets/dataset_preprocessed/env2_preprocessed_data/p45_e2_preprocessed.set...\n"
          ]
        },
        {
          "output_type": "stream",
          "name": "stderr",
          "text": [
            "<ipython-input-3-789131e0a5be>:4: RuntimeWarning: Estimated head radius (4.5 cm) is below the 3rd percentile for infant head size. Check if the montage_units argument is correct (the default is \"mm\", but your channel positions may be in different units).\n",
            "  epochs = mne.read_epochs_eeglab(filepath, verbose=True)  # directly loads epoched data\n"
          ]
        },
        {
          "output_type": "stream",
          "name": "stdout",
          "text": [
            "Not setting metadata\n",
            "75 matching events found\n",
            "No baseline correction applied\n",
            "0 projection items activated\n",
            "Ready.\n",
            "Processing p46_e2_preprocessed.set\n",
            "Extracting parameters from /content/drive/MyDrive/Preprocessed_datasets/dataset_preprocessed/env2_preprocessed_data/p46_e2_preprocessed.set...\n"
          ]
        },
        {
          "output_type": "stream",
          "name": "stderr",
          "text": [
            "<ipython-input-3-789131e0a5be>:4: RuntimeWarning: Estimated head radius (4.5 cm) is below the 3rd percentile for infant head size. Check if the montage_units argument is correct (the default is \"mm\", but your channel positions may be in different units).\n",
            "  epochs = mne.read_epochs_eeglab(filepath, verbose=True)  # directly loads epoched data\n"
          ]
        },
        {
          "output_type": "stream",
          "name": "stdout",
          "text": [
            "Not setting metadata\n",
            "82 matching events found\n",
            "No baseline correction applied\n",
            "0 projection items activated\n",
            "Ready.\n",
            "Processing p47_e2_preprocessed.set\n",
            "Extracting parameters from /content/drive/MyDrive/Preprocessed_datasets/dataset_preprocessed/env2_preprocessed_data/p47_e2_preprocessed.set...\n"
          ]
        },
        {
          "output_type": "stream",
          "name": "stderr",
          "text": [
            "<ipython-input-3-789131e0a5be>:4: RuntimeWarning: Estimated head radius (4.5 cm) is below the 3rd percentile for infant head size. Check if the montage_units argument is correct (the default is \"mm\", but your channel positions may be in different units).\n",
            "  epochs = mne.read_epochs_eeglab(filepath, verbose=True)  # directly loads epoched data\n"
          ]
        },
        {
          "output_type": "stream",
          "name": "stdout",
          "text": [
            "Not setting metadata\n",
            "65 matching events found\n",
            "No baseline correction applied\n",
            "0 projection items activated\n",
            "Ready.\n",
            "Processing p48_e2_preprocessed.set\n",
            "Extracting parameters from /content/drive/MyDrive/Preprocessed_datasets/dataset_preprocessed/env2_preprocessed_data/p48_e2_preprocessed.set...\n"
          ]
        },
        {
          "output_type": "stream",
          "name": "stderr",
          "text": [
            "<ipython-input-3-789131e0a5be>:4: RuntimeWarning: Estimated head radius (4.5 cm) is below the 3rd percentile for infant head size. Check if the montage_units argument is correct (the default is \"mm\", but your channel positions may be in different units).\n",
            "  epochs = mne.read_epochs_eeglab(filepath, verbose=True)  # directly loads epoched data\n"
          ]
        },
        {
          "output_type": "stream",
          "name": "stdout",
          "text": [
            "Not setting metadata\n",
            "64 matching events found\n",
            "No baseline correction applied\n",
            "0 projection items activated\n",
            "Ready.\n",
            "Processing p49_e2_preprocessed.set\n",
            "Extracting parameters from /content/drive/MyDrive/Preprocessed_datasets/dataset_preprocessed/env2_preprocessed_data/p49_e2_preprocessed.set...\n"
          ]
        },
        {
          "output_type": "stream",
          "name": "stderr",
          "text": [
            "<ipython-input-3-789131e0a5be>:4: RuntimeWarning: Estimated head radius (4.5 cm) is below the 3rd percentile for infant head size. Check if the montage_units argument is correct (the default is \"mm\", but your channel positions may be in different units).\n",
            "  epochs = mne.read_epochs_eeglab(filepath, verbose=True)  # directly loads epoched data\n"
          ]
        },
        {
          "output_type": "stream",
          "name": "stdout",
          "text": [
            "Not setting metadata\n",
            "67 matching events found\n",
            "No baseline correction applied\n",
            "0 projection items activated\n",
            "Ready.\n",
            "Processing p50_e2_preprocessed.set\n",
            "Extracting parameters from /content/drive/MyDrive/Preprocessed_datasets/dataset_preprocessed/env2_preprocessed_data/p50_e2_preprocessed.set...\n"
          ]
        },
        {
          "output_type": "stream",
          "name": "stderr",
          "text": [
            "<ipython-input-3-789131e0a5be>:4: RuntimeWarning: Estimated head radius (4.5 cm) is below the 3rd percentile for infant head size. Check if the montage_units argument is correct (the default is \"mm\", but your channel positions may be in different units).\n",
            "  epochs = mne.read_epochs_eeglab(filepath, verbose=True)  # directly loads epoched data\n"
          ]
        },
        {
          "output_type": "stream",
          "name": "stdout",
          "text": [
            "Not setting metadata\n",
            "48 matching events found\n",
            "No baseline correction applied\n",
            "0 projection items activated\n",
            "Ready.\n",
            "Processing p51_e2_preprocessed.set\n",
            "Extracting parameters from /content/drive/MyDrive/Preprocessed_datasets/dataset_preprocessed/env2_preprocessed_data/p51_e2_preprocessed.set...\n"
          ]
        },
        {
          "output_type": "stream",
          "name": "stderr",
          "text": [
            "<ipython-input-3-789131e0a5be>:4: RuntimeWarning: At least one epoch has multiple events. Only the latency of the first event will be retained.\n",
            "  epochs = mne.read_epochs_eeglab(filepath, verbose=True)  # directly loads epoched data\n",
            "<ipython-input-3-789131e0a5be>:4: RuntimeWarning: Estimated head radius (4.5 cm) is below the 3rd percentile for infant head size. Check if the montage_units argument is correct (the default is \"mm\", but your channel positions may be in different units).\n",
            "  epochs = mne.read_epochs_eeglab(filepath, verbose=True)  # directly loads epoched data\n"
          ]
        },
        {
          "output_type": "stream",
          "name": "stdout",
          "text": [
            "Not setting metadata\n",
            "82 matching events found\n",
            "No baseline correction applied\n",
            "0 projection items activated\n",
            "Ready.\n",
            "Processing p53_e2_preprocessed.set\n",
            "Extracting parameters from /content/drive/MyDrive/Preprocessed_datasets/dataset_preprocessed/env2_preprocessed_data/p53_e2_preprocessed.set...\n"
          ]
        },
        {
          "output_type": "stream",
          "name": "stderr",
          "text": [
            "<ipython-input-3-789131e0a5be>:4: RuntimeWarning: Estimated head radius (4.5 cm) is below the 3rd percentile for infant head size. Check if the montage_units argument is correct (the default is \"mm\", but your channel positions may be in different units).\n",
            "  epochs = mne.read_epochs_eeglab(filepath, verbose=True)  # directly loads epoched data\n"
          ]
        },
        {
          "output_type": "stream",
          "name": "stdout",
          "text": [
            "Not setting metadata\n",
            "74 matching events found\n",
            "No baseline correction applied\n",
            "0 projection items activated\n",
            "Ready.\n",
            "Processing p54_e2_preprocessed.set\n",
            "Extracting parameters from /content/drive/MyDrive/Preprocessed_datasets/dataset_preprocessed/env2_preprocessed_data/p54_e2_preprocessed.set...\n"
          ]
        },
        {
          "output_type": "stream",
          "name": "stderr",
          "text": [
            "<ipython-input-3-789131e0a5be>:4: RuntimeWarning: At least one epoch has multiple events. Only the latency of the first event will be retained.\n",
            "  epochs = mne.read_epochs_eeglab(filepath, verbose=True)  # directly loads epoched data\n",
            "<ipython-input-3-789131e0a5be>:4: RuntimeWarning: Estimated head radius (4.5 cm) is below the 3rd percentile for infant head size. Check if the montage_units argument is correct (the default is \"mm\", but your channel positions may be in different units).\n",
            "  epochs = mne.read_epochs_eeglab(filepath, verbose=True)  # directly loads epoched data\n"
          ]
        },
        {
          "output_type": "stream",
          "name": "stdout",
          "text": [
            "Not setting metadata\n",
            "80 matching events found\n",
            "No baseline correction applied\n",
            "0 projection items activated\n",
            "Ready.\n",
            "Final shape: (3593, 1, 26, 275) (3593,)\n"
          ]
        }
      ]
    },
    {
      "cell_type": "code",
      "source": [
        "np.save(\"X_e2_all.npy\", X_all)\n",
        "np.save(\"y_e2_all.npy\", y_all)"
      ],
      "metadata": {
        "id": "AqUn92STaTCa"
      },
      "execution_count": null,
      "outputs": []
    },
    {
      "cell_type": "code",
      "source": [
        "from sklearn.preprocessing import LabelEncoder\n",
        "\n",
        "le = LabelEncoder()\n",
        "y_encoded = le.fit_transform(y_all)  # 'low' -> 0, 'high' -> 1\n"
      ],
      "metadata": {
        "id": "iMx0G6IhaS_z"
      },
      "execution_count": null,
      "outputs": []
    },
    {
      "cell_type": "markdown",
      "source": [
        "**Train - Test Spliting**"
      ],
      "metadata": {
        "id": "M4i8tOUJ8MMe"
      }
    },
    {
      "cell_type": "code",
      "source": [
        "#train/Split\n",
        "from sklearn.model_selection import train_test_split\n",
        "\n",
        "X_train, X_test, y_train, y_test = train_test_split(\n",
        "    X_all, y_encoded, test_size=0.2, random_state=42, stratify=y_encoded\n",
        ")\n"
      ],
      "metadata": {
        "id": "CyCCf8XBaS9I"
      },
      "execution_count": null,
      "outputs": []
    },
    {
      "cell_type": "code",
      "source": [
        "from keras.models import Model\n",
        "from keras.layers import Input, Conv2D, DepthwiseConv2D, SeparableConv2D\n",
        "from keras.layers import BatchNormalization, Activation, AveragePooling2D, Dropout, Flatten, Dense\n",
        "from keras.regularizers import l2\n",
        "from keras.callbacks import EarlyStopping\n"
      ],
      "metadata": {
        "id": "kjD0wXLhaS6H"
      },
      "execution_count": null,
      "outputs": []
    },
    {
      "cell_type": "markdown",
      "source": [
        "### EEGNet_v2: Compact CNN for EEG Classification\n",
        "\n",
        "This function defines a lightweight convolutional neural network architecture specifically designed for EEG signal classification.  \n",
        "The model expects EEG input in **channels-first** format: **(1, Channels, Samples)**.\n",
        "\n",
        "**Architecture Breakdown:**\n",
        "\n",
        "1. **Input Layer**  \n",
        "   - Input shape: (1, Chans, Samples)  \n",
        "   - EEG signals with one temporal dimension\n",
        "\n",
        "2. **Block 1 – Temporal Convolution**  \n",
        "   - Conv2D with kernel size (1 × kernLength)  \n",
        "   - Captures temporal frequency features\n",
        "\n",
        "3. **Block 2 – Depthwise Spatial Convolution**  \n",
        "   - DepthwiseConv2D with (Chans × 1)  \n",
        "   - Learns spatial filters per channel  \n",
        "   - Followed by BatchNorm, ELU activation, and pooling\n",
        "\n",
        "4. **Block 3 – Separable Convolution**  \n",
        "   - Combines depthwise + pointwise convolution  \n",
        "   - Efficient fusion of spatial-temporal features  \n",
        "   - Followed by BatchNorm, ELU, pooling, and dropout\n",
        "\n",
        "5. **Block 4 – Deeper Separable Convolution**  \n",
        "   - Further refines learned representations  \n",
        "   - Same structure: SeparableConv → BN → ELU → Pool → Dropout\n",
        "\n",
        "6. **Classifier**  \n",
        "   - Flattened features pass through a Dense layer  \n",
        "   - Final layer: Softmax output for `nb_classes` classification\n",
        "\n",
        "7.   **Alternate Classifier**\n",
        "   - Flattened Features: The output from the previous layers is flattened to a 1D vector.\n",
        "\n",
        "   - Intermediate Dense Layer:\n",
        "\n",
        "      - Fully connected layer with 128 units and ReLU activation.\n",
        "\n",
        "      - This layer helps in better abstraction of features.\n",
        "\n",
        "  - Second Dense Layer:\n",
        "\n",
        "      - Fully connected layer with 64 units and ReLU activation.\n",
        "\n",
        "      - Further extraction of meaningful patterns.\n",
        "\n",
        "  - Final Layer:\n",
        "\n",
        "      - Softmax Activation is applied with nb_classes (e.g., 2 for binary classification).\n",
        "\n",
        "      - Produces probabilities for each class to make the final classification.\n",
        "\n",
        "> Designed for compactness and efficiency — suitable for real-time BCI and EEG-based applications.\n"
      ],
      "metadata": {
        "id": "40Ww-yIH9gB0"
      }
    },
    {
      "cell_type": "code",
      "source": [
        "from tensorflow.keras.models import Model\n",
        "from tensorflow.keras.layers import Input, Conv2D, DepthwiseConv2D, SeparableConv2D, BatchNormalization, Activation, AveragePooling2D, Dropout, Flatten, Dense\n",
        "from tensorflow.keras.regularizers import l2\n",
        "\n",
        "def EEGNet_v2(nb_classes, Chans=26, Samples=275,\n",
        "              dropoutRate=0.4, kernLength=16, F1=16, D=2, F2=32, norm_rate=0.25):\n",
        "\n",
        "    input1 = Input(shape=(1, Chans, Samples))  # channels_first format\n",
        "\n",
        "    # Block 1 - Temporal Convolution\n",
        "    block1 = Conv2D(F1, (1, kernLength), padding='same', use_bias=False,\n",
        "                    kernel_regularizer=l2(0.001))(input1)\n",
        "    block1 = BatchNormalization()(block1)\n",
        "\n",
        "    # Block 2 - Depthwise Convolution (spatial)\n",
        "    block2 = DepthwiseConv2D((Chans, 1), depth_multiplier=D, use_bias=False,\n",
        "                             depthwise_regularizer=l2(0.001), padding='same')(block1)\n",
        "    block2 = BatchNormalization()(block2)\n",
        "    block2 = Activation('elu')(block2)\n",
        "    block2 = AveragePooling2D((1, 2))(block2)\n",
        "    block2 = Dropout(dropoutRate)(block2)\n",
        "\n",
        "    # Block 3 - Separable Convolution\n",
        "    block3 = SeparableConv2D(F2, (1, 8), use_bias=False, padding='same')(block2)\n",
        "    block3 = BatchNormalization()(block3)\n",
        "    block3 = Activation('elu')(block3)\n",
        "    block3 = AveragePooling2D((1, 2))(block3)\n",
        "    block3 = Dropout(dropoutRate)(block3)\n",
        "\n",
        "    # Block 4 - for deeper features\n",
        "    block4 = SeparableConv2D(F2, (1, 4), use_bias=False, padding='same')(block3)\n",
        "    block4 = BatchNormalization()(block4)\n",
        "    block4 = Activation('elu')(block4)\n",
        "    block4 = AveragePooling2D((1, 2))(block4)\n",
        "    block4 = Dropout(dropoutRate)(block4)\n",
        "\n",
        "    # Final classifier\n",
        "    flatten = Flatten(name='flatten')(block4)\n",
        "    dense = Dense(64, activation='relu')(flatten)\n",
        "    output = Dense(nb_classes, activation='softmax', name='output')(dense)\n",
        "\n",
        "    # # Alternative Classifier Block - Using a different classifier\n",
        "    # flatten = Flatten(name='flatten')(block4)\n",
        "    # mlp_classifier = Dense(128, activation='tanh')(flatten)  #MLP with tanh activation\n",
        "    # mlp_classifier = Dropout(dropoutRate)(mlp_classifier)\n",
        "    # output = Dense(nb_classes, activation='softmax', name='output')(mlp_classifier)  # Final output layer\n",
        "\n",
        "    return Model(inputs=input1, outputs=output)\n"
      ],
      "metadata": {
        "id": "xVhIA2tcaSwM"
      },
      "execution_count": null,
      "outputs": []
    },
    {
      "cell_type": "markdown",
      "source": [
        "# Convert class labels to one-hot encoded format for training with categorical crossentropy\n"
      ],
      "metadata": {
        "id": "8XR2TLP--0JS"
      }
    },
    {
      "cell_type": "code",
      "source": [
        "from tensorflow.keras.utils import to_categorical\n",
        "y_train_cat = to_categorical(y_train)\n",
        "y_test_cat = to_categorical(y_test)\n"
      ],
      "metadata": {
        "id": "cqFMdHdiaSe9"
      },
      "execution_count": null,
      "outputs": []
    },
    {
      "cell_type": "markdown",
      "source": [
        "### EEGNet Training Setup\n",
        "\n",
        "- **Model Compilation**  \n",
        "  EEGNet is compiled with the Adam optimizer and categorical crossentropy loss, suitable for multi-class classification with one-hot encoded labels.\n",
        "\n",
        "- **Callbacks**  \n",
        "  - *EarlyStopping:* Stops training early if the validation loss doesn't improve for 50 epochs.  \n",
        "  - *ReduceLROnPlateau:* Reduces the learning rate by half if validation loss plateaus for 5 epochs, with a lower bound of 1e-7.\n",
        "\n",
        "- **Training Parameters**  \n",
        "  - Maximum of 200 epochs  \n",
        "  - Batch size of 32  \n",
        "  - Uses `validation_data` to monitor generalization during training\n"
      ],
      "metadata": {
        "id": "XE2wvYHW_KJI"
      }
    },
    {
      "cell_type": "markdown",
      "source": [
        "With Simple Dense Classifier"
      ],
      "metadata": {
        "id": "GxuYa0Rq5EdN"
      }
    },
    {
      "cell_type": "code",
      "source": [
        "model = EEGNet_v2(nb_classes=2, Chans=26, Samples=275)\n",
        "model.compile(optimizer='adam', loss='categorical_crossentropy', metrics=['accuracy'])\n",
        "\n",
        "from tensorflow.keras.callbacks import EarlyStopping, ReduceLROnPlateau\n",
        "\n",
        "callbacks = [\n",
        "    EarlyStopping(patience=50, restore_best_weights=True),\n",
        "    ReduceLROnPlateau(monitor='val_loss', factor=0.5, patience=5, min_lr=1e-7)\n",
        "]\n",
        "\n",
        "history = model.fit(\n",
        "    X_train, y_train_cat,\n",
        "    validation_data=(X_test, y_test_cat),\n",
        "    epochs=200,\n",
        "    batch_size=32,\n",
        "    callbacks=callbacks\n",
        ")\n"
      ],
      "metadata": {
        "colab": {
          "base_uri": "https://localhost:8080/"
        },
        "id": "-FGIB7N85DmK",
        "outputId": "0f598b4f-67e1-4484-feca-a732632a7641"
      },
      "execution_count": null,
      "outputs": [
        {
          "output_type": "stream",
          "name": "stdout",
          "text": [
            "Epoch 1/200\n",
            "\u001b[1m90/90\u001b[0m \u001b[32m━━━━━━━━━━━━━━━━━━━━\u001b[0m\u001b[37m\u001b[0m \u001b[1m9s\u001b[0m 35ms/step - accuracy: 0.5593 - loss: 0.7180 - val_accuracy: 0.5549 - val_loss: 0.7207 - learning_rate: 0.0010\n",
            "Epoch 2/200\n",
            "\u001b[1m90/90\u001b[0m \u001b[32m━━━━━━━━━━━━━━━━━━━━\u001b[0m\u001b[37m\u001b[0m \u001b[1m4s\u001b[0m 24ms/step - accuracy: 0.5932 - loss: 0.6862 - val_accuracy: 0.4451 - val_loss: 0.7190 - learning_rate: 0.0010\n",
            "Epoch 3/200\n",
            "\u001b[1m90/90\u001b[0m \u001b[32m━━━━━━━━━━━━━━━━━━━━\u001b[0m\u001b[37m\u001b[0m \u001b[1m2s\u001b[0m 25ms/step - accuracy: 0.5960 - loss: 0.6692 - val_accuracy: 0.4743 - val_loss: 0.7154 - learning_rate: 0.0010\n",
            "Epoch 4/200\n",
            "\u001b[1m90/90\u001b[0m \u001b[32m━━━━━━━━━━━━━━━━━━━━\u001b[0m\u001b[37m\u001b[0m \u001b[1m4s\u001b[0m 40ms/step - accuracy: 0.6011 - loss: 0.6709 - val_accuracy: 0.4451 - val_loss: 0.7133 - learning_rate: 0.0010\n",
            "Epoch 5/200\n",
            "\u001b[1m90/90\u001b[0m \u001b[32m━━━━━━━━━━━━━━━━━━━━\u001b[0m\u001b[37m\u001b[0m \u001b[1m4s\u001b[0m 25ms/step - accuracy: 0.5999 - loss: 0.6678 - val_accuracy: 0.5494 - val_loss: 0.7099 - learning_rate: 0.0010\n",
            "Epoch 6/200\n",
            "\u001b[1m90/90\u001b[0m \u001b[32m━━━━━━━━━━━━━━━━━━━━\u001b[0m\u001b[37m\u001b[0m \u001b[1m2s\u001b[0m 25ms/step - accuracy: 0.6196 - loss: 0.6612 - val_accuracy: 0.5619 - val_loss: 0.7072 - learning_rate: 0.0010\n",
            "Epoch 7/200\n",
            "\u001b[1m90/90\u001b[0m \u001b[32m━━━━━━━━━━━━━━━━━━━━\u001b[0m\u001b[37m\u001b[0m \u001b[1m2s\u001b[0m 23ms/step - accuracy: 0.6082 - loss: 0.6574 - val_accuracy: 0.6259 - val_loss: 0.6872 - learning_rate: 0.0010\n",
            "Epoch 8/200\n",
            "\u001b[1m90/90\u001b[0m \u001b[32m━━━━━━━━━━━━━━━━━━━━\u001b[0m\u001b[37m\u001b[0m \u001b[1m3s\u001b[0m 31ms/step - accuracy: 0.6160 - loss: 0.6534 - val_accuracy: 0.5132 - val_loss: 0.7065 - learning_rate: 0.0010\n",
            "Epoch 9/200\n",
            "\u001b[1m90/90\u001b[0m \u001b[32m━━━━━━━━━━━━━━━━━━━━\u001b[0m\u001b[37m\u001b[0m \u001b[1m5s\u001b[0m 25ms/step - accuracy: 0.6208 - loss: 0.6470 - val_accuracy: 0.6259 - val_loss: 0.6463 - learning_rate: 0.0010\n",
            "Epoch 10/200\n",
            "\u001b[1m90/90\u001b[0m \u001b[32m━━━━━━━━━━━━━━━━━━━━\u001b[0m\u001b[37m\u001b[0m \u001b[1m3s\u001b[0m 24ms/step - accuracy: 0.6185 - loss: 0.6478 - val_accuracy: 0.6287 - val_loss: 0.6391 - learning_rate: 0.0010\n",
            "Epoch 11/200\n",
            "\u001b[1m90/90\u001b[0m \u001b[32m━━━━━━━━━━━━━━━━━━━━\u001b[0m\u001b[37m\u001b[0m \u001b[1m3s\u001b[0m 28ms/step - accuracy: 0.6315 - loss: 0.6535 - val_accuracy: 0.6231 - val_loss: 0.6445 - learning_rate: 0.0010\n",
            "Epoch 12/200\n",
            "\u001b[1m90/90\u001b[0m \u001b[32m━━━━━━━━━━━━━━━━━━━━\u001b[0m\u001b[37m\u001b[0m \u001b[1m4s\u001b[0m 43ms/step - accuracy: 0.6139 - loss: 0.6447 - val_accuracy: 0.5382 - val_loss: 0.7168 - learning_rate: 0.0010\n",
            "Epoch 13/200\n",
            "\u001b[1m90/90\u001b[0m \u001b[32m━━━━━━━━━━━━━━━━━━━━\u001b[0m\u001b[37m\u001b[0m \u001b[1m3s\u001b[0m 36ms/step - accuracy: 0.6212 - loss: 0.6434 - val_accuracy: 0.5994 - val_loss: 0.6383 - learning_rate: 0.0010\n",
            "Epoch 14/200\n",
            "\u001b[1m90/90\u001b[0m \u001b[32m━━━━━━━━━━━━━━━━━━━━\u001b[0m\u001b[37m\u001b[0m \u001b[1m3s\u001b[0m 29ms/step - accuracy: 0.6306 - loss: 0.6313 - val_accuracy: 0.6120 - val_loss: 0.6622 - learning_rate: 0.0010\n",
            "Epoch 15/200\n",
            "\u001b[1m90/90\u001b[0m \u001b[32m━━━━━━━━━━━━━━━━━━━━\u001b[0m\u001b[37m\u001b[0m \u001b[1m5s\u001b[0m 25ms/step - accuracy: 0.6145 - loss: 0.6513 - val_accuracy: 0.6356 - val_loss: 0.6518 - learning_rate: 0.0010\n",
            "Epoch 16/200\n",
            "\u001b[1m90/90\u001b[0m \u001b[32m━━━━━━━━━━━━━━━━━━━━\u001b[0m\u001b[37m\u001b[0m \u001b[1m2s\u001b[0m 23ms/step - accuracy: 0.6535 - loss: 0.6219 - val_accuracy: 0.5994 - val_loss: 0.7304 - learning_rate: 0.0010\n",
            "Epoch 17/200\n",
            "\u001b[1m90/90\u001b[0m \u001b[32m━━━━━━━━━━━━━━━━━━━━\u001b[0m\u001b[37m\u001b[0m \u001b[1m4s\u001b[0m 35ms/step - accuracy: 0.6235 - loss: 0.6325 - val_accuracy: 0.6412 - val_loss: 0.6565 - learning_rate: 0.0010\n",
            "Epoch 18/200\n",
            "\u001b[1m90/90\u001b[0m \u001b[32m━━━━━━━━━━━━━━━━━━━━\u001b[0m\u001b[37m\u001b[0m \u001b[1m2s\u001b[0m 25ms/step - accuracy: 0.6495 - loss: 0.6307 - val_accuracy: 0.6328 - val_loss: 0.6468 - learning_rate: 0.0010\n",
            "Epoch 19/200\n",
            "\u001b[1m90/90\u001b[0m \u001b[32m━━━━━━━━━━━━━━━━━━━━\u001b[0m\u001b[37m\u001b[0m \u001b[1m2s\u001b[0m 24ms/step - accuracy: 0.6504 - loss: 0.6264 - val_accuracy: 0.6231 - val_loss: 0.6479 - learning_rate: 5.0000e-04\n",
            "Epoch 20/200\n",
            "\u001b[1m90/90\u001b[0m \u001b[32m━━━━━━━━━━━━━━━━━━━━\u001b[0m\u001b[37m\u001b[0m \u001b[1m3s\u001b[0m 25ms/step - accuracy: 0.6392 - loss: 0.6232 - val_accuracy: 0.6189 - val_loss: 0.6388 - learning_rate: 5.0000e-04\n",
            "Epoch 21/200\n",
            "\u001b[1m90/90\u001b[0m \u001b[32m━━━━━━━━━━━━━━━━━━━━\u001b[0m\u001b[37m\u001b[0m \u001b[1m2s\u001b[0m 24ms/step - accuracy: 0.6513 - loss: 0.6212 - val_accuracy: 0.6370 - val_loss: 0.6649 - learning_rate: 5.0000e-04\n",
            "Epoch 22/200\n",
            "\u001b[1m90/90\u001b[0m \u001b[32m━━━━━━━━━━━━━━━━━━━━\u001b[0m\u001b[37m\u001b[0m \u001b[1m3s\u001b[0m 31ms/step - accuracy: 0.6514 - loss: 0.6113 - val_accuracy: 0.6175 - val_loss: 0.6453 - learning_rate: 5.0000e-04\n",
            "Epoch 23/200\n",
            "\u001b[1m90/90\u001b[0m \u001b[32m━━━━━━━━━━━━━━━━━━━━\u001b[0m\u001b[37m\u001b[0m \u001b[1m5s\u001b[0m 29ms/step - accuracy: 0.6581 - loss: 0.6091 - val_accuracy: 0.6050 - val_loss: 0.7180 - learning_rate: 5.0000e-04\n",
            "Epoch 24/200\n",
            "\u001b[1m90/90\u001b[0m \u001b[32m━━━━━━━━━━━━━━━━━━━━\u001b[0m\u001b[37m\u001b[0m \u001b[1m5s\u001b[0m 25ms/step - accuracy: 0.6730 - loss: 0.5974 - val_accuracy: 0.6370 - val_loss: 0.6615 - learning_rate: 2.5000e-04\n",
            "Epoch 25/200\n",
            "\u001b[1m90/90\u001b[0m \u001b[32m━━━━━━━━━━━━━━━━━━━━\u001b[0m\u001b[37m\u001b[0m \u001b[1m3s\u001b[0m 25ms/step - accuracy: 0.6694 - loss: 0.6021 - val_accuracy: 0.6523 - val_loss: 0.6385 - learning_rate: 2.5000e-04\n",
            "Epoch 26/200\n",
            "\u001b[1m90/90\u001b[0m \u001b[32m━━━━━━━━━━━━━━━━━━━━\u001b[0m\u001b[37m\u001b[0m \u001b[1m4s\u001b[0m 36ms/step - accuracy: 0.6608 - loss: 0.6075 - val_accuracy: 0.6495 - val_loss: 0.6592 - learning_rate: 2.5000e-04\n",
            "Epoch 27/200\n",
            "\u001b[1m90/90\u001b[0m \u001b[32m━━━━━━━━━━━━━━━━━━━━\u001b[0m\u001b[37m\u001b[0m \u001b[1m2s\u001b[0m 25ms/step - accuracy: 0.6801 - loss: 0.5932 - val_accuracy: 0.6245 - val_loss: 0.6815 - learning_rate: 2.5000e-04\n",
            "Epoch 28/200\n",
            "\u001b[1m90/90\u001b[0m \u001b[32m━━━━━━━━━━━━━━━━━━━━\u001b[0m\u001b[37m\u001b[0m \u001b[1m2s\u001b[0m 23ms/step - accuracy: 0.6779 - loss: 0.5889 - val_accuracy: 0.6439 - val_loss: 0.6759 - learning_rate: 2.5000e-04\n",
            "Epoch 29/200\n",
            "\u001b[1m90/90\u001b[0m \u001b[32m━━━━━━━━━━━━━━━━━━━━\u001b[0m\u001b[37m\u001b[0m \u001b[1m2s\u001b[0m 23ms/step - accuracy: 0.6656 - loss: 0.6029 - val_accuracy: 0.6439 - val_loss: 0.6441 - learning_rate: 1.2500e-04\n",
            "Epoch 30/200\n",
            "\u001b[1m90/90\u001b[0m \u001b[32m━━━━━━━━━━━━━━━━━━━━\u001b[0m\u001b[37m\u001b[0m \u001b[1m3s\u001b[0m 24ms/step - accuracy: 0.6827 - loss: 0.5873 - val_accuracy: 0.6495 - val_loss: 0.6463 - learning_rate: 1.2500e-04\n",
            "Epoch 31/200\n",
            "\u001b[1m90/90\u001b[0m \u001b[32m━━━━━━━━━━━━━━━━━━━━\u001b[0m\u001b[37m\u001b[0m \u001b[1m3s\u001b[0m 30ms/step - accuracy: 0.6873 - loss: 0.5917 - val_accuracy: 0.6134 - val_loss: 0.6485 - learning_rate: 1.2500e-04\n",
            "Epoch 32/200\n",
            "\u001b[1m90/90\u001b[0m \u001b[32m━━━━━━━━━━━━━━━━━━━━\u001b[0m\u001b[37m\u001b[0m \u001b[1m3s\u001b[0m 36ms/step - accuracy: 0.6722 - loss: 0.5863 - val_accuracy: 0.6287 - val_loss: 0.6387 - learning_rate: 1.2500e-04\n",
            "Epoch 33/200\n",
            "\u001b[1m90/90\u001b[0m \u001b[32m━━━━━━━━━━━━━━━━━━━━\u001b[0m\u001b[37m\u001b[0m \u001b[1m2s\u001b[0m 23ms/step - accuracy: 0.6799 - loss: 0.5759 - val_accuracy: 0.6217 - val_loss: 0.6546 - learning_rate: 1.2500e-04\n",
            "Epoch 34/200\n",
            "\u001b[1m90/90\u001b[0m \u001b[32m━━━━━━━━━━━━━━━━━━━━\u001b[0m\u001b[37m\u001b[0m \u001b[1m3s\u001b[0m 24ms/step - accuracy: 0.6747 - loss: 0.5855 - val_accuracy: 0.6328 - val_loss: 0.6545 - learning_rate: 6.2500e-05\n",
            "Epoch 35/200\n",
            "\u001b[1m90/90\u001b[0m \u001b[32m━━━━━━━━━━━━━━━━━━━━\u001b[0m\u001b[37m\u001b[0m \u001b[1m2s\u001b[0m 23ms/step - accuracy: 0.6799 - loss: 0.5805 - val_accuracy: 0.6287 - val_loss: 0.6400 - learning_rate: 6.2500e-05\n",
            "Epoch 36/200\n",
            "\u001b[1m90/90\u001b[0m \u001b[32m━━━━━━━━━━━━━━━━━━━━\u001b[0m\u001b[37m\u001b[0m \u001b[1m2s\u001b[0m 23ms/step - accuracy: 0.6827 - loss: 0.5861 - val_accuracy: 0.6161 - val_loss: 0.6409 - learning_rate: 6.2500e-05\n",
            "Epoch 37/200\n",
            "\u001b[1m90/90\u001b[0m \u001b[32m━━━━━━━━━━━━━━━━━━━━\u001b[0m\u001b[37m\u001b[0m \u001b[1m3s\u001b[0m 31ms/step - accuracy: 0.6779 - loss: 0.5765 - val_accuracy: 0.6259 - val_loss: 0.6405 - learning_rate: 6.2500e-05\n",
            "Epoch 38/200\n",
            "\u001b[1m90/90\u001b[0m \u001b[32m━━━━━━━━━━━━━━━━━━━━\u001b[0m\u001b[37m\u001b[0m \u001b[1m3s\u001b[0m 33ms/step - accuracy: 0.6953 - loss: 0.5671 - val_accuracy: 0.6106 - val_loss: 0.6420 - learning_rate: 6.2500e-05\n",
            "Epoch 39/200\n",
            "\u001b[1m90/90\u001b[0m \u001b[32m━━━━━━━━━━━━━━━━━━━━\u001b[0m\u001b[37m\u001b[0m \u001b[1m4s\u001b[0m 24ms/step - accuracy: 0.6914 - loss: 0.5708 - val_accuracy: 0.6134 - val_loss: 0.6429 - learning_rate: 3.1250e-05\n",
            "Epoch 40/200\n",
            "\u001b[1m90/90\u001b[0m \u001b[32m━━━━━━━━━━━━━━━━━━━━\u001b[0m\u001b[37m\u001b[0m \u001b[1m2s\u001b[0m 24ms/step - accuracy: 0.6898 - loss: 0.5781 - val_accuracy: 0.6273 - val_loss: 0.6445 - learning_rate: 3.1250e-05\n",
            "Epoch 41/200\n",
            "\u001b[1m90/90\u001b[0m \u001b[32m━━━━━━━━━━━━━━━━━━━━\u001b[0m\u001b[37m\u001b[0m \u001b[1m3s\u001b[0m 25ms/step - accuracy: 0.7050 - loss: 0.5693 - val_accuracy: 0.6356 - val_loss: 0.6445 - learning_rate: 3.1250e-05\n",
            "Epoch 42/200\n",
            "\u001b[1m90/90\u001b[0m \u001b[32m━━━━━━━━━━━━━━━━━━━━\u001b[0m\u001b[37m\u001b[0m \u001b[1m4s\u001b[0m 36ms/step - accuracy: 0.7089 - loss: 0.5582 - val_accuracy: 0.6231 - val_loss: 0.6439 - learning_rate: 3.1250e-05\n",
            "Epoch 43/200\n",
            "\u001b[1m90/90\u001b[0m \u001b[32m━━━━━━━━━━━━━━━━━━━━\u001b[0m\u001b[37m\u001b[0m \u001b[1m4s\u001b[0m 24ms/step - accuracy: 0.6956 - loss: 0.5683 - val_accuracy: 0.6384 - val_loss: 0.6459 - learning_rate: 3.1250e-05\n",
            "Epoch 44/200\n",
            "\u001b[1m90/90\u001b[0m \u001b[32m━━━━━━━━━━━━━━━━━━━━\u001b[0m\u001b[37m\u001b[0m \u001b[1m3s\u001b[0m 24ms/step - accuracy: 0.7031 - loss: 0.5587 - val_accuracy: 0.6328 - val_loss: 0.6482 - learning_rate: 1.5625e-05\n",
            "Epoch 45/200\n",
            "\u001b[1m90/90\u001b[0m \u001b[32m━━━━━━━━━━━━━━━━━━━━\u001b[0m\u001b[37m\u001b[0m \u001b[1m2s\u001b[0m 23ms/step - accuracy: 0.6934 - loss: 0.5641 - val_accuracy: 0.6259 - val_loss: 0.6464 - learning_rate: 1.5625e-05\n",
            "Epoch 46/200\n",
            "\u001b[1m90/90\u001b[0m \u001b[32m━━━━━━━━━━━━━━━━━━━━\u001b[0m\u001b[37m\u001b[0m \u001b[1m3s\u001b[0m 29ms/step - accuracy: 0.7056 - loss: 0.5545 - val_accuracy: 0.6273 - val_loss: 0.6462 - learning_rate: 1.5625e-05\n",
            "Epoch 47/200\n",
            "\u001b[1m90/90\u001b[0m \u001b[32m━━━━━━━━━━━━━━━━━━━━\u001b[0m\u001b[37m\u001b[0m \u001b[1m5s\u001b[0m 23ms/step - accuracy: 0.6886 - loss: 0.5717 - val_accuracy: 0.6203 - val_loss: 0.6467 - learning_rate: 1.5625e-05\n",
            "Epoch 48/200\n",
            "\u001b[1m90/90\u001b[0m \u001b[32m━━━━━━━━━━━━━━━━━━━━\u001b[0m\u001b[37m\u001b[0m \u001b[1m3s\u001b[0m 30ms/step - accuracy: 0.6803 - loss: 0.5823 - val_accuracy: 0.6203 - val_loss: 0.6468 - learning_rate: 1.5625e-05\n",
            "Epoch 49/200\n",
            "\u001b[1m90/90\u001b[0m \u001b[32m━━━━━━━━━━━━━━━━━━━━\u001b[0m\u001b[37m\u001b[0m \u001b[1m4s\u001b[0m 23ms/step - accuracy: 0.7006 - loss: 0.5622 - val_accuracy: 0.6314 - val_loss: 0.6460 - learning_rate: 7.8125e-06\n",
            "Epoch 50/200\n",
            "\u001b[1m90/90\u001b[0m \u001b[32m━━━━━━━━━━━━━━━━━━━━\u001b[0m\u001b[37m\u001b[0m \u001b[1m3s\u001b[0m 36ms/step - accuracy: 0.7007 - loss: 0.5574 - val_accuracy: 0.6328 - val_loss: 0.6451 - learning_rate: 7.8125e-06\n",
            "Epoch 51/200\n",
            "\u001b[1m90/90\u001b[0m \u001b[32m━━━━━━━━━━━━━━━━━━━━\u001b[0m\u001b[37m\u001b[0m \u001b[1m4s\u001b[0m 25ms/step - accuracy: 0.7101 - loss: 0.5637 - val_accuracy: 0.6356 - val_loss: 0.6465 - learning_rate: 7.8125e-06\n",
            "Epoch 52/200\n",
            "\u001b[1m90/90\u001b[0m \u001b[32m━━━━━━━━━━━━━━━━━━━━\u001b[0m\u001b[37m\u001b[0m \u001b[1m3s\u001b[0m 25ms/step - accuracy: 0.7269 - loss: 0.5540 - val_accuracy: 0.6342 - val_loss: 0.6459 - learning_rate: 7.8125e-06\n",
            "Epoch 53/200\n",
            "\u001b[1m90/90\u001b[0m \u001b[32m━━━━━━━━━━━━━━━━━━━━\u001b[0m\u001b[37m\u001b[0m \u001b[1m2s\u001b[0m 24ms/step - accuracy: 0.6887 - loss: 0.5738 - val_accuracy: 0.6398 - val_loss: 0.6454 - learning_rate: 7.8125e-06\n",
            "Epoch 54/200\n",
            "\u001b[1m90/90\u001b[0m \u001b[32m━━━━━━━━━━━━━━━━━━━━\u001b[0m\u001b[37m\u001b[0m \u001b[1m2s\u001b[0m 27ms/step - accuracy: 0.7173 - loss: 0.5547 - val_accuracy: 0.6412 - val_loss: 0.6454 - learning_rate: 3.9063e-06\n",
            "Epoch 55/200\n",
            "\u001b[1m90/90\u001b[0m \u001b[32m━━━━━━━━━━━━━━━━━━━━\u001b[0m\u001b[37m\u001b[0m \u001b[1m3s\u001b[0m 36ms/step - accuracy: 0.7016 - loss: 0.5662 - val_accuracy: 0.6398 - val_loss: 0.6463 - learning_rate: 3.9063e-06\n",
            "Epoch 56/200\n",
            "\u001b[1m90/90\u001b[0m \u001b[32m━━━━━━━━━━━━━━━━━━━━\u001b[0m\u001b[37m\u001b[0m \u001b[1m2s\u001b[0m 23ms/step - accuracy: 0.6972 - loss: 0.5618 - val_accuracy: 0.6398 - val_loss: 0.6466 - learning_rate: 3.9063e-06\n",
            "Epoch 57/200\n",
            "\u001b[1m90/90\u001b[0m \u001b[32m━━━━━━━━━━━━━━━━━━━━\u001b[0m\u001b[37m\u001b[0m \u001b[1m3s\u001b[0m 25ms/step - accuracy: 0.7020 - loss: 0.5603 - val_accuracy: 0.6370 - val_loss: 0.6483 - learning_rate: 3.9063e-06\n",
            "Epoch 58/200\n",
            "\u001b[1m90/90\u001b[0m \u001b[32m━━━━━━━━━━━━━━━━━━━━\u001b[0m\u001b[37m\u001b[0m \u001b[1m2s\u001b[0m 23ms/step - accuracy: 0.7016 - loss: 0.5698 - val_accuracy: 0.6342 - val_loss: 0.6473 - learning_rate: 3.9063e-06\n",
            "Epoch 59/200\n",
            "\u001b[1m90/90\u001b[0m \u001b[32m━━━━━━━━━━━━━━━━━━━━\u001b[0m\u001b[37m\u001b[0m \u001b[1m2s\u001b[0m 23ms/step - accuracy: 0.6994 - loss: 0.5590 - val_accuracy: 0.6314 - val_loss: 0.6465 - learning_rate: 1.9531e-06\n",
            "Epoch 60/200\n",
            "\u001b[1m90/90\u001b[0m \u001b[32m━━━━━━━━━━━━━━━━━━━━\u001b[0m\u001b[37m\u001b[0m \u001b[1m3s\u001b[0m 31ms/step - accuracy: 0.7000 - loss: 0.5685 - val_accuracy: 0.6384 - val_loss: 0.6468 - learning_rate: 1.9531e-06\n",
            "Epoch 61/200\n",
            "\u001b[1m90/90\u001b[0m \u001b[32m━━━━━━━━━━━━━━━━━━━━\u001b[0m\u001b[37m\u001b[0m \u001b[1m3s\u001b[0m 35ms/step - accuracy: 0.6926 - loss: 0.5827 - val_accuracy: 0.6384 - val_loss: 0.6467 - learning_rate: 1.9531e-06\n",
            "Epoch 62/200\n",
            "\u001b[1m90/90\u001b[0m \u001b[32m━━━━━━━━━━━━━━━━━━━━\u001b[0m\u001b[37m\u001b[0m \u001b[1m2s\u001b[0m 24ms/step - accuracy: 0.6980 - loss: 0.5715 - val_accuracy: 0.6370 - val_loss: 0.6466 - learning_rate: 1.9531e-06\n",
            "Epoch 63/200\n",
            "\u001b[1m90/90\u001b[0m \u001b[32m━━━━━━━━━━━━━━━━━━━━\u001b[0m\u001b[37m\u001b[0m \u001b[1m2s\u001b[0m 23ms/step - accuracy: 0.7098 - loss: 0.5515 - val_accuracy: 0.6384 - val_loss: 0.6477 - learning_rate: 1.9531e-06\n"
          ]
        }
      ]
    },
    {
      "cell_type": "markdown",
      "source": [
        "With MLP Classifier"
      ],
      "metadata": {
        "id": "3D76DZal5IrZ"
      }
    },
    {
      "cell_type": "code",
      "source": [
        "model = EEGNet_v2(nb_classes=2, Chans=26, Samples=275)\n",
        "model.compile(optimizer='adam', loss='categorical_crossentropy', metrics=['accuracy'])\n",
        "\n",
        "from tensorflow.keras.callbacks import EarlyStopping, ReduceLROnPlateau\n",
        "\n",
        "callbacks = [\n",
        "    EarlyStopping(patience=50, restore_best_weights=True),\n",
        "    ReduceLROnPlateau(monitor='val_loss', factor=0.5, patience=5, min_lr=1e-7)\n",
        "]\n",
        "\n",
        "history = model.fit(\n",
        "    X_train, y_train_cat,\n",
        "    validation_data=(X_test, y_test_cat),\n",
        "    epochs=200,\n",
        "    batch_size=32,\n",
        "    callbacks=callbacks\n",
        ")\n"
      ],
      "metadata": {
        "id": "2SBaXOqkaw3G",
        "colab": {
          "base_uri": "https://localhost:8080/"
        },
        "outputId": "406167d7-0954-4f94-fa42-9fe529b39f48"
      },
      "execution_count": null,
      "outputs": [
        {
          "output_type": "stream",
          "name": "stdout",
          "text": [
            "Epoch 1/200\n",
            "\u001b[1m90/90\u001b[0m \u001b[32m━━━━━━━━━━━━━━━━━━━━\u001b[0m\u001b[37m\u001b[0m \u001b[1m8s\u001b[0m 40ms/step - accuracy: 0.5499 - loss: 0.7287 - val_accuracy: 0.5549 - val_loss: 0.7185 - learning_rate: 0.0010\n",
            "Epoch 2/200\n",
            "\u001b[1m90/90\u001b[0m \u001b[32m━━━━━━━━━━━━━━━━━━━━\u001b[0m\u001b[37m\u001b[0m \u001b[1m4s\u001b[0m 24ms/step - accuracy: 0.5670 - loss: 0.7101 - val_accuracy: 0.5549 - val_loss: 0.7144 - learning_rate: 0.0010\n",
            "Epoch 3/200\n",
            "\u001b[1m90/90\u001b[0m \u001b[32m━━━━━━━━━━━━━━━━━━━━\u001b[0m\u001b[37m\u001b[0m \u001b[1m2s\u001b[0m 22ms/step - accuracy: 0.5747 - loss: 0.7027 - val_accuracy: 0.4451 - val_loss: 0.7161 - learning_rate: 0.0010\n",
            "Epoch 4/200\n",
            "\u001b[1m90/90\u001b[0m \u001b[32m━━━━━━━━━━━━━━━━━━━━\u001b[0m\u001b[37m\u001b[0m \u001b[1m2s\u001b[0m 24ms/step - accuracy: 0.5792 - loss: 0.6868 - val_accuracy: 0.5549 - val_loss: 0.7095 - learning_rate: 0.0010\n",
            "Epoch 5/200\n",
            "\u001b[1m90/90\u001b[0m \u001b[32m━━━━━━━━━━━━━━━━━━━━\u001b[0m\u001b[37m\u001b[0m \u001b[1m3s\u001b[0m 34ms/step - accuracy: 0.6072 - loss: 0.6683 - val_accuracy: 0.5549 - val_loss: 0.7071 - learning_rate: 0.0010\n",
            "Epoch 6/200\n",
            "\u001b[1m90/90\u001b[0m \u001b[32m━━━━━━━━━━━━━━━━━━━━\u001b[0m\u001b[37m\u001b[0m \u001b[1m4s\u001b[0m 23ms/step - accuracy: 0.6019 - loss: 0.6661 - val_accuracy: 0.5466 - val_loss: 0.7051 - learning_rate: 0.0010\n",
            "Epoch 7/200\n",
            "\u001b[1m90/90\u001b[0m \u001b[32m━━━━━━━━━━━━━━━━━━━━\u001b[0m\u001b[37m\u001b[0m \u001b[1m2s\u001b[0m 24ms/step - accuracy: 0.6040 - loss: 0.6688 - val_accuracy: 0.5897 - val_loss: 0.6988 - learning_rate: 0.0010\n",
            "Epoch 8/200\n",
            "\u001b[1m90/90\u001b[0m \u001b[32m━━━━━━━━━━━━━━━━━━━━\u001b[0m\u001b[37m\u001b[0m \u001b[1m2s\u001b[0m 23ms/step - accuracy: 0.5904 - loss: 0.6613 - val_accuracy: 0.5090 - val_loss: 0.6939 - learning_rate: 0.0010\n",
            "Epoch 9/200\n",
            "\u001b[1m90/90\u001b[0m \u001b[32m━━━━━━━━━━━━━━━━━━━━\u001b[0m\u001b[37m\u001b[0m \u001b[1m3s\u001b[0m 24ms/step - accuracy: 0.5975 - loss: 0.6710 - val_accuracy: 0.5911 - val_loss: 0.6738 - learning_rate: 0.0010\n",
            "Epoch 10/200\n",
            "\u001b[1m90/90\u001b[0m \u001b[32m━━━━━━━━━━━━━━━━━━━━\u001b[0m\u001b[37m\u001b[0m \u001b[1m3s\u001b[0m 34ms/step - accuracy: 0.6130 - loss: 0.6532 - val_accuracy: 0.5452 - val_loss: 0.6809 - learning_rate: 0.0010\n",
            "Epoch 11/200\n",
            "\u001b[1m90/90\u001b[0m \u001b[32m━━━━━━━━━━━━━━━━━━━━\u001b[0m\u001b[37m\u001b[0m \u001b[1m3s\u001b[0m 34ms/step - accuracy: 0.6284 - loss: 0.6554 - val_accuracy: 0.5772 - val_loss: 0.6722 - learning_rate: 0.0010\n",
            "Epoch 12/200\n",
            "\u001b[1m90/90\u001b[0m \u001b[32m━━━━━━━━━━━━━━━━━━━━\u001b[0m\u001b[37m\u001b[0m \u001b[1m4s\u001b[0m 24ms/step - accuracy: 0.6169 - loss: 0.6469 - val_accuracy: 0.4965 - val_loss: 0.7783 - learning_rate: 0.0010\n",
            "Epoch 13/200\n",
            "\u001b[1m90/90\u001b[0m \u001b[32m━━━━━━━━━━━━━━━━━━━━\u001b[0m\u001b[37m\u001b[0m \u001b[1m3s\u001b[0m 24ms/step - accuracy: 0.6250 - loss: 0.6387 - val_accuracy: 0.6064 - val_loss: 0.6613 - learning_rate: 0.0010\n",
            "Epoch 14/200\n",
            "\u001b[1m90/90\u001b[0m \u001b[32m━━━━━━━━━━━━━━━━━━━━\u001b[0m\u001b[37m\u001b[0m \u001b[1m2s\u001b[0m 23ms/step - accuracy: 0.6308 - loss: 0.6388 - val_accuracy: 0.6134 - val_loss: 0.6880 - learning_rate: 0.0010\n",
            "Epoch 15/200\n",
            "\u001b[1m90/90\u001b[0m \u001b[32m━━━━━━━━━━━━━━━━━━━━\u001b[0m\u001b[37m\u001b[0m \u001b[1m3s\u001b[0m 34ms/step - accuracy: 0.6309 - loss: 0.6496 - val_accuracy: 0.5869 - val_loss: 0.7616 - learning_rate: 0.0010\n",
            "Epoch 16/200\n",
            "\u001b[1m90/90\u001b[0m \u001b[32m━━━━━━━━━━━━━━━━━━━━\u001b[0m\u001b[37m\u001b[0m \u001b[1m3s\u001b[0m 35ms/step - accuracy: 0.6198 - loss: 0.6443 - val_accuracy: 0.5160 - val_loss: 0.7151 - learning_rate: 0.0010\n",
            "Epoch 17/200\n",
            "\u001b[1m90/90\u001b[0m \u001b[32m━━━━━━━━━━━━━━━━━━━━\u001b[0m\u001b[37m\u001b[0m \u001b[1m2s\u001b[0m 23ms/step - accuracy: 0.6200 - loss: 0.6451 - val_accuracy: 0.6036 - val_loss: 0.6829 - learning_rate: 0.0010\n",
            "Epoch 18/200\n",
            "\u001b[1m90/90\u001b[0m \u001b[32m━━━━━━━━━━━━━━━━━━━━\u001b[0m\u001b[37m\u001b[0m \u001b[1m4s\u001b[0m 35ms/step - accuracy: 0.6247 - loss: 0.6514 - val_accuracy: 0.5132 - val_loss: 0.7831 - learning_rate: 0.0010\n",
            "Epoch 19/200\n",
            "\u001b[1m90/90\u001b[0m \u001b[32m━━━━━━━━━━━━━━━━━━━━\u001b[0m\u001b[37m\u001b[0m \u001b[1m4s\u001b[0m 24ms/step - accuracy: 0.6355 - loss: 0.6472 - val_accuracy: 0.5104 - val_loss: 0.7505 - learning_rate: 5.0000e-04\n",
            "Epoch 20/200\n",
            "\u001b[1m90/90\u001b[0m \u001b[32m━━━━━━━━━━━━━━━━━━━━\u001b[0m\u001b[37m\u001b[0m \u001b[1m3s\u001b[0m 36ms/step - accuracy: 0.6509 - loss: 0.6337 - val_accuracy: 0.5021 - val_loss: 0.8832 - learning_rate: 5.0000e-04\n",
            "Epoch 21/200\n",
            "\u001b[1m90/90\u001b[0m \u001b[32m━━━━━━━━━━━━━━━━━━━━\u001b[0m\u001b[37m\u001b[0m \u001b[1m3s\u001b[0m 33ms/step - accuracy: 0.6483 - loss: 0.6264 - val_accuracy: 0.5104 - val_loss: 0.7737 - learning_rate: 5.0000e-04\n",
            "Epoch 22/200\n",
            "\u001b[1m90/90\u001b[0m \u001b[32m━━━━━━━━━━━━━━━━━━━━\u001b[0m\u001b[37m\u001b[0m \u001b[1m4s\u001b[0m 24ms/step - accuracy: 0.6795 - loss: 0.6048 - val_accuracy: 0.6203 - val_loss: 0.6488 - learning_rate: 5.0000e-04\n",
            "Epoch 23/200\n",
            "\u001b[1m90/90\u001b[0m \u001b[32m━━━━━━━━━━━━━━━━━━━━\u001b[0m\u001b[37m\u001b[0m \u001b[1m2s\u001b[0m 24ms/step - accuracy: 0.6325 - loss: 0.6279 - val_accuracy: 0.6203 - val_loss: 0.6576 - learning_rate: 5.0000e-04\n",
            "Epoch 24/200\n",
            "\u001b[1m90/90\u001b[0m \u001b[32m━━━━━━━━━━━━━━━━━━━━\u001b[0m\u001b[37m\u001b[0m \u001b[1m2s\u001b[0m 23ms/step - accuracy: 0.6555 - loss: 0.6195 - val_accuracy: 0.6134 - val_loss: 0.6594 - learning_rate: 5.0000e-04\n",
            "Epoch 25/200\n",
            "\u001b[1m90/90\u001b[0m \u001b[32m━━━━━━━━━━━━━━━━━━━━\u001b[0m\u001b[37m\u001b[0m \u001b[1m3s\u001b[0m 35ms/step - accuracy: 0.6560 - loss: 0.6230 - val_accuracy: 0.6008 - val_loss: 0.6603 - learning_rate: 5.0000e-04\n",
            "Epoch 26/200\n",
            "\u001b[1m90/90\u001b[0m \u001b[32m━━━━━━━━━━━━━━━━━━━━\u001b[0m\u001b[37m\u001b[0m \u001b[1m4s\u001b[0m 24ms/step - accuracy: 0.6629 - loss: 0.6201 - val_accuracy: 0.6147 - val_loss: 0.6859 - learning_rate: 5.0000e-04\n",
            "Epoch 27/200\n",
            "\u001b[1m90/90\u001b[0m \u001b[32m━━━━━━━━━━━━━━━━━━━━\u001b[0m\u001b[37m\u001b[0m \u001b[1m3s\u001b[0m 24ms/step - accuracy: 0.6671 - loss: 0.6137 - val_accuracy: 0.6106 - val_loss: 0.6875 - learning_rate: 5.0000e-04\n",
            "Epoch 28/200\n",
            "\u001b[1m90/90\u001b[0m \u001b[32m━━━━━━━━━━━━━━━━━━━━\u001b[0m\u001b[37m\u001b[0m \u001b[1m3s\u001b[0m 24ms/step - accuracy: 0.6822 - loss: 0.6061 - val_accuracy: 0.5883 - val_loss: 0.6587 - learning_rate: 2.5000e-04\n",
            "Epoch 29/200\n",
            "\u001b[1m90/90\u001b[0m \u001b[32m━━━━━━━━━━━━━━━━━━━━\u001b[0m\u001b[37m\u001b[0m \u001b[1m3s\u001b[0m 30ms/step - accuracy: 0.6479 - loss: 0.6113 - val_accuracy: 0.6120 - val_loss: 0.6551 - learning_rate: 2.5000e-04\n",
            "Epoch 30/200\n",
            "\u001b[1m90/90\u001b[0m \u001b[32m━━━━━━━━━━━━━━━━━━━━\u001b[0m\u001b[37m\u001b[0m \u001b[1m6s\u001b[0m 38ms/step - accuracy: 0.6845 - loss: 0.5925 - val_accuracy: 0.5591 - val_loss: 0.6932 - learning_rate: 2.5000e-04\n",
            "Epoch 31/200\n",
            "\u001b[1m90/90\u001b[0m \u001b[32m━━━━━━━━━━━━━━━━━━━━\u001b[0m\u001b[37m\u001b[0m \u001b[1m3s\u001b[0m 31ms/step - accuracy: 0.6715 - loss: 0.6003 - val_accuracy: 0.5994 - val_loss: 0.6538 - learning_rate: 2.5000e-04\n",
            "Epoch 32/200\n",
            "\u001b[1m90/90\u001b[0m \u001b[32m━━━━━━━━━━━━━━━━━━━━\u001b[0m\u001b[37m\u001b[0m \u001b[1m5s\u001b[0m 24ms/step - accuracy: 0.6862 - loss: 0.5992 - val_accuracy: 0.5522 - val_loss: 0.7024 - learning_rate: 2.5000e-04\n",
            "Epoch 33/200\n",
            "\u001b[1m90/90\u001b[0m \u001b[32m━━━━━━━━━━━━━━━━━━━━\u001b[0m\u001b[37m\u001b[0m \u001b[1m4s\u001b[0m 42ms/step - accuracy: 0.6937 - loss: 0.5884 - val_accuracy: 0.6078 - val_loss: 0.6651 - learning_rate: 1.2500e-04\n",
            "Epoch 34/200\n",
            "\u001b[1m90/90\u001b[0m \u001b[32m━━━━━━━━━━━━━━━━━━━━\u001b[0m\u001b[37m\u001b[0m \u001b[1m4s\u001b[0m 42ms/step - accuracy: 0.7010 - loss: 0.5651 - val_accuracy: 0.6203 - val_loss: 0.6529 - learning_rate: 1.2500e-04\n",
            "Epoch 35/200\n",
            "\u001b[1m90/90\u001b[0m \u001b[32m━━━━━━━━━━━━━━━━━━━━\u001b[0m\u001b[37m\u001b[0m \u001b[1m3s\u001b[0m 38ms/step - accuracy: 0.7119 - loss: 0.5721 - val_accuracy: 0.6106 - val_loss: 0.6520 - learning_rate: 1.2500e-04\n",
            "Epoch 36/200\n",
            "\u001b[1m90/90\u001b[0m \u001b[32m━━━━━━━━━━━━━━━━━━━━\u001b[0m\u001b[37m\u001b[0m \u001b[1m4s\u001b[0m 25ms/step - accuracy: 0.7000 - loss: 0.5669 - val_accuracy: 0.6300 - val_loss: 0.6504 - learning_rate: 1.2500e-04\n",
            "Epoch 37/200\n",
            "\u001b[1m90/90\u001b[0m \u001b[32m━━━━━━━━━━━━━━━━━━━━\u001b[0m\u001b[37m\u001b[0m \u001b[1m3s\u001b[0m 29ms/step - accuracy: 0.6948 - loss: 0.5933 - val_accuracy: 0.6342 - val_loss: 0.6711 - learning_rate: 1.2500e-04\n",
            "Epoch 38/200\n",
            "\u001b[1m90/90\u001b[0m \u001b[32m━━━━━━━━━━━━━━━━━━━━\u001b[0m\u001b[37m\u001b[0m \u001b[1m5s\u001b[0m 23ms/step - accuracy: 0.6876 - loss: 0.5846 - val_accuracy: 0.6287 - val_loss: 0.6558 - learning_rate: 6.2500e-05\n",
            "Epoch 39/200\n",
            "\u001b[1m90/90\u001b[0m \u001b[32m━━━━━━━━━━━━━━━━━━━━\u001b[0m\u001b[37m\u001b[0m \u001b[1m2s\u001b[0m 24ms/step - accuracy: 0.7187 - loss: 0.5705 - val_accuracy: 0.6161 - val_loss: 0.6561 - learning_rate: 6.2500e-05\n",
            "Epoch 40/200\n",
            "\u001b[1m90/90\u001b[0m \u001b[32m━━━━━━━━━━━━━━━━━━━━\u001b[0m\u001b[37m\u001b[0m \u001b[1m3s\u001b[0m 24ms/step - accuracy: 0.7034 - loss: 0.5815 - val_accuracy: 0.6273 - val_loss: 0.6506 - learning_rate: 6.2500e-05\n",
            "Epoch 41/200\n",
            "\u001b[1m90/90\u001b[0m \u001b[32m━━━━━━━━━━━━━━━━━━━━\u001b[0m\u001b[37m\u001b[0m \u001b[1m3s\u001b[0m 24ms/step - accuracy: 0.7183 - loss: 0.5696 - val_accuracy: 0.6106 - val_loss: 0.6589 - learning_rate: 6.2500e-05\n",
            "Epoch 42/200\n",
            "\u001b[1m90/90\u001b[0m \u001b[32m━━━━━━━━━━━━━━━━━━━━\u001b[0m\u001b[37m\u001b[0m \u001b[1m3s\u001b[0m 35ms/step - accuracy: 0.6913 - loss: 0.5815 - val_accuracy: 0.6273 - val_loss: 0.6532 - learning_rate: 6.2500e-05\n",
            "Epoch 43/200\n",
            "\u001b[1m90/90\u001b[0m \u001b[32m━━━━━━━━━━━━━━━━━━━━\u001b[0m\u001b[37m\u001b[0m \u001b[1m3s\u001b[0m 32ms/step - accuracy: 0.7052 - loss: 0.5742 - val_accuracy: 0.6342 - val_loss: 0.6545 - learning_rate: 3.1250e-05\n",
            "Epoch 44/200\n",
            "\u001b[1m90/90\u001b[0m \u001b[32m━━━━━━━━━━━━━━━━━━━━\u001b[0m\u001b[37m\u001b[0m \u001b[1m4s\u001b[0m 24ms/step - accuracy: 0.7045 - loss: 0.5685 - val_accuracy: 0.6245 - val_loss: 0.6562 - learning_rate: 3.1250e-05\n",
            "Epoch 45/200\n",
            "\u001b[1m90/90\u001b[0m \u001b[32m━━━━━━━━━━━━━━━━━━━━\u001b[0m\u001b[37m\u001b[0m \u001b[1m2s\u001b[0m 23ms/step - accuracy: 0.7098 - loss: 0.5771 - val_accuracy: 0.6245 - val_loss: 0.6563 - learning_rate: 3.1250e-05\n",
            "Epoch 46/200\n",
            "\u001b[1m90/90\u001b[0m \u001b[32m━━━━━━━━━━━━━━━━━━━━\u001b[0m\u001b[37m\u001b[0m \u001b[1m3s\u001b[0m 25ms/step - accuracy: 0.7227 - loss: 0.5572 - val_accuracy: 0.6203 - val_loss: 0.6546 - learning_rate: 3.1250e-05\n",
            "Epoch 47/200\n",
            "\u001b[1m90/90\u001b[0m \u001b[32m━━━━━━━━━━━━━━━━━━━━\u001b[0m\u001b[37m\u001b[0m \u001b[1m4s\u001b[0m 37ms/step - accuracy: 0.6960 - loss: 0.5760 - val_accuracy: 0.6120 - val_loss: 0.6599 - learning_rate: 3.1250e-05\n",
            "Epoch 48/200\n",
            "\u001b[1m90/90\u001b[0m \u001b[32m━━━━━━━━━━━━━━━━━━━━\u001b[0m\u001b[37m\u001b[0m \u001b[1m4s\u001b[0m 25ms/step - accuracy: 0.7035 - loss: 0.5700 - val_accuracy: 0.6259 - val_loss: 0.6562 - learning_rate: 1.5625e-05\n",
            "Epoch 49/200\n",
            "\u001b[1m90/90\u001b[0m \u001b[32m━━━━━━━━━━━━━━━━━━━━\u001b[0m\u001b[37m\u001b[0m \u001b[1m2s\u001b[0m 24ms/step - accuracy: 0.7046 - loss: 0.5686 - val_accuracy: 0.6273 - val_loss: 0.6554 - learning_rate: 1.5625e-05\n",
            "Epoch 50/200\n",
            "\u001b[1m90/90\u001b[0m \u001b[32m━━━━━━━━━━━━━━━━━━━━\u001b[0m\u001b[37m\u001b[0m \u001b[1m2s\u001b[0m 23ms/step - accuracy: 0.6907 - loss: 0.5825 - val_accuracy: 0.6161 - val_loss: 0.6585 - learning_rate: 1.5625e-05\n",
            "Epoch 51/200\n",
            "\u001b[1m90/90\u001b[0m \u001b[32m━━━━━━━━━━━━━━━━━━━━\u001b[0m\u001b[37m\u001b[0m \u001b[1m3s\u001b[0m 25ms/step - accuracy: 0.7117 - loss: 0.5703 - val_accuracy: 0.6161 - val_loss: 0.6580 - learning_rate: 1.5625e-05\n",
            "Epoch 52/200\n",
            "\u001b[1m90/90\u001b[0m \u001b[32m━━━━━━━━━━━━━━━━━━━━\u001b[0m\u001b[37m\u001b[0m \u001b[1m3s\u001b[0m 37ms/step - accuracy: 0.7115 - loss: 0.5601 - val_accuracy: 0.6147 - val_loss: 0.6586 - learning_rate: 1.5625e-05\n",
            "Epoch 53/200\n",
            "\u001b[1m90/90\u001b[0m \u001b[32m━━━━━━━━━━━━━━━━━━━━\u001b[0m\u001b[37m\u001b[0m \u001b[1m3s\u001b[0m 30ms/step - accuracy: 0.6989 - loss: 0.5677 - val_accuracy: 0.6245 - val_loss: 0.6572 - learning_rate: 7.8125e-06\n",
            "Epoch 54/200\n",
            "\u001b[1m90/90\u001b[0m \u001b[32m━━━━━━━━━━━━━━━━━━━━\u001b[0m\u001b[37m\u001b[0m \u001b[1m2s\u001b[0m 25ms/step - accuracy: 0.6937 - loss: 0.5709 - val_accuracy: 0.6245 - val_loss: 0.6578 - learning_rate: 7.8125e-06\n",
            "Epoch 55/200\n",
            "\u001b[1m90/90\u001b[0m \u001b[32m━━━━━━━━━━━━━━━━━━━━\u001b[0m\u001b[37m\u001b[0m \u001b[1m3s\u001b[0m 25ms/step - accuracy: 0.7237 - loss: 0.5696 - val_accuracy: 0.6259 - val_loss: 0.6582 - learning_rate: 7.8125e-06\n",
            "Epoch 56/200\n",
            "\u001b[1m90/90\u001b[0m \u001b[32m━━━━━━━━━━━━━━━━━━━━\u001b[0m\u001b[37m\u001b[0m \u001b[1m3s\u001b[0m 25ms/step - accuracy: 0.7157 - loss: 0.5592 - val_accuracy: 0.6259 - val_loss: 0.6584 - learning_rate: 7.8125e-06\n",
            "Epoch 57/200\n",
            "\u001b[1m90/90\u001b[0m \u001b[32m━━━━━━━━━━━━━━━━━━━━\u001b[0m\u001b[37m\u001b[0m \u001b[1m2s\u001b[0m 27ms/step - accuracy: 0.7056 - loss: 0.5646 - val_accuracy: 0.6217 - val_loss: 0.6580 - learning_rate: 7.8125e-06\n",
            "Epoch 58/200\n",
            "\u001b[1m90/90\u001b[0m \u001b[32m━━━━━━━━━━━━━━━━━━━━\u001b[0m\u001b[37m\u001b[0m \u001b[1m3s\u001b[0m 37ms/step - accuracy: 0.7055 - loss: 0.5583 - val_accuracy: 0.6245 - val_loss: 0.6577 - learning_rate: 3.9063e-06\n",
            "Epoch 59/200\n",
            "\u001b[1m90/90\u001b[0m \u001b[32m━━━━━━━━━━━━━━━━━━━━\u001b[0m\u001b[37m\u001b[0m \u001b[1m4s\u001b[0m 23ms/step - accuracy: 0.7177 - loss: 0.5550 - val_accuracy: 0.6259 - val_loss: 0.6576 - learning_rate: 3.9063e-06\n",
            "Epoch 60/200\n",
            "\u001b[1m90/90\u001b[0m \u001b[32m━━━━━━━━━━━━━━━━━━━━\u001b[0m\u001b[37m\u001b[0m \u001b[1m2s\u001b[0m 25ms/step - accuracy: 0.7148 - loss: 0.5655 - val_accuracy: 0.6203 - val_loss: 0.6584 - learning_rate: 3.9063e-06\n",
            "Epoch 61/200\n",
            "\u001b[1m90/90\u001b[0m \u001b[32m━━━━━━━━━━━━━━━━━━━━\u001b[0m\u001b[37m\u001b[0m \u001b[1m2s\u001b[0m 25ms/step - accuracy: 0.7102 - loss: 0.5657 - val_accuracy: 0.6231 - val_loss: 0.6583 - learning_rate: 3.9063e-06\n",
            "Epoch 62/200\n",
            "\u001b[1m90/90\u001b[0m \u001b[32m━━━━━━━━━━━━━━━━━━━━\u001b[0m\u001b[37m\u001b[0m \u001b[1m3s\u001b[0m 25ms/step - accuracy: 0.7157 - loss: 0.5648 - val_accuracy: 0.6217 - val_loss: 0.6586 - learning_rate: 3.9063e-06\n",
            "Epoch 63/200\n",
            "\u001b[1m90/90\u001b[0m \u001b[32m━━━━━━━━━━━━━━━━━━━━\u001b[0m\u001b[37m\u001b[0m \u001b[1m3s\u001b[0m 36ms/step - accuracy: 0.7120 - loss: 0.5764 - val_accuracy: 0.6217 - val_loss: 0.6586 - learning_rate: 1.9531e-06\n",
            "Epoch 64/200\n",
            "\u001b[1m90/90\u001b[0m \u001b[32m━━━━━━━━━━━━━━━━━━━━\u001b[0m\u001b[37m\u001b[0m \u001b[1m4s\u001b[0m 24ms/step - accuracy: 0.7153 - loss: 0.5718 - val_accuracy: 0.6231 - val_loss: 0.6582 - learning_rate: 1.9531e-06\n",
            "Epoch 65/200\n",
            "\u001b[1m90/90\u001b[0m \u001b[32m━━━━━━━━━━━━━━━━━━━━\u001b[0m\u001b[37m\u001b[0m \u001b[1m2s\u001b[0m 23ms/step - accuracy: 0.7095 - loss: 0.5532 - val_accuracy: 0.6231 - val_loss: 0.6584 - learning_rate: 1.9531e-06\n",
            "Epoch 66/200\n",
            "\u001b[1m90/90\u001b[0m \u001b[32m━━━━━━━━━━━━━━━━━━━━\u001b[0m\u001b[37m\u001b[0m \u001b[1m3s\u001b[0m 24ms/step - accuracy: 0.7132 - loss: 0.5631 - val_accuracy: 0.6245 - val_loss: 0.6579 - learning_rate: 1.9531e-06\n",
            "Epoch 67/200\n",
            "\u001b[1m90/90\u001b[0m \u001b[32m━━━━━━━━━━━━━━━━━━━━\u001b[0m\u001b[37m\u001b[0m \u001b[1m2s\u001b[0m 25ms/step - accuracy: 0.6883 - loss: 0.5830 - val_accuracy: 0.6245 - val_loss: 0.6577 - learning_rate: 1.9531e-06\n",
            "Epoch 68/200\n",
            "\u001b[1m90/90\u001b[0m \u001b[32m━━━━━━━━━━━━━━━━━━━━\u001b[0m\u001b[37m\u001b[0m \u001b[1m4s\u001b[0m 36ms/step - accuracy: 0.7027 - loss: 0.5734 - val_accuracy: 0.6259 - val_loss: 0.6582 - learning_rate: 9.7656e-07\n",
            "Epoch 69/200\n",
            "\u001b[1m90/90\u001b[0m \u001b[32m━━━━━━━━━━━━━━━━━━━━\u001b[0m\u001b[37m\u001b[0m \u001b[1m3s\u001b[0m 29ms/step - accuracy: 0.6953 - loss: 0.5723 - val_accuracy: 0.6231 - val_loss: 0.6587 - learning_rate: 9.7656e-07\n",
            "Epoch 70/200\n",
            "\u001b[1m90/90\u001b[0m \u001b[32m━━━━━━━━━━━━━━━━━━━━\u001b[0m\u001b[37m\u001b[0m \u001b[1m3s\u001b[0m 29ms/step - accuracy: 0.7113 - loss: 0.5701 - val_accuracy: 0.6259 - val_loss: 0.6581 - learning_rate: 9.7656e-07\n",
            "Epoch 71/200\n",
            "\u001b[1m90/90\u001b[0m \u001b[32m━━━━━━━━━━━━━━━━━━━━\u001b[0m\u001b[37m\u001b[0m \u001b[1m5s\u001b[0m 24ms/step - accuracy: 0.6990 - loss: 0.5736 - val_accuracy: 0.6259 - val_loss: 0.6584 - learning_rate: 9.7656e-07\n",
            "Epoch 72/200\n",
            "\u001b[1m90/90\u001b[0m \u001b[32m━━━━━━━━━━━━━━━━━━━━\u001b[0m\u001b[37m\u001b[0m \u001b[1m3s\u001b[0m 29ms/step - accuracy: 0.7039 - loss: 0.5763 - val_accuracy: 0.6231 - val_loss: 0.6583 - learning_rate: 9.7656e-07\n"
          ]
        }
      ]
    },
    {
      "cell_type": "markdown",
      "source": [
        "Plot (With MLP Classifier)"
      ],
      "metadata": {
        "id": "rry-cEn25Rbn"
      }
    },
    {
      "cell_type": "code",
      "source": [
        "import matplotlib.pyplot as plt\n",
        "\n",
        "# Plotting training and validation metrics\n",
        "plt.figure(figsize=(14, 5))\n",
        "\n",
        "# Accuracy plot\n",
        "plt.subplot(1, 2, 1)\n",
        "plt.plot(history.history['accuracy'], label='Training Accuracy')\n",
        "plt.plot(history.history['val_accuracy'], label='Validation Accuracy')\n",
        "plt.title('Model Accuracy over Epochs')\n",
        "plt.xlabel('Epoch')\n",
        "plt.ylabel('Accuracy')\n",
        "plt.legend(loc='lower right')\n",
        "plt.grid(True)\n",
        "\n",
        "# Loss plot\n",
        "plt.subplot(1, 2, 2)\n",
        "plt.plot(history.history['loss'], label='Training Loss')\n",
        "plt.plot(history.history['val_loss'], label='Validation Loss')\n",
        "plt.title('Model Loss over Epochs')\n",
        "plt.xlabel('Epoch')\n",
        "plt.ylabel('Loss')\n",
        "plt.legend(loc='upper right')\n",
        "plt.grid(True)\n",
        "\n",
        "plt.tight_layout()\n",
        "plt.show()\n"
      ],
      "metadata": {
        "colab": {
          "base_uri": "https://localhost:8080/",
          "height": 507
        },
        "id": "o7iROowPDHsl",
        "outputId": "97cbd75c-67f6-48fb-ae26-eda45d9d7537"
      },
      "execution_count": null,
      "outputs": [
        {
          "output_type": "display_data",
          "data": {
            "text/plain": [
              "<Figure size 1400x500 with 2 Axes>"
            ],
            "image/png": "[encoded data removed]"
          },
          "metadata": {}
        }
      ]
    },
    {
      "cell_type": "markdown",
      "source": [
        "With simple Dense classifier"
      ],
      "metadata": {
        "id": "KO-WHpgWDIuz"
      }
    },
    {
      "cell_type": "code",
      "source": [
        "import matplotlib.pyplot as plt\n",
        "\n",
        "# Plotting training and validation metrics\n",
        "plt.figure(figsize=(14, 5))\n",
        "\n",
        "# Accuracy plot\n",
        "plt.subplot(1, 2, 1)\n",
        "plt.plot(history.history['accuracy'], label='Training Accuracy')\n",
        "plt.plot(history.history['val_accuracy'], label='Validation Accuracy')\n",
        "plt.title('Model Accuracy over Epochs')\n",
        "plt.xlabel('Epoch')\n",
        "plt.ylabel('Accuracy')\n",
        "plt.legend(loc='lower right')\n",
        "plt.grid(True)\n",
        "\n",
        "# Loss plot\n",
        "plt.subplot(1, 2, 2)\n",
        "plt.plot(history.history['loss'], label='Training Loss')\n",
        "plt.plot(history.history['val_loss'], label='Validation Loss')\n",
        "plt.title('Model Loss over Epochs')\n",
        "plt.xlabel('Epoch')\n",
        "plt.ylabel('Loss')\n",
        "plt.legend(loc='upper right')\n",
        "plt.grid(True)\n",
        "\n",
        "plt.tight_layout()\n",
        "plt.show()\n"
      ],
      "metadata": {
        "id": "x2p-gdMlaybc",
        "colab": {
          "base_uri": "https://localhost:8080/",
          "height": 507
        },
        "outputId": "bf81b6b6-448f-42c4-aac1-dc1126040368"
      },
      "execution_count": null,
      "outputs": [
        {
          "output_type": "display_data",
          "data": {
            "text/plain": [
              "<Figure size 1400x500 with 2 Axes>"
            ],
            "image/png": "[encoded data removed]"
          },
          "metadata": {}
        }
      ]
    },
    {
      "cell_type": "code",
      "source": [],
      "metadata": {
        "id": "vWGCZHEHqQUr"
      },
      "execution_count": null,
      "outputs": []
    }
  ]
}
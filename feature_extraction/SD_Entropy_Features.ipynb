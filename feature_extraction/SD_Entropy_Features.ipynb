{
  "nbformat": 4,
  "nbformat_minor": 0,
  "metadata": {
    "colab": {
      "provenance": []
    },
    "kernelspec": {
      "name": "python3",
      "display_name": "Python 3"
    },
    "language_info": {
      "name": "python"
    }
  },
  "cells": [
    {
      "cell_type": "code",
      "execution_count": null,
      "metadata": {
        "colab": {
          "base_uri": "https://localhost:8080/",
          "height": 92
        },
        "id": "DqnbX3bdMS11",
        "outputId": "9b9943e1-c464-4924-978f-fefe59457efa"
      },
      "outputs": [
        {
          "output_type": "display_data",
          "data": {
            "text/plain": [
              "<IPython.core.display.HTML object>"
            ],
            "text/html": [
              "\n",
              "     <input type=\"file\" id=\"files-d4375f93-0fbe-4b52-9ec0-2a248a172182\" name=\"files[]\" multiple disabled\n",
              "        style=\"border:none\" />\n",
              "     <output id=\"result-d4375f93-0fbe-4b52-9ec0-2a248a172182\">\n",
              "      Upload widget is only available when the cell has been executed in the\n",
              "      current browser session. Please rerun this cell to enable.\n",
              "      </output>\n",
              "      <script>// Copyright 2017 Google LLC\n",
              "//\n",
              "// Licensed under the Apache License, Version 2.0 (the \"License\");\n",
              "// you may not use this file except in compliance with the License.\n",
              "// You may obtain a copy of the License at\n",
              "//\n",
              "//      http://www.apache.org/licenses/LICENSE-2.0\n",
              "//\n",
              "// Unless required by applicable law or agreed to in writing, software\n",
              "// distributed under the License is distributed on an \"AS IS\" BASIS,\n",
              "// WITHOUT WARRANTIES OR CONDITIONS OF ANY KIND, either express or implied.\n",
              "// See the License for the specific language governing permissions and\n",
              "// limitations under the License.\n",
              "\n",
              "/**\n",
              " * @fileoverview Helpers for google.colab Python module.\n",
              " */\n",
              "(function(scope) {\n",
              "function span(text, styleAttributes = {}) {\n",
              "  const element = document.createElement('span');\n",
              "  element.textContent = text;\n",
              "  for (const key of Object.keys(styleAttributes)) {\n",
              "    element.style[key] = styleAttributes[key];\n",
              "  }\n",
              "  return element;\n",
              "}\n",
              "\n",
              "// Max number of bytes which will be uploaded at a time.\n",
              "const MAX_PAYLOAD_SIZE = 100 * 1024;\n",
              "\n",
              "function _uploadFiles(inputId, outputId) {\n",
              "  const steps = uploadFilesStep(inputId, outputId);\n",
              "  const outputElement = document.getElementById(outputId);\n",
              "  // Cache steps on the outputElement to make it available for the next call\n",
              "  // to uploadFilesContinue from Python.\n",
              "  outputElement.steps = steps;\n",
              "\n",
              "  return _uploadFilesContinue(outputId);\n",
              "}\n",
              "\n",
              "// This is roughly an async generator (not supported in the browser yet),\n",
              "// where there are multiple asynchronous steps and the Python side is going\n",
              "// to poll for completion of each step.\n",
              "// This uses a Promise to block the python side on completion of each step,\n",
              "// then passes the result of the previous step as the input to the next step.\n",
              "function _uploadFilesContinue(outputId) {\n",
              "  const outputElement = document.getElementById(outputId);\n",
              "  const steps = outputElement.steps;\n",
              "\n",
              "  const next = steps.next(outputElement.lastPromiseValue);\n",
              "  return Promise.resolve(next.value.promise).then((value) => {\n",
              "    // Cache the last promise value to make it available to the next\n",
              "    // step of the generator.\n",
              "    outputElement.lastPromiseValue = value;\n",
              "    return next.value.response;\n",
              "  });\n",
              "}\n",
              "\n",
              "/**\n",
              " * Generator function which is called between each async step of the upload\n",
              " * process.\n",
              " * @param {string} inputId Element ID of the input file picker element.\n",
              " * @param {string} outputId Element ID of the output display.\n",
              " * @return {!Iterable<!Object>} Iterable of next steps.\n",
              " */\n",
              "function* uploadFilesStep(inputId, outputId) {\n",
              "  const inputElement = document.getElementById(inputId);\n",
              "  inputElement.disabled = false;\n",
              "\n",
              "  const outputElement = document.getElementById(outputId);\n",
              "  outputElement.innerHTML = '';\n",
              "\n",
              "  const pickedPromise = new Promise((resolve) => {\n",
              "    inputElement.addEventListener('change', (e) => {\n",
              "      resolve(e.target.files);\n",
              "    });\n",
              "  });\n",
              "\n",
              "  const cancel = document.createElement('button');\n",
              "  inputElement.parentElement.appendChild(cancel);\n",
              "  cancel.textContent = 'Cancel upload';\n",
              "  const cancelPromise = new Promise((resolve) => {\n",
              "    cancel.onclick = () => {\n",
              "      resolve(null);\n",
              "    };\n",
              "  });\n",
              "\n",
              "  // Wait for the user to pick the files.\n",
              "  const files = yield {\n",
              "    promise: Promise.race([pickedPromise, cancelPromise]),\n",
              "    response: {\n",
              "      action: 'starting',\n",
              "    }\n",
              "  };\n",
              "\n",
              "  cancel.remove();\n",
              "\n",
              "  // Disable the input element since further picks are not allowed.\n",
              "  inputElement.disabled = true;\n",
              "\n",
              "  if (!files) {\n",
              "    return {\n",
              "      response: {\n",
              "        action: 'complete',\n",
              "      }\n",
              "    };\n",
              "  }\n",
              "\n",
              "  for (const file of files) {\n",
              "    const li = document.createElement('li');\n",
              "    li.append(span(file.name, {fontWeight: 'bold'}));\n",
              "    li.append(span(\n",
              "        `(${file.type || 'n/a'}) - ${file.size} bytes, ` +\n",
              "        `last modified: ${\n",
              "            file.lastModifiedDate ? file.lastModifiedDate.toLocaleDateString() :\n",
              "                                    'n/a'} - `));\n",
              "    const percent = span('0% done');\n",
              "    li.appendChild(percent);\n",
              "\n",
              "    outputElement.appendChild(li);\n",
              "\n",
              "    const fileDataPromise = new Promise((resolve) => {\n",
              "      const reader = new FileReader();\n",
              "      reader.onload = (e) => {\n",
              "        resolve(e.target.result);\n",
              "      };\n",
              "      reader.readAsArrayBuffer(file);\n",
              "    });\n",
              "    // Wait for the data to be ready.\n",
              "    let fileData = yield {\n",
              "      promise: fileDataPromise,\n",
              "      response: {\n",
              "        action: 'continue',\n",
              "      }\n",
              "    };\n",
              "\n",
              "    // Use a chunked sending to avoid message size limits. See b/62115660.\n",
              "    let position = 0;\n",
              "    do {\n",
              "      const length = Math.min(fileData.byteLength - position, MAX_PAYLOAD_SIZE);\n",
              "      const chunk = new Uint8Array(fileData, position, length);\n",
              "      position += length;\n",
              "\n",
              "      const base64 = btoa(String.fromCharCode.apply(null, chunk));\n",
              "      yield {\n",
              "        response: {\n",
              "          action: 'append',\n",
              "          file: file.name,\n",
              "          data: base64,\n",
              "        },\n",
              "      };\n",
              "\n",
              "      let percentDone = fileData.byteLength === 0 ?\n",
              "          100 :\n",
              "          Math.round((position / fileData.byteLength) * 100);\n",
              "      percent.textContent = `${percentDone}% done`;\n",
              "\n",
              "    } while (position < fileData.byteLength);\n",
              "  }\n",
              "\n",
              "  // All done.\n",
              "  yield {\n",
              "    response: {\n",
              "      action: 'complete',\n",
              "    }\n",
              "  };\n",
              "}\n",
              "\n",
              "scope.google = scope.google || {};\n",
              "scope.google.colab = scope.google.colab || {};\n",
              "scope.google.colab._files = {\n",
              "  _uploadFiles,\n",
              "  _uploadFilesContinue,\n",
              "};\n",
              "})(self);\n",
              "</script> "
            ]
          },
          "metadata": {}
        },
        {
          "output_type": "stream",
          "name": "stdout",
          "text": [
            "Saving env2_entropy.zip to env2_entropy (1).zip\n",
            "✅ Done! Only 'sampen_values' files processed. SD files saved in 'SD_env2_entropy'.\n"
          ]
        }
      ],
      "source": [
        "import os\n",
        "import pandas as pd\n",
        "import zipfile\n",
        "\n",
        "# Step 1: Upload the zipped folder\n",
        "uploaded = files.upload()\n",
        "\n",
        "# Step 2: Unzip the uploaded folder\n",
        "for fn in uploaded.keys():\n",
        "    if fn.endswith(\".zip\"):\n",
        "        with zipfile.ZipFile(fn, 'r') as zip_ref:\n",
        "            zip_ref.extractall(\"env2_entropy\")\n",
        "\n",
        "input_folder = \"env2_entropy/env2_entropy\"\n",
        "output_folder = \"SD_env2_entropy\"\n",
        "\n",
        "os.makedirs(output_folder, exist_ok=True)\n",
        "\n",
        "for filename in sorted(os.listdir(input_folder)):\n",
        "    # Only process files that contain 'sampen_values' and end in .csv\n",
        "    if \"sampen_values\" in filename and filename.endswith(\".csv\"):\n",
        "        input_path = os.path.join(input_folder, filename)\n",
        "\n",
        "        # Read CSV with no header row\n",
        "        df = pd.read_csv(input_path, header=None)\n",
        "\n",
        "        # Compute column-wise standard deviation (across epochs)\n",
        "        sd = df.std(axis=0)\n",
        "\n",
        "        # Save the SD as one row in a CSV\n",
        "        output_path = os.path.join(output_folder, f\"SD_{filename}\")\n",
        "        sd.to_frame().T.to_csv(output_path, index=False, header=False)\n",
        "\n",
        "print(\"✅ Done! Only 'sampen_values' files processed. SD files saved in 'SD_env2_entropy'.\")\n"
      ]
    },
    {
      "cell_type": "code",
      "source": [
        "import shutil\n",
        "\n",
        "# Zip the folder\n",
        "shutil.make_archive(\"SD_env2_entropy\", 'zip', \"SD_env2_entropy\")\n"
      ],
      "metadata": {
        "colab": {
          "base_uri": "https://localhost:8080/",
          "height": 35
        },
        "id": "74ep7hlbXnQr",
        "outputId": "29598642-4739-4455-91f5-26d73d903f4a"
      },
      "execution_count": null,
      "outputs": [
        {
          "output_type": "execute_result",
          "data": {
            "text/plain": [
              "'/content/SD_env2_entropy.zip'"
            ],
            "application/vnd.google.colaboratory.intrinsic+json": {
              "type": "string"
            }
          },
          "metadata": {},
          "execution_count": 9
        }
      ]
    },
    {
      "cell_type": "code",
      "source": [
        "import os\n",
        "import pandas as pd\n",
        "\n",
        "input_folder = \"SD_env2_entropy\"\n",
        "output_file = \"Combined_SD_env2_entropy.csv\"\n",
        "\n",
        "rows = []\n",
        "\n",
        "for filename in sorted(os.listdir(input_folder)):\n",
        "    if filename.endswith(\"_sampen_values.csv\"):\n",
        "        file_path = os.path.join(input_folder, filename)\n",
        "        row = pd.read_csv(file_path, header=None)\n",
        "        rows.append(row.iloc[0])\n",
        "\n",
        "# Combine all rows into a DataFrame\n",
        "combined_df = pd.DataFrame(rows)\n",
        "\n",
        "# Save to CSV\n",
        "combined_df.to_csv(output_file, index=False, header=False)\n",
        "\n",
        "print(\"✅ Combined CSV saved as:\", output_file)\n"
      ],
      "metadata": {
        "colab": {
          "base_uri": "https://localhost:8080/"
        },
        "id": "s3dkfK0yatRm",
        "outputId": "87f16067-b3f2-4d83-c49d-da5d7432b88b"
      },
      "execution_count": null,
      "outputs": [
        {
          "output_type": "stream",
          "name": "stdout",
          "text": [
            "✅ Combined CSV saved as: Combined_SD_env2_entropy.csv\n"
          ]
        }
      ]
    },
    {
      "cell_type": "code",
      "source": [
        "import pandas as pd\n",
        "\n",
        "# Load the two CSV files\n",
        "sd_env1 = pd.read_csv(\"Combined_SD_env1_entropy.csv\", header=None)\n",
        "sd_env2 = pd.read_csv(\"Combined_SD_env2_entropy.csv\", header=None)\n",
        "\n",
        "# Sanity check: They must have the same number of rows and columns\n",
        "assert sd_env1.shape == sd_env2.shape, \"❌ Shape mismatch between env1 and env2 files!\"\n",
        "\n",
        "# Interleave rows: row1 from env1, row1 from env2, row2 from env1, row2 from env2, ...\n",
        "interleaved_rows = [row for pair in zip(sd_env1.values, sd_env2.values) for row in pair]\n",
        "\n",
        "# Create DataFrame\n",
        "sd_combined = pd.DataFrame(interleaved_rows, columns=[f\"SD_Ch{i+1}\" for i in range(sd_env1.shape[1])])\n",
        "\n",
        "# Save to CSV\n",
        "sd_combined.to_csv(\"Interleaved_SD_Entropy.csv\", index=False)\n",
        "\n",
        "print(\"✅ Interleaved SD entropy file saved as 'Interleaved_SD_Entropy.csv'.\")\n"
      ],
      "metadata": {
        "colab": {
          "base_uri": "https://localhost:8080/"
        },
        "id": "uU77MRCxcV4N",
        "outputId": "5a6f66c4-07a6-41d7-fa80-b971545b719d"
      },
      "execution_count": 16,
      "outputs": [
        {
          "output_type": "stream",
          "name": "stdout",
          "text": [
            "✅ Interleaved SD entropy file saved as 'Interleaved_SD_Entropy.csv'.\n"
          ]
        }
      ]
    },
    {
      "cell_type": "code",
      "source": [
        "import os\n",
        "import pandas as pd\n",
        "import re\n",
        "\n",
        "input_folder = \"SD_env1_entropy\"\n",
        "output_file = \"Combined_SD_env1_entropy.csv\"\n",
        "\n",
        "rows = []\n",
        "\n",
        "# Helper function to extract participant number from filename\n",
        "def extract_participant_number(filename):\n",
        "    match = re.search(r'_p(\\d+)_', filename)\n",
        "    return int(match.group(1)) if match else float('inf')  # Put non-matching files at the end\n",
        "\n",
        "# Sort filenames by extracted participant number\n",
        "sorted_filenames = sorted(\n",
        "    [f for f in os.listdir(input_folder) if f.endswith(\"_sampen_values.csv\")],\n",
        "    key=extract_participant_number\n",
        ")\n",
        "\n",
        "for filename in sorted_filenames:\n",
        "    file_path = os.path.join(input_folder, filename)\n",
        "    row = pd.read_csv(file_path, header=None)\n",
        "    rows.append(row.iloc[0])\n",
        "\n",
        "# Combine all rows into a DataFrame\n",
        "combined_df = pd.DataFrame(rows)\n",
        "\n",
        "# Save to CSV\n",
        "combined_df.to_csv(output_file, index=False, header=False)\n",
        "\n",
        "print(\"✅ Combined CSV saved as:\", output_file)\n"
      ],
      "metadata": {
        "colab": {
          "base_uri": "https://localhost:8080/"
        },
        "id": "hVXiRbq6kVfK",
        "outputId": "bfb3d629-c770-4450-eda3-6e6e11a72771"
      },
      "execution_count": 18,
      "outputs": [
        {
          "output_type": "stream",
          "name": "stdout",
          "text": [
            "✅ Combined CSV saved as: Combined_SD_env1_entropy.csv\n"
          ]
        }
      ]
    },
    {
      "cell_type": "code",
      "source": [
        "import pandas as pd\n",
        "\n",
        "# Load the two CSV files\n",
        "sd_env1 = pd.read_csv(\"Combined_SD_env1_entropy.csv\", header=None)\n",
        "sd_env2 = pd.read_csv(\"Combined_SD_env2_entropy.csv\", header=None)\n",
        "\n",
        "# Sanity check: They must have the same number of rows and columns\n",
        "assert sd_env1.shape == sd_env2.shape, \"❌ Shape mismatch between env1 and env2 files!\"\n",
        "\n",
        "# Interleave rows: row1 from env1, row1 from env2, row2 from env1, row2 from env2, ...\n",
        "interleaved_rows = [row for pair in zip(sd_env1.values, sd_env2.values) for row in pair]\n",
        "\n",
        "# Create DataFrame\n",
        "sd_combined = pd.DataFrame(interleaved_rows, columns=[f\"SD_Ch{i+1}\" for i in range(sd_env1.shape[1])])\n",
        "\n",
        "# Save to CSV\n",
        "sd_combined.to_csv(\"Interleaved_SD_Entropy.csv\", index=False)\n",
        "\n",
        "print(\"✅ Interleaved SD entropy file saved as 'Interleaved_SD_Entropy.csv'.\")\n"
      ],
      "metadata": {
        "colab": {
          "base_uri": "https://localhost:8080/"
        },
        "id": "8HOnAsrAk5PD",
        "outputId": "35a9ba75-ba9f-49d6-95c2-2c72b9274acc"
      },
      "execution_count": 19,
      "outputs": [
        {
          "output_type": "stream",
          "name": "stdout",
          "text": [
            "✅ Interleaved SD entropy file saved as 'Interleaved_SD_Entropy.csv'.\n"
          ]
        }
      ]
    }
  ]
}
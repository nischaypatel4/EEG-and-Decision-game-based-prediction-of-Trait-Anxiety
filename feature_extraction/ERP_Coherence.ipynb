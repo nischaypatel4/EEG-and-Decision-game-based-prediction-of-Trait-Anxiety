{
  "nbformat": 4,
  "nbformat_minor": 0,
  "metadata": {
    "colab": {
      "provenance": [],
      "gpuType": "T4"
    },
    "kernelspec": {
      "name": "python3",
      "display_name": "Python 3"
    },
    "language_info": {
      "name": "python"
    },
    "accelerator": "GPU"
  },
  "cells": [
    {
      "cell_type": "markdown",
      "source": [
        "ERP"
      ],
      "metadata": {
        "id": "ViKYHvcFbftR"
      }
    },
    {
      "cell_type": "code",
      "execution_count": null,
      "metadata": {
        "colab": {
          "base_uri": "https://localhost:8080/"
        },
        "id": "0HA5xAWmbXf_",
        "outputId": "893b39ce-7d7b-4960-8496-0f72794b902a"
      },
      "outputs": [
        {
          "output_type": "stream",
          "name": "stdout",
          "text": [
            "Requirement already satisfied: gdown in /usr/local/lib/python3.11/dist-packages (5.2.0)\n",
            "Requirement already satisfied: beautifulsoup4 in /usr/local/lib/python3.11/dist-packages (from gdown) (4.13.3)\n",
            "Requirement already satisfied: filelock in /usr/local/lib/python3.11/dist-packages (from gdown) (3.18.0)\n",
            "Requirement already satisfied: requests[socks] in /usr/local/lib/python3.11/dist-packages (from gdown) (2.32.3)\n",
            "Requirement already satisfied: tqdm in /usr/local/lib/python3.11/dist-packages (from gdown) (4.67.1)\n",
            "Requirement already satisfied: soupsieve>1.2 in /usr/local/lib/python3.11/dist-packages (from beautifulsoup4->gdown) (2.6)\n",
            "Requirement already satisfied: typing-extensions>=4.0.0 in /usr/local/lib/python3.11/dist-packages (from beautifulsoup4->gdown) (4.13.1)\n",
            "Requirement already satisfied: charset-normalizer<4,>=2 in /usr/local/lib/python3.11/dist-packages (from requests[socks]->gdown) (3.4.1)\n",
            "Requirement already satisfied: idna<4,>=2.5 in /usr/local/lib/python3.11/dist-packages (from requests[socks]->gdown) (3.10)\n",
            "Requirement already satisfied: urllib3<3,>=1.21.1 in /usr/local/lib/python3.11/dist-packages (from requests[socks]->gdown) (2.3.0)\n",
            "Requirement already satisfied: certifi>=2017.4.17 in /usr/local/lib/python3.11/dist-packages (from requests[socks]->gdown) (2025.1.31)\n",
            "Requirement already satisfied: PySocks!=1.5.7,>=1.5.6 in /usr/local/lib/python3.11/dist-packages (from requests[socks]->gdown) (1.7.1)\n"
          ]
        }
      ],
      "source": [
        "!pip install -U gdown\n"
      ]
    },
    {
      "cell_type": "code",
      "source": [
        "# Install and import the required libraries\n",
        "!pip install -U -q PyDrive\n",
        "\n",
        "import os\n",
        "import re\n",
        "from pydrive.auth import GoogleAuth\n",
        "from pydrive.drive import GoogleDrive\n",
        "from google.colab import auth\n",
        "from oauth2client.client import GoogleCredentials\n",
        "\n",
        "# Authenticate and create the PyDrive client.\n",
        "auth.authenticate_user()\n",
        "gauth = GoogleAuth()\n",
        "gauth.credentials = GoogleCredentials.get_application_default()\n",
        "drive = GoogleDrive(gauth)\n",
        "\n",
        "# Define the Google Drive folder URL and extract the folder ID.\n",
        "folder_url = 'https://drive.google.com/drive/folders/1jSsZeTk_xmLaTg_RQy4h6jJE7iEDB7Ec'\n",
        "# The folder ID is usually the last part of the URL.\n",
        "folder_id = folder_url.split('/')[-1]\n",
        "\n",
        "# Query the folder for all its files (non-trashed)\n",
        "query = f\"'{folder_id}' in parents and trashed=false\"\n",
        "file_list = drive.ListFile({'q': query}).GetList()\n",
        "\n",
        "# Prepare a pattern that matches the desired files.\n",
        "# The file names should have the format: p<NUMBER>_e1_preprocessed.EXT\n",
        "# where EXT is fdt or set, and the number is between 25 and 48.\n",
        "pattern = re.compile(r\"p(\\d+)_e1_preprocessed\\.(fdt|set)\", re.IGNORECASE)\n",
        "\n",
        "# Iterate over the files and filter them\n",
        "for file in file_list:\n",
        "    match = pattern.fullmatch(file['title'])\n",
        "    if match:\n",
        "        num = int(match.group(1))\n",
        "        if 1<= num <= 54:\n",
        "            print(f\"Downloading {file['title']} ...\")\n",
        "            file.GetContentFile(file['title'])\n",
        "        else:\n",
        "            print(f\"Skipping {file['title']} (number not in range)\")\n",
        "    else:\n",
        "        print(f\"Skipping {file['title']} (pattern not matched)\")\n"
      ],
      "metadata": {
        "colab": {
          "base_uri": "https://localhost:8080/"
        },
        "id": "zDasqx0DQAhz",
        "outputId": "5fa0c3d7-b3c6-46d6-80a8-146a1d5c8eba"
      },
      "execution_count": 15,
      "outputs": [
        {
          "output_type": "stream",
          "name": "stdout",
          "text": [
            "Skipping p49-p54 (pattern not matched)\n",
            "Skipping p25-p48 (pattern not matched)\n",
            "Skipping p1-p24 (pattern not matched)\n",
            "Downloading p1_e1_preprocessed.fdt ...\n",
            "Downloading p1_e1_preprocessed.set ...\n",
            "Downloading p2_e1_preprocessed.fdt ...\n",
            "Downloading p2_e1_preprocessed.set ...\n",
            "Downloading p3_e1_preprocessed.fdt ...\n",
            "Downloading p3_e1_preprocessed.set ...\n",
            "Downloading p4_e1_preprocessed.fdt ...\n",
            "Downloading p4_e1_preprocessed.set ...\n",
            "Downloading p5_e1_preprocessed.fdt ...\n",
            "Downloading p5_e1_preprocessed.set ...\n",
            "Downloading p6_e1_preprocessed.fdt ...\n",
            "Downloading p6_e1_preprocessed.set ...\n",
            "Downloading p54_e1_preprocessed.set ...\n",
            "Downloading p54_e1_preprocessed.fdt ...\n",
            "Downloading p53_e1_preprocessed.set ...\n",
            "Downloading p53_e1_preprocessed.fdt ...\n",
            "Downloading p52_e1_preprocessed.set ...\n",
            "Downloading p52_e1_preprocessed.fdt ...\n",
            "Downloading p51_e1_preprocessed.set ...\n",
            "Downloading p51_e1_preprocessed.fdt ...\n",
            "Downloading p50_e1_preprocessed.set ...\n",
            "Downloading p50_e1_preprocessed.fdt ...\n",
            "Downloading p49_e1_preprocessed.set ...\n",
            "Downloading p49_e1_preprocessed.fdt ...\n",
            "Downloading p48_e1_preprocessed.set ...\n",
            "Downloading p48_e1_preprocessed.fdt ...\n",
            "Downloading p47_e1_preprocessed.set ...\n",
            "Downloading p47_e1_preprocessed.fdt ...\n",
            "Downloading p46_e1_preprocessed.set ...\n",
            "Downloading p46_e1_preprocessed.fdt ...\n",
            "Downloading p45_e1_preprocessed.set ...\n",
            "Downloading p45_e1_preprocessed.fdt ...\n",
            "Downloading p44_e1_preprocessed.set ...\n",
            "Downloading p44_e1_preprocessed.fdt ...\n",
            "Downloading p43_e1_preprocessed.set ...\n",
            "Downloading p43_e1_preprocessed.fdt ...\n",
            "Downloading p42_e1_preprocessed.set ...\n",
            "Downloading p42_e1_preprocessed.fdt ...\n",
            "Downloading p41_e1_preprocessed.set ...\n",
            "Downloading p41_e1_preprocessed.fdt ...\n",
            "Downloading p40_e1_preprocessed.set ...\n",
            "Downloading p40_e1_preprocessed.fdt ...\n",
            "Downloading p39_e1_preprocessed.set ...\n",
            "Downloading p39_e1_preprocessed.fdt ...\n",
            "Downloading p38_e1_preprocessed.set ...\n",
            "Downloading p38_e1_preprocessed.fdt ...\n",
            "Downloading p37_e1_preprocessed.set ...\n",
            "Downloading p37_e1_preprocessed.fdt ...\n",
            "Downloading p36_e1_preprocessed.set ...\n",
            "Downloading p36_e1_preprocessed.fdt ...\n",
            "Downloading p35_e1_preprocessed.set ...\n",
            "Downloading p35_e1_preprocessed.fdt ...\n",
            "Downloading p34_e1_preprocessed.set ...\n",
            "Downloading p34_e1_preprocessed.fdt ...\n",
            "Downloading p33_e1_preprocessed.set ...\n",
            "Downloading p33_e1_preprocessed.fdt ...\n",
            "Downloading p32_e1_preprocessed.set ...\n",
            "Downloading p32_e1_preprocessed.fdt ...\n",
            "Downloading p31_e1_preprocessed.set ...\n",
            "Downloading p31_e1_preprocessed.fdt ...\n",
            "Downloading p30_e1_preprocessed.set ...\n",
            "Downloading p30_e1_preprocessed.fdt ...\n",
            "Downloading p29_e1_preprocessed.set ...\n",
            "Downloading p29_e1_preprocessed.fdt ...\n",
            "Downloading p28_e1_preprocessed.set ...\n",
            "Downloading p28_e1_preprocessed.fdt ...\n",
            "Downloading p27_e1_preprocessed.set ...\n",
            "Downloading p27_e1_preprocessed.fdt ...\n",
            "Downloading p26_e1_preprocessed.set ...\n",
            "Downloading p26_e1_preprocessed.fdt ...\n",
            "Downloading p25_e1_preprocessed.fdt ...\n",
            "Downloading p25_e1_preprocessed.set ...\n",
            "Downloading p24_e1_preprocessed.set ...\n",
            "Downloading p24_e1_preprocessed.fdt ...\n",
            "Downloading p23_e1_preprocessed.set ...\n",
            "Downloading p23_e1_preprocessed.fdt ...\n",
            "Downloading p22_e1_preprocessed.set ...\n",
            "Downloading p22_e1_preprocessed.fdt ...\n",
            "Downloading p21_e1_preprocessed.set ...\n",
            "Downloading p21_e1_preprocessed.fdt ...\n",
            "Downloading p20_e1_preprocessed.set ...\n",
            "Downloading p20_e1_preprocessed.fdt ...\n",
            "Downloading p19_e1_preprocessed.fdt ...\n",
            "Downloading p19_e1_preprocessed.set ...\n",
            "Downloading p18_e1_preprocessed.set ...\n",
            "Downloading p18_e1_preprocessed.fdt ...\n",
            "Downloading p17_e1_preprocessed.set ...\n",
            "Downloading p17_e1_preprocessed.fdt ...\n",
            "Downloading p16_e1_preprocessed.set ...\n",
            "Downloading p16_e1_preprocessed.fdt ...\n",
            "Downloading p15_e1_preprocessed.set ...\n",
            "Downloading p15_e1_preprocessed.fdt ...\n",
            "Downloading p14_e1_preprocessed.set ...\n",
            "Downloading p14_e1_preprocessed.fdt ...\n",
            "Downloading p13_e1_preprocessed.set ...\n",
            "Downloading p13_e1_preprocessed.fdt ...\n",
            "Downloading p12_e1_preprocessed.set ...\n",
            "Downloading p12_e1_preprocessed.fdt ...\n",
            "Downloading p11_e1_preprocessed.set ...\n",
            "Downloading p11_e1_preprocessed.fdt ...\n",
            "Downloading p10_e1_preprocessed.fdt ...\n",
            "Downloading p10_e1_preprocessed.set ...\n",
            "Downloading p9_e1_preprocessed.set ...\n",
            "Downloading p9_e1_preprocessed.fdt ...\n",
            "Downloading p8_e1_preprocessed.set ...\n",
            "Downloading p8_e1_preprocessed.fdt ...\n",
            "Downloading p7_e1_preprocessed.set ...\n",
            "Downloading p7_e1_preprocessed.fdt ...\n"
          ]
        }
      ]
    },
    {
      "cell_type": "code",
      "source": [
        "#!gdown --folder https://drive.google.com/drive/folders/1Rp8Q4RzYxU9jjmdEKJrlIza4vCm34pH1\n"
      ],
      "metadata": {
        "colab": {
          "base_uri": "https://localhost:8080/"
        },
        "id": "aUmcLUl5boIP",
        "outputId": "d8d4fff2-5237-4b9e-d4b7-33b0a6394982"
      },
      "execution_count": null,
      "outputs": [
        {
          "output_type": "stream",
          "name": "stdout",
          "text": [
            "Retrieving folder contents\n",
            "Processing file 19LGR6XrDVLibiaUNvKWOBwigrqlmCKiO Copy of p49_e1_preprocessed.fdt\n",
            "Processing file 1YxeNFxZ5O49-SjTFeT1kt98ejmD8FoM3 Copy of p49_e1_preprocessed.set\n",
            "Processing file 10Te21BHxbwGSHfvQEpKWDut74ODnRHAg Copy of p50_e1_preprocessed.fdt\n",
            "Processing file 1k4h6mxtvcreDI7TT3dbdqGvIM9MbPlsm Copy of p50_e1_preprocessed.set\n",
            "Processing file 12IX8I14fJG9zcNRu-G5Gmo9HLR4mWUsQ Copy of p51_e1_preprocessed.fdt\n",
            "Processing file 1WztW-QC-8ACBaOmAAkZ9jXht5r0-9L3N Copy of p51_e1_preprocessed.set\n",
            "Processing file 1rwCbdzUI574s-ir860HzjNkZWbMgVh0Z Copy of p52_e1_preprocessed.fdt\n",
            "Processing file 1zoRmMDBaopxHuqStCuxSkXC69cOAcRR1 Copy of p52_e1_preprocessed.set\n",
            "Processing file 1QeQp1gVBXgxGstwFaCtqT6drfUNJACaE Copy of p53_e1_preprocessed.fdt\n",
            "Processing file 1BtFIleKLo97p6b7kctaMIX0LPGVloNe6 Copy of p53_e1_preprocessed.set\n",
            "Processing file 1gTHfU0CBH5e9iitxaG8NLLoUqifLPAHv Copy of p54_e1_preprocessed.fdt\n",
            "Processing file 1S26DA5lKlM5hJOH-jq2hQ6jDGFCJDmr8 Copy of p54_e1_preprocessed.set\n",
            "Retrieving folder contents completed\n",
            "Building directory structure\n",
            "Building directory structure completed\n",
            "Downloading...\n",
            "From: https://drive.google.com/uc?id=19LGR6XrDVLibiaUNvKWOBwigrqlmCKiO\n",
            "To: /content/p49-p54/Copy of p49_e1_preprocessed.fdt\n",
            "100% 2.20M/2.20M [00:00<00:00, 19.8MB/s]\n",
            "Downloading...\n",
            "From: https://drive.google.com/uc?id=1YxeNFxZ5O49-SjTFeT1kt98ejmD8FoM3\n",
            "To: /content/p49-p54/Copy of p49_e1_preprocessed.set\n",
            "100% 13.5M/13.5M [00:00<00:00, 21.6MB/s]\n",
            "Downloading...\n",
            "From: https://drive.google.com/uc?id=10Te21BHxbwGSHfvQEpKWDut74ODnRHAg\n",
            "To: /content/p49-p54/Copy of p50_e1_preprocessed.fdt\n",
            "100% 2.63M/2.63M [00:00<00:00, 11.9MB/s]\n",
            "Downloading...\n",
            "From: https://drive.google.com/uc?id=1k4h6mxtvcreDI7TT3dbdqGvIM9MbPlsm\n",
            "To: /content/p49-p54/Copy of p50_e1_preprocessed.set\n",
            "100% 6.14M/6.14M [00:00<00:00, 23.0MB/s]\n",
            "Downloading...\n",
            "From: https://drive.google.com/uc?id=12IX8I14fJG9zcNRu-G5Gmo9HLR4mWUsQ\n",
            "To: /content/p49-p54/Copy of p51_e1_preprocessed.fdt\n",
            "100% 2.72M/2.72M [00:00<00:00, 21.5MB/s]\n",
            "Downloading...\n",
            "From: https://drive.google.com/uc?id=1WztW-QC-8ACBaOmAAkZ9jXht5r0-9L3N\n",
            "To: /content/p49-p54/Copy of p51_e1_preprocessed.set\n",
            "100% 8.41M/8.41M [00:00<00:00, 15.3MB/s]\n",
            "Downloading...\n",
            "From: https://drive.google.com/uc?id=1rwCbdzUI574s-ir860HzjNkZWbMgVh0Z\n",
            "To: /content/p49-p54/Copy of p52_e1_preprocessed.fdt\n",
            "100% 2.72M/2.72M [00:00<00:00, 30.3MB/s]\n",
            "Downloading...\n",
            "From: https://drive.google.com/uc?id=1zoRmMDBaopxHuqStCuxSkXC69cOAcRR1\n",
            "To: /content/p49-p54/Copy of p52_e1_preprocessed.set\n",
            "100% 8.41M/8.41M [00:00<00:00, 29.8MB/s]\n",
            "Downloading...\n",
            "From: https://drive.google.com/uc?id=1QeQp1gVBXgxGstwFaCtqT6drfUNJACaE\n",
            "To: /content/p49-p54/Copy of p53_e1_preprocessed.fdt\n",
            "100% 2.49M/2.49M [00:00<00:00, 61.8MB/s]\n",
            "Downloading...\n",
            "From: https://drive.google.com/uc?id=1BtFIleKLo97p6b7kctaMIX0LPGVloNe6\n",
            "To: /content/p49-p54/Copy of p53_e1_preprocessed.set\n",
            "100% 9.65M/9.65M [00:00<00:00, 33.9MB/s]\n",
            "Downloading...\n",
            "From: https://drive.google.com/uc?id=1gTHfU0CBH5e9iitxaG8NLLoUqifLPAHv\n",
            "To: /content/p49-p54/Copy of p54_e1_preprocessed.fdt\n",
            "100% 3.03M/3.03M [00:00<00:00, 34.9MB/s]\n",
            "Downloading...\n",
            "From: https://drive.google.com/uc?id=1S26DA5lKlM5hJOH-jq2hQ6jDGFCJDmr8\n",
            "To: /content/p49-p54/Copy of p54_e1_preprocessed.set\n",
            "100% 6.28M/6.28M [00:00<00:00, 22.5MB/s]\n",
            "Download completed\n"
          ]
        }
      ]
    },
    {
      "cell_type": "code",
      "source": [
        "!pip install mne pymatreader\n"
      ],
      "metadata": {
        "colab": {
          "base_uri": "https://localhost:8080/"
        },
        "id": "-fYR3QF9brbu",
        "outputId": "47c5614e-13f6-4302-ff8d-e74fdc7456dd"
      },
      "execution_count": 5,
      "outputs": [
        {
          "output_type": "stream",
          "name": "stdout",
          "text": [
            "Requirement already satisfied: mne in /usr/local/lib/python3.11/dist-packages (1.9.0)\n",
            "Collecting pymatreader\n",
            "  Downloading pymatreader-1.0.0-py3-none-any.whl.metadata (1.5 kB)\n",
            "Requirement already satisfied: decorator in /usr/local/lib/python3.11/dist-packages (from mne) (4.4.2)\n",
            "Requirement already satisfied: jinja2 in /usr/local/lib/python3.11/dist-packages (from mne) (3.1.6)\n",
            "Requirement already satisfied: lazy-loader>=0.3 in /usr/local/lib/python3.11/dist-packages (from mne) (0.4)\n",
            "Requirement already satisfied: matplotlib>=3.6 in /usr/local/lib/python3.11/dist-packages (from mne) (3.10.0)\n",
            "Requirement already satisfied: numpy<3,>=1.23 in /usr/local/lib/python3.11/dist-packages (from mne) (2.0.2)\n",
            "Requirement already satisfied: packaging in /usr/local/lib/python3.11/dist-packages (from mne) (24.2)\n",
            "Requirement already satisfied: pooch>=1.5 in /usr/local/lib/python3.11/dist-packages (from mne) (1.8.2)\n",
            "Requirement already satisfied: scipy>=1.9 in /usr/local/lib/python3.11/dist-packages (from mne) (1.14.1)\n",
            "Requirement already satisfied: tqdm in /usr/local/lib/python3.11/dist-packages (from mne) (4.67.1)\n",
            "Requirement already satisfied: h5py in /usr/local/lib/python3.11/dist-packages (from pymatreader) (3.13.0)\n",
            "Collecting xmltodict (from pymatreader)\n",
            "  Downloading xmltodict-0.14.2-py2.py3-none-any.whl.metadata (8.0 kB)\n",
            "Requirement already satisfied: contourpy>=1.0.1 in /usr/local/lib/python3.11/dist-packages (from matplotlib>=3.6->mne) (1.3.1)\n",
            "Requirement already satisfied: cycler>=0.10 in /usr/local/lib/python3.11/dist-packages (from matplotlib>=3.6->mne) (0.12.1)\n",
            "Requirement already satisfied: fonttools>=4.22.0 in /usr/local/lib/python3.11/dist-packages (from matplotlib>=3.6->mne) (4.57.0)\n",
            "Requirement already satisfied: kiwisolver>=1.3.1 in /usr/local/lib/python3.11/dist-packages (from matplotlib>=3.6->mne) (1.4.8)\n",
            "Requirement already satisfied: pillow>=8 in /usr/local/lib/python3.11/dist-packages (from matplotlib>=3.6->mne) (11.1.0)\n",
            "Requirement already satisfied: pyparsing>=2.3.1 in /usr/local/lib/python3.11/dist-packages (from matplotlib>=3.6->mne) (3.2.3)\n",
            "Requirement already satisfied: python-dateutil>=2.7 in /usr/local/lib/python3.11/dist-packages (from matplotlib>=3.6->mne) (2.8.2)\n",
            "Requirement already satisfied: platformdirs>=2.5.0 in /usr/local/lib/python3.11/dist-packages (from pooch>=1.5->mne) (4.3.7)\n",
            "Requirement already satisfied: requests>=2.19.0 in /usr/local/lib/python3.11/dist-packages (from pooch>=1.5->mne) (2.32.3)\n",
            "Requirement already satisfied: MarkupSafe>=2.0 in /usr/local/lib/python3.11/dist-packages (from jinja2->mne) (3.0.2)\n",
            "Requirement already satisfied: six>=1.5 in /usr/local/lib/python3.11/dist-packages (from python-dateutil>=2.7->matplotlib>=3.6->mne) (1.17.0)\n",
            "Requirement already satisfied: charset-normalizer<4,>=2 in /usr/local/lib/python3.11/dist-packages (from requests>=2.19.0->pooch>=1.5->mne) (3.4.1)\n",
            "Requirement already satisfied: idna<4,>=2.5 in /usr/local/lib/python3.11/dist-packages (from requests>=2.19.0->pooch>=1.5->mne) (3.10)\n",
            "Requirement already satisfied: urllib3<3,>=1.21.1 in /usr/local/lib/python3.11/dist-packages (from requests>=2.19.0->pooch>=1.5->mne) (2.3.0)\n",
            "Requirement already satisfied: certifi>=2017.4.17 in /usr/local/lib/python3.11/dist-packages (from requests>=2.19.0->pooch>=1.5->mne) (2025.1.31)\n",
            "Downloading pymatreader-1.0.0-py3-none-any.whl (9.3 kB)\n",
            "Downloading xmltodict-0.14.2-py2.py3-none-any.whl (10.0 kB)\n",
            "Installing collected packages: xmltodict, pymatreader\n",
            "Successfully installed pymatreader-1.0.0 xmltodict-0.14.2\n"
          ]
        }
      ]
    },
    {
      "cell_type": "code",
      "source": [
        "!pip install mne"
      ],
      "metadata": {
        "colab": {
          "base_uri": "https://localhost:8080/"
        },
        "id": "n521oNnjVJii",
        "outputId": "8b9aed58-34c7-42a5-a95f-9e53dd36c57d"
      },
      "execution_count": 4,
      "outputs": [
        {
          "output_type": "stream",
          "name": "stdout",
          "text": [
            "Collecting mne\n",
            "  Downloading mne-1.9.0-py3-none-any.whl.metadata (20 kB)\n",
            "Requirement already satisfied: decorator in /usr/local/lib/python3.11/dist-packages (from mne) (4.4.2)\n",
            "Requirement already satisfied: jinja2 in /usr/local/lib/python3.11/dist-packages (from mne) (3.1.6)\n",
            "Requirement already satisfied: lazy-loader>=0.3 in /usr/local/lib/python3.11/dist-packages (from mne) (0.4)\n",
            "Requirement already satisfied: matplotlib>=3.6 in /usr/local/lib/python3.11/dist-packages (from mne) (3.10.0)\n",
            "Requirement already satisfied: numpy<3,>=1.23 in /usr/local/lib/python3.11/dist-packages (from mne) (2.0.2)\n",
            "Requirement already satisfied: packaging in /usr/local/lib/python3.11/dist-packages (from mne) (24.2)\n",
            "Requirement already satisfied: pooch>=1.5 in /usr/local/lib/python3.11/dist-packages (from mne) (1.8.2)\n",
            "Requirement already satisfied: scipy>=1.9 in /usr/local/lib/python3.11/dist-packages (from mne) (1.14.1)\n",
            "Requirement already satisfied: tqdm in /usr/local/lib/python3.11/dist-packages (from mne) (4.67.1)\n",
            "Requirement already satisfied: contourpy>=1.0.1 in /usr/local/lib/python3.11/dist-packages (from matplotlib>=3.6->mne) (1.3.1)\n",
            "Requirement already satisfied: cycler>=0.10 in /usr/local/lib/python3.11/dist-packages (from matplotlib>=3.6->mne) (0.12.1)\n",
            "Requirement already satisfied: fonttools>=4.22.0 in /usr/local/lib/python3.11/dist-packages (from matplotlib>=3.6->mne) (4.57.0)\n",
            "Requirement already satisfied: kiwisolver>=1.3.1 in /usr/local/lib/python3.11/dist-packages (from matplotlib>=3.6->mne) (1.4.8)\n",
            "Requirement already satisfied: pillow>=8 in /usr/local/lib/python3.11/dist-packages (from matplotlib>=3.6->mne) (11.1.0)\n",
            "Requirement already satisfied: pyparsing>=2.3.1 in /usr/local/lib/python3.11/dist-packages (from matplotlib>=3.6->mne) (3.2.3)\n",
            "Requirement already satisfied: python-dateutil>=2.7 in /usr/local/lib/python3.11/dist-packages (from matplotlib>=3.6->mne) (2.8.2)\n",
            "Requirement already satisfied: platformdirs>=2.5.0 in /usr/local/lib/python3.11/dist-packages (from pooch>=1.5->mne) (4.3.7)\n",
            "Requirement already satisfied: requests>=2.19.0 in /usr/local/lib/python3.11/dist-packages (from pooch>=1.5->mne) (2.32.3)\n",
            "Requirement already satisfied: MarkupSafe>=2.0 in /usr/local/lib/python3.11/dist-packages (from jinja2->mne) (3.0.2)\n",
            "Requirement already satisfied: six>=1.5 in /usr/local/lib/python3.11/dist-packages (from python-dateutil>=2.7->matplotlib>=3.6->mne) (1.17.0)\n",
            "Requirement already satisfied: charset-normalizer<4,>=2 in /usr/local/lib/python3.11/dist-packages (from requests>=2.19.0->pooch>=1.5->mne) (3.4.1)\n",
            "Requirement already satisfied: idna<4,>=2.5 in /usr/local/lib/python3.11/dist-packages (from requests>=2.19.0->pooch>=1.5->mne) (3.10)\n",
            "Requirement already satisfied: urllib3<3,>=1.21.1 in /usr/local/lib/python3.11/dist-packages (from requests>=2.19.0->pooch>=1.5->mne) (2.3.0)\n",
            "Requirement already satisfied: certifi>=2017.4.17 in /usr/local/lib/python3.11/dist-packages (from requests>=2.19.0->pooch>=1.5->mne) (2025.1.31)\n",
            "Downloading mne-1.9.0-py3-none-any.whl (7.4 MB)\n",
            "\u001b[2K   \u001b[90m━━━━━━━━━━━━━━━━━━━━━━━━━━━━━━━━━━━━━━━━\u001b[0m \u001b[32m7.4/7.4 MB\u001b[0m \u001b[31m44.9 MB/s\u001b[0m eta \u001b[36m0:00:00\u001b[0m\n",
            "\u001b[?25hInstalling collected packages: mne\n",
            "Successfully installed mne-1.9.0\n"
          ]
        }
      ]
    },
    {
      "cell_type": "markdown",
      "source": [
        "# Overview"
      ],
      "metadata": {
        "id": "IvMP-HxabwFa"
      }
    },
    {
      "cell_type": "markdown",
      "source": [
        "To extract Event-Related Potential (ERP) features and inter-channel coherence from EEG recordings to analyze neural responses and functional connectivity across different brain regions."
      ],
      "metadata": {
        "id": "__XisVZwn4L8"
      }
    },
    {
      "cell_type": "code",
      "source": [
        "import mne\n",
        "import numpy as np\n",
        "import matplotlib.pyplot as plt\n",
        "from scipy.signal import butter, filtfilt, hilbert\n",
        "import os\n"
      ],
      "metadata": {
        "id": "b7r1FpXFb2uV"
      },
      "execution_count": 6,
      "outputs": []
    },
    {
      "cell_type": "markdown",
      "source": [],
      "metadata": {
        "id": "ZD9Bc8XxZvo1"
      }
    },
    {
      "cell_type": "code",
      "source": [
        "dataset_path = \"/content\"\n",
        "output_base = \"/content/processed_results_4/\""
      ],
      "metadata": {
        "id": "bOYr6wLKb47K"
      },
      "execution_count": 16,
      "outputs": []
    },
    {
      "cell_type": "code",
      "source": [
        "os.makedirs(os.path.join(output_base, \"ERP_for_all\"), exist_ok=True)"
      ],
      "metadata": {
        "id": "VLNfEiHqcERn"
      },
      "execution_count": 17,
      "outputs": []
    },
    {
      "cell_type": "code",
      "source": [
        "os.makedirs(output_base, exist_ok=True)"
      ],
      "metadata": {
        "id": "VCPxFCwFcsVy"
      },
      "execution_count": 18,
      "outputs": []
    },
    {
      "cell_type": "code",
      "source": [
        "set_files = [f for f in os.listdir(dataset_path) if f.endswith('.set') and 'e2' in f]\n"
      ],
      "metadata": {
        "id": "zVwk2X-hcuS9"
      },
      "execution_count": 19,
      "outputs": []
    },
    {
      "cell_type": "markdown",
      "source": [
        "ERP Components Analyzed:\n",
        "\n",
        "P1: [-0.05s, 0.05s]\n",
        "\n",
        "N170: [-0.1s, 0.0s]\n",
        "\n",
        "N200: [-0.1s, 0.0s]\n",
        "\n",
        "P300: [-0.1s, 0.1s]\n",
        "\n",
        "FRN: [-0.1s, 0.0s]\n",
        "\n",
        "LPP: [0.0s, 0.1s]\n",
        "\n",
        "\n",
        "Mean Amplitude across all epochs and channels\n",
        "\n",
        "Peak Amplitude (positive or negative depending on ERP type)"
      ],
      "metadata": {
        "id": "JrSjihujn9Cl"
      }
    },
    {
      "cell_type": "code",
      "source": [
        "# import pandas as pd\n",
        "# import numpy as np\n",
        "# import os\n",
        "# import mne\n",
        "\n",
        "# # Define ERP component time windows (in seconds)\n",
        "# erp_windows = {\n",
        "#     'P1': (-0.05, 0.05),\n",
        "#     'N170': (-0.1, 0.0),\n",
        "#     'N200': (-0.1, 0.0),\n",
        "#     'P300': (-0.1, 0.1),\n",
        "#     'FRN': (0.0, 0.1),\n",
        "#     'LPP': (0.0, 0.1),\n",
        "#     'MMN': (0.0, 0.1)   # Mismatch Negativity\n",
        "# }\n",
        "\n",
        "# # Function to extract ERP features across all channels\n",
        "# def extract_erp_all_channels(epochs, time_window, is_negative=False):\n",
        "#     cropped = epochs.copy().crop(tmin=time_window[0], tmax=time_window[1])\n",
        "#     data = cropped.get_data()\n",
        "#     mean_amp = data.mean(axis=(1, 2))\n",
        "#     peak_amp = data.min(axis=(1, 2)) if is_negative else data.max(axis=(1, 2))\n",
        "#     return mean_amp.reshape(-1, 1), peak_amp.reshape(-1, 1)\n",
        "\n",
        "# # Loop through all .set files\n",
        "# for set_file in set_files:\n",
        "#     file_path = os.path.join(dataset_path, set_file)\n",
        "#     try:\n",
        "#         epochs = mne.io.read_epochs_eeglab(file_path, montage_units=\"auto\")\n",
        "#         erp_features = {}\n",
        "\n",
        "#         for erp_name, time_window in erp_windows.items():\n",
        "#             is_neg = erp_name in ['N170', 'N200', 'FRN', 'MMN']\n",
        "#             mean_amp, peak_amp = extract_erp_all_channels(epochs, time_window, is_negative=is_neg)\n",
        "#             erp_features[f\"{erp_name}_mean\"] = mean_amp\n",
        "#             erp_features[f\"{erp_name}_peak\"] = peak_amp\n",
        "\n",
        "#         # Combine into a DataFrame with headers\n",
        "#         df = pd.DataFrame(np.hstack([erp_features[k] for k in sorted(erp_features)]),\n",
        "#                           columns=sorted(erp_features))\n",
        "\n",
        "#         # Save to CSV\n",
        "#         output_path = os.path.join(output_base, \"ERP_for_all\", f\"{set_file[:-4]}_erp_all_channels.csv\")\n",
        "#         df.to_csv(output_path, index=False)\n",
        "#         print(f\"✅ Processed and saved: {set_file}\")\n",
        "\n",
        "#     except Exception as e:\n",
        "#         print(f\"❌ Failed for {set_file}: {e}\")\n"
      ],
      "metadata": {
        "id": "Pgmvbz1ecxB_"
      },
      "execution_count": 11,
      "outputs": []
    },
    {
      "cell_type": "code",
      "source": [
        "import pandas as pd\n",
        "import numpy as np\n",
        "import os\n",
        "import mne\n",
        "import glob\n",
        "\n",
        "# Define ERP component time windows (in seconds)\n",
        "erp_windows = {\n",
        "    'P1': (-0.05, 0.05),\n",
        "    'N170': (-0.1, 0.0),\n",
        "    'N200': (-0.1, 0.0),\n",
        "    'P300': (-0.1, 0.1),\n",
        "    'FRN': (0.0, 0.1),\n",
        "    'LPP': (0.0, 0.1),\n",
        "    'MMN': (0.0, 0.1)   # Mismatch Negativity\n",
        "}\n",
        "\n",
        "# Function to extract ERP features across all channels\n",
        "def extract_erp_all_channels(epochs, time_window, is_negative=False):\n",
        "    cropped = epochs.copy().crop(tmin=time_window[0], tmax=time_window[1])\n",
        "    data = cropped.get_data()\n",
        "    mean_amp = data.mean(axis=(1, 2))\n",
        "    peak_amp = data.min(axis=(1, 2)) if is_negative else data.max(axis=(1, 2))\n",
        "    return mean_amp.reshape(-1, 1), peak_amp.reshape(-1, 1)\n",
        "\n",
        "# List to store all participant averages\n",
        "all_participant_averages = []\n",
        "\n",
        "# Loop through all .set files\n",
        "for set_file in set_files:\n",
        "    file_path = os.path.join(dataset_path, set_file)\n",
        "    try:\n",
        "        epochs = mne.io.read_epochs_eeglab(file_path, montage_units=\"auto\")\n",
        "        erp_features = {}\n",
        "\n",
        "        for erp_name, time_window in erp_windows.items():\n",
        "            is_neg = erp_name in ['N170', 'N200', 'FRN', 'MMN']\n",
        "            mean_amp, peak_amp = extract_erp_all_channels(epochs, time_window, is_negative=is_neg)\n",
        "            erp_features[f\"{erp_name}_mean\"] = mean_amp\n",
        "            erp_features[f\"{erp_name}_peak\"] = peak_amp\n",
        "\n",
        "        # Combine into a DataFrame with headers\n",
        "        df = pd.DataFrame(np.hstack([erp_features[k] for k in sorted(erp_features)]),\n",
        "                          columns=sorted(erp_features))\n",
        "\n",
        "        # Save individual epoch data to CSV\n",
        "        output_path = os.path.join(output_base, \"ERP_for_all\", f\"{set_file[:-4]}_erp_all_channels.csv\")\n",
        "        df.to_csv(output_path, index=False)\n",
        "        print(f\"✅ Processed and saved: {set_file}\")\n",
        "\n",
        "        # Calculate average across all epochs for this participant\n",
        "        participant_avg = df.mean(axis=0).to_frame().T  # Convert to DataFrame with one row\n",
        "\n",
        "        # Add participant ID as a column\n",
        "        participant_avg['participant_id'] = set_file[:-4]  # Remove .set extension\n",
        "\n",
        "        # Add to our list of participant averages\n",
        "        all_participant_averages.append(participant_avg)\n",
        "\n",
        "    except Exception as e:\n",
        "        print(f\"❌ Failed for {set_file}: {e}\")\n",
        "\n",
        "# Concatenate all participant averages into a single DataFrame\n",
        "if all_participant_averages:\n",
        "    all_participants_df = pd.concat(all_participant_averages, ignore_index=True)\n",
        "\n",
        "    # Save the concatenated averages to CSV\n",
        "    output_concat_path = os.path.join(output_base, \"all_participants_avg_erp.csv\")\n",
        "    all_participants_df.to_csv(output_concat_path, index=False)\n",
        "    print(f\"✅ Concatenated averages saved to: {output_concat_path}\")\n",
        "else:\n",
        "    print(\"❌ No participant data was successfully processed.\")\n",
        "\n",
        "# Alternative approach: load the already saved individual files and average them\n",
        "def average_and_concatenate_saved_files():\n",
        "    # Get all CSV files in the output directory\n",
        "    csv_files = glob.glob(os.path.join(output_base, \"ERP_for_all\", \"*.csv\"))\n",
        "\n",
        "    all_participant_avgs = []\n",
        "\n",
        "    for csv_file in csv_files:\n",
        "        try:\n",
        "            # Extract participant ID from filename\n",
        "            participant_id = os.path.basename(csv_file).replace(\"_erp_all_channels.csv\", \"\")\n",
        "\n",
        "            # Load the CSV file\n",
        "            df = pd.read_csv(csv_file)\n",
        "\n",
        "            # Calculate average across all epochs\n",
        "            participant_avg = df.mean(axis=0).to_frame().T\n",
        "\n",
        "            # Add participant ID\n",
        "            participant_avg['participant_id'] = participant_id\n",
        "\n",
        "            all_participant_avgs.append(participant_avg)\n",
        "            print(f\"✅ Averaged: {participant_id}\")\n",
        "\n",
        "        except Exception as e:\n",
        "            print(f\"❌ Failed to average {csv_file}: {e}\")\n",
        "\n",
        "    # Concatenate all averages\n",
        "    if all_participant_avgs:\n",
        "        all_participants_df = pd.concat(all_participant_avgs, ignore_index=True)\n",
        "\n",
        "        # Save the concatenated file\n",
        "        output_path = os.path.join(output_base, \"all_participants_avg_erp_from_saved.csv\")\n",
        "        all_participants_df.to_csv(output_path, index=False)\n",
        "        print(f\"✅ Concatenated averages saved to: {output_path}\")\n",
        "    else:\n",
        "        print(\"❌ No participant data was successfully processed.\")\n",
        "\n",
        "# Uncomment the line below if you want to use the alternative approach\n",
        "# average_and_concatenate_saved_files()\n"
      ],
      "metadata": {
        "colab": {
          "base_uri": "https://localhost:8080/"
        },
        "id": "35d3DE_1SYKZ",
        "outputId": "7e62c833-ed60-46e8-fb2a-2f733a20d970"
      },
      "execution_count": 20,
      "outputs": [
        {
          "output_type": "stream",
          "name": "stdout",
          "text": [
            "Extracting parameters from /content/p5_e2_preprocessed.set...\n",
            "Not setting metadata\n",
            "63 matching events found\n",
            "No baseline correction applied\n",
            "0 projection items activated\n",
            "Ready.\n"
          ]
        },
        {
          "output_type": "stream",
          "name": "stderr",
          "text": [
            "<ipython-input-20-1213ac7a97e1>:33: RuntimeWarning: At least one epoch has multiple events. Only the latency of the first event will be retained.\n",
            "  epochs = mne.io.read_epochs_eeglab(file_path, montage_units=\"auto\")\n",
            "<ipython-input-20-1213ac7a97e1>:33: RuntimeWarning: Estimated head radius (4.5 cm) is below the 3rd percentile for infant head size. Check if the montage_units argument is correct (the default is \"mm\", but your channel positions may be in different units).\n",
            "  epochs = mne.io.read_epochs_eeglab(file_path, montage_units=\"auto\")\n",
            "<ipython-input-20-1213ac7a97e1>:20: RuntimeWarning: tmax is not in time interval. tmax is set to <class 'mne.io.eeglab.eeglab.EpochsEEGLAB'>.tmax (0.096 s)\n",
            "  cropped = epochs.copy().crop(tmin=time_window[0], tmax=time_window[1])\n",
            "<ipython-input-20-1213ac7a97e1>:20: RuntimeWarning: tmax is not in time interval. tmax is set to <class 'mne.io.eeglab.eeglab.EpochsEEGLAB'>.tmax (0.096 s)\n",
            "  cropped = epochs.copy().crop(tmin=time_window[0], tmax=time_window[1])\n",
            "<ipython-input-20-1213ac7a97e1>:20: RuntimeWarning: tmax is not in time interval. tmax is set to <class 'mne.io.eeglab.eeglab.EpochsEEGLAB'>.tmax (0.096 s)\n",
            "  cropped = epochs.copy().crop(tmin=time_window[0], tmax=time_window[1])\n",
            "<ipython-input-20-1213ac7a97e1>:20: RuntimeWarning: tmax is not in time interval. tmax is set to <class 'mne.io.eeglab.eeglab.EpochsEEGLAB'>.tmax (0.096 s)\n",
            "  cropped = epochs.copy().crop(tmin=time_window[0], tmax=time_window[1])\n"
          ]
        },
        {
          "output_type": "stream",
          "name": "stdout",
          "text": [
            "✅ Processed and saved: p5_e2_preprocessed.set\n",
            "Extracting parameters from /content/p43_e2_preprocessed.set...\n",
            "Not setting metadata\n",
            "82 matching events found\n",
            "No baseline correction applied\n",
            "0 projection items activated\n",
            "Ready.\n",
            "✅ Processed and saved: p43_e2_preprocessed.set\n"
          ]
        },
        {
          "output_type": "stream",
          "name": "stderr",
          "text": [
            "<ipython-input-20-1213ac7a97e1>:33: RuntimeWarning: Estimated head radius (4.5 cm) is below the 3rd percentile for infant head size. Check if the montage_units argument is correct (the default is \"mm\", but your channel positions may be in different units).\n",
            "  epochs = mne.io.read_epochs_eeglab(file_path, montage_units=\"auto\")\n",
            "<ipython-input-20-1213ac7a97e1>:20: RuntimeWarning: tmax is not in time interval. tmax is set to <class 'mne.io.eeglab.eeglab.EpochsEEGLAB'>.tmax (0.096 s)\n",
            "  cropped = epochs.copy().crop(tmin=time_window[0], tmax=time_window[1])\n",
            "<ipython-input-20-1213ac7a97e1>:20: RuntimeWarning: tmax is not in time interval. tmax is set to <class 'mne.io.eeglab.eeglab.EpochsEEGLAB'>.tmax (0.096 s)\n",
            "  cropped = epochs.copy().crop(tmin=time_window[0], tmax=time_window[1])\n",
            "<ipython-input-20-1213ac7a97e1>:20: RuntimeWarning: tmax is not in time interval. tmax is set to <class 'mne.io.eeglab.eeglab.EpochsEEGLAB'>.tmax (0.096 s)\n",
            "  cropped = epochs.copy().crop(tmin=time_window[0], tmax=time_window[1])\n",
            "<ipython-input-20-1213ac7a97e1>:20: RuntimeWarning: tmax is not in time interval. tmax is set to <class 'mne.io.eeglab.eeglab.EpochsEEGLAB'>.tmax (0.096 s)\n",
            "  cropped = epochs.copy().crop(tmin=time_window[0], tmax=time_window[1])\n"
          ]
        },
        {
          "output_type": "stream",
          "name": "stdout",
          "text": [
            "Extracting parameters from /content/p12_e2_preprocessed.set...\n",
            "Not setting metadata\n",
            "79 matching events found\n",
            "No baseline correction applied\n",
            "0 projection items activated\n",
            "Ready.\n"
          ]
        },
        {
          "output_type": "stream",
          "name": "stderr",
          "text": [
            "<ipython-input-20-1213ac7a97e1>:33: RuntimeWarning: At least one epoch has multiple events. Only the latency of the first event will be retained.\n",
            "  epochs = mne.io.read_epochs_eeglab(file_path, montage_units=\"auto\")\n",
            "<ipython-input-20-1213ac7a97e1>:33: RuntimeWarning: Estimated head radius (4.5 cm) is below the 3rd percentile for infant head size. Check if the montage_units argument is correct (the default is \"mm\", but your channel positions may be in different units).\n",
            "  epochs = mne.io.read_epochs_eeglab(file_path, montage_units=\"auto\")\n",
            "<ipython-input-20-1213ac7a97e1>:20: RuntimeWarning: tmax is not in time interval. tmax is set to <class 'mne.io.eeglab.eeglab.EpochsEEGLAB'>.tmax (0.096 s)\n",
            "  cropped = epochs.copy().crop(tmin=time_window[0], tmax=time_window[1])\n",
            "<ipython-input-20-1213ac7a97e1>:20: RuntimeWarning: tmax is not in time interval. tmax is set to <class 'mne.io.eeglab.eeglab.EpochsEEGLAB'>.tmax (0.096 s)\n",
            "  cropped = epochs.copy().crop(tmin=time_window[0], tmax=time_window[1])\n",
            "<ipython-input-20-1213ac7a97e1>:20: RuntimeWarning: tmax is not in time interval. tmax is set to <class 'mne.io.eeglab.eeglab.EpochsEEGLAB'>.tmax (0.096 s)\n",
            "  cropped = epochs.copy().crop(tmin=time_window[0], tmax=time_window[1])\n",
            "<ipython-input-20-1213ac7a97e1>:20: RuntimeWarning: tmax is not in time interval. tmax is set to <class 'mne.io.eeglab.eeglab.EpochsEEGLAB'>.tmax (0.096 s)\n",
            "  cropped = epochs.copy().crop(tmin=time_window[0], tmax=time_window[1])\n"
          ]
        },
        {
          "output_type": "stream",
          "name": "stdout",
          "text": [
            "✅ Processed and saved: p12_e2_preprocessed.set\n",
            "Extracting parameters from /content/p28_e2_preprocessed.set...\n",
            "Not setting metadata\n",
            "71 matching events found\n",
            "No baseline correction applied\n",
            "0 projection items activated\n",
            "Ready.\n",
            "✅ Processed and saved: p28_e2_preprocessed.set\n"
          ]
        },
        {
          "output_type": "stream",
          "name": "stderr",
          "text": [
            "<ipython-input-20-1213ac7a97e1>:33: RuntimeWarning: Estimated head radius (4.5 cm) is below the 3rd percentile for infant head size. Check if the montage_units argument is correct (the default is \"mm\", but your channel positions may be in different units).\n",
            "  epochs = mne.io.read_epochs_eeglab(file_path, montage_units=\"auto\")\n",
            "<ipython-input-20-1213ac7a97e1>:20: RuntimeWarning: tmax is not in time interval. tmax is set to <class 'mne.io.eeglab.eeglab.EpochsEEGLAB'>.tmax (0.096 s)\n",
            "  cropped = epochs.copy().crop(tmin=time_window[0], tmax=time_window[1])\n",
            "<ipython-input-20-1213ac7a97e1>:20: RuntimeWarning: tmax is not in time interval. tmax is set to <class 'mne.io.eeglab.eeglab.EpochsEEGLAB'>.tmax (0.096 s)\n",
            "  cropped = epochs.copy().crop(tmin=time_window[0], tmax=time_window[1])\n",
            "<ipython-input-20-1213ac7a97e1>:20: RuntimeWarning: tmax is not in time interval. tmax is set to <class 'mne.io.eeglab.eeglab.EpochsEEGLAB'>.tmax (0.096 s)\n",
            "  cropped = epochs.copy().crop(tmin=time_window[0], tmax=time_window[1])\n",
            "<ipython-input-20-1213ac7a97e1>:20: RuntimeWarning: tmax is not in time interval. tmax is set to <class 'mne.io.eeglab.eeglab.EpochsEEGLAB'>.tmax (0.096 s)\n",
            "  cropped = epochs.copy().crop(tmin=time_window[0], tmax=time_window[1])\n"
          ]
        },
        {
          "output_type": "stream",
          "name": "stdout",
          "text": [
            "Extracting parameters from /content/p45_e2_preprocessed.set...\n",
            "Not setting metadata\n",
            "75 matching events found\n",
            "No baseline correction applied\n",
            "0 projection items activated\n",
            "Ready.\n",
            "✅ Processed and saved: p45_e2_preprocessed.set\n"
          ]
        },
        {
          "output_type": "stream",
          "name": "stderr",
          "text": [
            "<ipython-input-20-1213ac7a97e1>:33: RuntimeWarning: Estimated head radius (4.5 cm) is below the 3rd percentile for infant head size. Check if the montage_units argument is correct (the default is \"mm\", but your channel positions may be in different units).\n",
            "  epochs = mne.io.read_epochs_eeglab(file_path, montage_units=\"auto\")\n",
            "<ipython-input-20-1213ac7a97e1>:20: RuntimeWarning: tmax is not in time interval. tmax is set to <class 'mne.io.eeglab.eeglab.EpochsEEGLAB'>.tmax (0.096 s)\n",
            "  cropped = epochs.copy().crop(tmin=time_window[0], tmax=time_window[1])\n",
            "<ipython-input-20-1213ac7a97e1>:20: RuntimeWarning: tmax is not in time interval. tmax is set to <class 'mne.io.eeglab.eeglab.EpochsEEGLAB'>.tmax (0.096 s)\n",
            "  cropped = epochs.copy().crop(tmin=time_window[0], tmax=time_window[1])\n",
            "<ipython-input-20-1213ac7a97e1>:20: RuntimeWarning: tmax is not in time interval. tmax is set to <class 'mne.io.eeglab.eeglab.EpochsEEGLAB'>.tmax (0.096 s)\n",
            "  cropped = epochs.copy().crop(tmin=time_window[0], tmax=time_window[1])\n",
            "<ipython-input-20-1213ac7a97e1>:20: RuntimeWarning: tmax is not in time interval. tmax is set to <class 'mne.io.eeglab.eeglab.EpochsEEGLAB'>.tmax (0.096 s)\n",
            "  cropped = epochs.copy().crop(tmin=time_window[0], tmax=time_window[1])\n"
          ]
        },
        {
          "output_type": "stream",
          "name": "stdout",
          "text": [
            "Extracting parameters from /content/p1_e2_preprocessed.set...\n",
            "Not setting metadata\n",
            "54 matching events found\n",
            "No baseline correction applied\n",
            "0 projection items activated\n",
            "Ready.\n",
            "✅ Processed and saved: p1_e2_preprocessed.set\n"
          ]
        },
        {
          "output_type": "stream",
          "name": "stderr",
          "text": [
            "<ipython-input-20-1213ac7a97e1>:33: RuntimeWarning: Estimated head radius (4.6 cm) is below the 3rd percentile for infant head size. Check if the montage_units argument is correct (the default is \"mm\", but your channel positions may be in different units).\n",
            "  epochs = mne.io.read_epochs_eeglab(file_path, montage_units=\"auto\")\n",
            "<ipython-input-20-1213ac7a97e1>:33: RuntimeWarning: Data file name in EEG.data (p1_e2.fdt) is incorrect, the file name must have changed on disk, using the correct file name (p1_e2_preprocessed.fdt).\n",
            "  epochs = mne.io.read_epochs_eeglab(file_path, montage_units=\"auto\")\n",
            "<ipython-input-20-1213ac7a97e1>:20: RuntimeWarning: tmax is not in time interval. tmax is set to <class 'mne.io.eeglab.eeglab.EpochsEEGLAB'>.tmax (0.096 s)\n",
            "  cropped = epochs.copy().crop(tmin=time_window[0], tmax=time_window[1])\n",
            "<ipython-input-20-1213ac7a97e1>:20: RuntimeWarning: tmax is not in time interval. tmax is set to <class 'mne.io.eeglab.eeglab.EpochsEEGLAB'>.tmax (0.096 s)\n",
            "  cropped = epochs.copy().crop(tmin=time_window[0], tmax=time_window[1])\n",
            "<ipython-input-20-1213ac7a97e1>:20: RuntimeWarning: tmax is not in time interval. tmax is set to <class 'mne.io.eeglab.eeglab.EpochsEEGLAB'>.tmax (0.096 s)\n",
            "  cropped = epochs.copy().crop(tmin=time_window[0], tmax=time_window[1])\n",
            "<ipython-input-20-1213ac7a97e1>:20: RuntimeWarning: tmax is not in time interval. tmax is set to <class 'mne.io.eeglab.eeglab.EpochsEEGLAB'>.tmax (0.096 s)\n",
            "  cropped = epochs.copy().crop(tmin=time_window[0], tmax=time_window[1])\n"
          ]
        },
        {
          "output_type": "stream",
          "name": "stdout",
          "text": [
            "Extracting parameters from /content/p20_e2_preprocessed.set...\n",
            "Not setting metadata\n",
            "71 matching events found\n",
            "No baseline correction applied\n",
            "0 projection items activated\n",
            "Ready.\n",
            "✅ Processed and saved: p20_e2_preprocessed.set\n"
          ]
        },
        {
          "output_type": "stream",
          "name": "stderr",
          "text": [
            "<ipython-input-20-1213ac7a97e1>:33: RuntimeWarning: Estimated head radius (4.5 cm) is below the 3rd percentile for infant head size. Check if the montage_units argument is correct (the default is \"mm\", but your channel positions may be in different units).\n",
            "  epochs = mne.io.read_epochs_eeglab(file_path, montage_units=\"auto\")\n",
            "<ipython-input-20-1213ac7a97e1>:20: RuntimeWarning: tmax is not in time interval. tmax is set to <class 'mne.io.eeglab.eeglab.EpochsEEGLAB'>.tmax (0.096 s)\n",
            "  cropped = epochs.copy().crop(tmin=time_window[0], tmax=time_window[1])\n",
            "<ipython-input-20-1213ac7a97e1>:20: RuntimeWarning: tmax is not in time interval. tmax is set to <class 'mne.io.eeglab.eeglab.EpochsEEGLAB'>.tmax (0.096 s)\n",
            "  cropped = epochs.copy().crop(tmin=time_window[0], tmax=time_window[1])\n",
            "<ipython-input-20-1213ac7a97e1>:20: RuntimeWarning: tmax is not in time interval. tmax is set to <class 'mne.io.eeglab.eeglab.EpochsEEGLAB'>.tmax (0.096 s)\n",
            "  cropped = epochs.copy().crop(tmin=time_window[0], tmax=time_window[1])\n",
            "<ipython-input-20-1213ac7a97e1>:20: RuntimeWarning: tmax is not in time interval. tmax is set to <class 'mne.io.eeglab.eeglab.EpochsEEGLAB'>.tmax (0.096 s)\n",
            "  cropped = epochs.copy().crop(tmin=time_window[0], tmax=time_window[1])\n"
          ]
        },
        {
          "output_type": "stream",
          "name": "stdout",
          "text": [
            "Extracting parameters from /content/p19_e2_preprocessed.set...\n",
            "Not setting metadata\n",
            "56 matching events found\n",
            "No baseline correction applied\n",
            "0 projection items activated\n",
            "Ready.\n",
            "✅ Processed and saved: p19_e2_preprocessed.set\n"
          ]
        },
        {
          "output_type": "stream",
          "name": "stderr",
          "text": [
            "<ipython-input-20-1213ac7a97e1>:33: RuntimeWarning: Estimated head radius (4.5 cm) is below the 3rd percentile for infant head size. Check if the montage_units argument is correct (the default is \"mm\", but your channel positions may be in different units).\n",
            "  epochs = mne.io.read_epochs_eeglab(file_path, montage_units=\"auto\")\n",
            "<ipython-input-20-1213ac7a97e1>:20: RuntimeWarning: tmax is not in time interval. tmax is set to <class 'mne.io.eeglab.eeglab.EpochsEEGLAB'>.tmax (0.096 s)\n",
            "  cropped = epochs.copy().crop(tmin=time_window[0], tmax=time_window[1])\n",
            "<ipython-input-20-1213ac7a97e1>:20: RuntimeWarning: tmax is not in time interval. tmax is set to <class 'mne.io.eeglab.eeglab.EpochsEEGLAB'>.tmax (0.096 s)\n",
            "  cropped = epochs.copy().crop(tmin=time_window[0], tmax=time_window[1])\n",
            "<ipython-input-20-1213ac7a97e1>:20: RuntimeWarning: tmax is not in time interval. tmax is set to <class 'mne.io.eeglab.eeglab.EpochsEEGLAB'>.tmax (0.096 s)\n",
            "  cropped = epochs.copy().crop(tmin=time_window[0], tmax=time_window[1])\n",
            "<ipython-input-20-1213ac7a97e1>:20: RuntimeWarning: tmax is not in time interval. tmax is set to <class 'mne.io.eeglab.eeglab.EpochsEEGLAB'>.tmax (0.096 s)\n",
            "  cropped = epochs.copy().crop(tmin=time_window[0], tmax=time_window[1])\n"
          ]
        },
        {
          "output_type": "stream",
          "name": "stdout",
          "text": [
            "Extracting parameters from /content/p23_e2_preprocessed.set...\n",
            "Not setting metadata\n",
            "73 matching events found\n",
            "No baseline correction applied\n",
            "0 projection items activated\n",
            "Ready.\n",
            "✅ Processed and saved: p23_e2_preprocessed.set\n"
          ]
        },
        {
          "output_type": "stream",
          "name": "stderr",
          "text": [
            "<ipython-input-20-1213ac7a97e1>:33: RuntimeWarning: Estimated head radius (4.5 cm) is below the 3rd percentile for infant head size. Check if the montage_units argument is correct (the default is \"mm\", but your channel positions may be in different units).\n",
            "  epochs = mne.io.read_epochs_eeglab(file_path, montage_units=\"auto\")\n",
            "<ipython-input-20-1213ac7a97e1>:20: RuntimeWarning: tmax is not in time interval. tmax is set to <class 'mne.io.eeglab.eeglab.EpochsEEGLAB'>.tmax (0.096 s)\n",
            "  cropped = epochs.copy().crop(tmin=time_window[0], tmax=time_window[1])\n",
            "<ipython-input-20-1213ac7a97e1>:20: RuntimeWarning: tmax is not in time interval. tmax is set to <class 'mne.io.eeglab.eeglab.EpochsEEGLAB'>.tmax (0.096 s)\n",
            "  cropped = epochs.copy().crop(tmin=time_window[0], tmax=time_window[1])\n",
            "<ipython-input-20-1213ac7a97e1>:20: RuntimeWarning: tmax is not in time interval. tmax is set to <class 'mne.io.eeglab.eeglab.EpochsEEGLAB'>.tmax (0.096 s)\n",
            "  cropped = epochs.copy().crop(tmin=time_window[0], tmax=time_window[1])\n",
            "<ipython-input-20-1213ac7a97e1>:20: RuntimeWarning: tmax is not in time interval. tmax is set to <class 'mne.io.eeglab.eeglab.EpochsEEGLAB'>.tmax (0.096 s)\n",
            "  cropped = epochs.copy().crop(tmin=time_window[0], tmax=time_window[1])\n"
          ]
        },
        {
          "output_type": "stream",
          "name": "stdout",
          "text": [
            "Extracting parameters from /content/p44_e2_preprocessed.set...\n",
            "Not setting metadata\n",
            "69 matching events found\n",
            "No baseline correction applied\n",
            "0 projection items activated\n",
            "Ready.\n",
            "✅ Processed and saved: p44_e2_preprocessed.set\n"
          ]
        },
        {
          "output_type": "stream",
          "name": "stderr",
          "text": [
            "<ipython-input-20-1213ac7a97e1>:33: RuntimeWarning: Estimated head radius (4.5 cm) is below the 3rd percentile for infant head size. Check if the montage_units argument is correct (the default is \"mm\", but your channel positions may be in different units).\n",
            "  epochs = mne.io.read_epochs_eeglab(file_path, montage_units=\"auto\")\n",
            "<ipython-input-20-1213ac7a97e1>:20: RuntimeWarning: tmax is not in time interval. tmax is set to <class 'mne.io.eeglab.eeglab.EpochsEEGLAB'>.tmax (0.096 s)\n",
            "  cropped = epochs.copy().crop(tmin=time_window[0], tmax=time_window[1])\n",
            "<ipython-input-20-1213ac7a97e1>:20: RuntimeWarning: tmax is not in time interval. tmax is set to <class 'mne.io.eeglab.eeglab.EpochsEEGLAB'>.tmax (0.096 s)\n",
            "  cropped = epochs.copy().crop(tmin=time_window[0], tmax=time_window[1])\n",
            "<ipython-input-20-1213ac7a97e1>:20: RuntimeWarning: tmax is not in time interval. tmax is set to <class 'mne.io.eeglab.eeglab.EpochsEEGLAB'>.tmax (0.096 s)\n",
            "  cropped = epochs.copy().crop(tmin=time_window[0], tmax=time_window[1])\n",
            "<ipython-input-20-1213ac7a97e1>:20: RuntimeWarning: tmax is not in time interval. tmax is set to <class 'mne.io.eeglab.eeglab.EpochsEEGLAB'>.tmax (0.096 s)\n",
            "  cropped = epochs.copy().crop(tmin=time_window[0], tmax=time_window[1])\n"
          ]
        },
        {
          "output_type": "stream",
          "name": "stdout",
          "text": [
            "Extracting parameters from /content/p14_e2_preprocessed.set...\n",
            "Not setting metadata\n",
            "80 matching events found\n",
            "No baseline correction applied\n",
            "0 projection items activated\n",
            "Ready.\n",
            "✅ Processed and saved: p14_e2_preprocessed.set\n"
          ]
        },
        {
          "output_type": "stream",
          "name": "stderr",
          "text": [
            "<ipython-input-20-1213ac7a97e1>:33: RuntimeWarning: Estimated head radius (4.5 cm) is below the 3rd percentile for infant head size. Check if the montage_units argument is correct (the default is \"mm\", but your channel positions may be in different units).\n",
            "  epochs = mne.io.read_epochs_eeglab(file_path, montage_units=\"auto\")\n",
            "<ipython-input-20-1213ac7a97e1>:20: RuntimeWarning: tmax is not in time interval. tmax is set to <class 'mne.io.eeglab.eeglab.EpochsEEGLAB'>.tmax (0.096 s)\n",
            "  cropped = epochs.copy().crop(tmin=time_window[0], tmax=time_window[1])\n",
            "<ipython-input-20-1213ac7a97e1>:20: RuntimeWarning: tmax is not in time interval. tmax is set to <class 'mne.io.eeglab.eeglab.EpochsEEGLAB'>.tmax (0.096 s)\n",
            "  cropped = epochs.copy().crop(tmin=time_window[0], tmax=time_window[1])\n",
            "<ipython-input-20-1213ac7a97e1>:20: RuntimeWarning: tmax is not in time interval. tmax is set to <class 'mne.io.eeglab.eeglab.EpochsEEGLAB'>.tmax (0.096 s)\n",
            "  cropped = epochs.copy().crop(tmin=time_window[0], tmax=time_window[1])\n",
            "<ipython-input-20-1213ac7a97e1>:20: RuntimeWarning: tmax is not in time interval. tmax is set to <class 'mne.io.eeglab.eeglab.EpochsEEGLAB'>.tmax (0.096 s)\n",
            "  cropped = epochs.copy().crop(tmin=time_window[0], tmax=time_window[1])\n"
          ]
        },
        {
          "output_type": "stream",
          "name": "stdout",
          "text": [
            "Extracting parameters from /content/p7_e2_preprocessed.set...\n",
            "Not setting metadata\n",
            "60 matching events found\n",
            "No baseline correction applied\n",
            "0 projection items activated\n",
            "Ready.\n"
          ]
        },
        {
          "output_type": "stream",
          "name": "stderr",
          "text": [
            "<ipython-input-20-1213ac7a97e1>:33: RuntimeWarning: At least one epoch has multiple events. Only the latency of the first event will be retained.\n",
            "  epochs = mne.io.read_epochs_eeglab(file_path, montage_units=\"auto\")\n",
            "<ipython-input-20-1213ac7a97e1>:33: RuntimeWarning: Estimated head radius (4.5 cm) is below the 3rd percentile for infant head size. Check if the montage_units argument is correct (the default is \"mm\", but your channel positions may be in different units).\n",
            "  epochs = mne.io.read_epochs_eeglab(file_path, montage_units=\"auto\")\n",
            "<ipython-input-20-1213ac7a97e1>:20: RuntimeWarning: tmax is not in time interval. tmax is set to <class 'mne.io.eeglab.eeglab.EpochsEEGLAB'>.tmax (0.096 s)\n",
            "  cropped = epochs.copy().crop(tmin=time_window[0], tmax=time_window[1])\n",
            "<ipython-input-20-1213ac7a97e1>:20: RuntimeWarning: tmax is not in time interval. tmax is set to <class 'mne.io.eeglab.eeglab.EpochsEEGLAB'>.tmax (0.096 s)\n",
            "  cropped = epochs.copy().crop(tmin=time_window[0], tmax=time_window[1])\n",
            "<ipython-input-20-1213ac7a97e1>:20: RuntimeWarning: tmax is not in time interval. tmax is set to <class 'mne.io.eeglab.eeglab.EpochsEEGLAB'>.tmax (0.096 s)\n",
            "  cropped = epochs.copy().crop(tmin=time_window[0], tmax=time_window[1])\n",
            "<ipython-input-20-1213ac7a97e1>:20: RuntimeWarning: tmax is not in time interval. tmax is set to <class 'mne.io.eeglab.eeglab.EpochsEEGLAB'>.tmax (0.096 s)\n",
            "  cropped = epochs.copy().crop(tmin=time_window[0], tmax=time_window[1])\n"
          ]
        },
        {
          "output_type": "stream",
          "name": "stdout",
          "text": [
            "✅ Processed and saved: p7_e2_preprocessed.set\n",
            "Extracting parameters from /content/p46_e2_preprocessed.set...\n",
            "Not setting metadata\n",
            "82 matching events found\n",
            "No baseline correction applied\n",
            "0 projection items activated\n",
            "Ready.\n",
            "✅ Processed and saved: p46_e2_preprocessed.set\n"
          ]
        },
        {
          "output_type": "stream",
          "name": "stderr",
          "text": [
            "<ipython-input-20-1213ac7a97e1>:33: RuntimeWarning: Estimated head radius (4.5 cm) is below the 3rd percentile for infant head size. Check if the montage_units argument is correct (the default is \"mm\", but your channel positions may be in different units).\n",
            "  epochs = mne.io.read_epochs_eeglab(file_path, montage_units=\"auto\")\n",
            "<ipython-input-20-1213ac7a97e1>:20: RuntimeWarning: tmax is not in time interval. tmax is set to <class 'mne.io.eeglab.eeglab.EpochsEEGLAB'>.tmax (0.096 s)\n",
            "  cropped = epochs.copy().crop(tmin=time_window[0], tmax=time_window[1])\n",
            "<ipython-input-20-1213ac7a97e1>:20: RuntimeWarning: tmax is not in time interval. tmax is set to <class 'mne.io.eeglab.eeglab.EpochsEEGLAB'>.tmax (0.096 s)\n",
            "  cropped = epochs.copy().crop(tmin=time_window[0], tmax=time_window[1])\n",
            "<ipython-input-20-1213ac7a97e1>:20: RuntimeWarning: tmax is not in time interval. tmax is set to <class 'mne.io.eeglab.eeglab.EpochsEEGLAB'>.tmax (0.096 s)\n",
            "  cropped = epochs.copy().crop(tmin=time_window[0], tmax=time_window[1])\n",
            "<ipython-input-20-1213ac7a97e1>:20: RuntimeWarning: tmax is not in time interval. tmax is set to <class 'mne.io.eeglab.eeglab.EpochsEEGLAB'>.tmax (0.096 s)\n",
            "  cropped = epochs.copy().crop(tmin=time_window[0], tmax=time_window[1])\n"
          ]
        },
        {
          "output_type": "stream",
          "name": "stdout",
          "text": [
            "Extracting parameters from /content/p21_e2_preprocessed.set...\n",
            "Not setting metadata\n",
            "77 matching events found\n",
            "No baseline correction applied\n",
            "0 projection items activated\n",
            "Ready.\n",
            "✅ Processed and saved: p21_e2_preprocessed.set\n"
          ]
        },
        {
          "output_type": "stream",
          "name": "stderr",
          "text": [
            "<ipython-input-20-1213ac7a97e1>:33: RuntimeWarning: Estimated head radius (4.5 cm) is below the 3rd percentile for infant head size. Check if the montage_units argument is correct (the default is \"mm\", but your channel positions may be in different units).\n",
            "  epochs = mne.io.read_epochs_eeglab(file_path, montage_units=\"auto\")\n",
            "<ipython-input-20-1213ac7a97e1>:20: RuntimeWarning: tmax is not in time interval. tmax is set to <class 'mne.io.eeglab.eeglab.EpochsEEGLAB'>.tmax (0.096 s)\n",
            "  cropped = epochs.copy().crop(tmin=time_window[0], tmax=time_window[1])\n",
            "<ipython-input-20-1213ac7a97e1>:20: RuntimeWarning: tmax is not in time interval. tmax is set to <class 'mne.io.eeglab.eeglab.EpochsEEGLAB'>.tmax (0.096 s)\n",
            "  cropped = epochs.copy().crop(tmin=time_window[0], tmax=time_window[1])\n",
            "<ipython-input-20-1213ac7a97e1>:20: RuntimeWarning: tmax is not in time interval. tmax is set to <class 'mne.io.eeglab.eeglab.EpochsEEGLAB'>.tmax (0.096 s)\n",
            "  cropped = epochs.copy().crop(tmin=time_window[0], tmax=time_window[1])\n",
            "<ipython-input-20-1213ac7a97e1>:20: RuntimeWarning: tmax is not in time interval. tmax is set to <class 'mne.io.eeglab.eeglab.EpochsEEGLAB'>.tmax (0.096 s)\n",
            "  cropped = epochs.copy().crop(tmin=time_window[0], tmax=time_window[1])\n"
          ]
        },
        {
          "output_type": "stream",
          "name": "stdout",
          "text": [
            "Extracting parameters from /content/p16_e2_preprocessed.set...\n",
            "Not setting metadata\n",
            "83 matching events found\n",
            "No baseline correction applied\n",
            "0 projection items activated\n",
            "Ready.\n"
          ]
        },
        {
          "output_type": "stream",
          "name": "stderr",
          "text": [
            "<ipython-input-20-1213ac7a97e1>:33: RuntimeWarning: At least one epoch has multiple events. Only the latency of the first event will be retained.\n",
            "  epochs = mne.io.read_epochs_eeglab(file_path, montage_units=\"auto\")\n",
            "<ipython-input-20-1213ac7a97e1>:33: RuntimeWarning: Estimated head radius (4.5 cm) is below the 3rd percentile for infant head size. Check if the montage_units argument is correct (the default is \"mm\", but your channel positions may be in different units).\n",
            "  epochs = mne.io.read_epochs_eeglab(file_path, montage_units=\"auto\")\n",
            "<ipython-input-20-1213ac7a97e1>:20: RuntimeWarning: tmax is not in time interval. tmax is set to <class 'mne.io.eeglab.eeglab.EpochsEEGLAB'>.tmax (0.096 s)\n",
            "  cropped = epochs.copy().crop(tmin=time_window[0], tmax=time_window[1])\n",
            "<ipython-input-20-1213ac7a97e1>:20: RuntimeWarning: tmax is not in time interval. tmax is set to <class 'mne.io.eeglab.eeglab.EpochsEEGLAB'>.tmax (0.096 s)\n",
            "  cropped = epochs.copy().crop(tmin=time_window[0], tmax=time_window[1])\n",
            "<ipython-input-20-1213ac7a97e1>:20: RuntimeWarning: tmax is not in time interval. tmax is set to <class 'mne.io.eeglab.eeglab.EpochsEEGLAB'>.tmax (0.096 s)\n",
            "  cropped = epochs.copy().crop(tmin=time_window[0], tmax=time_window[1])\n",
            "<ipython-input-20-1213ac7a97e1>:20: RuntimeWarning: tmax is not in time interval. tmax is set to <class 'mne.io.eeglab.eeglab.EpochsEEGLAB'>.tmax (0.096 s)\n",
            "  cropped = epochs.copy().crop(tmin=time_window[0], tmax=time_window[1])\n"
          ]
        },
        {
          "output_type": "stream",
          "name": "stdout",
          "text": [
            "✅ Processed and saved: p16_e2_preprocessed.set\n",
            "Extracting parameters from /content/p32_e2_preprocessed.set...\n",
            "Not setting metadata\n",
            "64 matching events found\n",
            "No baseline correction applied\n",
            "0 projection items activated\n",
            "Ready.\n"
          ]
        },
        {
          "output_type": "stream",
          "name": "stderr",
          "text": [
            "<ipython-input-20-1213ac7a97e1>:33: RuntimeWarning: At least one epoch has multiple events. Only the latency of the first event will be retained.\n",
            "  epochs = mne.io.read_epochs_eeglab(file_path, montage_units=\"auto\")\n",
            "<ipython-input-20-1213ac7a97e1>:33: RuntimeWarning: Estimated head radius (4.5 cm) is below the 3rd percentile for infant head size. Check if the montage_units argument is correct (the default is \"mm\", but your channel positions may be in different units).\n",
            "  epochs = mne.io.read_epochs_eeglab(file_path, montage_units=\"auto\")\n",
            "<ipython-input-20-1213ac7a97e1>:20: RuntimeWarning: tmax is not in time interval. tmax is set to <class 'mne.io.eeglab.eeglab.EpochsEEGLAB'>.tmax (0.096 s)\n",
            "  cropped = epochs.copy().crop(tmin=time_window[0], tmax=time_window[1])\n",
            "<ipython-input-20-1213ac7a97e1>:20: RuntimeWarning: tmax is not in time interval. tmax is set to <class 'mne.io.eeglab.eeglab.EpochsEEGLAB'>.tmax (0.096 s)\n",
            "  cropped = epochs.copy().crop(tmin=time_window[0], tmax=time_window[1])\n",
            "<ipython-input-20-1213ac7a97e1>:20: RuntimeWarning: tmax is not in time interval. tmax is set to <class 'mne.io.eeglab.eeglab.EpochsEEGLAB'>.tmax (0.096 s)\n",
            "  cropped = epochs.copy().crop(tmin=time_window[0], tmax=time_window[1])\n",
            "<ipython-input-20-1213ac7a97e1>:20: RuntimeWarning: tmax is not in time interval. tmax is set to <class 'mne.io.eeglab.eeglab.EpochsEEGLAB'>.tmax (0.096 s)\n",
            "  cropped = epochs.copy().crop(tmin=time_window[0], tmax=time_window[1])\n"
          ]
        },
        {
          "output_type": "stream",
          "name": "stdout",
          "text": [
            "✅ Processed and saved: p32_e2_preprocessed.set\n",
            "Extracting parameters from /content/p31_e2_preprocessed.set...\n",
            "Not setting metadata\n",
            "68 matching events found\n",
            "No baseline correction applied\n",
            "0 projection items activated\n",
            "Ready.\n"
          ]
        },
        {
          "output_type": "stream",
          "name": "stderr",
          "text": [
            "<ipython-input-20-1213ac7a97e1>:33: RuntimeWarning: At least one epoch has multiple events. Only the latency of the first event will be retained.\n",
            "  epochs = mne.io.read_epochs_eeglab(file_path, montage_units=\"auto\")\n",
            "<ipython-input-20-1213ac7a97e1>:33: RuntimeWarning: Estimated head radius (4.5 cm) is below the 3rd percentile for infant head size. Check if the montage_units argument is correct (the default is \"mm\", but your channel positions may be in different units).\n",
            "  epochs = mne.io.read_epochs_eeglab(file_path, montage_units=\"auto\")\n",
            "<ipython-input-20-1213ac7a97e1>:20: RuntimeWarning: tmax is not in time interval. tmax is set to <class 'mne.io.eeglab.eeglab.EpochsEEGLAB'>.tmax (0.096 s)\n",
            "  cropped = epochs.copy().crop(tmin=time_window[0], tmax=time_window[1])\n",
            "<ipython-input-20-1213ac7a97e1>:20: RuntimeWarning: tmax is not in time interval. tmax is set to <class 'mne.io.eeglab.eeglab.EpochsEEGLAB'>.tmax (0.096 s)\n",
            "  cropped = epochs.copy().crop(tmin=time_window[0], tmax=time_window[1])\n",
            "<ipython-input-20-1213ac7a97e1>:20: RuntimeWarning: tmax is not in time interval. tmax is set to <class 'mne.io.eeglab.eeglab.EpochsEEGLAB'>.tmax (0.096 s)\n",
            "  cropped = epochs.copy().crop(tmin=time_window[0], tmax=time_window[1])\n",
            "<ipython-input-20-1213ac7a97e1>:20: RuntimeWarning: tmax is not in time interval. tmax is set to <class 'mne.io.eeglab.eeglab.EpochsEEGLAB'>.tmax (0.096 s)\n",
            "  cropped = epochs.copy().crop(tmin=time_window[0], tmax=time_window[1])\n"
          ]
        },
        {
          "output_type": "stream",
          "name": "stdout",
          "text": [
            "✅ Processed and saved: p31_e2_preprocessed.set\n",
            "Extracting parameters from /content/p4_e2_preprocessed.set...\n",
            "Not setting metadata\n",
            "84 matching events found\n",
            "No baseline correction applied\n",
            "0 projection items activated\n",
            "Ready.\n"
          ]
        },
        {
          "output_type": "stream",
          "name": "stderr",
          "text": [
            "<ipython-input-20-1213ac7a97e1>:33: RuntimeWarning: At least one epoch has multiple events. Only the latency of the first event will be retained.\n",
            "  epochs = mne.io.read_epochs_eeglab(file_path, montage_units=\"auto\")\n",
            "<ipython-input-20-1213ac7a97e1>:33: RuntimeWarning: Estimated head radius (4.5 cm) is below the 3rd percentile for infant head size. Check if the montage_units argument is correct (the default is \"mm\", but your channel positions may be in different units).\n",
            "  epochs = mne.io.read_epochs_eeglab(file_path, montage_units=\"auto\")\n",
            "<ipython-input-20-1213ac7a97e1>:20: RuntimeWarning: tmax is not in time interval. tmax is set to <class 'mne.io.eeglab.eeglab.EpochsEEGLAB'>.tmax (0.096 s)\n",
            "  cropped = epochs.copy().crop(tmin=time_window[0], tmax=time_window[1])\n",
            "<ipython-input-20-1213ac7a97e1>:20: RuntimeWarning: tmax is not in time interval. tmax is set to <class 'mne.io.eeglab.eeglab.EpochsEEGLAB'>.tmax (0.096 s)\n",
            "  cropped = epochs.copy().crop(tmin=time_window[0], tmax=time_window[1])\n",
            "<ipython-input-20-1213ac7a97e1>:20: RuntimeWarning: tmax is not in time interval. tmax is set to <class 'mne.io.eeglab.eeglab.EpochsEEGLAB'>.tmax (0.096 s)\n",
            "  cropped = epochs.copy().crop(tmin=time_window[0], tmax=time_window[1])\n",
            "<ipython-input-20-1213ac7a97e1>:20: RuntimeWarning: tmax is not in time interval. tmax is set to <class 'mne.io.eeglab.eeglab.EpochsEEGLAB'>.tmax (0.096 s)\n",
            "  cropped = epochs.copy().crop(tmin=time_window[0], tmax=time_window[1])\n"
          ]
        },
        {
          "output_type": "stream",
          "name": "stdout",
          "text": [
            "✅ Processed and saved: p4_e2_preprocessed.set\n",
            "Extracting parameters from /content/p18_e2_preprocessed.set...\n",
            "Not setting metadata\n",
            "88 matching events found\n",
            "No baseline correction applied\n",
            "0 projection items activated\n",
            "Ready.\n"
          ]
        },
        {
          "output_type": "stream",
          "name": "stderr",
          "text": [
            "<ipython-input-20-1213ac7a97e1>:33: RuntimeWarning: At least one epoch has multiple events. Only the latency of the first event will be retained.\n",
            "  epochs = mne.io.read_epochs_eeglab(file_path, montage_units=\"auto\")\n",
            "<ipython-input-20-1213ac7a97e1>:33: RuntimeWarning: Estimated head radius (4.5 cm) is below the 3rd percentile for infant head size. Check if the montage_units argument is correct (the default is \"mm\", but your channel positions may be in different units).\n",
            "  epochs = mne.io.read_epochs_eeglab(file_path, montage_units=\"auto\")\n",
            "<ipython-input-20-1213ac7a97e1>:20: RuntimeWarning: tmax is not in time interval. tmax is set to <class 'mne.io.eeglab.eeglab.EpochsEEGLAB'>.tmax (0.096 s)\n",
            "  cropped = epochs.copy().crop(tmin=time_window[0], tmax=time_window[1])\n",
            "<ipython-input-20-1213ac7a97e1>:20: RuntimeWarning: tmax is not in time interval. tmax is set to <class 'mne.io.eeglab.eeglab.EpochsEEGLAB'>.tmax (0.096 s)\n",
            "  cropped = epochs.copy().crop(tmin=time_window[0], tmax=time_window[1])\n",
            "<ipython-input-20-1213ac7a97e1>:20: RuntimeWarning: tmax is not in time interval. tmax is set to <class 'mne.io.eeglab.eeglab.EpochsEEGLAB'>.tmax (0.096 s)\n",
            "  cropped = epochs.copy().crop(tmin=time_window[0], tmax=time_window[1])\n",
            "<ipython-input-20-1213ac7a97e1>:20: RuntimeWarning: tmax is not in time interval. tmax is set to <class 'mne.io.eeglab.eeglab.EpochsEEGLAB'>.tmax (0.096 s)\n",
            "  cropped = epochs.copy().crop(tmin=time_window[0], tmax=time_window[1])\n"
          ]
        },
        {
          "output_type": "stream",
          "name": "stdout",
          "text": [
            "✅ Processed and saved: p18_e2_preprocessed.set\n",
            "Extracting parameters from /content/p51_e2_preprocessed.set...\n",
            "Not setting metadata\n",
            "82 matching events found\n",
            "No baseline correction applied\n",
            "0 projection items activated\n",
            "Ready.\n"
          ]
        },
        {
          "output_type": "stream",
          "name": "stderr",
          "text": [
            "<ipython-input-20-1213ac7a97e1>:33: RuntimeWarning: At least one epoch has multiple events. Only the latency of the first event will be retained.\n",
            "  epochs = mne.io.read_epochs_eeglab(file_path, montage_units=\"auto\")\n",
            "<ipython-input-20-1213ac7a97e1>:33: RuntimeWarning: Estimated head radius (4.5 cm) is below the 3rd percentile for infant head size. Check if the montage_units argument is correct (the default is \"mm\", but your channel positions may be in different units).\n",
            "  epochs = mne.io.read_epochs_eeglab(file_path, montage_units=\"auto\")\n",
            "<ipython-input-20-1213ac7a97e1>:20: RuntimeWarning: tmax is not in time interval. tmax is set to <class 'mne.io.eeglab.eeglab.EpochsEEGLAB'>.tmax (0.096 s)\n",
            "  cropped = epochs.copy().crop(tmin=time_window[0], tmax=time_window[1])\n",
            "<ipython-input-20-1213ac7a97e1>:20: RuntimeWarning: tmax is not in time interval. tmax is set to <class 'mne.io.eeglab.eeglab.EpochsEEGLAB'>.tmax (0.096 s)\n",
            "  cropped = epochs.copy().crop(tmin=time_window[0], tmax=time_window[1])\n",
            "<ipython-input-20-1213ac7a97e1>:20: RuntimeWarning: tmax is not in time interval. tmax is set to <class 'mne.io.eeglab.eeglab.EpochsEEGLAB'>.tmax (0.096 s)\n",
            "  cropped = epochs.copy().crop(tmin=time_window[0], tmax=time_window[1])\n",
            "<ipython-input-20-1213ac7a97e1>:20: RuntimeWarning: tmax is not in time interval. tmax is set to <class 'mne.io.eeglab.eeglab.EpochsEEGLAB'>.tmax (0.096 s)\n",
            "  cropped = epochs.copy().crop(tmin=time_window[0], tmax=time_window[1])\n"
          ]
        },
        {
          "output_type": "stream",
          "name": "stdout",
          "text": [
            "✅ Processed and saved: p51_e2_preprocessed.set\n",
            "Extracting parameters from /content/p34_e2_preprocessed.set...\n",
            "Not setting metadata\n",
            "67 matching events found\n",
            "No baseline correction applied\n",
            "0 projection items activated\n",
            "Ready.\n",
            "✅ Processed and saved: p34_e2_preprocessed.set\n"
          ]
        },
        {
          "output_type": "stream",
          "name": "stderr",
          "text": [
            "<ipython-input-20-1213ac7a97e1>:33: RuntimeWarning: Estimated head radius (4.5 cm) is below the 3rd percentile for infant head size. Check if the montage_units argument is correct (the default is \"mm\", but your channel positions may be in different units).\n",
            "  epochs = mne.io.read_epochs_eeglab(file_path, montage_units=\"auto\")\n",
            "<ipython-input-20-1213ac7a97e1>:20: RuntimeWarning: tmax is not in time interval. tmax is set to <class 'mne.io.eeglab.eeglab.EpochsEEGLAB'>.tmax (0.096 s)\n",
            "  cropped = epochs.copy().crop(tmin=time_window[0], tmax=time_window[1])\n",
            "<ipython-input-20-1213ac7a97e1>:20: RuntimeWarning: tmax is not in time interval. tmax is set to <class 'mne.io.eeglab.eeglab.EpochsEEGLAB'>.tmax (0.096 s)\n",
            "  cropped = epochs.copy().crop(tmin=time_window[0], tmax=time_window[1])\n",
            "<ipython-input-20-1213ac7a97e1>:20: RuntimeWarning: tmax is not in time interval. tmax is set to <class 'mne.io.eeglab.eeglab.EpochsEEGLAB'>.tmax (0.096 s)\n",
            "  cropped = epochs.copy().crop(tmin=time_window[0], tmax=time_window[1])\n",
            "<ipython-input-20-1213ac7a97e1>:20: RuntimeWarning: tmax is not in time interval. tmax is set to <class 'mne.io.eeglab.eeglab.EpochsEEGLAB'>.tmax (0.096 s)\n",
            "  cropped = epochs.copy().crop(tmin=time_window[0], tmax=time_window[1])\n"
          ]
        },
        {
          "output_type": "stream",
          "name": "stdout",
          "text": [
            "Extracting parameters from /content/p17_e2_preprocessed.set...\n",
            "Not setting metadata\n",
            "81 matching events found\n",
            "No baseline correction applied\n",
            "0 projection items activated\n",
            "Ready.\n"
          ]
        },
        {
          "output_type": "stream",
          "name": "stderr",
          "text": [
            "<ipython-input-20-1213ac7a97e1>:33: RuntimeWarning: At least one epoch has multiple events. Only the latency of the first event will be retained.\n",
            "  epochs = mne.io.read_epochs_eeglab(file_path, montage_units=\"auto\")\n",
            "<ipython-input-20-1213ac7a97e1>:33: RuntimeWarning: Estimated head radius (4.5 cm) is below the 3rd percentile for infant head size. Check if the montage_units argument is correct (the default is \"mm\", but your channel positions may be in different units).\n",
            "  epochs = mne.io.read_epochs_eeglab(file_path, montage_units=\"auto\")\n",
            "<ipython-input-20-1213ac7a97e1>:20: RuntimeWarning: tmax is not in time interval. tmax is set to <class 'mne.io.eeglab.eeglab.EpochsEEGLAB'>.tmax (0.096 s)\n",
            "  cropped = epochs.copy().crop(tmin=time_window[0], tmax=time_window[1])\n",
            "<ipython-input-20-1213ac7a97e1>:20: RuntimeWarning: tmax is not in time interval. tmax is set to <class 'mne.io.eeglab.eeglab.EpochsEEGLAB'>.tmax (0.096 s)\n",
            "  cropped = epochs.copy().crop(tmin=time_window[0], tmax=time_window[1])\n",
            "<ipython-input-20-1213ac7a97e1>:20: RuntimeWarning: tmax is not in time interval. tmax is set to <class 'mne.io.eeglab.eeglab.EpochsEEGLAB'>.tmax (0.096 s)\n",
            "  cropped = epochs.copy().crop(tmin=time_window[0], tmax=time_window[1])\n",
            "<ipython-input-20-1213ac7a97e1>:20: RuntimeWarning: tmax is not in time interval. tmax is set to <class 'mne.io.eeglab.eeglab.EpochsEEGLAB'>.tmax (0.096 s)\n",
            "  cropped = epochs.copy().crop(tmin=time_window[0], tmax=time_window[1])\n"
          ]
        },
        {
          "output_type": "stream",
          "name": "stdout",
          "text": [
            "✅ Processed and saved: p17_e2_preprocessed.set\n",
            "Extracting parameters from /content/p2_e2_preprocessed.set...\n",
            "Not setting metadata\n",
            "72 matching events found\n",
            "No baseline correction applied\n",
            "0 projection items activated\n",
            "Ready.\n",
            "✅ Processed and saved: p2_e2_preprocessed.set\n"
          ]
        },
        {
          "output_type": "stream",
          "name": "stderr",
          "text": [
            "<ipython-input-20-1213ac7a97e1>:33: RuntimeWarning: Estimated head radius (4.5 cm) is below the 3rd percentile for infant head size. Check if the montage_units argument is correct (the default is \"mm\", but your channel positions may be in different units).\n",
            "  epochs = mne.io.read_epochs_eeglab(file_path, montage_units=\"auto\")\n",
            "<ipython-input-20-1213ac7a97e1>:20: RuntimeWarning: tmax is not in time interval. tmax is set to <class 'mne.io.eeglab.eeglab.EpochsEEGLAB'>.tmax (0.096 s)\n",
            "  cropped = epochs.copy().crop(tmin=time_window[0], tmax=time_window[1])\n",
            "<ipython-input-20-1213ac7a97e1>:20: RuntimeWarning: tmax is not in time interval. tmax is set to <class 'mne.io.eeglab.eeglab.EpochsEEGLAB'>.tmax (0.096 s)\n",
            "  cropped = epochs.copy().crop(tmin=time_window[0], tmax=time_window[1])\n",
            "<ipython-input-20-1213ac7a97e1>:20: RuntimeWarning: tmax is not in time interval. tmax is set to <class 'mne.io.eeglab.eeglab.EpochsEEGLAB'>.tmax (0.096 s)\n",
            "  cropped = epochs.copy().crop(tmin=time_window[0], tmax=time_window[1])\n",
            "<ipython-input-20-1213ac7a97e1>:20: RuntimeWarning: tmax is not in time interval. tmax is set to <class 'mne.io.eeglab.eeglab.EpochsEEGLAB'>.tmax (0.096 s)\n",
            "  cropped = epochs.copy().crop(tmin=time_window[0], tmax=time_window[1])\n"
          ]
        },
        {
          "output_type": "stream",
          "name": "stdout",
          "text": [
            "Extracting parameters from /content/p52_e2_preprocessed.set...\n",
            "Not setting metadata\n",
            "82 matching events found\n",
            "No baseline correction applied\n",
            "0 projection items activated\n",
            "Ready.\n"
          ]
        },
        {
          "output_type": "stream",
          "name": "stderr",
          "text": [
            "<ipython-input-20-1213ac7a97e1>:33: RuntimeWarning: At least one epoch has multiple events. Only the latency of the first event will be retained.\n",
            "  epochs = mne.io.read_epochs_eeglab(file_path, montage_units=\"auto\")\n",
            "<ipython-input-20-1213ac7a97e1>:33: RuntimeWarning: Estimated head radius (4.5 cm) is below the 3rd percentile for infant head size. Check if the montage_units argument is correct (the default is \"mm\", but your channel positions may be in different units).\n",
            "  epochs = mne.io.read_epochs_eeglab(file_path, montage_units=\"auto\")\n",
            "<ipython-input-20-1213ac7a97e1>:20: RuntimeWarning: tmax is not in time interval. tmax is set to <class 'mne.io.eeglab.eeglab.EpochsEEGLAB'>.tmax (0.096 s)\n",
            "  cropped = epochs.copy().crop(tmin=time_window[0], tmax=time_window[1])\n",
            "<ipython-input-20-1213ac7a97e1>:20: RuntimeWarning: tmax is not in time interval. tmax is set to <class 'mne.io.eeglab.eeglab.EpochsEEGLAB'>.tmax (0.096 s)\n",
            "  cropped = epochs.copy().crop(tmin=time_window[0], tmax=time_window[1])\n",
            "<ipython-input-20-1213ac7a97e1>:20: RuntimeWarning: tmax is not in time interval. tmax is set to <class 'mne.io.eeglab.eeglab.EpochsEEGLAB'>.tmax (0.096 s)\n",
            "  cropped = epochs.copy().crop(tmin=time_window[0], tmax=time_window[1])\n",
            "<ipython-input-20-1213ac7a97e1>:20: RuntimeWarning: tmax is not in time interval. tmax is set to <class 'mne.io.eeglab.eeglab.EpochsEEGLAB'>.tmax (0.096 s)\n",
            "  cropped = epochs.copy().crop(tmin=time_window[0], tmax=time_window[1])\n"
          ]
        },
        {
          "output_type": "stream",
          "name": "stdout",
          "text": [
            "✅ Processed and saved: p52_e2_preprocessed.set\n",
            "Extracting parameters from /content/p22_e2_preprocessed.set...\n",
            "Not setting metadata\n",
            "61 matching events found\n",
            "No baseline correction applied\n",
            "0 projection items activated\n",
            "Ready.\n",
            "✅ Processed and saved: p22_e2_preprocessed.set\n"
          ]
        },
        {
          "output_type": "stream",
          "name": "stderr",
          "text": [
            "<ipython-input-20-1213ac7a97e1>:33: RuntimeWarning: Estimated head radius (4.5 cm) is below the 3rd percentile for infant head size. Check if the montage_units argument is correct (the default is \"mm\", but your channel positions may be in different units).\n",
            "  epochs = mne.io.read_epochs_eeglab(file_path, montage_units=\"auto\")\n",
            "<ipython-input-20-1213ac7a97e1>:20: RuntimeWarning: tmax is not in time interval. tmax is set to <class 'mne.io.eeglab.eeglab.EpochsEEGLAB'>.tmax (0.096 s)\n",
            "  cropped = epochs.copy().crop(tmin=time_window[0], tmax=time_window[1])\n",
            "<ipython-input-20-1213ac7a97e1>:20: RuntimeWarning: tmax is not in time interval. tmax is set to <class 'mne.io.eeglab.eeglab.EpochsEEGLAB'>.tmax (0.096 s)\n",
            "  cropped = epochs.copy().crop(tmin=time_window[0], tmax=time_window[1])\n",
            "<ipython-input-20-1213ac7a97e1>:20: RuntimeWarning: tmax is not in time interval. tmax is set to <class 'mne.io.eeglab.eeglab.EpochsEEGLAB'>.tmax (0.096 s)\n",
            "  cropped = epochs.copy().crop(tmin=time_window[0], tmax=time_window[1])\n",
            "<ipython-input-20-1213ac7a97e1>:20: RuntimeWarning: tmax is not in time interval. tmax is set to <class 'mne.io.eeglab.eeglab.EpochsEEGLAB'>.tmax (0.096 s)\n",
            "  cropped = epochs.copy().crop(tmin=time_window[0], tmax=time_window[1])\n"
          ]
        },
        {
          "output_type": "stream",
          "name": "stdout",
          "text": [
            "Extracting parameters from /content/p40_e2_preprocessed.set...\n",
            "Not setting metadata\n",
            "79 matching events found\n",
            "No baseline correction applied\n",
            "0 projection items activated\n",
            "Ready.\n",
            "✅ Processed and saved: p40_e2_preprocessed.set\n"
          ]
        },
        {
          "output_type": "stream",
          "name": "stderr",
          "text": [
            "<ipython-input-20-1213ac7a97e1>:33: RuntimeWarning: Estimated head radius (4.5 cm) is below the 3rd percentile for infant head size. Check if the montage_units argument is correct (the default is \"mm\", but your channel positions may be in different units).\n",
            "  epochs = mne.io.read_epochs_eeglab(file_path, montage_units=\"auto\")\n",
            "<ipython-input-20-1213ac7a97e1>:20: RuntimeWarning: tmax is not in time interval. tmax is set to <class 'mne.io.eeglab.eeglab.EpochsEEGLAB'>.tmax (0.096 s)\n",
            "  cropped = epochs.copy().crop(tmin=time_window[0], tmax=time_window[1])\n",
            "<ipython-input-20-1213ac7a97e1>:20: RuntimeWarning: tmax is not in time interval. tmax is set to <class 'mne.io.eeglab.eeglab.EpochsEEGLAB'>.tmax (0.096 s)\n",
            "  cropped = epochs.copy().crop(tmin=time_window[0], tmax=time_window[1])\n",
            "<ipython-input-20-1213ac7a97e1>:20: RuntimeWarning: tmax is not in time interval. tmax is set to <class 'mne.io.eeglab.eeglab.EpochsEEGLAB'>.tmax (0.096 s)\n",
            "  cropped = epochs.copy().crop(tmin=time_window[0], tmax=time_window[1])\n",
            "<ipython-input-20-1213ac7a97e1>:20: RuntimeWarning: tmax is not in time interval. tmax is set to <class 'mne.io.eeglab.eeglab.EpochsEEGLAB'>.tmax (0.096 s)\n",
            "  cropped = epochs.copy().crop(tmin=time_window[0], tmax=time_window[1])\n"
          ]
        },
        {
          "output_type": "stream",
          "name": "stdout",
          "text": [
            "Extracting parameters from /content/p49_e2_preprocessed.set...\n",
            "Not setting metadata\n",
            "67 matching events found\n",
            "No baseline correction applied\n",
            "0 projection items activated\n",
            "Ready.\n",
            "✅ Processed and saved: p49_e2_preprocessed.set\n"
          ]
        },
        {
          "output_type": "stream",
          "name": "stderr",
          "text": [
            "<ipython-input-20-1213ac7a97e1>:33: RuntimeWarning: Estimated head radius (4.5 cm) is below the 3rd percentile for infant head size. Check if the montage_units argument is correct (the default is \"mm\", but your channel positions may be in different units).\n",
            "  epochs = mne.io.read_epochs_eeglab(file_path, montage_units=\"auto\")\n",
            "<ipython-input-20-1213ac7a97e1>:20: RuntimeWarning: tmax is not in time interval. tmax is set to <class 'mne.io.eeglab.eeglab.EpochsEEGLAB'>.tmax (0.096 s)\n",
            "  cropped = epochs.copy().crop(tmin=time_window[0], tmax=time_window[1])\n",
            "<ipython-input-20-1213ac7a97e1>:20: RuntimeWarning: tmax is not in time interval. tmax is set to <class 'mne.io.eeglab.eeglab.EpochsEEGLAB'>.tmax (0.096 s)\n",
            "  cropped = epochs.copy().crop(tmin=time_window[0], tmax=time_window[1])\n",
            "<ipython-input-20-1213ac7a97e1>:20: RuntimeWarning: tmax is not in time interval. tmax is set to <class 'mne.io.eeglab.eeglab.EpochsEEGLAB'>.tmax (0.096 s)\n",
            "  cropped = epochs.copy().crop(tmin=time_window[0], tmax=time_window[1])\n",
            "<ipython-input-20-1213ac7a97e1>:20: RuntimeWarning: tmax is not in time interval. tmax is set to <class 'mne.io.eeglab.eeglab.EpochsEEGLAB'>.tmax (0.096 s)\n",
            "  cropped = epochs.copy().crop(tmin=time_window[0], tmax=time_window[1])\n"
          ]
        },
        {
          "output_type": "stream",
          "name": "stdout",
          "text": [
            "Extracting parameters from /content/p10_e2_preprocessed.set...\n",
            "Not setting metadata\n",
            "54 matching events found\n",
            "No baseline correction applied\n",
            "0 projection items activated\n",
            "Ready.\n",
            "✅ Processed and saved: p10_e2_preprocessed.set\n"
          ]
        },
        {
          "output_type": "stream",
          "name": "stderr",
          "text": [
            "<ipython-input-20-1213ac7a97e1>:33: RuntimeWarning: Estimated head radius (4.5 cm) is below the 3rd percentile for infant head size. Check if the montage_units argument is correct (the default is \"mm\", but your channel positions may be in different units).\n",
            "  epochs = mne.io.read_epochs_eeglab(file_path, montage_units=\"auto\")\n",
            "<ipython-input-20-1213ac7a97e1>:20: RuntimeWarning: tmax is not in time interval. tmax is set to <class 'mne.io.eeglab.eeglab.EpochsEEGLAB'>.tmax (0.096 s)\n",
            "  cropped = epochs.copy().crop(tmin=time_window[0], tmax=time_window[1])\n",
            "<ipython-input-20-1213ac7a97e1>:20: RuntimeWarning: tmax is not in time interval. tmax is set to <class 'mne.io.eeglab.eeglab.EpochsEEGLAB'>.tmax (0.096 s)\n",
            "  cropped = epochs.copy().crop(tmin=time_window[0], tmax=time_window[1])\n",
            "<ipython-input-20-1213ac7a97e1>:20: RuntimeWarning: tmax is not in time interval. tmax is set to <class 'mne.io.eeglab.eeglab.EpochsEEGLAB'>.tmax (0.096 s)\n",
            "  cropped = epochs.copy().crop(tmin=time_window[0], tmax=time_window[1])\n",
            "<ipython-input-20-1213ac7a97e1>:20: RuntimeWarning: tmax is not in time interval. tmax is set to <class 'mne.io.eeglab.eeglab.EpochsEEGLAB'>.tmax (0.096 s)\n",
            "  cropped = epochs.copy().crop(tmin=time_window[0], tmax=time_window[1])\n"
          ]
        },
        {
          "output_type": "stream",
          "name": "stdout",
          "text": [
            "Extracting parameters from /content/p33_e2_preprocessed.set...\n",
            "Not setting metadata\n",
            "58 matching events found\n",
            "No baseline correction applied\n",
            "0 projection items activated\n",
            "Ready.\n"
          ]
        },
        {
          "output_type": "stream",
          "name": "stderr",
          "text": [
            "<ipython-input-20-1213ac7a97e1>:33: RuntimeWarning: At least one epoch has multiple events. Only the latency of the first event will be retained.\n",
            "  epochs = mne.io.read_epochs_eeglab(file_path, montage_units=\"auto\")\n",
            "<ipython-input-20-1213ac7a97e1>:33: RuntimeWarning: Estimated head radius (4.5 cm) is below the 3rd percentile for infant head size. Check if the montage_units argument is correct (the default is \"mm\", but your channel positions may be in different units).\n",
            "  epochs = mne.io.read_epochs_eeglab(file_path, montage_units=\"auto\")\n",
            "<ipython-input-20-1213ac7a97e1>:20: RuntimeWarning: tmax is not in time interval. tmax is set to <class 'mne.io.eeglab.eeglab.EpochsEEGLAB'>.tmax (0.096 s)\n",
            "  cropped = epochs.copy().crop(tmin=time_window[0], tmax=time_window[1])\n",
            "<ipython-input-20-1213ac7a97e1>:20: RuntimeWarning: tmax is not in time interval. tmax is set to <class 'mne.io.eeglab.eeglab.EpochsEEGLAB'>.tmax (0.096 s)\n",
            "  cropped = epochs.copy().crop(tmin=time_window[0], tmax=time_window[1])\n",
            "<ipython-input-20-1213ac7a97e1>:20: RuntimeWarning: tmax is not in time interval. tmax is set to <class 'mne.io.eeglab.eeglab.EpochsEEGLAB'>.tmax (0.096 s)\n",
            "  cropped = epochs.copy().crop(tmin=time_window[0], tmax=time_window[1])\n",
            "<ipython-input-20-1213ac7a97e1>:20: RuntimeWarning: tmax is not in time interval. tmax is set to <class 'mne.io.eeglab.eeglab.EpochsEEGLAB'>.tmax (0.096 s)\n",
            "  cropped = epochs.copy().crop(tmin=time_window[0], tmax=time_window[1])\n"
          ]
        },
        {
          "output_type": "stream",
          "name": "stdout",
          "text": [
            "✅ Processed and saved: p33_e2_preprocessed.set\n",
            "Extracting parameters from /content/p54_e2_preprocessed.set...\n",
            "Not setting metadata\n",
            "80 matching events found\n",
            "No baseline correction applied\n",
            "0 projection items activated\n",
            "Ready.\n"
          ]
        },
        {
          "output_type": "stream",
          "name": "stderr",
          "text": [
            "<ipython-input-20-1213ac7a97e1>:33: RuntimeWarning: At least one epoch has multiple events. Only the latency of the first event will be retained.\n",
            "  epochs = mne.io.read_epochs_eeglab(file_path, montage_units=\"auto\")\n",
            "<ipython-input-20-1213ac7a97e1>:33: RuntimeWarning: Estimated head radius (4.5 cm) is below the 3rd percentile for infant head size. Check if the montage_units argument is correct (the default is \"mm\", but your channel positions may be in different units).\n",
            "  epochs = mne.io.read_epochs_eeglab(file_path, montage_units=\"auto\")\n",
            "<ipython-input-20-1213ac7a97e1>:20: RuntimeWarning: tmax is not in time interval. tmax is set to <class 'mne.io.eeglab.eeglab.EpochsEEGLAB'>.tmax (0.096 s)\n",
            "  cropped = epochs.copy().crop(tmin=time_window[0], tmax=time_window[1])\n",
            "<ipython-input-20-1213ac7a97e1>:20: RuntimeWarning: tmax is not in time interval. tmax is set to <class 'mne.io.eeglab.eeglab.EpochsEEGLAB'>.tmax (0.096 s)\n",
            "  cropped = epochs.copy().crop(tmin=time_window[0], tmax=time_window[1])\n",
            "<ipython-input-20-1213ac7a97e1>:20: RuntimeWarning: tmax is not in time interval. tmax is set to <class 'mne.io.eeglab.eeglab.EpochsEEGLAB'>.tmax (0.096 s)\n",
            "  cropped = epochs.copy().crop(tmin=time_window[0], tmax=time_window[1])\n",
            "<ipython-input-20-1213ac7a97e1>:20: RuntimeWarning: tmax is not in time interval. tmax is set to <class 'mne.io.eeglab.eeglab.EpochsEEGLAB'>.tmax (0.096 s)\n",
            "  cropped = epochs.copy().crop(tmin=time_window[0], tmax=time_window[1])\n"
          ]
        },
        {
          "output_type": "stream",
          "name": "stdout",
          "text": [
            "✅ Processed and saved: p54_e2_preprocessed.set\n",
            "Extracting parameters from /content/p37_e2_preprocessed.set...\n",
            "Not setting metadata\n",
            "48 matching events found\n",
            "No baseline correction applied\n",
            "0 projection items activated\n",
            "Ready.\n",
            "✅ Processed and saved: p37_e2_preprocessed.set\n"
          ]
        },
        {
          "output_type": "stream",
          "name": "stderr",
          "text": [
            "<ipython-input-20-1213ac7a97e1>:33: RuntimeWarning: Estimated head radius (4.5 cm) is below the 3rd percentile for infant head size. Check if the montage_units argument is correct (the default is \"mm\", but your channel positions may be in different units).\n",
            "  epochs = mne.io.read_epochs_eeglab(file_path, montage_units=\"auto\")\n",
            "<ipython-input-20-1213ac7a97e1>:20: RuntimeWarning: tmax is not in time interval. tmax is set to <class 'mne.io.eeglab.eeglab.EpochsEEGLAB'>.tmax (0.096 s)\n",
            "  cropped = epochs.copy().crop(tmin=time_window[0], tmax=time_window[1])\n",
            "<ipython-input-20-1213ac7a97e1>:20: RuntimeWarning: tmax is not in time interval. tmax is set to <class 'mne.io.eeglab.eeglab.EpochsEEGLAB'>.tmax (0.096 s)\n",
            "  cropped = epochs.copy().crop(tmin=time_window[0], tmax=time_window[1])\n",
            "<ipython-input-20-1213ac7a97e1>:20: RuntimeWarning: tmax is not in time interval. tmax is set to <class 'mne.io.eeglab.eeglab.EpochsEEGLAB'>.tmax (0.096 s)\n",
            "  cropped = epochs.copy().crop(tmin=time_window[0], tmax=time_window[1])\n",
            "<ipython-input-20-1213ac7a97e1>:20: RuntimeWarning: tmax is not in time interval. tmax is set to <class 'mne.io.eeglab.eeglab.EpochsEEGLAB'>.tmax (0.096 s)\n",
            "  cropped = epochs.copy().crop(tmin=time_window[0], tmax=time_window[1])\n"
          ]
        },
        {
          "output_type": "stream",
          "name": "stdout",
          "text": [
            "Extracting parameters from /content/p13_e2_preprocessed.set...\n",
            "Not setting metadata\n",
            "53 matching events found\n",
            "No baseline correction applied\n",
            "0 projection items activated\n",
            "Ready.\n",
            "✅ Processed and saved: p13_e2_preprocessed.set\n"
          ]
        },
        {
          "output_type": "stream",
          "name": "stderr",
          "text": [
            "<ipython-input-20-1213ac7a97e1>:33: RuntimeWarning: Estimated head radius (4.5 cm) is below the 3rd percentile for infant head size. Check if the montage_units argument is correct (the default is \"mm\", but your channel positions may be in different units).\n",
            "  epochs = mne.io.read_epochs_eeglab(file_path, montage_units=\"auto\")\n",
            "<ipython-input-20-1213ac7a97e1>:20: RuntimeWarning: tmax is not in time interval. tmax is set to <class 'mne.io.eeglab.eeglab.EpochsEEGLAB'>.tmax (0.096 s)\n",
            "  cropped = epochs.copy().crop(tmin=time_window[0], tmax=time_window[1])\n",
            "<ipython-input-20-1213ac7a97e1>:20: RuntimeWarning: tmax is not in time interval. tmax is set to <class 'mne.io.eeglab.eeglab.EpochsEEGLAB'>.tmax (0.096 s)\n",
            "  cropped = epochs.copy().crop(tmin=time_window[0], tmax=time_window[1])\n",
            "<ipython-input-20-1213ac7a97e1>:20: RuntimeWarning: tmax is not in time interval. tmax is set to <class 'mne.io.eeglab.eeglab.EpochsEEGLAB'>.tmax (0.096 s)\n",
            "  cropped = epochs.copy().crop(tmin=time_window[0], tmax=time_window[1])\n",
            "<ipython-input-20-1213ac7a97e1>:20: RuntimeWarning: tmax is not in time interval. tmax is set to <class 'mne.io.eeglab.eeglab.EpochsEEGLAB'>.tmax (0.096 s)\n",
            "  cropped = epochs.copy().crop(tmin=time_window[0], tmax=time_window[1])\n"
          ]
        },
        {
          "output_type": "stream",
          "name": "stdout",
          "text": [
            "Extracting parameters from /content/p27_e2_preprocessed.set...\n",
            "Not setting metadata\n",
            "76 matching events found\n",
            "No baseline correction applied\n",
            "0 projection items activated\n",
            "Ready.\n",
            "✅ Processed and saved: p27_e2_preprocessed.set\n"
          ]
        },
        {
          "output_type": "stream",
          "name": "stderr",
          "text": [
            "<ipython-input-20-1213ac7a97e1>:33: RuntimeWarning: Estimated head radius (4.5 cm) is below the 3rd percentile for infant head size. Check if the montage_units argument is correct (the default is \"mm\", but your channel positions may be in different units).\n",
            "  epochs = mne.io.read_epochs_eeglab(file_path, montage_units=\"auto\")\n",
            "<ipython-input-20-1213ac7a97e1>:20: RuntimeWarning: tmax is not in time interval. tmax is set to <class 'mne.io.eeglab.eeglab.EpochsEEGLAB'>.tmax (0.096 s)\n",
            "  cropped = epochs.copy().crop(tmin=time_window[0], tmax=time_window[1])\n",
            "<ipython-input-20-1213ac7a97e1>:20: RuntimeWarning: tmax is not in time interval. tmax is set to <class 'mne.io.eeglab.eeglab.EpochsEEGLAB'>.tmax (0.096 s)\n",
            "  cropped = epochs.copy().crop(tmin=time_window[0], tmax=time_window[1])\n",
            "<ipython-input-20-1213ac7a97e1>:20: RuntimeWarning: tmax is not in time interval. tmax is set to <class 'mne.io.eeglab.eeglab.EpochsEEGLAB'>.tmax (0.096 s)\n",
            "  cropped = epochs.copy().crop(tmin=time_window[0], tmax=time_window[1])\n",
            "<ipython-input-20-1213ac7a97e1>:20: RuntimeWarning: tmax is not in time interval. tmax is set to <class 'mne.io.eeglab.eeglab.EpochsEEGLAB'>.tmax (0.096 s)\n",
            "  cropped = epochs.copy().crop(tmin=time_window[0], tmax=time_window[1])\n"
          ]
        },
        {
          "output_type": "stream",
          "name": "stdout",
          "text": [
            "Extracting parameters from /content/p35_e2_preprocessed.set...\n",
            "Not setting metadata\n",
            "78 matching events found\n",
            "No baseline correction applied\n",
            "0 projection items activated\n",
            "Ready.\n",
            "✅ Processed and saved: p35_e2_preprocessed.set\n"
          ]
        },
        {
          "output_type": "stream",
          "name": "stderr",
          "text": [
            "<ipython-input-20-1213ac7a97e1>:33: RuntimeWarning: Estimated head radius (4.5 cm) is below the 3rd percentile for infant head size. Check if the montage_units argument is correct (the default is \"mm\", but your channel positions may be in different units).\n",
            "  epochs = mne.io.read_epochs_eeglab(file_path, montage_units=\"auto\")\n",
            "<ipython-input-20-1213ac7a97e1>:20: RuntimeWarning: tmax is not in time interval. tmax is set to <class 'mne.io.eeglab.eeglab.EpochsEEGLAB'>.tmax (0.096 s)\n",
            "  cropped = epochs.copy().crop(tmin=time_window[0], tmax=time_window[1])\n",
            "<ipython-input-20-1213ac7a97e1>:20: RuntimeWarning: tmax is not in time interval. tmax is set to <class 'mne.io.eeglab.eeglab.EpochsEEGLAB'>.tmax (0.096 s)\n",
            "  cropped = epochs.copy().crop(tmin=time_window[0], tmax=time_window[1])\n",
            "<ipython-input-20-1213ac7a97e1>:20: RuntimeWarning: tmax is not in time interval. tmax is set to <class 'mne.io.eeglab.eeglab.EpochsEEGLAB'>.tmax (0.096 s)\n",
            "  cropped = epochs.copy().crop(tmin=time_window[0], tmax=time_window[1])\n",
            "<ipython-input-20-1213ac7a97e1>:20: RuntimeWarning: tmax is not in time interval. tmax is set to <class 'mne.io.eeglab.eeglab.EpochsEEGLAB'>.tmax (0.096 s)\n",
            "  cropped = epochs.copy().crop(tmin=time_window[0], tmax=time_window[1])\n"
          ]
        },
        {
          "output_type": "stream",
          "name": "stdout",
          "text": [
            "Extracting parameters from /content/p15_e2_preprocessed.set...\n",
            "Not setting metadata\n",
            "89 matching events found\n",
            "No baseline correction applied\n",
            "0 projection items activated\n",
            "Ready.\n",
            "✅ Processed and saved: p15_e2_preprocessed.set\n"
          ]
        },
        {
          "output_type": "stream",
          "name": "stderr",
          "text": [
            "<ipython-input-20-1213ac7a97e1>:33: RuntimeWarning: Estimated head radius (4.5 cm) is below the 3rd percentile for infant head size. Check if the montage_units argument is correct (the default is \"mm\", but your channel positions may be in different units).\n",
            "  epochs = mne.io.read_epochs_eeglab(file_path, montage_units=\"auto\")\n",
            "<ipython-input-20-1213ac7a97e1>:20: RuntimeWarning: tmax is not in time interval. tmax is set to <class 'mne.io.eeglab.eeglab.EpochsEEGLAB'>.tmax (0.096 s)\n",
            "  cropped = epochs.copy().crop(tmin=time_window[0], tmax=time_window[1])\n",
            "<ipython-input-20-1213ac7a97e1>:20: RuntimeWarning: tmax is not in time interval. tmax is set to <class 'mne.io.eeglab.eeglab.EpochsEEGLAB'>.tmax (0.096 s)\n",
            "  cropped = epochs.copy().crop(tmin=time_window[0], tmax=time_window[1])\n",
            "<ipython-input-20-1213ac7a97e1>:20: RuntimeWarning: tmax is not in time interval. tmax is set to <class 'mne.io.eeglab.eeglab.EpochsEEGLAB'>.tmax (0.096 s)\n",
            "  cropped = epochs.copy().crop(tmin=time_window[0], tmax=time_window[1])\n",
            "<ipython-input-20-1213ac7a97e1>:20: RuntimeWarning: tmax is not in time interval. tmax is set to <class 'mne.io.eeglab.eeglab.EpochsEEGLAB'>.tmax (0.096 s)\n",
            "  cropped = epochs.copy().crop(tmin=time_window[0], tmax=time_window[1])\n"
          ]
        },
        {
          "output_type": "stream",
          "name": "stdout",
          "text": [
            "Extracting parameters from /content/p36_e2_preprocessed.set...\n",
            "Not setting metadata\n",
            "83 matching events found\n",
            "No baseline correction applied\n",
            "0 projection items activated\n",
            "Ready.\n"
          ]
        },
        {
          "output_type": "stream",
          "name": "stderr",
          "text": [
            "<ipython-input-20-1213ac7a97e1>:33: RuntimeWarning: At least one epoch has multiple events. Only the latency of the first event will be retained.\n",
            "  epochs = mne.io.read_epochs_eeglab(file_path, montage_units=\"auto\")\n",
            "<ipython-input-20-1213ac7a97e1>:33: RuntimeWarning: Estimated head radius (4.5 cm) is below the 3rd percentile for infant head size. Check if the montage_units argument is correct (the default is \"mm\", but your channel positions may be in different units).\n",
            "  epochs = mne.io.read_epochs_eeglab(file_path, montage_units=\"auto\")\n",
            "<ipython-input-20-1213ac7a97e1>:20: RuntimeWarning: tmax is not in time interval. tmax is set to <class 'mne.io.eeglab.eeglab.EpochsEEGLAB'>.tmax (0.096 s)\n",
            "  cropped = epochs.copy().crop(tmin=time_window[0], tmax=time_window[1])\n",
            "<ipython-input-20-1213ac7a97e1>:20: RuntimeWarning: tmax is not in time interval. tmax is set to <class 'mne.io.eeglab.eeglab.EpochsEEGLAB'>.tmax (0.096 s)\n",
            "  cropped = epochs.copy().crop(tmin=time_window[0], tmax=time_window[1])\n",
            "<ipython-input-20-1213ac7a97e1>:20: RuntimeWarning: tmax is not in time interval. tmax is set to <class 'mne.io.eeglab.eeglab.EpochsEEGLAB'>.tmax (0.096 s)\n",
            "  cropped = epochs.copy().crop(tmin=time_window[0], tmax=time_window[1])\n",
            "<ipython-input-20-1213ac7a97e1>:20: RuntimeWarning: tmax is not in time interval. tmax is set to <class 'mne.io.eeglab.eeglab.EpochsEEGLAB'>.tmax (0.096 s)\n",
            "  cropped = epochs.copy().crop(tmin=time_window[0], tmax=time_window[1])\n"
          ]
        },
        {
          "output_type": "stream",
          "name": "stdout",
          "text": [
            "✅ Processed and saved: p36_e2_preprocessed.set\n",
            "Extracting parameters from /content/p47_e2_preprocessed.set...\n",
            "Not setting metadata\n",
            "65 matching events found\n",
            "No baseline correction applied\n",
            "0 projection items activated\n",
            "Ready.\n",
            "✅ Processed and saved: p47_e2_preprocessed.set\n"
          ]
        },
        {
          "output_type": "stream",
          "name": "stderr",
          "text": [
            "<ipython-input-20-1213ac7a97e1>:33: RuntimeWarning: Estimated head radius (4.5 cm) is below the 3rd percentile for infant head size. Check if the montage_units argument is correct (the default is \"mm\", but your channel positions may be in different units).\n",
            "  epochs = mne.io.read_epochs_eeglab(file_path, montage_units=\"auto\")\n",
            "<ipython-input-20-1213ac7a97e1>:20: RuntimeWarning: tmax is not in time interval. tmax is set to <class 'mne.io.eeglab.eeglab.EpochsEEGLAB'>.tmax (0.096 s)\n",
            "  cropped = epochs.copy().crop(tmin=time_window[0], tmax=time_window[1])\n",
            "<ipython-input-20-1213ac7a97e1>:20: RuntimeWarning: tmax is not in time interval. tmax is set to <class 'mne.io.eeglab.eeglab.EpochsEEGLAB'>.tmax (0.096 s)\n",
            "  cropped = epochs.copy().crop(tmin=time_window[0], tmax=time_window[1])\n",
            "<ipython-input-20-1213ac7a97e1>:20: RuntimeWarning: tmax is not in time interval. tmax is set to <class 'mne.io.eeglab.eeglab.EpochsEEGLAB'>.tmax (0.096 s)\n",
            "  cropped = epochs.copy().crop(tmin=time_window[0], tmax=time_window[1])\n",
            "<ipython-input-20-1213ac7a97e1>:20: RuntimeWarning: tmax is not in time interval. tmax is set to <class 'mne.io.eeglab.eeglab.EpochsEEGLAB'>.tmax (0.096 s)\n",
            "  cropped = epochs.copy().crop(tmin=time_window[0], tmax=time_window[1])\n"
          ]
        },
        {
          "output_type": "stream",
          "name": "stdout",
          "text": [
            "Extracting parameters from /content/p29_e2_preprocessed.set...\n",
            "Not setting metadata\n",
            "82 matching events found\n",
            "No baseline correction applied\n",
            "0 projection items activated\n",
            "Ready.\n",
            "✅ Processed and saved: p29_e2_preprocessed.set\n"
          ]
        },
        {
          "output_type": "stream",
          "name": "stderr",
          "text": [
            "<ipython-input-20-1213ac7a97e1>:33: RuntimeWarning: Estimated head radius (4.5 cm) is below the 3rd percentile for infant head size. Check if the montage_units argument is correct (the default is \"mm\", but your channel positions may be in different units).\n",
            "  epochs = mne.io.read_epochs_eeglab(file_path, montage_units=\"auto\")\n",
            "<ipython-input-20-1213ac7a97e1>:20: RuntimeWarning: tmax is not in time interval. tmax is set to <class 'mne.io.eeglab.eeglab.EpochsEEGLAB'>.tmax (0.096 s)\n",
            "  cropped = epochs.copy().crop(tmin=time_window[0], tmax=time_window[1])\n",
            "<ipython-input-20-1213ac7a97e1>:20: RuntimeWarning: tmax is not in time interval. tmax is set to <class 'mne.io.eeglab.eeglab.EpochsEEGLAB'>.tmax (0.096 s)\n",
            "  cropped = epochs.copy().crop(tmin=time_window[0], tmax=time_window[1])\n",
            "<ipython-input-20-1213ac7a97e1>:20: RuntimeWarning: tmax is not in time interval. tmax is set to <class 'mne.io.eeglab.eeglab.EpochsEEGLAB'>.tmax (0.096 s)\n",
            "  cropped = epochs.copy().crop(tmin=time_window[0], tmax=time_window[1])\n",
            "<ipython-input-20-1213ac7a97e1>:20: RuntimeWarning: tmax is not in time interval. tmax is set to <class 'mne.io.eeglab.eeglab.EpochsEEGLAB'>.tmax (0.096 s)\n",
            "  cropped = epochs.copy().crop(tmin=time_window[0], tmax=time_window[1])\n"
          ]
        },
        {
          "output_type": "stream",
          "name": "stdout",
          "text": [
            "Extracting parameters from /content/p48_e2_preprocessed.set...\n",
            "Not setting metadata\n",
            "64 matching events found\n",
            "No baseline correction applied\n",
            "0 projection items activated\n",
            "Ready.\n",
            "✅ Processed and saved: p48_e2_preprocessed.set\n"
          ]
        },
        {
          "output_type": "stream",
          "name": "stderr",
          "text": [
            "<ipython-input-20-1213ac7a97e1>:33: RuntimeWarning: Estimated head radius (4.5 cm) is below the 3rd percentile for infant head size. Check if the montage_units argument is correct (the default is \"mm\", but your channel positions may be in different units).\n",
            "  epochs = mne.io.read_epochs_eeglab(file_path, montage_units=\"auto\")\n",
            "<ipython-input-20-1213ac7a97e1>:20: RuntimeWarning: tmax is not in time interval. tmax is set to <class 'mne.io.eeglab.eeglab.EpochsEEGLAB'>.tmax (0.096 s)\n",
            "  cropped = epochs.copy().crop(tmin=time_window[0], tmax=time_window[1])\n",
            "<ipython-input-20-1213ac7a97e1>:20: RuntimeWarning: tmax is not in time interval. tmax is set to <class 'mne.io.eeglab.eeglab.EpochsEEGLAB'>.tmax (0.096 s)\n",
            "  cropped = epochs.copy().crop(tmin=time_window[0], tmax=time_window[1])\n",
            "<ipython-input-20-1213ac7a97e1>:20: RuntimeWarning: tmax is not in time interval. tmax is set to <class 'mne.io.eeglab.eeglab.EpochsEEGLAB'>.tmax (0.096 s)\n",
            "  cropped = epochs.copy().crop(tmin=time_window[0], tmax=time_window[1])\n",
            "<ipython-input-20-1213ac7a97e1>:20: RuntimeWarning: tmax is not in time interval. tmax is set to <class 'mne.io.eeglab.eeglab.EpochsEEGLAB'>.tmax (0.096 s)\n",
            "  cropped = epochs.copy().crop(tmin=time_window[0], tmax=time_window[1])\n"
          ]
        },
        {
          "output_type": "stream",
          "name": "stdout",
          "text": [
            "Extracting parameters from /content/p38_e2_preprocessed.set...\n",
            "Not setting metadata\n",
            "66 matching events found\n",
            "No baseline correction applied\n",
            "0 projection items activated\n",
            "Ready.\n",
            "✅ Processed and saved: p38_e2_preprocessed.set\n"
          ]
        },
        {
          "output_type": "stream",
          "name": "stderr",
          "text": [
            "<ipython-input-20-1213ac7a97e1>:33: RuntimeWarning: Estimated head radius (4.5 cm) is below the 3rd percentile for infant head size. Check if the montage_units argument is correct (the default is \"mm\", but your channel positions may be in different units).\n",
            "  epochs = mne.io.read_epochs_eeglab(file_path, montage_units=\"auto\")\n",
            "<ipython-input-20-1213ac7a97e1>:20: RuntimeWarning: tmax is not in time interval. tmax is set to <class 'mne.io.eeglab.eeglab.EpochsEEGLAB'>.tmax (0.096 s)\n",
            "  cropped = epochs.copy().crop(tmin=time_window[0], tmax=time_window[1])\n",
            "<ipython-input-20-1213ac7a97e1>:20: RuntimeWarning: tmax is not in time interval. tmax is set to <class 'mne.io.eeglab.eeglab.EpochsEEGLAB'>.tmax (0.096 s)\n",
            "  cropped = epochs.copy().crop(tmin=time_window[0], tmax=time_window[1])\n",
            "<ipython-input-20-1213ac7a97e1>:20: RuntimeWarning: tmax is not in time interval. tmax is set to <class 'mne.io.eeglab.eeglab.EpochsEEGLAB'>.tmax (0.096 s)\n",
            "  cropped = epochs.copy().crop(tmin=time_window[0], tmax=time_window[1])\n",
            "<ipython-input-20-1213ac7a97e1>:20: RuntimeWarning: tmax is not in time interval. tmax is set to <class 'mne.io.eeglab.eeglab.EpochsEEGLAB'>.tmax (0.096 s)\n",
            "  cropped = epochs.copy().crop(tmin=time_window[0], tmax=time_window[1])\n"
          ]
        },
        {
          "output_type": "stream",
          "name": "stdout",
          "text": [
            "Extracting parameters from /content/p30_e2_preprocessed.set...\n",
            "Not setting metadata\n",
            "82 matching events found\n",
            "No baseline correction applied\n",
            "0 projection items activated\n",
            "Ready.\n",
            "✅ Processed and saved: p30_e2_preprocessed.set\n"
          ]
        },
        {
          "output_type": "stream",
          "name": "stderr",
          "text": [
            "<ipython-input-20-1213ac7a97e1>:33: RuntimeWarning: Estimated head radius (4.5 cm) is below the 3rd percentile for infant head size. Check if the montage_units argument is correct (the default is \"mm\", but your channel positions may be in different units).\n",
            "  epochs = mne.io.read_epochs_eeglab(file_path, montage_units=\"auto\")\n",
            "<ipython-input-20-1213ac7a97e1>:20: RuntimeWarning: tmax is not in time interval. tmax is set to <class 'mne.io.eeglab.eeglab.EpochsEEGLAB'>.tmax (0.096 s)\n",
            "  cropped = epochs.copy().crop(tmin=time_window[0], tmax=time_window[1])\n",
            "<ipython-input-20-1213ac7a97e1>:20: RuntimeWarning: tmax is not in time interval. tmax is set to <class 'mne.io.eeglab.eeglab.EpochsEEGLAB'>.tmax (0.096 s)\n",
            "  cropped = epochs.copy().crop(tmin=time_window[0], tmax=time_window[1])\n",
            "<ipython-input-20-1213ac7a97e1>:20: RuntimeWarning: tmax is not in time interval. tmax is set to <class 'mne.io.eeglab.eeglab.EpochsEEGLAB'>.tmax (0.096 s)\n",
            "  cropped = epochs.copy().crop(tmin=time_window[0], tmax=time_window[1])\n",
            "<ipython-input-20-1213ac7a97e1>:20: RuntimeWarning: tmax is not in time interval. tmax is set to <class 'mne.io.eeglab.eeglab.EpochsEEGLAB'>.tmax (0.096 s)\n",
            "  cropped = epochs.copy().crop(tmin=time_window[0], tmax=time_window[1])\n"
          ]
        },
        {
          "output_type": "stream",
          "name": "stdout",
          "text": [
            "Extracting parameters from /content/p9_e2_preprocessed.set...\n",
            "Not setting metadata\n",
            "77 matching events found\n",
            "No baseline correction applied\n",
            "0 projection items activated\n",
            "Ready.\n",
            "✅ Processed and saved: p9_e2_preprocessed.set\n"
          ]
        },
        {
          "output_type": "stream",
          "name": "stderr",
          "text": [
            "<ipython-input-20-1213ac7a97e1>:33: RuntimeWarning: Estimated head radius (4.5 cm) is below the 3rd percentile for infant head size. Check if the montage_units argument is correct (the default is \"mm\", but your channel positions may be in different units).\n",
            "  epochs = mne.io.read_epochs_eeglab(file_path, montage_units=\"auto\")\n",
            "<ipython-input-20-1213ac7a97e1>:20: RuntimeWarning: tmax is not in time interval. tmax is set to <class 'mne.io.eeglab.eeglab.EpochsEEGLAB'>.tmax (0.096 s)\n",
            "  cropped = epochs.copy().crop(tmin=time_window[0], tmax=time_window[1])\n",
            "<ipython-input-20-1213ac7a97e1>:20: RuntimeWarning: tmax is not in time interval. tmax is set to <class 'mne.io.eeglab.eeglab.EpochsEEGLAB'>.tmax (0.096 s)\n",
            "  cropped = epochs.copy().crop(tmin=time_window[0], tmax=time_window[1])\n",
            "<ipython-input-20-1213ac7a97e1>:20: RuntimeWarning: tmax is not in time interval. tmax is set to <class 'mne.io.eeglab.eeglab.EpochsEEGLAB'>.tmax (0.096 s)\n",
            "  cropped = epochs.copy().crop(tmin=time_window[0], tmax=time_window[1])\n",
            "<ipython-input-20-1213ac7a97e1>:20: RuntimeWarning: tmax is not in time interval. tmax is set to <class 'mne.io.eeglab.eeglab.EpochsEEGLAB'>.tmax (0.096 s)\n",
            "  cropped = epochs.copy().crop(tmin=time_window[0], tmax=time_window[1])\n"
          ]
        },
        {
          "output_type": "stream",
          "name": "stdout",
          "text": [
            "Extracting parameters from /content/p53_e2_preprocessed.set...\n",
            "Not setting metadata\n",
            "74 matching events found\n",
            "No baseline correction applied\n",
            "0 projection items activated\n",
            "Ready.\n",
            "✅ Processed and saved: p53_e2_preprocessed.set\n"
          ]
        },
        {
          "output_type": "stream",
          "name": "stderr",
          "text": [
            "<ipython-input-20-1213ac7a97e1>:33: RuntimeWarning: Estimated head radius (4.5 cm) is below the 3rd percentile for infant head size. Check if the montage_units argument is correct (the default is \"mm\", but your channel positions may be in different units).\n",
            "  epochs = mne.io.read_epochs_eeglab(file_path, montage_units=\"auto\")\n",
            "<ipython-input-20-1213ac7a97e1>:20: RuntimeWarning: tmax is not in time interval. tmax is set to <class 'mne.io.eeglab.eeglab.EpochsEEGLAB'>.tmax (0.096 s)\n",
            "  cropped = epochs.copy().crop(tmin=time_window[0], tmax=time_window[1])\n",
            "<ipython-input-20-1213ac7a97e1>:20: RuntimeWarning: tmax is not in time interval. tmax is set to <class 'mne.io.eeglab.eeglab.EpochsEEGLAB'>.tmax (0.096 s)\n",
            "  cropped = epochs.copy().crop(tmin=time_window[0], tmax=time_window[1])\n",
            "<ipython-input-20-1213ac7a97e1>:20: RuntimeWarning: tmax is not in time interval. tmax is set to <class 'mne.io.eeglab.eeglab.EpochsEEGLAB'>.tmax (0.096 s)\n",
            "  cropped = epochs.copy().crop(tmin=time_window[0], tmax=time_window[1])\n",
            "<ipython-input-20-1213ac7a97e1>:20: RuntimeWarning: tmax is not in time interval. tmax is set to <class 'mne.io.eeglab.eeglab.EpochsEEGLAB'>.tmax (0.096 s)\n",
            "  cropped = epochs.copy().crop(tmin=time_window[0], tmax=time_window[1])\n"
          ]
        },
        {
          "output_type": "stream",
          "name": "stdout",
          "text": [
            "Extracting parameters from /content/p24_e2_preprocessed.set...\n",
            "Not setting metadata\n",
            "74 matching events found\n",
            "No baseline correction applied\n",
            "0 projection items activated\n",
            "Ready.\n"
          ]
        },
        {
          "output_type": "stream",
          "name": "stderr",
          "text": [
            "<ipython-input-20-1213ac7a97e1>:33: RuntimeWarning: At least one epoch has multiple events. Only the latency of the first event will be retained.\n",
            "  epochs = mne.io.read_epochs_eeglab(file_path, montage_units=\"auto\")\n",
            "<ipython-input-20-1213ac7a97e1>:33: RuntimeWarning: Estimated head radius (4.5 cm) is below the 3rd percentile for infant head size. Check if the montage_units argument is correct (the default is \"mm\", but your channel positions may be in different units).\n",
            "  epochs = mne.io.read_epochs_eeglab(file_path, montage_units=\"auto\")\n",
            "<ipython-input-20-1213ac7a97e1>:20: RuntimeWarning: tmax is not in time interval. tmax is set to <class 'mne.io.eeglab.eeglab.EpochsEEGLAB'>.tmax (0.096 s)\n",
            "  cropped = epochs.copy().crop(tmin=time_window[0], tmax=time_window[1])\n",
            "<ipython-input-20-1213ac7a97e1>:20: RuntimeWarning: tmax is not in time interval. tmax is set to <class 'mne.io.eeglab.eeglab.EpochsEEGLAB'>.tmax (0.096 s)\n",
            "  cropped = epochs.copy().crop(tmin=time_window[0], tmax=time_window[1])\n",
            "<ipython-input-20-1213ac7a97e1>:20: RuntimeWarning: tmax is not in time interval. tmax is set to <class 'mne.io.eeglab.eeglab.EpochsEEGLAB'>.tmax (0.096 s)\n",
            "  cropped = epochs.copy().crop(tmin=time_window[0], tmax=time_window[1])\n",
            "<ipython-input-20-1213ac7a97e1>:20: RuntimeWarning: tmax is not in time interval. tmax is set to <class 'mne.io.eeglab.eeglab.EpochsEEGLAB'>.tmax (0.096 s)\n",
            "  cropped = epochs.copy().crop(tmin=time_window[0], tmax=time_window[1])\n"
          ]
        },
        {
          "output_type": "stream",
          "name": "stdout",
          "text": [
            "✅ Processed and saved: p24_e2_preprocessed.set\n",
            "Extracting parameters from /content/p25_e2_preprocessed.set...\n",
            "Not setting metadata\n",
            "81 matching events found\n",
            "No baseline correction applied\n",
            "0 projection items activated\n",
            "Ready.\n"
          ]
        },
        {
          "output_type": "stream",
          "name": "stderr",
          "text": [
            "<ipython-input-20-1213ac7a97e1>:33: RuntimeWarning: At least one epoch has multiple events. Only the latency of the first event will be retained.\n",
            "  epochs = mne.io.read_epochs_eeglab(file_path, montage_units=\"auto\")\n",
            "<ipython-input-20-1213ac7a97e1>:33: RuntimeWarning: Estimated head radius (4.5 cm) is below the 3rd percentile for infant head size. Check if the montage_units argument is correct (the default is \"mm\", but your channel positions may be in different units).\n",
            "  epochs = mne.io.read_epochs_eeglab(file_path, montage_units=\"auto\")\n",
            "<ipython-input-20-1213ac7a97e1>:20: RuntimeWarning: tmax is not in time interval. tmax is set to <class 'mne.io.eeglab.eeglab.EpochsEEGLAB'>.tmax (0.096 s)\n",
            "  cropped = epochs.copy().crop(tmin=time_window[0], tmax=time_window[1])\n",
            "<ipython-input-20-1213ac7a97e1>:20: RuntimeWarning: tmax is not in time interval. tmax is set to <class 'mne.io.eeglab.eeglab.EpochsEEGLAB'>.tmax (0.096 s)\n",
            "  cropped = epochs.copy().crop(tmin=time_window[0], tmax=time_window[1])\n",
            "<ipython-input-20-1213ac7a97e1>:20: RuntimeWarning: tmax is not in time interval. tmax is set to <class 'mne.io.eeglab.eeglab.EpochsEEGLAB'>.tmax (0.096 s)\n",
            "  cropped = epochs.copy().crop(tmin=time_window[0], tmax=time_window[1])\n",
            "<ipython-input-20-1213ac7a97e1>:20: RuntimeWarning: tmax is not in time interval. tmax is set to <class 'mne.io.eeglab.eeglab.EpochsEEGLAB'>.tmax (0.096 s)\n",
            "  cropped = epochs.copy().crop(tmin=time_window[0], tmax=time_window[1])\n"
          ]
        },
        {
          "output_type": "stream",
          "name": "stdout",
          "text": [
            "✅ Processed and saved: p25_e2_preprocessed.set\n",
            "Extracting parameters from /content/p3_e2_preprocessed.set...\n",
            "Not setting metadata\n",
            "78 matching events found\n",
            "No baseline correction applied\n",
            "0 projection items activated\n",
            "Ready.\n",
            "✅ Processed and saved: p3_e2_preprocessed.set\n"
          ]
        },
        {
          "output_type": "stream",
          "name": "stderr",
          "text": [
            "<ipython-input-20-1213ac7a97e1>:33: RuntimeWarning: Estimated head radius (4.5 cm) is below the 3rd percentile for infant head size. Check if the montage_units argument is correct (the default is \"mm\", but your channel positions may be in different units).\n",
            "  epochs = mne.io.read_epochs_eeglab(file_path, montage_units=\"auto\")\n",
            "<ipython-input-20-1213ac7a97e1>:20: RuntimeWarning: tmax is not in time interval. tmax is set to <class 'mne.io.eeglab.eeglab.EpochsEEGLAB'>.tmax (0.096 s)\n",
            "  cropped = epochs.copy().crop(tmin=time_window[0], tmax=time_window[1])\n",
            "<ipython-input-20-1213ac7a97e1>:20: RuntimeWarning: tmax is not in time interval. tmax is set to <class 'mne.io.eeglab.eeglab.EpochsEEGLAB'>.tmax (0.096 s)\n",
            "  cropped = epochs.copy().crop(tmin=time_window[0], tmax=time_window[1])\n",
            "<ipython-input-20-1213ac7a97e1>:20: RuntimeWarning: tmax is not in time interval. tmax is set to <class 'mne.io.eeglab.eeglab.EpochsEEGLAB'>.tmax (0.096 s)\n",
            "  cropped = epochs.copy().crop(tmin=time_window[0], tmax=time_window[1])\n",
            "<ipython-input-20-1213ac7a97e1>:20: RuntimeWarning: tmax is not in time interval. tmax is set to <class 'mne.io.eeglab.eeglab.EpochsEEGLAB'>.tmax (0.096 s)\n",
            "  cropped = epochs.copy().crop(tmin=time_window[0], tmax=time_window[1])\n"
          ]
        },
        {
          "output_type": "stream",
          "name": "stdout",
          "text": [
            "Extracting parameters from /content/p42_e2_preprocessed.set...\n",
            "Not setting metadata\n",
            "76 matching events found\n",
            "No baseline correction applied\n",
            "0 projection items activated\n",
            "Ready.\n",
            "✅ Processed and saved: p42_e2_preprocessed.set\n"
          ]
        },
        {
          "output_type": "stream",
          "name": "stderr",
          "text": [
            "<ipython-input-20-1213ac7a97e1>:33: RuntimeWarning: Estimated head radius (4.5 cm) is below the 3rd percentile for infant head size. Check if the montage_units argument is correct (the default is \"mm\", but your channel positions may be in different units).\n",
            "  epochs = mne.io.read_epochs_eeglab(file_path, montage_units=\"auto\")\n",
            "<ipython-input-20-1213ac7a97e1>:20: RuntimeWarning: tmax is not in time interval. tmax is set to <class 'mne.io.eeglab.eeglab.EpochsEEGLAB'>.tmax (0.096 s)\n",
            "  cropped = epochs.copy().crop(tmin=time_window[0], tmax=time_window[1])\n",
            "<ipython-input-20-1213ac7a97e1>:20: RuntimeWarning: tmax is not in time interval. tmax is set to <class 'mne.io.eeglab.eeglab.EpochsEEGLAB'>.tmax (0.096 s)\n",
            "  cropped = epochs.copy().crop(tmin=time_window[0], tmax=time_window[1])\n",
            "<ipython-input-20-1213ac7a97e1>:20: RuntimeWarning: tmax is not in time interval. tmax is set to <class 'mne.io.eeglab.eeglab.EpochsEEGLAB'>.tmax (0.096 s)\n",
            "  cropped = epochs.copy().crop(tmin=time_window[0], tmax=time_window[1])\n",
            "<ipython-input-20-1213ac7a97e1>:20: RuntimeWarning: tmax is not in time interval. tmax is set to <class 'mne.io.eeglab.eeglab.EpochsEEGLAB'>.tmax (0.096 s)\n",
            "  cropped = epochs.copy().crop(tmin=time_window[0], tmax=time_window[1])\n"
          ]
        },
        {
          "output_type": "stream",
          "name": "stdout",
          "text": [
            "Extracting parameters from /content/p41_e2_preprocessed.set...\n",
            "Not setting metadata\n",
            "61 matching events found\n",
            "No baseline correction applied\n",
            "0 projection items activated\n",
            "Ready.\n",
            "✅ Processed and saved: p41_e2_preprocessed.set\n"
          ]
        },
        {
          "output_type": "stream",
          "name": "stderr",
          "text": [
            "<ipython-input-20-1213ac7a97e1>:33: RuntimeWarning: Estimated head radius (4.5 cm) is below the 3rd percentile for infant head size. Check if the montage_units argument is correct (the default is \"mm\", but your channel positions may be in different units).\n",
            "  epochs = mne.io.read_epochs_eeglab(file_path, montage_units=\"auto\")\n",
            "<ipython-input-20-1213ac7a97e1>:20: RuntimeWarning: tmax is not in time interval. tmax is set to <class 'mne.io.eeglab.eeglab.EpochsEEGLAB'>.tmax (0.096 s)\n",
            "  cropped = epochs.copy().crop(tmin=time_window[0], tmax=time_window[1])\n",
            "<ipython-input-20-1213ac7a97e1>:20: RuntimeWarning: tmax is not in time interval. tmax is set to <class 'mne.io.eeglab.eeglab.EpochsEEGLAB'>.tmax (0.096 s)\n",
            "  cropped = epochs.copy().crop(tmin=time_window[0], tmax=time_window[1])\n",
            "<ipython-input-20-1213ac7a97e1>:20: RuntimeWarning: tmax is not in time interval. tmax is set to <class 'mne.io.eeglab.eeglab.EpochsEEGLAB'>.tmax (0.096 s)\n",
            "  cropped = epochs.copy().crop(tmin=time_window[0], tmax=time_window[1])\n",
            "<ipython-input-20-1213ac7a97e1>:20: RuntimeWarning: tmax is not in time interval. tmax is set to <class 'mne.io.eeglab.eeglab.EpochsEEGLAB'>.tmax (0.096 s)\n",
            "  cropped = epochs.copy().crop(tmin=time_window[0], tmax=time_window[1])\n"
          ]
        },
        {
          "output_type": "stream",
          "name": "stdout",
          "text": [
            "Extracting parameters from /content/p50_e2_preprocessed.set...\n",
            "Not setting metadata\n",
            "48 matching events found\n",
            "No baseline correction applied\n",
            "0 projection items activated\n",
            "Ready.\n",
            "✅ Processed and saved: p50_e2_preprocessed.set\n"
          ]
        },
        {
          "output_type": "stream",
          "name": "stderr",
          "text": [
            "<ipython-input-20-1213ac7a97e1>:33: RuntimeWarning: Estimated head radius (4.5 cm) is below the 3rd percentile for infant head size. Check if the montage_units argument is correct (the default is \"mm\", but your channel positions may be in different units).\n",
            "  epochs = mne.io.read_epochs_eeglab(file_path, montage_units=\"auto\")\n",
            "<ipython-input-20-1213ac7a97e1>:20: RuntimeWarning: tmax is not in time interval. tmax is set to <class 'mne.io.eeglab.eeglab.EpochsEEGLAB'>.tmax (0.096 s)\n",
            "  cropped = epochs.copy().crop(tmin=time_window[0], tmax=time_window[1])\n",
            "<ipython-input-20-1213ac7a97e1>:20: RuntimeWarning: tmax is not in time interval. tmax is set to <class 'mne.io.eeglab.eeglab.EpochsEEGLAB'>.tmax (0.096 s)\n",
            "  cropped = epochs.copy().crop(tmin=time_window[0], tmax=time_window[1])\n",
            "<ipython-input-20-1213ac7a97e1>:20: RuntimeWarning: tmax is not in time interval. tmax is set to <class 'mne.io.eeglab.eeglab.EpochsEEGLAB'>.tmax (0.096 s)\n",
            "  cropped = epochs.copy().crop(tmin=time_window[0], tmax=time_window[1])\n",
            "<ipython-input-20-1213ac7a97e1>:20: RuntimeWarning: tmax is not in time interval. tmax is set to <class 'mne.io.eeglab.eeglab.EpochsEEGLAB'>.tmax (0.096 s)\n",
            "  cropped = epochs.copy().crop(tmin=time_window[0], tmax=time_window[1])\n"
          ]
        },
        {
          "output_type": "stream",
          "name": "stdout",
          "text": [
            "Extracting parameters from /content/p8_e2_preprocessed.set...\n",
            "Not setting metadata\n",
            "47 matching events found\n",
            "No baseline correction applied\n",
            "0 projection items activated\n",
            "Ready.\n",
            "✅ Processed and saved: p8_e2_preprocessed.set\n"
          ]
        },
        {
          "output_type": "stream",
          "name": "stderr",
          "text": [
            "<ipython-input-20-1213ac7a97e1>:33: RuntimeWarning: Estimated head radius (4.5 cm) is below the 3rd percentile for infant head size. Check if the montage_units argument is correct (the default is \"mm\", but your channel positions may be in different units).\n",
            "  epochs = mne.io.read_epochs_eeglab(file_path, montage_units=\"auto\")\n",
            "<ipython-input-20-1213ac7a97e1>:20: RuntimeWarning: tmax is not in time interval. tmax is set to <class 'mne.io.eeglab.eeglab.EpochsEEGLAB'>.tmax (0.096 s)\n",
            "  cropped = epochs.copy().crop(tmin=time_window[0], tmax=time_window[1])\n",
            "<ipython-input-20-1213ac7a97e1>:20: RuntimeWarning: tmax is not in time interval. tmax is set to <class 'mne.io.eeglab.eeglab.EpochsEEGLAB'>.tmax (0.096 s)\n",
            "  cropped = epochs.copy().crop(tmin=time_window[0], tmax=time_window[1])\n",
            "<ipython-input-20-1213ac7a97e1>:20: RuntimeWarning: tmax is not in time interval. tmax is set to <class 'mne.io.eeglab.eeglab.EpochsEEGLAB'>.tmax (0.096 s)\n",
            "  cropped = epochs.copy().crop(tmin=time_window[0], tmax=time_window[1])\n",
            "<ipython-input-20-1213ac7a97e1>:20: RuntimeWarning: tmax is not in time interval. tmax is set to <class 'mne.io.eeglab.eeglab.EpochsEEGLAB'>.tmax (0.096 s)\n",
            "  cropped = epochs.copy().crop(tmin=time_window[0], tmax=time_window[1])\n"
          ]
        },
        {
          "output_type": "stream",
          "name": "stdout",
          "text": [
            "Extracting parameters from /content/p11_e2_preprocessed.set...\n",
            "Not setting metadata\n",
            "80 matching events found\n",
            "No baseline correction applied\n",
            "0 projection items activated\n",
            "Ready.\n",
            "✅ Processed and saved: p11_e2_preprocessed.set\n"
          ]
        },
        {
          "output_type": "stream",
          "name": "stderr",
          "text": [
            "<ipython-input-20-1213ac7a97e1>:33: RuntimeWarning: Estimated head radius (4.5 cm) is below the 3rd percentile for infant head size. Check if the montage_units argument is correct (the default is \"mm\", but your channel positions may be in different units).\n",
            "  epochs = mne.io.read_epochs_eeglab(file_path, montage_units=\"auto\")\n",
            "<ipython-input-20-1213ac7a97e1>:20: RuntimeWarning: tmax is not in time interval. tmax is set to <class 'mne.io.eeglab.eeglab.EpochsEEGLAB'>.tmax (0.096 s)\n",
            "  cropped = epochs.copy().crop(tmin=time_window[0], tmax=time_window[1])\n",
            "<ipython-input-20-1213ac7a97e1>:20: RuntimeWarning: tmax is not in time interval. tmax is set to <class 'mne.io.eeglab.eeglab.EpochsEEGLAB'>.tmax (0.096 s)\n",
            "  cropped = epochs.copy().crop(tmin=time_window[0], tmax=time_window[1])\n",
            "<ipython-input-20-1213ac7a97e1>:20: RuntimeWarning: tmax is not in time interval. tmax is set to <class 'mne.io.eeglab.eeglab.EpochsEEGLAB'>.tmax (0.096 s)\n",
            "  cropped = epochs.copy().crop(tmin=time_window[0], tmax=time_window[1])\n",
            "<ipython-input-20-1213ac7a97e1>:20: RuntimeWarning: tmax is not in time interval. tmax is set to <class 'mne.io.eeglab.eeglab.EpochsEEGLAB'>.tmax (0.096 s)\n",
            "  cropped = epochs.copy().crop(tmin=time_window[0], tmax=time_window[1])\n"
          ]
        },
        {
          "output_type": "stream",
          "name": "stdout",
          "text": [
            "Extracting parameters from /content/p6_e2_preprocessed.set...\n",
            "Not setting metadata\n",
            "70 matching events found\n",
            "No baseline correction applied\n",
            "0 projection items activated\n",
            "Ready.\n",
            "✅ Processed and saved: p6_e2_preprocessed.set\n"
          ]
        },
        {
          "output_type": "stream",
          "name": "stderr",
          "text": [
            "<ipython-input-20-1213ac7a97e1>:33: RuntimeWarning: Estimated head radius (4.5 cm) is below the 3rd percentile for infant head size. Check if the montage_units argument is correct (the default is \"mm\", but your channel positions may be in different units).\n",
            "  epochs = mne.io.read_epochs_eeglab(file_path, montage_units=\"auto\")\n",
            "<ipython-input-20-1213ac7a97e1>:20: RuntimeWarning: tmax is not in time interval. tmax is set to <class 'mne.io.eeglab.eeglab.EpochsEEGLAB'>.tmax (0.096 s)\n",
            "  cropped = epochs.copy().crop(tmin=time_window[0], tmax=time_window[1])\n",
            "<ipython-input-20-1213ac7a97e1>:20: RuntimeWarning: tmax is not in time interval. tmax is set to <class 'mne.io.eeglab.eeglab.EpochsEEGLAB'>.tmax (0.096 s)\n",
            "  cropped = epochs.copy().crop(tmin=time_window[0], tmax=time_window[1])\n",
            "<ipython-input-20-1213ac7a97e1>:20: RuntimeWarning: tmax is not in time interval. tmax is set to <class 'mne.io.eeglab.eeglab.EpochsEEGLAB'>.tmax (0.096 s)\n",
            "  cropped = epochs.copy().crop(tmin=time_window[0], tmax=time_window[1])\n",
            "<ipython-input-20-1213ac7a97e1>:20: RuntimeWarning: tmax is not in time interval. tmax is set to <class 'mne.io.eeglab.eeglab.EpochsEEGLAB'>.tmax (0.096 s)\n",
            "  cropped = epochs.copy().crop(tmin=time_window[0], tmax=time_window[1])\n"
          ]
        },
        {
          "output_type": "stream",
          "name": "stdout",
          "text": [
            "Extracting parameters from /content/p39_e2_preprocessed.set...\n",
            "Not setting metadata\n",
            "59 matching events found\n",
            "No baseline correction applied\n",
            "0 projection items activated\n",
            "Ready.\n",
            "✅ Processed and saved: p39_e2_preprocessed.set\n"
          ]
        },
        {
          "output_type": "stream",
          "name": "stderr",
          "text": [
            "<ipython-input-20-1213ac7a97e1>:33: RuntimeWarning: Estimated head radius (4.5 cm) is below the 3rd percentile for infant head size. Check if the montage_units argument is correct (the default is \"mm\", but your channel positions may be in different units).\n",
            "  epochs = mne.io.read_epochs_eeglab(file_path, montage_units=\"auto\")\n",
            "<ipython-input-20-1213ac7a97e1>:20: RuntimeWarning: tmax is not in time interval. tmax is set to <class 'mne.io.eeglab.eeglab.EpochsEEGLAB'>.tmax (0.096 s)\n",
            "  cropped = epochs.copy().crop(tmin=time_window[0], tmax=time_window[1])\n",
            "<ipython-input-20-1213ac7a97e1>:20: RuntimeWarning: tmax is not in time interval. tmax is set to <class 'mne.io.eeglab.eeglab.EpochsEEGLAB'>.tmax (0.096 s)\n",
            "  cropped = epochs.copy().crop(tmin=time_window[0], tmax=time_window[1])\n",
            "<ipython-input-20-1213ac7a97e1>:20: RuntimeWarning: tmax is not in time interval. tmax is set to <class 'mne.io.eeglab.eeglab.EpochsEEGLAB'>.tmax (0.096 s)\n",
            "  cropped = epochs.copy().crop(tmin=time_window[0], tmax=time_window[1])\n",
            "<ipython-input-20-1213ac7a97e1>:20: RuntimeWarning: tmax is not in time interval. tmax is set to <class 'mne.io.eeglab.eeglab.EpochsEEGLAB'>.tmax (0.096 s)\n",
            "  cropped = epochs.copy().crop(tmin=time_window[0], tmax=time_window[1])\n"
          ]
        },
        {
          "output_type": "stream",
          "name": "stdout",
          "text": [
            "Extracting parameters from /content/p26_e2_preprocessed.set...\n",
            "Not setting metadata\n",
            "82 matching events found\n",
            "No baseline correction applied\n",
            "0 projection items activated\n",
            "Ready.\n",
            "✅ Processed and saved: p26_e2_preprocessed.set\n",
            "✅ Concatenated averages saved to: /content/processed_results_4/all_participants_avg_erp.csv\n"
          ]
        },
        {
          "output_type": "stream",
          "name": "stderr",
          "text": [
            "<ipython-input-20-1213ac7a97e1>:33: RuntimeWarning: Estimated head radius (4.5 cm) is below the 3rd percentile for infant head size. Check if the montage_units argument is correct (the default is \"mm\", but your channel positions may be in different units).\n",
            "  epochs = mne.io.read_epochs_eeglab(file_path, montage_units=\"auto\")\n",
            "<ipython-input-20-1213ac7a97e1>:20: RuntimeWarning: tmax is not in time interval. tmax is set to <class 'mne.io.eeglab.eeglab.EpochsEEGLAB'>.tmax (0.096 s)\n",
            "  cropped = epochs.copy().crop(tmin=time_window[0], tmax=time_window[1])\n",
            "<ipython-input-20-1213ac7a97e1>:20: RuntimeWarning: tmax is not in time interval. tmax is set to <class 'mne.io.eeglab.eeglab.EpochsEEGLAB'>.tmax (0.096 s)\n",
            "  cropped = epochs.copy().crop(tmin=time_window[0], tmax=time_window[1])\n",
            "<ipython-input-20-1213ac7a97e1>:20: RuntimeWarning: tmax is not in time interval. tmax is set to <class 'mne.io.eeglab.eeglab.EpochsEEGLAB'>.tmax (0.096 s)\n",
            "  cropped = epochs.copy().crop(tmin=time_window[0], tmax=time_window[1])\n",
            "<ipython-input-20-1213ac7a97e1>:20: RuntimeWarning: tmax is not in time interval. tmax is set to <class 'mne.io.eeglab.eeglab.EpochsEEGLAB'>.tmax (0.096 s)\n",
            "  cropped = epochs.copy().crop(tmin=time_window[0], tmax=time_window[1])\n"
          ]
        }
      ]
    },
    {
      "cell_type": "code",
      "source": [
        "import matplotlib.pyplot as plt\n",
        "import seaborn as sns\n",
        "# Optional: Visualize ERP features\n",
        "plt.figure(figsize=(12, 6))\n",
        "sns.boxplot(data=df)\n",
        "plt.title(f\"ERP Feature Distribution - {set_file}\")\n",
        "plt.xticks(rotation=45)\n",
        "plt.ylabel(\"Amplitude (μV)\")\n",
        "plt.tight_layout()\n",
        "plt.show()\n"
      ],
      "metadata": {
        "id": "JccQF2EbfVy4",
        "outputId": "15b15b92-dff8-426c-bac1-eca071eff4fe",
        "colab": {
          "base_uri": "https://localhost:8080/",
          "height": 566
        }
      },
      "execution_count": null,
      "outputs": [
        {
          "output_type": "display_data",
          "data": {
            "text/plain": [
              "<Figure size 1200x600 with 1 Axes>"
            ],
            "image/png": "[encoded data removed]"
          },
          "metadata": {}
        }
      ]
    },
    {
      "cell_type": "code",
      "source": [
        "print(epochs.times)\n"
      ],
      "metadata": {
        "colab": {
          "base_uri": "https://localhost:8080/"
        },
        "id": "JxQQUqB2pt_z",
        "outputId": "5e7b390c-39f0-4b13-ac65-4754268c3b47"
      },
      "execution_count": null,
      "outputs": [
        {
          "output_type": "stream",
          "name": "stdout",
          "text": [
            "[-1.    -0.996 -0.992 -0.988 -0.984 -0.98  -0.976 -0.972 -0.968 -0.964\n",
            " -0.96  -0.956 -0.952 -0.948 -0.944 -0.94  -0.936 -0.932 -0.928 -0.924\n",
            " -0.92  -0.916 -0.912 -0.908 -0.904 -0.9   -0.896 -0.892 -0.888 -0.884\n",
            " -0.88  -0.876 -0.872 -0.868 -0.864 -0.86  -0.856 -0.852 -0.848 -0.844\n",
            " -0.84  -0.836 -0.832 -0.828 -0.824 -0.82  -0.816 -0.812 -0.808 -0.804\n",
            " -0.8   -0.796 -0.792 -0.788 -0.784 -0.78  -0.776 -0.772 -0.768 -0.764\n",
            " -0.76  -0.756 -0.752 -0.748 -0.744 -0.74  -0.736 -0.732 -0.728 -0.724\n",
            " -0.72  -0.716 -0.712 -0.708 -0.704 -0.7   -0.696 -0.692 -0.688 -0.684\n",
            " -0.68  -0.676 -0.672 -0.668 -0.664 -0.66  -0.656 -0.652 -0.648 -0.644\n",
            " -0.64  -0.636 -0.632 -0.628 -0.624 -0.62  -0.616 -0.612 -0.608 -0.604\n",
            " -0.6   -0.596 -0.592 -0.588 -0.584 -0.58  -0.576 -0.572 -0.568 -0.564\n",
            " -0.56  -0.556 -0.552 -0.548 -0.544 -0.54  -0.536 -0.532 -0.528 -0.524\n",
            " -0.52  -0.516 -0.512 -0.508 -0.504 -0.5   -0.496 -0.492 -0.488 -0.484\n",
            " -0.48  -0.476 -0.472 -0.468 -0.464 -0.46  -0.456 -0.452 -0.448 -0.444\n",
            " -0.44  -0.436 -0.432 -0.428 -0.424 -0.42  -0.416 -0.412 -0.408 -0.404\n",
            " -0.4   -0.396 -0.392 -0.388 -0.384 -0.38  -0.376 -0.372 -0.368 -0.364\n",
            " -0.36  -0.356 -0.352 -0.348 -0.344 -0.34  -0.336 -0.332 -0.328 -0.324\n",
            " -0.32  -0.316 -0.312 -0.308 -0.304 -0.3   -0.296 -0.292 -0.288 -0.284\n",
            " -0.28  -0.276 -0.272 -0.268 -0.264 -0.26  -0.256 -0.252 -0.248 -0.244\n",
            " -0.24  -0.236 -0.232 -0.228 -0.224 -0.22  -0.216 -0.212 -0.208 -0.204\n",
            " -0.2   -0.196 -0.192 -0.188 -0.184 -0.18  -0.176 -0.172 -0.168 -0.164\n",
            " -0.16  -0.156 -0.152 -0.148 -0.144 -0.14  -0.136 -0.132 -0.128 -0.124\n",
            " -0.12  -0.116 -0.112 -0.108 -0.104 -0.1   -0.096 -0.092 -0.088 -0.084\n",
            " -0.08  -0.076 -0.072 -0.068 -0.064 -0.06  -0.056 -0.052 -0.048 -0.044\n",
            " -0.04  -0.036 -0.032 -0.028 -0.024 -0.02  -0.016 -0.012 -0.008 -0.004\n",
            "  0.     0.004  0.008  0.012  0.016  0.02   0.024  0.028  0.032  0.036\n",
            "  0.04   0.044  0.048  0.052  0.056  0.06   0.064  0.068  0.072  0.076\n",
            "  0.08   0.084  0.088  0.092  0.096]\n"
          ]
        }
      ]
    },
    {
      "cell_type": "code",
      "source": [
        "from pydrive2.auth import GoogleAuth\n",
        "from pydrive2.drive import GoogleDrive\n",
        "from google.colab import auth\n",
        "from oauth2client.client import GoogleCredentials"
      ],
      "metadata": {
        "id": "GGnNwAmEgaML"
      },
      "execution_count": null,
      "outputs": []
    },
    {
      "cell_type": "code",
      "source": [
        "!pip install -U -q PyDrive\n",
        "from pydrive.auth import GoogleAuth\n",
        "from pydrive.drive import GoogleDrive\n",
        "from oauth2client.client import GoogleCredentials\n"
      ],
      "metadata": {
        "id": "KMb6akOvgob-"
      },
      "execution_count": null,
      "outputs": []
    },
    {
      "cell_type": "code",
      "source": [
        "from google.colab import auth\n",
        "auth.authenticate_user()\n",
        "\n",
        "gauth = GoogleAuth()\n",
        "gauth.credentials = GoogleCredentials.get_application_default()\n",
        "drive = GoogleDrive(gauth)\n"
      ],
      "metadata": {
        "id": "NxeOsvFAgpkB"
      },
      "execution_count": null,
      "outputs": []
    },
    {
      "cell_type": "markdown",
      "source": [
        "# Coherence"
      ],
      "metadata": {
        "id": "PA-BES2gqhyp"
      }
    },
    {
      "cell_type": "markdown",
      "source": [
        "Coherence measures the functional connectivity between two EEG channels by quantifying how consistently they oscillate together at each frequency. It ranges from 0 (no synchrony) to 1 (perfect synchrony). elps detect communication between brain regions. Currently it calculates coherence without specifying a frequency range, so it computes coherence over the entire frequency range up to the Nyquist frequency (which is half the sampling rate sfreq)."
      ],
      "metadata": {
        "id": "IYbJytaRqrn4"
      }
    },
    {
      "cell_type": "code",
      "source": [
        "import mne\n",
        "import numpy as np\n",
        "import os\n",
        "from scipy.signal import coherence\n",
        "import pandas as pd\n",
        "import seaborn as sns\n",
        "import matplotlib.pyplot as plt\n",
        "# Set paths\n",
        "dataset_path = \"/content/dataset/\"\n",
        "results_dir = \"/content/processed_results/\"\n",
        "coherence_dir = os.path.join(results_dir, \"coherence\")\n",
        "os.makedirs(coherence_dir, exist_ok=True)\n",
        "\n",
        "# Coherence function\n",
        "def compute_channel_coherence(epochs, sfreq):\n",
        "    data = epochs.get_data()  # shape (n_epochs, n_channels, n_times)\n",
        "    n_channels = data.shape[1]\n",
        "    coh_matrix = np.zeros((n_channels, n_channels))\n",
        "\n",
        "    # Average coherence across epochs\n",
        "    for i in range(n_channels):\n",
        "        for j in range(i+1, n_channels):\n",
        "            coh_vals = []\n",
        "            for ep in data:\n",
        "                f, cxy = coherence(ep[i], ep[j], fs=sfreq)\n",
        "                coh_vals.append(np.mean(cxy))\n",
        "            coh_matrix[i, j] = np.mean(coh_vals)\n",
        "            coh_matrix[j, i] = coh_matrix[i, j]  # symmetric\n",
        "\n",
        "    return coh_matrix, f\n",
        "\n",
        "# Loop through files\n",
        "for set_file in set_files:\n",
        "    file_path = os.path.join(dataset_path, set_file)\n",
        "    try:\n",
        "        epochs = mne.read_epochs_eeglab(file_path)\n",
        "        sfreq = epochs.info['sfreq']\n",
        "        ch_names = epochs.info['ch_names']\n",
        "\n",
        "        coh_matrix, freqs = compute_channel_coherence(epochs, sfreq)\n",
        "        df = pd.DataFrame(coh_matrix, index=ch_names, columns=ch_names)\n",
        "\n",
        "\n",
        "        # Plot heatmap of the coherence matrix\n",
        "        plt.figure(figsize=(10, 8))\n",
        "        sns.heatmap(df, annot=False, cmap=\"coolwarm\", vmin=0, vmax=1,\n",
        "                    xticklabels=True, yticklabels=True, square=True, linewidths=0.5, cbar_kws={\"label\": \"Coherence\"})\n",
        "        plt.title(f\"Coherence Matrix - {set_file}\")\n",
        "        plt.xticks(rotation=45)\n",
        "        plt.yticks(rotation=0)\n",
        "        plt.tight_layout()\n",
        "\n",
        "        plt.show()  # ⬅️ Show the plot instead of saving\n",
        "\n",
        "\n",
        "        # Save\n",
        "        save_path = os.path.join(coherence_dir, f\"{set_file[:-4]}_coherence.csv\")\n",
        "        df.to_csv(save_path)\n",
        "        print(f\"✅ Coherence saved for {set_file}\")\n",
        "\n",
        "    except Exception as e:\n",
        "        print(f\"❌ Failed for {set_file}: {e}\")"
      ],
      "metadata": {
        "colab": {
          "base_uri": "https://localhost:8080/"
        },
        "id": "GqYazzoseMmV",
        "outputId": "2efb4d5e-bac2-49e6-d524-370c90a3dbf8"
      },
      "execution_count": null,
      "outputs": [
        {
          "output_type": "stream",
          "name": "stdout",
          "text": [
            "❌ Failed for Copy of p4_e1_preprocessed.set: File does not exist: \"/content/dataset/Copy of p4_e1_preprocessed.set\"\n",
            "❌ Failed for Copy of p8_e1_preprocessed.set: File does not exist: \"/content/dataset/Copy of p8_e1_preprocessed.set\"\n",
            "❌ Failed for Copy of p15_e1_preprocessed.set: File does not exist: \"/content/dataset/Copy of p15_e1_preprocessed.set\"\n",
            "❌ Failed for Copy of p7_e1_preprocessed.set: File does not exist: \"/content/dataset/Copy of p7_e1_preprocessed.set\"\n",
            "❌ Failed for Copy of p13_e1_preprocessed.set: File does not exist: \"/content/dataset/Copy of p13_e1_preprocessed.set\"\n",
            "❌ Failed for Copy of p12_e1_preprocessed.set: File does not exist: \"/content/dataset/Copy of p12_e1_preprocessed.set\"\n",
            "❌ Failed for Copy of p1_e1_preprocessed.set: File does not exist: \"/content/dataset/Copy of p1_e1_preprocessed.set\"\n",
            "❌ Failed for Copy of p10_e1_preprocessed.set: File does not exist: \"/content/dataset/Copy of p10_e1_preprocessed.set\"\n",
            "❌ Failed for Copy of p18_e1_preprocessed.set: File does not exist: \"/content/dataset/Copy of p18_e1_preprocessed.set\"\n",
            "❌ Failed for Copy of p3_e1_preprocessed.set: File does not exist: \"/content/dataset/Copy of p3_e1_preprocessed.set\"\n",
            "❌ Failed for Copy of p2_e1_preprocessed.set: File does not exist: \"/content/dataset/Copy of p2_e1_preprocessed.set\"\n",
            "❌ Failed for Copy of p14_e1_preprocessed.set: File does not exist: \"/content/dataset/Copy of p14_e1_preprocessed.set\"\n",
            "❌ Failed for Copy of p6_e1_preprocessed.set: File does not exist: \"/content/dataset/Copy of p6_e1_preprocessed.set\"\n",
            "❌ Failed for Copy of p16_e1_preprocessed.set: File does not exist: \"/content/dataset/Copy of p16_e1_preprocessed.set\"\n",
            "❌ Failed for Copy of p11_e1_preprocessed.set: File does not exist: \"/content/dataset/Copy of p11_e1_preprocessed.set\"\n",
            "❌ Failed for Copy of p5_e1_preprocessed.set: File does not exist: \"/content/dataset/Copy of p5_e1_preprocessed.set\"\n",
            "❌ Failed for Copy of p9_e1_preprocessed.set: File does not exist: \"/content/dataset/Copy of p9_e1_preprocessed.set\"\n",
            "❌ Failed for Copy of p17_e1_preprocessed.set: File does not exist: \"/content/dataset/Copy of p17_e1_preprocessed.set\"\n"
          ]
        }
      ]
    },
    {
      "cell_type": "markdown",
      "source": [
        "# Coherence Alpha Frontal"
      ],
      "metadata": {
        "id": "bWTRCRyCs1wI"
      }
    },
    {
      "cell_type": "markdown",
      "source": [
        "Alpha band (8–12 Hz) is often linked with relaxation, attention, and anxiety-related changes.Frontal regions (F3, F4, Fz) are important in emotional regulation, attention, and cognitive control. alpha-band coherence values between frontal channels is calculated\n"
      ],
      "metadata": {
        "id": "Yv5n8SeRtw7k"
      }
    },
    {
      "cell_type": "code",
      "source": [
        "import mne\n",
        "import numpy as np\n",
        "import os\n",
        "from scipy.signal import coherence\n",
        "import pandas as pd\n",
        "\n",
        "# Set paths\n",
        "coherence_dir = os.path.join(results_dir, \"coherence_alpha_frontal\")\n",
        "os.makedirs(coherence_dir, exist_ok=True)\n",
        "\n",
        "# Alpha frontal coherence function\n",
        "def compute_alpha_frontal_coherence(epochs, sfreq):\n",
        "    data = epochs.get_data()\n",
        "    ch_names = epochs.info['ch_names']\n",
        "    frontal_channels = ['F3', 'F4', 'Fz']\n",
        "\n",
        "    # Find indices of those channels\n",
        "    ch_indices = [ch_names.index(ch) for ch in frontal_channels if ch in ch_names]\n",
        "    n_channels = len(ch_indices)\n",
        "    coh_matrix = np.zeros((n_channels, n_channels))\n",
        "\n",
        "    for i in range(n_channels):\n",
        "        for j in range(i+1, n_channels):\n",
        "            coh_vals = []\n",
        "            for ep in data:\n",
        "                f, cxy = coherence(ep[ch_indices[i]], ep[ch_indices[j]], fs=sfreq)\n",
        "                band_mask = (f >= 8) & (f <= 12)  # Alpha band\n",
        "                coh_vals.append(np.mean(cxy[band_mask]))\n",
        "            coh_matrix[i, j] = np.mean(coh_vals)\n",
        "            coh_matrix[j, i] = coh_matrix[i, j]\n",
        "\n",
        "    selected_names = [ch_names[i] for i in ch_indices]\n",
        "    return coh_matrix, selected_names\n",
        "\n",
        "# Loop through files\n",
        "for set_file in set_files:\n",
        "    file_path = os.path.join(dataset_path, set_file)\n",
        "    try:\n",
        "        epochs = mne.read_epochs_eeglab(file_path)\n",
        "        sfreq = epochs.info['sfreq']\n",
        "\n",
        "        coh_matrix, selected_names = compute_alpha_frontal_coherence(epochs, sfreq)\n",
        "        df = pd.DataFrame(coh_matrix, index=selected_names, columns=selected_names)\n",
        "        plt.figure(figsize=(6, 5))\n",
        "        sns.heatmap(df, annot=True, fmt=\".2f\", cmap=\"coolwarm\", vmin=0, vmax=1,\n",
        "                    xticklabels=True, yticklabels=True, square=True, linewidths=0.5, cbar_kws={\"label\": \"Alpha Coherence\"})\n",
        "        plt.title(f\"Alpha Frontal Coherence - {set_file}\")\n",
        "        plt.xticks(rotation=45)\n",
        "        plt.yticks(rotation=0)\n",
        "        plt.tight_layout()\n",
        "\n",
        "        plt.show()\n",
        "        # Save\n",
        "        save_path = os.path.join(coherence_dir, f\"{set_file[:-4]}_alpha_frontal_coherence.csv\")\n",
        "        df.to_csv(save_path)\n",
        "        print(f\"✅ Alpha frontal coherence saved for {set_file}\")\n",
        "\n",
        "    except Exception as e:\n",
        "        print(f\"❌ Failed for {set_file}: {e}\")\n"
      ],
      "metadata": {
        "colab": {
          "base_uri": "https://localhost:8080/"
        },
        "id": "Qv4G2dUosyHK",
        "outputId": "57084a9c-0e43-4fc4-cd97-527e7de86612"
      },
      "execution_count": null,
      "outputs": [
        {
          "output_type": "stream",
          "name": "stdout",
          "text": [
            "❌ Failed for Copy of p4_e1_preprocessed.set: File does not exist: \"/content/dataset/Copy of p4_e1_preprocessed.set\"\n",
            "❌ Failed for Copy of p8_e1_preprocessed.set: File does not exist: \"/content/dataset/Copy of p8_e1_preprocessed.set\"\n",
            "❌ Failed for Copy of p15_e1_preprocessed.set: File does not exist: \"/content/dataset/Copy of p15_e1_preprocessed.set\"\n",
            "❌ Failed for Copy of p7_e1_preprocessed.set: File does not exist: \"/content/dataset/Copy of p7_e1_preprocessed.set\"\n",
            "❌ Failed for Copy of p13_e1_preprocessed.set: File does not exist: \"/content/dataset/Copy of p13_e1_preprocessed.set\"\n",
            "❌ Failed for Copy of p12_e1_preprocessed.set: File does not exist: \"/content/dataset/Copy of p12_e1_preprocessed.set\"\n",
            "❌ Failed for Copy of p1_e1_preprocessed.set: File does not exist: \"/content/dataset/Copy of p1_e1_preprocessed.set\"\n",
            "❌ Failed for Copy of p10_e1_preprocessed.set: File does not exist: \"/content/dataset/Copy of p10_e1_preprocessed.set\"\n",
            "❌ Failed for Copy of p18_e1_preprocessed.set: File does not exist: \"/content/dataset/Copy of p18_e1_preprocessed.set\"\n",
            "❌ Failed for Copy of p3_e1_preprocessed.set: File does not exist: \"/content/dataset/Copy of p3_e1_preprocessed.set\"\n",
            "❌ Failed for Copy of p2_e1_preprocessed.set: File does not exist: \"/content/dataset/Copy of p2_e1_preprocessed.set\"\n",
            "❌ Failed for Copy of p14_e1_preprocessed.set: File does not exist: \"/content/dataset/Copy of p14_e1_preprocessed.set\"\n",
            "❌ Failed for Copy of p6_e1_preprocessed.set: File does not exist: \"/content/dataset/Copy of p6_e1_preprocessed.set\"\n",
            "❌ Failed for Copy of p16_e1_preprocessed.set: File does not exist: \"/content/dataset/Copy of p16_e1_preprocessed.set\"\n",
            "❌ Failed for Copy of p11_e1_preprocessed.set: File does not exist: \"/content/dataset/Copy of p11_e1_preprocessed.set\"\n",
            "❌ Failed for Copy of p5_e1_preprocessed.set: File does not exist: \"/content/dataset/Copy of p5_e1_preprocessed.set\"\n",
            "❌ Failed for Copy of p9_e1_preprocessed.set: File does not exist: \"/content/dataset/Copy of p9_e1_preprocessed.set\"\n",
            "❌ Failed for Copy of p17_e1_preprocessed.set: File does not exist: \"/content/dataset/Copy of p17_e1_preprocessed.set\"\n"
          ]
        }
      ]
    },
    {
      "cell_type": "code",
      "source": [
        "!pip install -U -q PyDrive\n",
        "from pydrive.auth import GoogleAuth\n",
        "from pydrive.drive import GoogleDrive\n",
        "from google.colab import auth\n",
        "from oauth2client.client import GoogleCredentials\n",
        "\n",
        "# Authenticate and create the PyDrive client\n",
        "auth.authenticate_user()\n",
        "gauth = GoogleAuth()\n",
        "gauth.credentials = GoogleCredentials.get_application_default()\n",
        "drive = GoogleDrive(gauth)\n",
        "\n",
        "def upload_to_drive(local_path, drive_folder_id):\n",
        "    if os.path.isfile(local_path):\n",
        "        gfile = drive.CreateFile({'parents': [{'id': drive_folder_id}]})\n",
        "        gfile.SetContentFile(local_path)\n",
        "        gfile.Upload()\n",
        "        print(f'Uploaded file: {os.path.basename(local_path)}')\n",
        "    elif os.path.isdir(local_path):\n",
        "        # Create folder in Drive\n",
        "        folder_name = os.path.basename(local_path)\n",
        "        folder_metadata = {\n",
        "            'title': folder_name,\n",
        "            'mimeType': 'application/vnd.google-apps.folder',\n",
        "            'parents': [{'id': drive_folder_id}]\n",
        "        }\n",
        "        drive_folder = drive.CreateFile(folder_metadata)\n",
        "        drive_folder.Upload()\n",
        "\n",
        "        # Upload contents\n",
        "        for item in os.listdir(local_path):\n",
        "            item_path = os.path.join(local_path, item)\n",
        "            if os.path.isfile(item_path):\n",
        "                gfile = drive.CreateFile({'parents': [{'id': drive_folder['id']}]})\n",
        "                gfile.SetContentFile(item_path)\n",
        "                gfile.Upload()\n",
        "                print(f'Uploaded: {item}')\n",
        "\n",
        "\n",
        "drive_folder_id = '1w_eKASLrFx6ToEaQWjDqMVNNLeDraDN5'\n",
        "\n",
        "# Upload ERP and coherence\n",
        "#upload_to_drive('/content/processed_results/coherence', drive_folder_id)\n",
        "upload_to_drive('/content/processed_results_4/ERP_for_all', drive_folder_id)\n",
        "\n",
        "print(\"\\n✅ Upload complete! Check your Google Drive folder.\")"
      ],
      "metadata": {
        "colab": {
          "base_uri": "https://localhost:8080/",
          "height": 460
        },
        "id": "HZUCXf2EkLeV",
        "outputId": "44d4c0eb-d472-4108-af60-525ea3d87e14"
      },
      "execution_count": 13,
      "outputs": [
        {
          "output_type": "stream",
          "name": "stdout",
          "text": [
            "Uploaded: p1_e2_preprocessed_erp_all_channels.csv\n",
            "Uploaded: p12_e2_preprocessed_erp_all_channels.csv\n",
            "Uploaded: p18_e2_preprocessed_erp_all_channels.csv\n",
            "Uploaded: p39_e2_preprocessed_erp_all_channels.csv\n",
            "Uploaded: p48_e2_preprocessed_erp_all_channels.csv\n"
          ]
        },
        {
          "output_type": "error",
          "ename": "KeyboardInterrupt",
          "evalue": "",
          "traceback": [
            "\u001b[0;31m---------------------------------------------------------------------------\u001b[0m",
            "\u001b[0;31mKeyboardInterrupt\u001b[0m                         Traceback (most recent call last)",
            "\u001b[0;32m<ipython-input-13-e3e4ceb77535>\u001b[0m in \u001b[0;36m<cell line: 0>\u001b[0;34m()\u001b[0m\n\u001b[1;32m     42\u001b[0m \u001b[0;31m# Upload ERP and coherence\u001b[0m\u001b[0;34m\u001b[0m\u001b[0;34m\u001b[0m\u001b[0m\n\u001b[1;32m     43\u001b[0m \u001b[0;31m#upload_to_drive('/content/processed_results/coherence', drive_folder_id)\u001b[0m\u001b[0;34m\u001b[0m\u001b[0;34m\u001b[0m\u001b[0m\n\u001b[0;32m---> 44\u001b[0;31m \u001b[0mupload_to_drive\u001b[0m\u001b[0;34m(\u001b[0m\u001b[0;34m'/content/processed_results_4/ERP_for_all'\u001b[0m\u001b[0;34m,\u001b[0m \u001b[0mdrive_folder_id\u001b[0m\u001b[0;34m)\u001b[0m\u001b[0;34m\u001b[0m\u001b[0;34m\u001b[0m\u001b[0m\n\u001b[0m\u001b[1;32m     45\u001b[0m \u001b[0;34m\u001b[0m\u001b[0m\n\u001b[1;32m     46\u001b[0m \u001b[0mprint\u001b[0m\u001b[0;34m(\u001b[0m\u001b[0;34m\"\\n✅ Upload complete! Check your Google Drive folder.\"\u001b[0m\u001b[0;34m)\u001b[0m\u001b[0;34m\u001b[0m\u001b[0;34m\u001b[0m\u001b[0m\n",
            "\u001b[0;32m<ipython-input-13-e3e4ceb77535>\u001b[0m in \u001b[0;36mupload_to_drive\u001b[0;34m(local_path, drive_folder_id)\u001b[0m\n\u001b[1;32m     34\u001b[0m                 \u001b[0mgfile\u001b[0m \u001b[0;34m=\u001b[0m \u001b[0mdrive\u001b[0m\u001b[0;34m.\u001b[0m\u001b[0mCreateFile\u001b[0m\u001b[0;34m(\u001b[0m\u001b[0;34m{\u001b[0m\u001b[0;34m'parents'\u001b[0m\u001b[0;34m:\u001b[0m \u001b[0;34m[\u001b[0m\u001b[0;34m{\u001b[0m\u001b[0;34m'id'\u001b[0m\u001b[0;34m:\u001b[0m \u001b[0mdrive_folder\u001b[0m\u001b[0;34m[\u001b[0m\u001b[0;34m'id'\u001b[0m\u001b[0;34m]\u001b[0m\u001b[0;34m}\u001b[0m\u001b[0;34m]\u001b[0m\u001b[0;34m}\u001b[0m\u001b[0;34m)\u001b[0m\u001b[0;34m\u001b[0m\u001b[0;34m\u001b[0m\u001b[0m\n\u001b[1;32m     35\u001b[0m                 \u001b[0mgfile\u001b[0m\u001b[0;34m.\u001b[0m\u001b[0mSetContentFile\u001b[0m\u001b[0;34m(\u001b[0m\u001b[0mitem_path\u001b[0m\u001b[0;34m)\u001b[0m\u001b[0;34m\u001b[0m\u001b[0;34m\u001b[0m\u001b[0m\n\u001b[0;32m---> 36\u001b[0;31m                 \u001b[0mgfile\u001b[0m\u001b[0;34m.\u001b[0m\u001b[0mUpload\u001b[0m\u001b[0;34m(\u001b[0m\u001b[0;34m)\u001b[0m\u001b[0;34m\u001b[0m\u001b[0;34m\u001b[0m\u001b[0m\n\u001b[0m\u001b[1;32m     37\u001b[0m                 \u001b[0mprint\u001b[0m\u001b[0;34m(\u001b[0m\u001b[0;34mf'Uploaded: {item}'\u001b[0m\u001b[0;34m)\u001b[0m\u001b[0;34m\u001b[0m\u001b[0;34m\u001b[0m\u001b[0m\n\u001b[1;32m     38\u001b[0m \u001b[0;34m\u001b[0m\u001b[0m\n",
            "\u001b[0;32m/usr/local/lib/python3.11/dist-packages/pydrive/files.py\u001b[0m in \u001b[0;36mUpload\u001b[0;34m(self, param)\u001b[0m\n\u001b[1;32m    283\u001b[0m         \u001b[0mself\u001b[0m\u001b[0;34m.\u001b[0m\u001b[0m_FilesPatch\u001b[0m\u001b[0;34m(\u001b[0m\u001b[0mparam\u001b[0m\u001b[0;34m=\u001b[0m\u001b[0mparam\u001b[0m\u001b[0;34m)\u001b[0m\u001b[0;34m\u001b[0m\u001b[0;34m\u001b[0m\u001b[0m\n\u001b[1;32m    284\u001b[0m     \u001b[0;32melse\u001b[0m\u001b[0;34m:\u001b[0m\u001b[0;34m\u001b[0m\u001b[0;34m\u001b[0m\u001b[0m\n\u001b[0;32m--> 285\u001b[0;31m       \u001b[0mself\u001b[0m\u001b[0;34m.\u001b[0m\u001b[0m_FilesInsert\u001b[0m\u001b[0;34m(\u001b[0m\u001b[0mparam\u001b[0m\u001b[0;34m=\u001b[0m\u001b[0mparam\u001b[0m\u001b[0;34m)\u001b[0m\u001b[0;34m\u001b[0m\u001b[0;34m\u001b[0m\u001b[0m\n\u001b[0m\u001b[1;32m    286\u001b[0m \u001b[0;34m\u001b[0m\u001b[0m\n\u001b[1;32m    287\u001b[0m   \u001b[0;32mdef\u001b[0m \u001b[0mTrash\u001b[0m\u001b[0;34m(\u001b[0m\u001b[0mself\u001b[0m\u001b[0;34m,\u001b[0m \u001b[0mparam\u001b[0m\u001b[0;34m=\u001b[0m\u001b[0;32mNone\u001b[0m\u001b[0;34m)\u001b[0m\u001b[0;34m:\u001b[0m\u001b[0;34m\u001b[0m\u001b[0;34m\u001b[0m\u001b[0m\n",
            "\u001b[0;32m/usr/local/lib/python3.11/dist-packages/pydrive/auth.py\u001b[0m in \u001b[0;36m_decorated\u001b[0;34m(self, *args, **kwargs)\u001b[0m\n\u001b[1;32m     73\u001b[0m       \u001b[0mself\u001b[0m\u001b[0;34m.\u001b[0m\u001b[0mhttp\u001b[0m \u001b[0;34m=\u001b[0m \u001b[0mself\u001b[0m\u001b[0;34m.\u001b[0m\u001b[0mauth\u001b[0m\u001b[0;34m.\u001b[0m\u001b[0mGet_Http_Object\u001b[0m\u001b[0;34m(\u001b[0m\u001b[0;34m)\u001b[0m\u001b[0;34m\u001b[0m\u001b[0;34m\u001b[0m\u001b[0m\n\u001b[1;32m     74\u001b[0m \u001b[0;34m\u001b[0m\u001b[0m\n\u001b[0;32m---> 75\u001b[0;31m     \u001b[0;32mreturn\u001b[0m \u001b[0mdecoratee\u001b[0m\u001b[0;34m(\u001b[0m\u001b[0mself\u001b[0m\u001b[0;34m,\u001b[0m \u001b[0;34m*\u001b[0m\u001b[0margs\u001b[0m\u001b[0;34m,\u001b[0m \u001b[0;34m**\u001b[0m\u001b[0mkwargs\u001b[0m\u001b[0;34m)\u001b[0m\u001b[0;34m\u001b[0m\u001b[0;34m\u001b[0m\u001b[0m\n\u001b[0m\u001b[1;32m     76\u001b[0m   \u001b[0;32mreturn\u001b[0m \u001b[0m_decorated\u001b[0m\u001b[0;34m\u001b[0m\u001b[0;34m\u001b[0m\u001b[0m\n\u001b[1;32m     77\u001b[0m \u001b[0;34m\u001b[0m\u001b[0m\n",
            "\u001b[0;32m/usr/local/lib/python3.11/dist-packages/pydrive/files.py\u001b[0m in \u001b[0;36m_FilesInsert\u001b[0;34m(self, param)\u001b[0m\n\u001b[1;32m    366\u001b[0m       \u001b[0;32mif\u001b[0m \u001b[0mself\u001b[0m\u001b[0;34m.\u001b[0m\u001b[0mdirty\u001b[0m\u001b[0;34m[\u001b[0m\u001b[0;34m'content'\u001b[0m\u001b[0;34m]\u001b[0m\u001b[0;34m:\u001b[0m\u001b[0;34m\u001b[0m\u001b[0;34m\u001b[0m\u001b[0m\n\u001b[1;32m    367\u001b[0m         \u001b[0mparam\u001b[0m\u001b[0;34m[\u001b[0m\u001b[0;34m'media_body'\u001b[0m\u001b[0;34m]\u001b[0m \u001b[0;34m=\u001b[0m \u001b[0mself\u001b[0m\u001b[0;34m.\u001b[0m\u001b[0m_BuildMediaBody\u001b[0m\u001b[0;34m(\u001b[0m\u001b[0;34m)\u001b[0m\u001b[0;34m\u001b[0m\u001b[0;34m\u001b[0m\u001b[0m\n\u001b[0;32m--> 368\u001b[0;31m       metadata = self.auth.service.files().insert(**param).execute(\n\u001b[0m\u001b[1;32m    369\u001b[0m         http=self.http)\n\u001b[1;32m    370\u001b[0m     \u001b[0;32mexcept\u001b[0m \u001b[0merrors\u001b[0m\u001b[0;34m.\u001b[0m\u001b[0mHttpError\u001b[0m \u001b[0;32mas\u001b[0m \u001b[0merror\u001b[0m\u001b[0;34m:\u001b[0m\u001b[0;34m\u001b[0m\u001b[0;34m\u001b[0m\u001b[0m\n",
            "\u001b[0;32m/usr/local/lib/python3.11/dist-packages/googleapiclient/_helpers.py\u001b[0m in \u001b[0;36mpositional_wrapper\u001b[0;34m(*args, **kwargs)\u001b[0m\n\u001b[1;32m    128\u001b[0m                 \u001b[0;32melif\u001b[0m \u001b[0mpositional_parameters_enforcement\u001b[0m \u001b[0;34m==\u001b[0m \u001b[0mPOSITIONAL_WARNING\u001b[0m\u001b[0;34m:\u001b[0m\u001b[0;34m\u001b[0m\u001b[0;34m\u001b[0m\u001b[0m\n\u001b[1;32m    129\u001b[0m                     \u001b[0mlogger\u001b[0m\u001b[0;34m.\u001b[0m\u001b[0mwarning\u001b[0m\u001b[0;34m(\u001b[0m\u001b[0mmessage\u001b[0m\u001b[0;34m)\u001b[0m\u001b[0;34m\u001b[0m\u001b[0;34m\u001b[0m\u001b[0m\n\u001b[0;32m--> 130\u001b[0;31m             \u001b[0;32mreturn\u001b[0m \u001b[0mwrapped\u001b[0m\u001b[0;34m(\u001b[0m\u001b[0;34m*\u001b[0m\u001b[0margs\u001b[0m\u001b[0;34m,\u001b[0m \u001b[0;34m**\u001b[0m\u001b[0mkwargs\u001b[0m\u001b[0;34m)\u001b[0m\u001b[0;34m\u001b[0m\u001b[0;34m\u001b[0m\u001b[0m\n\u001b[0m\u001b[1;32m    131\u001b[0m \u001b[0;34m\u001b[0m\u001b[0m\n\u001b[1;32m    132\u001b[0m         \u001b[0;32mreturn\u001b[0m \u001b[0mpositional_wrapper\u001b[0m\u001b[0;34m\u001b[0m\u001b[0;34m\u001b[0m\u001b[0m\n",
            "\u001b[0;32m/usr/local/lib/python3.11/dist-packages/googleapiclient/http.py\u001b[0m in \u001b[0;36mexecute\u001b[0;34m(self, http, num_retries)\u001b[0m\n\u001b[1;32m    900\u001b[0m             \u001b[0mbody\u001b[0m \u001b[0;34m=\u001b[0m \u001b[0;32mNone\u001b[0m\u001b[0;34m\u001b[0m\u001b[0;34m\u001b[0m\u001b[0m\n\u001b[1;32m    901\u001b[0m             \u001b[0;32mwhile\u001b[0m \u001b[0mbody\u001b[0m \u001b[0;32mis\u001b[0m \u001b[0;32mNone\u001b[0m\u001b[0;34m:\u001b[0m\u001b[0;34m\u001b[0m\u001b[0;34m\u001b[0m\u001b[0m\n\u001b[0;32m--> 902\u001b[0;31m                 \u001b[0m_\u001b[0m\u001b[0;34m,\u001b[0m \u001b[0mbody\u001b[0m \u001b[0;34m=\u001b[0m \u001b[0mself\u001b[0m\u001b[0;34m.\u001b[0m\u001b[0mnext_chunk\u001b[0m\u001b[0;34m(\u001b[0m\u001b[0mhttp\u001b[0m\u001b[0;34m=\u001b[0m\u001b[0mhttp\u001b[0m\u001b[0;34m,\u001b[0m \u001b[0mnum_retries\u001b[0m\u001b[0;34m=\u001b[0m\u001b[0mnum_retries\u001b[0m\u001b[0;34m)\u001b[0m\u001b[0;34m\u001b[0m\u001b[0;34m\u001b[0m\u001b[0m\n\u001b[0m\u001b[1;32m    903\u001b[0m             \u001b[0;32mreturn\u001b[0m \u001b[0mbody\u001b[0m\u001b[0;34m\u001b[0m\u001b[0;34m\u001b[0m\u001b[0m\n\u001b[1;32m    904\u001b[0m \u001b[0;34m\u001b[0m\u001b[0m\n",
            "\u001b[0;32m/usr/local/lib/python3.11/dist-packages/googleapiclient/_helpers.py\u001b[0m in \u001b[0;36mpositional_wrapper\u001b[0;34m(*args, **kwargs)\u001b[0m\n\u001b[1;32m    128\u001b[0m                 \u001b[0;32melif\u001b[0m \u001b[0mpositional_parameters_enforcement\u001b[0m \u001b[0;34m==\u001b[0m \u001b[0mPOSITIONAL_WARNING\u001b[0m\u001b[0;34m:\u001b[0m\u001b[0;34m\u001b[0m\u001b[0;34m\u001b[0m\u001b[0m\n\u001b[1;32m    129\u001b[0m                     \u001b[0mlogger\u001b[0m\u001b[0;34m.\u001b[0m\u001b[0mwarning\u001b[0m\u001b[0;34m(\u001b[0m\u001b[0mmessage\u001b[0m\u001b[0;34m)\u001b[0m\u001b[0;34m\u001b[0m\u001b[0;34m\u001b[0m\u001b[0m\n\u001b[0;32m--> 130\u001b[0;31m             \u001b[0;32mreturn\u001b[0m \u001b[0mwrapped\u001b[0m\u001b[0;34m(\u001b[0m\u001b[0;34m*\u001b[0m\u001b[0margs\u001b[0m\u001b[0;34m,\u001b[0m \u001b[0;34m**\u001b[0m\u001b[0mkwargs\u001b[0m\u001b[0;34m)\u001b[0m\u001b[0;34m\u001b[0m\u001b[0;34m\u001b[0m\u001b[0m\n\u001b[0m\u001b[1;32m    131\u001b[0m \u001b[0;34m\u001b[0m\u001b[0m\n\u001b[1;32m    132\u001b[0m         \u001b[0;32mreturn\u001b[0m \u001b[0mpositional_wrapper\u001b[0m\u001b[0;34m\u001b[0m\u001b[0;34m\u001b[0m\u001b[0m\n",
            "\u001b[0;32m/usr/local/lib/python3.11/dist-packages/googleapiclient/http.py\u001b[0m in \u001b[0;36mnext_chunk\u001b[0;34m(self, http, num_retries)\u001b[0m\n\u001b[1;32m   1005\u001b[0m             \u001b[0mstart_headers\u001b[0m\u001b[0;34m[\u001b[0m\u001b[0;34m\"content-length\"\u001b[0m\u001b[0;34m]\u001b[0m \u001b[0;34m=\u001b[0m \u001b[0mstr\u001b[0m\u001b[0;34m(\u001b[0m\u001b[0mself\u001b[0m\u001b[0;34m.\u001b[0m\u001b[0mbody_size\u001b[0m\u001b[0;34m)\u001b[0m\u001b[0;34m\u001b[0m\u001b[0;34m\u001b[0m\u001b[0m\n\u001b[1;32m   1006\u001b[0m \u001b[0;34m\u001b[0m\u001b[0m\n\u001b[0;32m-> 1007\u001b[0;31m             resp, content = _retry_request(\n\u001b[0m\u001b[1;32m   1008\u001b[0m                 \u001b[0mhttp\u001b[0m\u001b[0;34m,\u001b[0m\u001b[0;34m\u001b[0m\u001b[0;34m\u001b[0m\u001b[0m\n\u001b[1;32m   1009\u001b[0m                 \u001b[0mnum_retries\u001b[0m\u001b[0;34m,\u001b[0m\u001b[0;34m\u001b[0m\u001b[0;34m\u001b[0m\u001b[0m\n",
            "\u001b[0;32m/usr/local/lib/python3.11/dist-packages/googleapiclient/http.py\u001b[0m in \u001b[0;36m_retry_request\u001b[0;34m(http, num_retries, req_type, sleep, rand, uri, method, *args, **kwargs)\u001b[0m\n\u001b[1;32m    189\u001b[0m         \u001b[0;32mtry\u001b[0m\u001b[0;34m:\u001b[0m\u001b[0;34m\u001b[0m\u001b[0;34m\u001b[0m\u001b[0m\n\u001b[1;32m    190\u001b[0m             \u001b[0mexception\u001b[0m \u001b[0;34m=\u001b[0m \u001b[0;32mNone\u001b[0m\u001b[0;34m\u001b[0m\u001b[0;34m\u001b[0m\u001b[0m\n\u001b[0;32m--> 191\u001b[0;31m             \u001b[0mresp\u001b[0m\u001b[0;34m,\u001b[0m \u001b[0mcontent\u001b[0m \u001b[0;34m=\u001b[0m \u001b[0mhttp\u001b[0m\u001b[0;34m.\u001b[0m\u001b[0mrequest\u001b[0m\u001b[0;34m(\u001b[0m\u001b[0muri\u001b[0m\u001b[0;34m,\u001b[0m \u001b[0mmethod\u001b[0m\u001b[0;34m,\u001b[0m \u001b[0;34m*\u001b[0m\u001b[0margs\u001b[0m\u001b[0;34m,\u001b[0m \u001b[0;34m**\u001b[0m\u001b[0mkwargs\u001b[0m\u001b[0;34m)\u001b[0m\u001b[0;34m\u001b[0m\u001b[0;34m\u001b[0m\u001b[0m\n\u001b[0m\u001b[1;32m    192\u001b[0m         \u001b[0;31m# Retry on SSL errors and socket timeout errors.\u001b[0m\u001b[0;34m\u001b[0m\u001b[0;34m\u001b[0m\u001b[0m\n\u001b[1;32m    193\u001b[0m         \u001b[0;32mexcept\u001b[0m \u001b[0m_ssl_SSLError\u001b[0m \u001b[0;32mas\u001b[0m \u001b[0mssl_error\u001b[0m\u001b[0;34m:\u001b[0m\u001b[0;34m\u001b[0m\u001b[0;34m\u001b[0m\u001b[0m\n",
            "\u001b[0;32m/usr/local/lib/python3.11/dist-packages/oauth2client/transport.py\u001b[0m in \u001b[0;36mnew_request\u001b[0;34m(uri, method, body, headers, redirections, connection_type)\u001b[0m\n\u001b[1;32m    171\u001b[0m             \u001b[0mbody_stream_position\u001b[0m \u001b[0;34m=\u001b[0m \u001b[0mbody\u001b[0m\u001b[0;34m.\u001b[0m\u001b[0mtell\u001b[0m\u001b[0;34m(\u001b[0m\u001b[0;34m)\u001b[0m\u001b[0;34m\u001b[0m\u001b[0;34m\u001b[0m\u001b[0m\n\u001b[1;32m    172\u001b[0m \u001b[0;34m\u001b[0m\u001b[0m\n\u001b[0;32m--> 173\u001b[0;31m         resp, content = request(orig_request_method, uri, method, body,\n\u001b[0m\u001b[1;32m    174\u001b[0m                                 \u001b[0mclean_headers\u001b[0m\u001b[0;34m(\u001b[0m\u001b[0mheaders\u001b[0m\u001b[0;34m)\u001b[0m\u001b[0;34m,\u001b[0m\u001b[0;34m\u001b[0m\u001b[0;34m\u001b[0m\u001b[0m\n\u001b[1;32m    175\u001b[0m                                 redirections, connection_type)\n",
            "\u001b[0;32m/usr/local/lib/python3.11/dist-packages/oauth2client/transport.py\u001b[0m in \u001b[0;36mrequest\u001b[0;34m(http, uri, method, body, headers, redirections, connection_type)\u001b[0m\n\u001b[1;32m    278\u001b[0m     \u001b[0;31m# NOTE: Allowing http or http.request is temporary (See Issue 601).\u001b[0m\u001b[0;34m\u001b[0m\u001b[0;34m\u001b[0m\u001b[0m\n\u001b[1;32m    279\u001b[0m     \u001b[0mhttp_callable\u001b[0m \u001b[0;34m=\u001b[0m \u001b[0mgetattr\u001b[0m\u001b[0;34m(\u001b[0m\u001b[0mhttp\u001b[0m\u001b[0;34m,\u001b[0m \u001b[0;34m'request'\u001b[0m\u001b[0;34m,\u001b[0m \u001b[0mhttp\u001b[0m\u001b[0;34m)\u001b[0m\u001b[0;34m\u001b[0m\u001b[0;34m\u001b[0m\u001b[0m\n\u001b[0;32m--> 280\u001b[0;31m     return http_callable(uri, method=method, body=body, headers=headers,\n\u001b[0m\u001b[1;32m    281\u001b[0m                          \u001b[0mredirections\u001b[0m\u001b[0;34m=\u001b[0m\u001b[0mredirections\u001b[0m\u001b[0;34m,\u001b[0m\u001b[0;34m\u001b[0m\u001b[0;34m\u001b[0m\u001b[0m\n\u001b[1;32m    282\u001b[0m                          connection_type=connection_type)\n",
            "\u001b[0;32m/usr/local/lib/python3.11/dist-packages/httplib2/__init__.py\u001b[0m in \u001b[0;36mrequest\u001b[0;34m(self, uri, method, body, headers, redirections, connection_type)\u001b[0m\n\u001b[1;32m   1579\u001b[0m                         )\n\u001b[1;32m   1580\u001b[0m                     \u001b[0;32melse\u001b[0m\u001b[0;34m:\u001b[0m\u001b[0;34m\u001b[0m\u001b[0;34m\u001b[0m\u001b[0m\n\u001b[0;32m-> 1581\u001b[0;31m                         conn = self.connections[conn_key] = connection_type(\n\u001b[0m\u001b[1;32m   1582\u001b[0m                             \u001b[0mauthority\u001b[0m\u001b[0;34m,\u001b[0m\u001b[0;34m\u001b[0m\u001b[0;34m\u001b[0m\u001b[0m\n\u001b[1;32m   1583\u001b[0m                             \u001b[0mtimeout\u001b[0m\u001b[0;34m=\u001b[0m\u001b[0mself\u001b[0m\u001b[0;34m.\u001b[0m\u001b[0mtimeout\u001b[0m\u001b[0;34m,\u001b[0m\u001b[0;34m\u001b[0m\u001b[0;34m\u001b[0m\u001b[0m\n",
            "\u001b[0;32m/usr/local/lib/python3.11/dist-packages/httplib2/__init__.py\u001b[0m in \u001b[0;36m__init__\u001b[0;34m(self, host, port, key_file, cert_file, timeout, proxy_info, ca_certs, disable_ssl_certificate_validation, tls_maximum_version, tls_minimum_version, key_password)\u001b[0m\n\u001b[1;32m   1098\u001b[0m             \u001b[0mself\u001b[0m\u001b[0;34m.\u001b[0m\u001b[0mproxy_info\u001b[0m \u001b[0;34m=\u001b[0m \u001b[0mproxy_info\u001b[0m\u001b[0;34m(\u001b[0m\u001b[0;34m\"https\"\u001b[0m\u001b[0;34m)\u001b[0m\u001b[0;34m\u001b[0m\u001b[0;34m\u001b[0m\u001b[0m\n\u001b[1;32m   1099\u001b[0m \u001b[0;34m\u001b[0m\u001b[0m\n\u001b[0;32m-> 1100\u001b[0;31m         context = _build_ssl_context(\n\u001b[0m\u001b[1;32m   1101\u001b[0m             \u001b[0mself\u001b[0m\u001b[0;34m.\u001b[0m\u001b[0mdisable_ssl_certificate_validation\u001b[0m\u001b[0;34m,\u001b[0m\u001b[0;34m\u001b[0m\u001b[0;34m\u001b[0m\u001b[0m\n\u001b[1;32m   1102\u001b[0m             \u001b[0mself\u001b[0m\u001b[0;34m.\u001b[0m\u001b[0mca_certs\u001b[0m\u001b[0;34m,\u001b[0m\u001b[0;34m\u001b[0m\u001b[0;34m\u001b[0m\u001b[0m\n",
            "\u001b[0;32m/usr/local/lib/python3.11/dist-packages/httplib2/__init__.py\u001b[0m in \u001b[0;36m_build_ssl_context\u001b[0;34m(disable_ssl_certificate_validation, ca_certs, cert_file, key_file, maximum_version, minimum_version, key_password)\u001b[0m\n\u001b[1;32m    181\u001b[0m         \u001b[0mcontext\u001b[0m\u001b[0;34m.\u001b[0m\u001b[0mcheck_hostname\u001b[0m \u001b[0;34m=\u001b[0m \u001b[0;32mnot\u001b[0m \u001b[0mdisable_ssl_certificate_validation\u001b[0m\u001b[0;34m\u001b[0m\u001b[0;34m\u001b[0m\u001b[0m\n\u001b[1;32m    182\u001b[0m \u001b[0;34m\u001b[0m\u001b[0m\n\u001b[0;32m--> 183\u001b[0;31m     \u001b[0mcontext\u001b[0m\u001b[0;34m.\u001b[0m\u001b[0mload_verify_locations\u001b[0m\u001b[0;34m(\u001b[0m\u001b[0mca_certs\u001b[0m\u001b[0;34m)\u001b[0m\u001b[0;34m\u001b[0m\u001b[0;34m\u001b[0m\u001b[0m\n\u001b[0m\u001b[1;32m    184\u001b[0m \u001b[0;34m\u001b[0m\u001b[0m\n\u001b[1;32m    185\u001b[0m     \u001b[0;32mif\u001b[0m \u001b[0mcert_file\u001b[0m\u001b[0;34m:\u001b[0m\u001b[0;34m\u001b[0m\u001b[0;34m\u001b[0m\u001b[0m\n",
            "\u001b[0;31mKeyboardInterrupt\u001b[0m: "
          ]
        }
      ]
    },
    {
      "cell_type": "code",
      "source": [],
      "metadata": {
        "id": "KmXR5s5yqRtb"
      },
      "execution_count": null,
      "outputs": []
    },
    {
      "cell_type": "code",
      "source": [
        "upload_to_drive('ERP', drive_folder_id)"
      ],
      "metadata": {
        "id": "Zt9zaHi1s68J"
      },
      "execution_count": null,
      "outputs": []
    },
    {
      "cell_type": "code",
      "source": [],
      "metadata": {
        "id": "lXl2TBLm79ky"
      },
      "execution_count": null,
      "outputs": []
    }
  ]
}
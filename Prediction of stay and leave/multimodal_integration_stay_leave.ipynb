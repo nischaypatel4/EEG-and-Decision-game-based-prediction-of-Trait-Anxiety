{
  "nbformat": 4,
  "nbformat_minor": 0,
  "metadata": {
    "colab": {
      "provenance": []
    },
    "kernelspec": {
      "name": "python3",
      "display_name": "Python 3"
    },
    "language_info": {
      "name": "python"
    }
  },
  "cells": [
    {
      "cell_type": "code",
      "source": [
        "import pandas as pd\n",
        "\n",
        "df = pd.read_csv(\"/content/All_epochs_combined.csv\")\n",
        "from sklearn.preprocessing import LabelEncoder\n",
        "\n",
        "le = LabelEncoder()\n",
        "df['trait_numeric'] = le.fit_transform(df['trait_anx_level'])\n",
        "\n",
        "\n",
        "df = df.drop('Tree number', axis=1)\n",
        "df= df.drop('trait_anx_level',axis=1)\n",
        "# You manually define behavioral columns\n",
        "behavior_columns = ['Time elapsed', 'Reaction time', 'Reward', 'Cumulative reward per tree','Total cumulative reward']\n",
        "\n",
        "# The label column\n",
        "label_column = 'Decision'\n",
        "\n",
        "\n",
        "# Automatically get EEG columns = all columns except behavioral + label\n",
        "eeg_columns = [col for col in df.columns if col not in behavior_columns + [label_column]]\n"
      ],
      "metadata": {
        "id": "w2B_-UerC-sk"
      },
      "execution_count": 65,
      "outputs": []
    },
    {
      "cell_type": "code",
      "source": [
        "non_numeric_cols = df[eeg_columns].select_dtypes(exclude=[\"number\"]).columns\n",
        "print(\"Non-numeric EEG columns:\", list(non_numeric_cols))\n"
      ],
      "metadata": {
        "colab": {
          "base_uri": "https://localhost:8080/"
        },
        "id": "-xnWBkHqFMKH",
        "outputId": "2687b609-7aea-48d6-98bf-229e13670589"
      },
      "execution_count": 66,
      "outputs": [
        {
          "output_type": "stream",
          "name": "stdout",
          "text": [
            "Non-numeric EEG columns: []\n"
          ]
        }
      ]
    },
    {
      "cell_type": "code",
      "source": [
        "print(df.dtypes)\n",
        "\n"
      ],
      "metadata": {
        "colab": {
          "base_uri": "https://localhost:8080/"
        },
        "id": "SS3iizk7F3Ds",
        "outputId": "44b0e271-e429-48ad-abbc-57c25b795154"
      },
      "execution_count": 67,
      "outputs": [
        {
          "output_type": "stream",
          "name": "stdout",
          "text": [
            "Time elapsed                  float64\n",
            "Decision                       object\n",
            "Reaction time                 float64\n",
            "Reward                          int64\n",
            "Cumulative reward per tree      int64\n",
            "                               ...   \n",
            "P1_mean                       float64\n",
            "P1_peak                       float64\n",
            "P300_mean                     float64\n",
            "P300_peak                     float64\n",
            "trait_numeric                   int64\n",
            "Length: 131, dtype: object\n"
          ]
        }
      ]
    },
    {
      "cell_type": "code",
      "source": [
        "import torch\n",
        "from torch.utils.data import TensorDataset, DataLoader\n",
        "\n",
        "# Convert EEG and Behavioral Data to tensors\n",
        "eeg_data = torch.tensor(df[eeg_columns].values, dtype=torch.float32)\n",
        "behavior_data = torch.tensor(df[behavior_columns].values, dtype=torch.float32)\n",
        "from sklearn.preprocessing import LabelEncoder\n",
        "\n",
        "le = LabelEncoder()\n",
        "df['Decision'] = le.fit_transform(df['Decision'])  # overwrite or use a new column if you prefer\n",
        "\n",
        "labels = torch.tensor(df['Decision'].values, dtype=torch.long)\n"
      ],
      "metadata": {
        "id": "FxPX9hRWE0Th"
      },
      "execution_count": 68,
      "outputs": []
    },
    {
      "cell_type": "code",
      "source": [
        "from sklearn.model_selection import train_test_split\n",
        "\n",
        "# Convert tensors to numpy for splitting\n",
        "eeg_np = eeg_data.numpy()\n",
        "behavior_np = behavior_data.numpy()\n",
        "labels_np = labels.numpy()\n",
        "\n",
        "# Split\n",
        "eeg_train, eeg_test, behavior_train, behavior_test, labels_train, labels_test = train_test_split(\n",
        "    eeg_np, behavior_np, labels_np, test_size=0.2, random_state=42, stratify=labels_np\n",
        ")\n",
        "\n",
        "# Convert back to tensors\n",
        "eeg_train = torch.tensor(eeg_train, dtype=torch.float32)\n",
        "eeg_test = torch.tensor(eeg_test, dtype=torch.float32)\n",
        "\n",
        "behavior_train = torch.tensor(behavior_train, dtype=torch.float32)\n",
        "behavior_test = torch.tensor(behavior_test, dtype=torch.float32)\n",
        "\n",
        "labels_train = torch.tensor(labels_train, dtype=torch.long)\n",
        "labels_test = torch.tensor(labels_test, dtype=torch.long)\n"
      ],
      "metadata": {
        "id": "ixUnhCMQJaEq"
      },
      "execution_count": 69,
      "outputs": []
    },
    {
      "cell_type": "code",
      "source": [
        "train_dataset = TensorDataset(eeg_train, behavior_train, labels_train)\n",
        "test_dataset = TensorDataset(eeg_test, behavior_test, labels_test)\n",
        "\n",
        "train_loader = DataLoader(train_dataset, batch_size=32, shuffle=True)\n",
        "test_loader = DataLoader(test_dataset, batch_size=32)\n"
      ],
      "metadata": {
        "id": "DCx8WLkYJnUq"
      },
      "execution_count": 70,
      "outputs": []
    },
    {
      "cell_type": "code",
      "execution_count": 71,
      "metadata": {
        "colab": {
          "base_uri": "https://localhost:8080/"
        },
        "id": "kBEVP7ZM9eMN",
        "outputId": "819f3fa4-dd77-41a3-ba52-ee164083b896"
      },
      "outputs": [
        {
          "output_type": "stream",
          "name": "stdout",
          "text": [
            "Epoch 1/10 | Loss: 462.6126 | Accuracy: 77.08%\n",
            "Epoch 2/10 | Loss: 98.9325 | Accuracy: 82.75%\n",
            "Epoch 3/10 | Loss: 67.9421 | Accuracy: 85.70%\n",
            "Epoch 4/10 | Loss: 70.3339 | Accuracy: 85.97%\n",
            "Epoch 5/10 | Loss: 50.0055 | Accuracy: 89.18%\n",
            "Epoch 6/10 | Loss: 42.7094 | Accuracy: 90.26%\n",
            "Epoch 7/10 | Loss: 38.2693 | Accuracy: 91.45%\n",
            "Epoch 8/10 | Loss: 34.8341 | Accuracy: 92.22%\n",
            "Epoch 9/10 | Loss: 31.3503 | Accuracy: 93.40%\n",
            "Epoch 10/10 | Loss: 26.4157 | Accuracy: 94.53%\n",
            "\n",
            "Predicted class distribution: tensor([ 286, 1272])\n"
          ]
        }
      ],
      "source": [
        "import torch\n",
        "import torch.nn as nn\n",
        "import torch.optim as optim\n",
        "from torch.utils.data import TensorDataset, DataLoader\n",
        "from sklearn.model_selection import train_test_split\n",
        "import numpy as np\n",
        "\n",
        "# ===== 1. Data Preparation (assuming you already have these) =====\n",
        "\n",
        "# Convert to NumPy for splitting\n",
        "eeg_np = eeg_data.numpy()\n",
        "behavior_np = behavior_data.numpy()\n",
        "labels_np = labels.numpy()\n",
        "\n",
        "# Split into train and test\n",
        "eeg_train, eeg_test, behavior_train, behavior_test, labels_train, labels_test = train_test_split(\n",
        "    eeg_np, behavior_np, labels_np, test_size=0.2, random_state=42, stratify=labels_np\n",
        ")\n",
        "\n",
        "# Convert back to tensors\n",
        "eeg_train = torch.tensor(eeg_train, dtype=torch.float32)\n",
        "eeg_test = torch.tensor(eeg_test, dtype=torch.float32)\n",
        "\n",
        "behavior_train = torch.tensor(behavior_train, dtype=torch.float32)\n",
        "behavior_test = torch.tensor(behavior_test, dtype=torch.float32)\n",
        "\n",
        "labels_train = torch.tensor(labels_train, dtype=torch.long)\n",
        "labels_test = torch.tensor(labels_test, dtype=torch.long)\n",
        "\n",
        "# DataLoaders\n",
        "train_dataset = TensorDataset(eeg_train, behavior_train, labels_train)\n",
        "test_dataset = TensorDataset(eeg_test, behavior_test, labels_test)\n",
        "\n",
        "train_loader = DataLoader(train_dataset, batch_size=32, shuffle=True)\n",
        "test_loader = DataLoader(test_dataset, batch_size=32)\n",
        "\n",
        "# ===== 2. Define Multi-Branch Model =====\n",
        "\n",
        "eeg_dim = len(eeg_columns)\n",
        "behavior_dim = len(behavior_columns)\n",
        "\n",
        "class MultiBranchEEGBehaviorModel(nn.Module):\n",
        "    def __init__(self, eeg_dim, behavior_dim):\n",
        "        super().__init__()\n",
        "\n",
        "        self.eeg_branch = nn.Sequential(\n",
        "            nn.Linear(eeg_dim, 32),\n",
        "            nn.ReLU(),\n",
        "            nn.Dropout(0.2)\n",
        "        )\n",
        "\n",
        "        self.behavior_branch = nn.Sequential(\n",
        "            nn.Linear(behavior_dim, 16),\n",
        "            nn.ReLU(),\n",
        "            nn.Dropout(0.2)\n",
        "        )\n",
        "\n",
        "        self.classifier = nn.Sequential(\n",
        "            nn.Linear(32 + 16, 32),\n",
        "            nn.ReLU(),\n",
        "            nn.Linear(32, 2)  # 2 classes: stay/leave\n",
        "        )\n",
        "\n",
        "    def forward(self, eeg_input, behavior_input):\n",
        "        eeg_out = self.eeg_branch(eeg_input)\n",
        "        behavior_out = self.behavior_branch(behavior_input)\n",
        "        combined = torch.cat((eeg_out, behavior_out), dim=1)\n",
        "        return self.classifier(combined)\n",
        "\n",
        "# ===== 3. Train the Model =====\n",
        "\n",
        "model = MultiBranchEEGBehaviorModel(eeg_dim, behavior_dim)\n",
        "criterion = nn.CrossEntropyLoss()\n",
        "optimizer = optim.Adam(model.parameters(), lr=0.001)\n",
        "\n",
        "num_epochs = 10\n",
        "\n",
        "for epoch in range(num_epochs):\n",
        "    model.train()\n",
        "    total_loss = 0\n",
        "    correct = 0\n",
        "    total = 0\n",
        "\n",
        "    for eeg_batch, behavior_batch, label_batch in train_loader:\n",
        "        optimizer.zero_grad()\n",
        "        output = model(eeg_batch, behavior_batch)\n",
        "        loss = criterion(output, label_batch)\n",
        "        loss.backward()\n",
        "        optimizer.step()\n",
        "\n",
        "        total_loss += loss.item()\n",
        "        predicted = torch.argmax(output, dim=1)\n",
        "        correct += (predicted == label_batch).sum().item()\n",
        "        total += label_batch.size(0)\n",
        "\n",
        "    accuracy = correct / total * 100\n",
        "    print(f\"Epoch {epoch+1}/{num_epochs} | Loss: {total_loss:.4f} | Accuracy: {accuracy:.2f}%\")\n",
        "\n",
        "# ===== 4. Inference on Test Set =====\n",
        "\n",
        "model.eval()\n",
        "all_preds = []\n",
        "all_labels = []\n",
        "\n",
        "with torch.no_grad():\n",
        "    for eeg_batch, behavior_batch, label_batch in test_loader:\n",
        "        output = model(eeg_batch, behavior_batch)\n",
        "        predicted = torch.argmax(output, dim=1)\n",
        "        all_preds.append(predicted)\n",
        "        all_labels.append(label_batch)\n",
        "\n",
        "# Combine predictions and labels\n",
        "y_pred = torch.cat(all_preds)\n",
        "y_true = torch.cat(all_labels)\n",
        "\n",
        "# Print class distribution\n",
        "print(f\"\\nPredicted class distribution: {torch.bincount(y_pred)}\")\n"
      ]
    },
    {
      "cell_type": "code",
      "source": [
        "with torch.no_grad():\n",
        "    all_preds = []\n",
        "    for eeg_batch, behavior_batch, _ in test_loader:\n",
        "        outputs = model(eeg_batch, behavior_batch)\n",
        "        preds = torch.argmax(outputs, dim=1)\n",
        "        all_preds.append(preds)\n",
        "\n",
        "    predicted_classes = torch.cat(all_preds)\n",
        "\n",
        "# Count predictions\n",
        "counts = torch.bincount(predicted_classes)\n",
        "accuracy = correct / total * 100\n",
        "print(f\"\\nTest Accuracy: {accuracy:.2f}%\")\n",
        "# If you used LabelEncoder, you can map them back:\n",
        "print(f\"Predicted 'leave': {counts[0].item()}\")\n",
        "print(f\"Predicted 'stay' : {counts[1].item()}\")\n"
      ],
      "metadata": {
        "colab": {
          "base_uri": "https://localhost:8080/"
        },
        "id": "pLL8CVsqFBTq",
        "outputId": "f25c507c-c073-4f2b-c920-2edf27085ac8"
      },
      "execution_count": 72,
      "outputs": [
        {
          "output_type": "stream",
          "name": "stdout",
          "text": [
            "\n",
            "Test Accuracy: 94.53%\n",
            "Predicted 'leave': 286\n",
            "Predicted 'stay' : 1272\n"
          ]
        }
      ]
    },
    {
      "cell_type": "code",
      "source": [
        "from sklearn.metrics import confusion_matrix, ConfusionMatrixDisplay\n",
        "\n",
        "# Convert tensors to numpy\n",
        "y_true = labels_test.numpy()\n",
        "y_pred = predicted_classes.numpy()\n",
        "\n",
        "# Plot confusion matrix\n",
        "cm = confusion_matrix(y_true, y_pred)\n",
        "disp = ConfusionMatrixDisplay(confusion_matrix=cm, display_labels=le.classes_)\n",
        "disp.plot(cmap='Blues')\n"
      ],
      "metadata": {
        "colab": {
          "base_uri": "https://localhost:8080/",
          "height": 466
        },
        "id": "mrm90K6DMcuh",
        "outputId": "daefd828-bb09-472e-c3f7-9781fcd7fbeb"
      },
      "execution_count": 73,
      "outputs": [
        {
          "output_type": "execute_result",
          "data": {
            "text/plain": [
              "<sklearn.metrics._plot.confusion_matrix.ConfusionMatrixDisplay at 0x7f28e310bc10>"
            ]
          },
          "metadata": {},
          "execution_count": 73
        },
        {
          "output_type": "display_data",
          "data": {
            "text/plain": [
              "<Figure size 640x480 with 2 Axes>"
            ],
            "image/png": "[encoded data removed]"
          },
          "metadata": {}
        }
      ]
    },
    {
      "cell_type": "code",
      "source": [
        "import matplotlib.pyplot as plt\n",
        "\n",
        "classes = le.classes_  # ['leave', 'stay']\n",
        "counts = torch.bincount(predicted_classes)\n",
        "\n",
        "plt.bar(classes, counts.numpy())\n",
        "plt.title('Predicted Class Distribution')\n",
        "plt.ylabel('Count')\n",
        "plt.xlabel('Class')\n",
        "plt.show()\n"
      ],
      "metadata": {
        "colab": {
          "base_uri": "https://localhost:8080/",
          "height": 472
        },
        "id": "qizXk0JcJBMx",
        "outputId": "9633133f-4bd1-41bb-f21d-7e0e320575ac"
      },
      "execution_count": 74,
      "outputs": [
        {
          "output_type": "display_data",
          "data": {
            "text/plain": [
              "<Figure size 640x480 with 1 Axes>"
            ],
            "image/png": "[encoded data removed]"
          },
          "metadata": {}
        }
      ]
    },
    {
      "cell_type": "code",
      "source": [],
      "metadata": {
        "id": "oewoZYeFKa00"
      },
      "execution_count": 74,
      "outputs": []
    }
  ]
}
